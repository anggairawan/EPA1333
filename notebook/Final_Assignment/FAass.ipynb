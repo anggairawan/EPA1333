{
 "cells": [
  {
   "cell_type": "markdown",
   "metadata": {},
   "source": [
    "#### Assignment\n",
    "* Create a Jupyter Notebook that contains your explanations and analyses.\n",
    "* Start the notebook with a clear description of the type of analysis you are going to perform.\n",
    "* The conceptual contents of the Notebook should be roughly similar to a normal written report of 10-20 pages.\n",
    "* Some (minimum) properties of the Notebook and your analyses on which we will grade:\n",
    "    * Required: Combine different data from multiple sources in your analyses.\n",
    "    * Required: Use multiple types of __visualizations__ of your results.\n",
    "    * Required: Make sure your Notebook does not generate errors!\n",
    "    * Required: You should use Python to answer your __research questions__. Your code should read, clean and format, process and visualize the data. There should be at least some non-trivial processing involved.\n",
    "    * Whenever possible, make your Notebook read the data directly from the web. This way, your notebook will always use the most up-to-date data available. If not, __document__ carefully where the data was collected what to do when you want to use more up-to-date data.\n",
    "    * Demonstrate your skills in Python by using typical Python constructs and using the appropriate data structures (lists, dictionaries, tuples, arrays, dataframes, series, recursion, etc.)\n",
    "    * Write clear, understandable code:\n",
    "        * Document your code! Put comments when necessary.\n",
    "        * Use sensible variable names.\n",
    "        * Break up your code into parts. Use (fruitful) __functions__.\n",
    "    * Try to think of __reusability__ of your code. How easy would it be to use your same code if we want to try to do a small variations of your analysis? Can we easily adapt/play around with your code?\n",
    "    * How difficult were your analyses?\n",
    "* Make your Notebook self-explanatory. So, it should contain text __(with references)__ as well as your actual analysis code and results.\n",
    "* If you want to use other libraries for your analyses or visualizations, feel free to do so. However, only use free available and well-known libraries. The ones that come standard with Anaconda are fine. If you want to use something else, that you first need to install, check with us first.\n",
    "* Create a zip archive and upload it on Brightspace."
   ]
  },
  {
   "cell_type": "markdown",
   "metadata": {},
   "source": [
    "#### Example\n",
    "Here are some example questions you might ask to start the analysis. Please note that this is just an example and that you are expected to come up with your own questions and analyses.\n",
    "* The EU has the following goal in the Paris agreement: \"At least a 40% domestic reduction in greenhouse gases by 2030 compared to 1990 levels.” How is the EU doing at the moment? If they don’t change policy (i.e extrapolation of current trends) where will they end up? [source]\n",
    "* Can you classify in good/neutral/bad countries?\n",
    "* What is the trend per continent with respect to gas emissions? How do countries within the same continent behave? Is it fair to make statements over whole continents?\n",
    "* Where do you find the highest increase in temperatures compared to 1960?\n",
    "* Suppose that each country has a % growth or reduction of CO2, where do we end up?\n",
    "* What are the countries with most gas emissions? How does that change when you normalize by their size / population?\n",
    "* What is the country with the best trend in renewable energy over the last 10 years?"
   ]
  },
  {
   "cell_type": "code",
   "execution_count": null,
   "metadata": {
    "collapsed": true
   },
   "outputs": [],
   "source": []
  }
 ],
 "metadata": {
  "kernelspec": {
   "display_name": "Python 3",
   "language": "python",
   "name": "python3"
  },
  "language_info": {
   "codemirror_mode": {
    "name": "ipython",
    "version": 3
   },
   "file_extension": ".py",
   "mimetype": "text/x-python",
   "name": "python",
   "nbconvert_exporter": "python",
   "pygments_lexer": "ipython3",
   "version": "3.6.1"
  }
 },
 "nbformat": 4,
 "nbformat_minor": 2
}
