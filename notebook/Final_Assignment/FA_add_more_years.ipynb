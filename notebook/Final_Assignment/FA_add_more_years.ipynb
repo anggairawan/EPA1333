{
 "cells": [
  {
   "cell_type": "markdown",
   "metadata": {},
   "source": [
    "# Can we make a change on climate change?\n",
    "#### EPA1333 Final Assignment\n",
    "### Introduction\n",
    "Regardless of the many debates over the impact of humans on climate change, global warming is an observable fact. According to NASA, highest 16 global temperatures have been recorded since 2001, the arctic ice shrank to a minimum in 2012, and carbon dioxide levels in the air are higher than ever!\n",
    "\n",
    "Data analysis can help us better understand how the climate has changed, why, to make predictions for the future years, and to evaluate measures on how to suppress these changes. In this assignment you receive climate change data from World Bank, and are expected to perform an original and non-trivial analysis using Python.\n",
    "\n",
    "### Data\n",
    "\n",
    "#### Climate change indicators\n",
    "The climate change data offered by World Bank contains a large set of indicators, such as for example CO2 emissions, population growth or renewable energy output. Values of these indicators are available per country and per year. You can download the data in *.csv format from https://data.worldbank.org/topic/climate-change."
   ]
  },
  {
   "cell_type": "code",
   "execution_count": 1,
   "metadata": {
    "collapsed": true
   },
   "outputs": [],
   "source": [
    "# import standard library\n",
    "%matplotlib inline\n",
    "import pandas as pd\n",
    "import numpy as np\n",
    "import matplotlib.pyplot as plt"
   ]
  },
  {
   "cell_type": "code",
   "execution_count": 2,
   "metadata": {},
   "outputs": [
    {
     "data": {
      "text/html": [
       "<div>\n",
       "<style>\n",
       "    .dataframe thead tr:only-child th {\n",
       "        text-align: right;\n",
       "    }\n",
       "\n",
       "    .dataframe thead th {\n",
       "        text-align: left;\n",
       "    }\n",
       "\n",
       "    .dataframe tbody tr th {\n",
       "        vertical-align: top;\n",
       "    }\n",
       "</style>\n",
       "<table border=\"1\" class=\"dataframe\">\n",
       "  <thead>\n",
       "    <tr style=\"text-align: right;\">\n",
       "      <th></th>\n",
       "      <th>Country Name</th>\n",
       "      <th>Country Code</th>\n",
       "      <th>Indicator Name</th>\n",
       "      <th>Indicator Code</th>\n",
       "      <th>1960</th>\n",
       "      <th>1961</th>\n",
       "      <th>1962</th>\n",
       "      <th>1963</th>\n",
       "      <th>1964</th>\n",
       "      <th>1965</th>\n",
       "      <th>...</th>\n",
       "      <th>2007</th>\n",
       "      <th>2008</th>\n",
       "      <th>2009</th>\n",
       "      <th>2010</th>\n",
       "      <th>2011</th>\n",
       "      <th>2012</th>\n",
       "      <th>2013</th>\n",
       "      <th>2014</th>\n",
       "      <th>2015</th>\n",
       "      <th>2016</th>\n",
       "    </tr>\n",
       "  </thead>\n",
       "  <tbody>\n",
       "    <tr>\n",
       "      <th>0</th>\n",
       "      <td>Aruba</td>\n",
       "      <td>ABW</td>\n",
       "      <td>Urban population (% of total)</td>\n",
       "      <td>SP.URB.TOTL.IN.ZS</td>\n",
       "      <td>50.776000</td>\n",
       "      <td>50.761000</td>\n",
       "      <td>50.746000</td>\n",
       "      <td>50.730000</td>\n",
       "      <td>50.715000</td>\n",
       "      <td>50.700000</td>\n",
       "      <td>...</td>\n",
       "      <td>44.147000</td>\n",
       "      <td>43.783000</td>\n",
       "      <td>43.421000</td>\n",
       "      <td>43.059000</td>\n",
       "      <td>42.698000</td>\n",
       "      <td>42.364000</td>\n",
       "      <td>42.058000</td>\n",
       "      <td>41.779000</td>\n",
       "      <td>41.528000</td>\n",
       "      <td>41.304000</td>\n",
       "    </tr>\n",
       "    <tr>\n",
       "      <th>1</th>\n",
       "      <td>Aruba</td>\n",
       "      <td>ABW</td>\n",
       "      <td>Urban population</td>\n",
       "      <td>SP.URB.TOTL</td>\n",
       "      <td>27526.000000</td>\n",
       "      <td>28141.000000</td>\n",
       "      <td>28532.000000</td>\n",
       "      <td>28761.000000</td>\n",
       "      <td>28924.000000</td>\n",
       "      <td>29082.000000</td>\n",
       "      <td>...</td>\n",
       "      <td>44686.000000</td>\n",
       "      <td>44375.000000</td>\n",
       "      <td>44052.000000</td>\n",
       "      <td>43778.000000</td>\n",
       "      <td>43575.000000</td>\n",
       "      <td>43456.000000</td>\n",
       "      <td>43398.000000</td>\n",
       "      <td>43365.000000</td>\n",
       "      <td>43331.000000</td>\n",
       "      <td>43296.000000</td>\n",
       "    </tr>\n",
       "    <tr>\n",
       "      <th>2</th>\n",
       "      <td>Aruba</td>\n",
       "      <td>ABW</td>\n",
       "      <td>Urban population growth (annual %)</td>\n",
       "      <td>SP.URB.GROW</td>\n",
       "      <td>3.117931</td>\n",
       "      <td>2.209658</td>\n",
       "      <td>1.379868</td>\n",
       "      <td>0.799404</td>\n",
       "      <td>0.565140</td>\n",
       "      <td>0.544773</td>\n",
       "      <td>...</td>\n",
       "      <td>-0.435429</td>\n",
       "      <td>-0.698401</td>\n",
       "      <td>-0.730549</td>\n",
       "      <td>-0.623935</td>\n",
       "      <td>-0.464782</td>\n",
       "      <td>-0.273466</td>\n",
       "      <td>-0.133557</td>\n",
       "      <td>-0.076069</td>\n",
       "      <td>-0.078435</td>\n",
       "      <td>-0.080806</td>\n",
       "    </tr>\n",
       "    <tr>\n",
       "      <th>3</th>\n",
       "      <td>Aruba</td>\n",
       "      <td>ABW</td>\n",
       "      <td>Population, total</td>\n",
       "      <td>SP.POP.TOTL</td>\n",
       "      <td>54211.000000</td>\n",
       "      <td>55438.000000</td>\n",
       "      <td>56225.000000</td>\n",
       "      <td>56695.000000</td>\n",
       "      <td>57032.000000</td>\n",
       "      <td>57360.000000</td>\n",
       "      <td>...</td>\n",
       "      <td>101220.000000</td>\n",
       "      <td>101353.000000</td>\n",
       "      <td>101453.000000</td>\n",
       "      <td>101669.000000</td>\n",
       "      <td>102053.000000</td>\n",
       "      <td>102577.000000</td>\n",
       "      <td>103187.000000</td>\n",
       "      <td>103795.000000</td>\n",
       "      <td>104341.000000</td>\n",
       "      <td>104822.000000</td>\n",
       "    </tr>\n",
       "    <tr>\n",
       "      <th>4</th>\n",
       "      <td>Aruba</td>\n",
       "      <td>ABW</td>\n",
       "      <td>Population growth (annual %)</td>\n",
       "      <td>SP.POP.GROW</td>\n",
       "      <td>3.148037</td>\n",
       "      <td>2.238144</td>\n",
       "      <td>1.409622</td>\n",
       "      <td>0.832453</td>\n",
       "      <td>0.592649</td>\n",
       "      <td>0.573468</td>\n",
       "      <td>...</td>\n",
       "      <td>0.384060</td>\n",
       "      <td>0.131311</td>\n",
       "      <td>0.098616</td>\n",
       "      <td>0.212680</td>\n",
       "      <td>0.376985</td>\n",
       "      <td>0.512145</td>\n",
       "      <td>0.592914</td>\n",
       "      <td>0.587492</td>\n",
       "      <td>0.524658</td>\n",
       "      <td>0.459929</td>\n",
       "    </tr>\n",
       "  </tbody>\n",
       "</table>\n",
       "<p>5 rows × 61 columns</p>\n",
       "</div>"
      ],
      "text/plain": [
       "  Country Name Country Code                      Indicator Name  \\\n",
       "0        Aruba          ABW       Urban population (% of total)   \n",
       "1        Aruba          ABW                    Urban population   \n",
       "2        Aruba          ABW  Urban population growth (annual %)   \n",
       "3        Aruba          ABW                   Population, total   \n",
       "4        Aruba          ABW        Population growth (annual %)   \n",
       "\n",
       "      Indicator Code          1960          1961          1962          1963  \\\n",
       "0  SP.URB.TOTL.IN.ZS     50.776000     50.761000     50.746000     50.730000   \n",
       "1        SP.URB.TOTL  27526.000000  28141.000000  28532.000000  28761.000000   \n",
       "2        SP.URB.GROW      3.117931      2.209658      1.379868      0.799404   \n",
       "3        SP.POP.TOTL  54211.000000  55438.000000  56225.000000  56695.000000   \n",
       "4        SP.POP.GROW      3.148037      2.238144      1.409622      0.832453   \n",
       "\n",
       "           1964          1965      ...                 2007           2008  \\\n",
       "0     50.715000     50.700000      ...            44.147000      43.783000   \n",
       "1  28924.000000  29082.000000      ...         44686.000000   44375.000000   \n",
       "2      0.565140      0.544773      ...            -0.435429      -0.698401   \n",
       "3  57032.000000  57360.000000      ...        101220.000000  101353.000000   \n",
       "4      0.592649      0.573468      ...             0.384060       0.131311   \n",
       "\n",
       "            2009           2010           2011           2012           2013  \\\n",
       "0      43.421000      43.059000      42.698000      42.364000      42.058000   \n",
       "1   44052.000000   43778.000000   43575.000000   43456.000000   43398.000000   \n",
       "2      -0.730549      -0.623935      -0.464782      -0.273466      -0.133557   \n",
       "3  101453.000000  101669.000000  102053.000000  102577.000000  103187.000000   \n",
       "4       0.098616       0.212680       0.376985       0.512145       0.592914   \n",
       "\n",
       "            2014           2015           2016  \n",
       "0      41.779000      41.528000      41.304000  \n",
       "1   43365.000000   43331.000000   43296.000000  \n",
       "2      -0.076069      -0.078435      -0.080806  \n",
       "3  103795.000000  104341.000000  104822.000000  \n",
       "4       0.587492       0.524658       0.459929  \n",
       "\n",
       "[5 rows x 61 columns]"
      ]
     },
     "execution_count": 2,
     "metadata": {},
     "output_type": "execute_result"
    }
   ],
   "source": [
    "# load world bank data\n",
    "# skip the unneeded header\n",
    "wb = pd.read_csv('world_bank/API_19_DS2_en_csv_v2.csv', sep=',', header=0, skiprows=3) \n",
    "\n",
    "# read_csv resulted in additional blank series at the last column -> drop the column\n",
    "wb = wb.drop(wb.columns[[61]], 1)\n",
    "\n",
    "# display the head of dataframe\n",
    "wb.head()\n"
   ]
  },
  {
   "cell_type": "code",
   "execution_count": 665,
   "metadata": {},
   "outputs": [
    {
     "data": {
      "text/html": [
       "<div>\n",
       "<style>\n",
       "    .dataframe thead tr:only-child th {\n",
       "        text-align: right;\n",
       "    }\n",
       "\n",
       "    .dataframe thead th {\n",
       "        text-align: left;\n",
       "    }\n",
       "\n",
       "    .dataframe tbody tr th {\n",
       "        vertical-align: top;\n",
       "    }\n",
       "</style>\n",
       "<table border=\"1\" class=\"dataframe\">\n",
       "  <thead>\n",
       "    <tr style=\"text-align: right;\">\n",
       "      <th></th>\n",
       "      <th>Country Code</th>\n",
       "      <th>Region</th>\n",
       "      <th>IncomeGroup</th>\n",
       "      <th>SpecialNotes</th>\n",
       "      <th>TableName</th>\n",
       "    </tr>\n",
       "  </thead>\n",
       "  <tbody>\n",
       "    <tr>\n",
       "      <th>0</th>\n",
       "      <td>ABW</td>\n",
       "      <td>Latin America &amp; Caribbean</td>\n",
       "      <td>High income</td>\n",
       "      <td>SNA data for 2000-2011 are updated from offici...</td>\n",
       "      <td>Aruba</td>\n",
       "    </tr>\n",
       "    <tr>\n",
       "      <th>1</th>\n",
       "      <td>AFG</td>\n",
       "      <td>South Asia</td>\n",
       "      <td>Low income</td>\n",
       "      <td>Fiscal year end: March 20; reporting period fo...</td>\n",
       "      <td>Afghanistan</td>\n",
       "    </tr>\n",
       "    <tr>\n",
       "      <th>2</th>\n",
       "      <td>AGO</td>\n",
       "      <td>Sub-Saharan Africa</td>\n",
       "      <td>Lower middle income</td>\n",
       "      <td>NaN</td>\n",
       "      <td>Angola</td>\n",
       "    </tr>\n",
       "    <tr>\n",
       "      <th>3</th>\n",
       "      <td>ALB</td>\n",
       "      <td>Europe &amp; Central Asia</td>\n",
       "      <td>Upper middle income</td>\n",
       "      <td>NaN</td>\n",
       "      <td>Albania</td>\n",
       "    </tr>\n",
       "    <tr>\n",
       "      <th>4</th>\n",
       "      <td>AND</td>\n",
       "      <td>Europe &amp; Central Asia</td>\n",
       "      <td>High income</td>\n",
       "      <td>WB-3 code changed from ADO to AND to align wit...</td>\n",
       "      <td>Andorra</td>\n",
       "    </tr>\n",
       "  </tbody>\n",
       "</table>\n",
       "</div>"
      ],
      "text/plain": [
       "  Country Code                     Region          IncomeGroup  \\\n",
       "0          ABW  Latin America & Caribbean          High income   \n",
       "1          AFG                 South Asia           Low income   \n",
       "2          AGO         Sub-Saharan Africa  Lower middle income   \n",
       "3          ALB      Europe & Central Asia  Upper middle income   \n",
       "4          AND      Europe & Central Asia          High income   \n",
       "\n",
       "                                        SpecialNotes    TableName  \n",
       "0  SNA data for 2000-2011 are updated from offici...        Aruba  \n",
       "1  Fiscal year end: March 20; reporting period fo...  Afghanistan  \n",
       "2                                                NaN       Angola  \n",
       "3                                                NaN      Albania  \n",
       "4  WB-3 code changed from ADO to AND to align wit...      Andorra  "
      ]
     },
     "execution_count": 665,
     "metadata": {},
     "output_type": "execute_result"
    }
   ],
   "source": [
    "#load country metadata\n",
    "wb_meta_country = pd.read_csv('world_bank/Metadata_Country_API_19_DS2_en_csv_v2.csv', sep=',', header=0) \n",
    "\n",
    "# read_csv resulted in additional blank series at the last column -> drop the column\n",
    "wb_meta_country = wb_meta_country.drop(wb_meta_country.columns[[5]], 1)\n",
    "\n",
    "# display the head of dataframe\n",
    "wb_meta_country.head()\n"
   ]
  },
  {
   "cell_type": "code",
   "execution_count": 4,
   "metadata": {},
   "outputs": [
    {
     "data": {
      "text/html": [
       "<div>\n",
       "<style>\n",
       "    .dataframe thead tr:only-child th {\n",
       "        text-align: right;\n",
       "    }\n",
       "\n",
       "    .dataframe thead th {\n",
       "        text-align: left;\n",
       "    }\n",
       "\n",
       "    .dataframe tbody tr th {\n",
       "        vertical-align: top;\n",
       "    }\n",
       "</style>\n",
       "<table border=\"1\" class=\"dataframe\">\n",
       "  <thead>\n",
       "    <tr style=\"text-align: right;\">\n",
       "      <th></th>\n",
       "      <th>INDICATOR_CODE</th>\n",
       "      <th>INDICATOR_NAME</th>\n",
       "      <th>SOURCE_NOTE</th>\n",
       "      <th>SOURCE_ORGANIZATION</th>\n",
       "    </tr>\n",
       "  </thead>\n",
       "  <tbody>\n",
       "    <tr>\n",
       "      <th>0</th>\n",
       "      <td>SP.URB.TOTL.IN.ZS</td>\n",
       "      <td>Urban population (% of total)</td>\n",
       "      <td>Urban population refers to people living in ur...</td>\n",
       "      <td>The United Nations Population Divisions World ...</td>\n",
       "    </tr>\n",
       "    <tr>\n",
       "      <th>1</th>\n",
       "      <td>SP.URB.TOTL</td>\n",
       "      <td>Urban population</td>\n",
       "      <td>Urban population refers to people living in ur...</td>\n",
       "      <td>World Bank Staff estimates based on United Nat...</td>\n",
       "    </tr>\n",
       "    <tr>\n",
       "      <th>2</th>\n",
       "      <td>SP.URB.GROW</td>\n",
       "      <td>Urban population growth (annual %)</td>\n",
       "      <td>Urban population refers to people living in ur...</td>\n",
       "      <td>World Bank Staff estimates based on United Nat...</td>\n",
       "    </tr>\n",
       "    <tr>\n",
       "      <th>3</th>\n",
       "      <td>SP.POP.TOTL</td>\n",
       "      <td>Population, total</td>\n",
       "      <td>Total population is based on the de facto defi...</td>\n",
       "      <td>(1) United Nations Population Division. World ...</td>\n",
       "    </tr>\n",
       "    <tr>\n",
       "      <th>4</th>\n",
       "      <td>SP.POP.GROW</td>\n",
       "      <td>Population growth (annual %)</td>\n",
       "      <td>Annual population growth rate for year t is th...</td>\n",
       "      <td>Derived from total population. Population sour...</td>\n",
       "    </tr>\n",
       "  </tbody>\n",
       "</table>\n",
       "</div>"
      ],
      "text/plain": [
       "      INDICATOR_CODE                      INDICATOR_NAME  \\\n",
       "0  SP.URB.TOTL.IN.ZS       Urban population (% of total)   \n",
       "1        SP.URB.TOTL                    Urban population   \n",
       "2        SP.URB.GROW  Urban population growth (annual %)   \n",
       "3        SP.POP.TOTL                   Population, total   \n",
       "4        SP.POP.GROW        Population growth (annual %)   \n",
       "\n",
       "                                         SOURCE_NOTE  \\\n",
       "0  Urban population refers to people living in ur...   \n",
       "1  Urban population refers to people living in ur...   \n",
       "2  Urban population refers to people living in ur...   \n",
       "3  Total population is based on the de facto defi...   \n",
       "4  Annual population growth rate for year t is th...   \n",
       "\n",
       "                                 SOURCE_ORGANIZATION  \n",
       "0  The United Nations Population Divisions World ...  \n",
       "1  World Bank Staff estimates based on United Nat...  \n",
       "2  World Bank Staff estimates based on United Nat...  \n",
       "3  (1) United Nations Population Division. World ...  \n",
       "4  Derived from total population. Population sour...  "
      ]
     },
     "execution_count": 4,
     "metadata": {},
     "output_type": "execute_result"
    }
   ],
   "source": [
    "#load indicator metadata\n",
    "wb_meta_indi = pd.read_csv('world_bank/Metadata_Indicator_API_19_DS2_en_csv_v2.csv', sep=',', header=0) \n",
    "\n",
    "# read_csv resulted in additional blank series at the last column -> drop the column\n",
    "wb_meta_indi = wb_meta_indi.drop(wb_meta_indi.columns[[4]], 1)\n",
    "\n",
    "# display the head of dataframe\n",
    "wb_meta_indi.head()\n"
   ]
  },
  {
   "cell_type": "markdown",
   "metadata": {},
   "source": [
    "#### Climate data API\n",
    "The Climate Data API provides programmatic access to most of the climate data used on the World Bank’s Climate Change Knowledge Portal. You can access this data directly from Python using requests. In addition to what was already downloadable as csv data, with this API you are able to access temperature, precipitation and basin level data. Read about it in more detail here: https://datahelpdesk.worldbank.org/knowledgebase/articles/902061-climate-data-api\n",
    "\n",
    "Below is an example of how to access yearly temperature historical data per country from Python. You can select a country using its ISO aplha3 code: https://unstats.un.org/unsd/methodology/m49/.\n"
   ]
  },
  {
   "cell_type": "code",
   "execution_count": 5,
   "metadata": {},
   "outputs": [
    {
     "data": {
      "text/plain": [
       "[{'data': 9.215595, 'year': 1901},\n",
       " {'data': 8.389345, 'year': 1902},\n",
       " {'data': 9.500536, 'year': 1903},\n",
       " {'data': 8.901487, 'year': 1904},\n",
       " {'data': 9.12619, 'year': 1905}]"
      ]
     },
     "execution_count": 5,
     "metadata": {},
     "output_type": "execute_result"
    }
   ],
   "source": [
    "import requests\n",
    "r = requests.get('http://climatedataapi.worldbank.org/climateweb/rest/v1/country/cru/tas/year/ROU')\n",
    "rou = r.json()\n",
    "rou[:5]"
   ]
  },
  {
   "cell_type": "markdown",
   "metadata": {},
   "source": [
    "As with most data sources, you might find that you data contains missing values. Please handle them appropriately, for example by using interpolation."
   ]
  },
  {
   "cell_type": "markdown",
   "metadata": {},
   "source": [
    "#### Other resources\n",
    "You are encouraged to find more data sources that will make your analysis more meaningful. Please make sure that you document everything carefully. Only use freely available datasets."
   ]
  },
  {
   "cell_type": "markdown",
   "metadata": {},
   "source": [
    "#### Assignment\n",
    "* Create a Jupyter Notebook that contains your explanations and analyses.\n",
    "* Start the notebook with a clear description of the type of analysis you are going to perform.\n",
    "* The conceptual contents of the Notebook should be roughly similar to a normal written report of 10-20 pages.\n",
    "* Some (minimum) properties of the Notebook and your analyses on which we will grade:\n",
    "    * Required: Combine different data from multiple sources in your analyses.\n",
    "    * Required: Use multiple types of visualizations of your results.\n",
    "    * Required: Make sure your Notebook does not generate errors!\n",
    "    * Required: You should use Python to answer your research questions. Your code should read, clean and format, process and visualize the data. There should be at least some non-trivial processing involved.\n",
    "    * Whenever possible, make your Notebook read the data directly from the web. This way, your notebook will always use the most up-to-date data available. If not, document carefully where the data was collected what to do when you want to use more up-to-date data.\n",
    "    * Demonstrate your skills in Python by using typical Python constructs and using the appropriate data structures (lists, dictionaries, tuples, arrays, dataframes, series, recursion, etc.)\n",
    "    * Write clear, understandable code:\n",
    "        * Document your code! Put comments when necessary.\n",
    "        * Use sensible variable names.\n",
    "        * Break up your code into parts. Use (fruitful) functions.\n",
    "    * Try to think of reusability of your code. How easy would it be to use your same code if we want to try to do a small variations of your analysis? Can we easily adapt/play around with your code?\n",
    "    * How difficult were your analyses?\n",
    "* Make your Notebook self-explanatory. So, it should contain text (with references) as well as your actual analysis code and results.\n",
    "* If you want to use other libraries for your analyses or visualizations, feel free to do so. However, only use free available and well-known libraries. The ones that come standard with Anaconda are fine. If you want to use something else, that you first need to install, check with us first.\n",
    "* Create a zip archive and upload it on Brightspace."
   ]
  },
  {
   "cell_type": "markdown",
   "metadata": {},
   "source": [
    "#### Example\n",
    "Here are some example questions you might ask to start the analysis. Please note that this is just an example and that you are expected to come up with your own questions and analyses.\n",
    "* The EU has the following goal in the Paris agreement: \"At least a 40% domestic reduction in greenhouse gases by 2030 compared to 1990 levels.” How is the EU doing at the moment? If they don’t change policy (i.e extrapolation of current trends) where will they end up? [source]\n",
    "* Can you classify in good/neutral/bad countries?\n",
    "* What is the trend per continent with respect to gas emissions? How do countries within the same continent behave? Is it fair to make statements over whole continents?\n",
    "* Where do you find the highest increase in temperatures compared to 1960?\n",
    "* Suppose that each country has a % growth or reduction of CO2, where do we end up?\n",
    "* What are the countries with most gas emissions? How does that change when you normalize by their size / population?\n",
    "* What is the country with the best trend in renewable energy over the last 10 years?"
   ]
  },
  {
   "cell_type": "code",
   "execution_count": 726,
   "metadata": {
    "scrolled": true
   },
   "outputs": [
    {
     "data": {
      "text/html": [
       "<div>\n",
       "<style>\n",
       "    .dataframe thead tr:only-child th {\n",
       "        text-align: right;\n",
       "    }\n",
       "\n",
       "    .dataframe thead th {\n",
       "        text-align: left;\n",
       "    }\n",
       "\n",
       "    .dataframe tbody tr th {\n",
       "        vertical-align: top;\n",
       "    }\n",
       "</style>\n",
       "<table border=\"1\" class=\"dataframe\">\n",
       "  <thead>\n",
       "    <tr style=\"text-align: right;\">\n",
       "      <th></th>\n",
       "      <th>Countries</th>\n",
       "      <th>Label</th>\n",
       "    </tr>\n",
       "  </thead>\n",
       "  <tbody>\n",
       "    <tr>\n",
       "      <th>0</th>\n",
       "      <td>France</td>\n",
       "      <td>Good</td>\n",
       "    </tr>\n",
       "    <tr>\n",
       "      <th>1</th>\n",
       "      <td>Sweden</td>\n",
       "      <td>Good</td>\n",
       "    </tr>\n",
       "    <tr>\n",
       "      <th>2</th>\n",
       "      <td>United Kingdom</td>\n",
       "      <td>Good</td>\n",
       "    </tr>\n",
       "    <tr>\n",
       "      <th>3</th>\n",
       "      <td>Cyprus</td>\n",
       "      <td>Good</td>\n",
       "    </tr>\n",
       "    <tr>\n",
       "      <th>4</th>\n",
       "      <td>Luxembourg</td>\n",
       "      <td>Good</td>\n",
       "    </tr>\n",
       "  </tbody>\n",
       "</table>\n",
       "</div>"
      ],
      "text/plain": [
       "        Countries Label\n",
       "0          France  Good\n",
       "1          Sweden  Good\n",
       "2  United Kingdom  Good\n",
       "3          Cyprus  Good\n",
       "4      Luxembourg  Good"
      ]
     },
     "execution_count": 726,
     "metadata": {},
     "output_type": "execute_result"
    }
   ],
   "source": [
    "# load label Climate Change Performance Index\n",
    "# the data were extracted from https://germanwatch.org/en/download/16484.pdf\n",
    "country_class_y = pd.read_csv('world_bank/CCPI_2017.csv', sep=',', header=0) \n",
    "country_class_y.head()"
   ]
  },
  {
   "cell_type": "code",
   "execution_count": 727,
   "metadata": {
    "collapsed": true
   },
   "outputs": [],
   "source": [
    "# create a df of countries in CCPI results\n",
    "df = pd.DataFrame()\n",
    "for country in country_class_y['Countries']:\n",
    "    # filter the CCPI countries\n",
    "    df1 = wb[wb['Country Name'] == country]\n",
    "    # append to the df\n",
    "    df = pd.concat( [df,df1], ignore_index=True, axis=0)"
   ]
  },
  {
   "cell_type": "code",
   "execution_count": 728,
   "metadata": {
    "scrolled": true
   },
   "outputs": [
    {
     "name": "stdout",
     "output_type": "stream",
     "text": [
      "(4480, 61)\n",
      "(80, 61)\n"
     ]
    },
    {
     "data": {
      "text/plain": [
       "56.0"
      ]
     },
     "execution_count": 728,
     "metadata": {},
     "output_type": "execute_result"
    }
   ],
   "source": [
    "print(df.shape)\n",
    "print(df1.shape)\n",
    "# check the number of the countries\n",
    "df.shape[0] / df1.shape[0]"
   ]
  },
  {
   "cell_type": "code",
   "execution_count": 729,
   "metadata": {
    "collapsed": true
   },
   "outputs": [],
   "source": [
    "# rename the CCPI column to Country Name, so it could be 'merge' on this column name\n",
    "country_class_y.columns = ['Country Name', 'Label']\n",
    "country_class_y.head()\n",
    "label_int = country_class_y['Label'].map({'Good':2, 'Neutral':1, 'Bad':0})"
   ]
  },
  {
   "cell_type": "code",
   "execution_count": 730,
   "metadata": {},
   "outputs": [
    {
     "data": {
      "text/plain": [
       "['2005',\n",
       " '2006',\n",
       " '2007',\n",
       " '2008',\n",
       " '2009',\n",
       " '2010',\n",
       " '2011',\n",
       " '2012',\n",
       " '2013',\n",
       " '2014',\n",
       " '2015']"
      ]
     },
     "execution_count": 730,
     "metadata": {},
     "output_type": "execute_result"
    }
   ],
   "source": [
    "years = list(df.columns[49:60])\n",
    "years"
   ]
  },
  {
   "cell_type": "code",
   "execution_count": 731,
   "metadata": {},
   "outputs": [
    {
     "data": {
      "text/html": [
       "<div>\n",
       "<style>\n",
       "    .dataframe thead tr:only-child th {\n",
       "        text-align: right;\n",
       "    }\n",
       "\n",
       "    .dataframe thead th {\n",
       "        text-align: left;\n",
       "    }\n",
       "\n",
       "    .dataframe tbody tr th {\n",
       "        vertical-align: top;\n",
       "    }\n",
       "</style>\n",
       "<table border=\"1\" class=\"dataframe\">\n",
       "  <thead>\n",
       "    <tr style=\"text-align: right;\">\n",
       "      <th></th>\n",
       "      <th>Country Name</th>\n",
       "      <th>Indicator Name</th>\n",
       "      <th>2015</th>\n",
       "      <th>Label</th>\n",
       "    </tr>\n",
       "  </thead>\n",
       "  <tbody>\n",
       "    <tr>\n",
       "      <th>0</th>\n",
       "      <td>France</td>\n",
       "      <td>Urban population (% of total)</td>\n",
       "      <td>7.952000e+01</td>\n",
       "      <td>Good</td>\n",
       "    </tr>\n",
       "    <tr>\n",
       "      <th>1</th>\n",
       "      <td>France</td>\n",
       "      <td>Urban population</td>\n",
       "      <td>5.297946e+07</td>\n",
       "      <td>Good</td>\n",
       "    </tr>\n",
       "    <tr>\n",
       "      <th>2</th>\n",
       "      <td>France</td>\n",
       "      <td>Urban population growth (annual %)</td>\n",
       "      <td>7.303273e-01</td>\n",
       "      <td>Good</td>\n",
       "    </tr>\n",
       "    <tr>\n",
       "      <th>3</th>\n",
       "      <td>France</td>\n",
       "      <td>Population, total</td>\n",
       "      <td>6.662407e+07</td>\n",
       "      <td>Good</td>\n",
       "    </tr>\n",
       "    <tr>\n",
       "      <th>4</th>\n",
       "      <td>France</td>\n",
       "      <td>Population growth (annual %)</td>\n",
       "      <td>4.394107e-01</td>\n",
       "      <td>Good</td>\n",
       "    </tr>\n",
       "  </tbody>\n",
       "</table>\n",
       "</div>"
      ],
      "text/plain": [
       "  Country Name                      Indicator Name          2015 Label\n",
       "0       France       Urban population (% of total)  7.952000e+01  Good\n",
       "1       France                    Urban population  5.297946e+07  Good\n",
       "2       France  Urban population growth (annual %)  7.303273e-01  Good\n",
       "3       France                   Population, total  6.662407e+07  Good\n",
       "4       France        Population growth (annual %)  4.394107e-01  Good"
      ]
     },
     "execution_count": 731,
     "metadata": {},
     "output_type": "execute_result"
    }
   ],
   "source": [
    "# store as a dictionary: data of CCPI country for each year in one dataframe\n",
    "\n",
    "dict_df_years = {}\n",
    "for year in years:\n",
    "    dict_df_years[year] = df[['Country Name','Indicator Name',year]]\n",
    "    dict_df_years[year] = pd.merge(dict_df_years[year], country_class_y, on=\"Country Name\", how=\"outer\" )\n",
    "    \n",
    "dict_df_years[year].head()"
   ]
  },
  {
   "cell_type": "code",
   "execution_count": 732,
   "metadata": {},
   "outputs": [
    {
     "data": {
      "text/plain": [
       "80"
      ]
     },
     "execution_count": 732,
     "metadata": {},
     "output_type": "execute_result"
    }
   ],
   "source": [
    "# the number of features of each country\n",
    "len(wb_meta_indi['INDICATOR_NAME'])"
   ]
  },
  {
   "cell_type": "code",
   "execution_count": 733,
   "metadata": {
    "scrolled": true
   },
   "outputs": [
    {
     "name": "stdout",
     "output_type": "stream",
     "text": [
      "(4200, 4)\n",
      "(4200, 4)\n",
      "(4200, 4)\n",
      "(4200, 4)\n",
      "(4200, 4)\n",
      "(4200, 4)\n",
      "(4200, 4)\n",
      "(4200, 4)\n",
      "(4200, 4)\n",
      "(4200, 4)\n",
      "(4200, 4)\n"
     ]
    }
   ],
   "source": [
    "# imputation of the data, filling missing value\n",
    "# we will still have an indicator with NaN value in one category, because the value is NaN for each country\n",
    "# fillna.mean will not really work\n",
    "# at the end we will end up deleted these unnecessary category\n",
    "\n",
    "list_deleted_indi = {}\n",
    "list_saved_indi = {}\n",
    "df_test = {}\n",
    "\n",
    "for year in years:\n",
    "    list_deleted_indi[year] = []\n",
    "    list_saved_indi[year] = []\n",
    "    df_test[year] = pd.DataFrame()\n",
    "\n",
    "    for label in country_class_y['Label'].unique():\n",
    "        for indicator in wb_meta_indi['INDICATOR_NAME']:\n",
    "            df_temp = pd.DataFrame()\n",
    "            df_temp = dict_df_years[year][(dict_df_years[year]['Indicator Name'] == indicator) & (dict_df_years[year]['Label'] == label)]\n",
    "        \n",
    "            df_temp = df_temp.fillna(df_temp.mean())\n",
    "            # df_temp.interpolate(method=’polynomial’, order=4)\n",
    "            # print(len(df_temp))\n",
    "\n",
    "            if(df_temp[year].isnull().values.all()):\n",
    "                list_deleted_indi[year].append(indicator) \n",
    "            else:\n",
    "                list_saved_indi[year].append(indicator) \n",
    "\n",
    "            df_test[year] = pd.concat([df_test[year],df_temp], ignore_index=True, axis=0)\n",
    "    print(df_test[year].shape)\n",
    "  "
   ]
  },
  {
   "cell_type": "code",
   "execution_count": 734,
   "metadata": {},
   "outputs": [
    {
     "data": {
      "text/plain": [
       "15.909090909090908"
      ]
     },
     "execution_count": 734,
     "metadata": {},
     "output_type": "execute_result"
    }
   ],
   "source": [
    "# check number of indicator for each country\n",
    "df_test[year].shape[0]/countries_len"
   ]
  },
  {
   "cell_type": "markdown",
   "metadata": {},
   "source": [
    "The number of indicator is not 80. There are several indicator which only contains NaN as its values. The df_temp is empty in that case."
   ]
  },
  {
   "cell_type": "code",
   "execution_count": 735,
   "metadata": {
    "scrolled": true
   },
   "outputs": [
    {
     "name": "stdout",
     "output_type": "stream",
     "text": [
      "(4200, 4)\n"
     ]
    },
    {
     "data": {
      "text/html": [
       "<div>\n",
       "<style>\n",
       "    .dataframe thead tr:only-child th {\n",
       "        text-align: right;\n",
       "    }\n",
       "\n",
       "    .dataframe thead th {\n",
       "        text-align: left;\n",
       "    }\n",
       "\n",
       "    .dataframe tbody tr th {\n",
       "        vertical-align: top;\n",
       "    }\n",
       "</style>\n",
       "<table border=\"1\" class=\"dataframe\">\n",
       "  <thead>\n",
       "    <tr style=\"text-align: right;\">\n",
       "      <th></th>\n",
       "      <th>Country Name</th>\n",
       "      <th>Indicator Name</th>\n",
       "      <th>2015</th>\n",
       "      <th>Label</th>\n",
       "    </tr>\n",
       "  </thead>\n",
       "  <tbody>\n",
       "    <tr>\n",
       "      <th>0</th>\n",
       "      <td>France</td>\n",
       "      <td>Urban population (% of total)</td>\n",
       "      <td>79.520</td>\n",
       "      <td>Good</td>\n",
       "    </tr>\n",
       "    <tr>\n",
       "      <th>1</th>\n",
       "      <td>Sweden</td>\n",
       "      <td>Urban population (% of total)</td>\n",
       "      <td>85.815</td>\n",
       "      <td>Good</td>\n",
       "    </tr>\n",
       "    <tr>\n",
       "      <th>2</th>\n",
       "      <td>United Kingdom</td>\n",
       "      <td>Urban population (% of total)</td>\n",
       "      <td>82.592</td>\n",
       "      <td>Good</td>\n",
       "    </tr>\n",
       "    <tr>\n",
       "      <th>3</th>\n",
       "      <td>Cyprus</td>\n",
       "      <td>Urban population (% of total)</td>\n",
       "      <td>66.921</td>\n",
       "      <td>Good</td>\n",
       "    </tr>\n",
       "    <tr>\n",
       "      <th>4</th>\n",
       "      <td>Luxembourg</td>\n",
       "      <td>Urban population (% of total)</td>\n",
       "      <td>90.160</td>\n",
       "      <td>Good</td>\n",
       "    </tr>\n",
       "  </tbody>\n",
       "</table>\n",
       "</div>"
      ],
      "text/plain": [
       "     Country Name                 Indicator Name    2015 Label\n",
       "0          France  Urban population (% of total)  79.520  Good\n",
       "1          Sweden  Urban population (% of total)  85.815  Good\n",
       "2  United Kingdom  Urban population (% of total)  82.592  Good\n",
       "3          Cyprus  Urban population (% of total)  66.921  Good\n",
       "4      Luxembourg  Urban population (% of total)  90.160  Good"
      ]
     },
     "execution_count": 735,
     "metadata": {},
     "output_type": "execute_result"
    }
   ],
   "source": [
    "print(df_test[year].shape)\n",
    "df_test[year].head()"
   ]
  },
  {
   "cell_type": "code",
   "execution_count": 736,
   "metadata": {
    "scrolled": false
   },
   "outputs": [
    {
     "name": "stdout",
     "output_type": "stream",
     "text": [
      "year\tdeleted indicator\tfeatures indicator\n",
      "2005 \t 25 \t\t\t 55\n",
      "2006 \t 28 \t\t\t 52\n",
      "2007 \t 25 \t\t\t 55\n",
      "2008 \t 25 \t\t\t 55\n",
      "2009 \t 27 \t\t\t 53\n",
      "2010 \t 18 \t\t\t 62\n",
      "2011 \t 28 \t\t\t 52\n",
      "2012 \t 26 \t\t\t 54\n",
      "2013 \t 37 \t\t\t 43\n",
      "2014 \t 31 \t\t\t 49\n",
      "2015 \t 53 \t\t\t 27\n"
     ]
    }
   ],
   "source": [
    "set_saved_indi_filter = {}\n",
    "print('year\\tdeleted indicator\\tfeatures indicator')\n",
    "for year in years:\n",
    "    set_saved_indi_filter[year] = set(wb_meta_indi['INDICATOR_NAME']) - set(list_deleted_indi[year])\n",
    "    print(year,'\\t',len(set(list_deleted_indi[year])),'\\t\\t\\t',len(set_saved_indi_filter[year]))"
   ]
  },
  {
   "cell_type": "code",
   "execution_count": 738,
   "metadata": {
    "scrolled": true
   },
   "outputs": [
    {
     "name": "stdout",
     "output_type": "stream",
     "text": [
      "3080 = 55.0 x 56\n",
      "2912 = 52.0 x 56\n",
      "3080 = 55.0 x 56\n",
      "3080 = 55.0 x 56\n",
      "2968 = 53.0 x 56\n",
      "3472 = 62.0 x 56\n",
      "2912 = 52.0 x 56\n",
      "3024 = 54.0 x 56\n",
      "2408 = 43.0 x 56\n",
      "2744 = 49.0 x 56\n",
      "1512 = 27.0 x 56\n",
      "total of saved indicator 557.0\n"
     ]
    }
   ],
   "source": [
    "# nan for entire set of classes for one category is not included in the new cleaned df\n",
    "df_test_clean = {}\n",
    "indi_sum = 0\n",
    "countries_len = 56\n",
    "for year in years:\n",
    "    df_test_clean[year] = pd.DataFrame()\n",
    "    for indi in sorted(set_saved_indi_filter[year]):\n",
    "        df_temp = df_test[year][df_test[year]['Indicator Name'] == indi]\n",
    "        df_test_clean[year] = pd.concat([df_test_clean[year], df_temp], ignore_index = True, axis = 0)\n",
    "    print(df_test_clean[year].shape[0], '=', df_test_clean[year].shape[0]/countries_len, 'x', countries_len)\n",
    "    indi_sum += df_test_clean[year].shape[0]/countries_len\n",
    "    \n",
    "print('total of saved indicator', indi_sum)"
   ]
  },
  {
   "cell_type": "code",
   "execution_count": 739,
   "metadata": {},
   "outputs": [
    {
     "data": {
      "text/html": [
       "<div>\n",
       "<style>\n",
       "    .dataframe thead tr:only-child th {\n",
       "        text-align: right;\n",
       "    }\n",
       "\n",
       "    .dataframe thead th {\n",
       "        text-align: left;\n",
       "    }\n",
       "\n",
       "    .dataframe tbody tr th {\n",
       "        vertical-align: top;\n",
       "    }\n",
       "</style>\n",
       "<table border=\"1\" class=\"dataframe\">\n",
       "  <thead>\n",
       "    <tr style=\"text-align: right;\">\n",
       "      <th></th>\n",
       "      <th>Country Name</th>\n",
       "      <th>Indicator Name</th>\n",
       "      <th>2015</th>\n",
       "      <th>Label</th>\n",
       "    </tr>\n",
       "  </thead>\n",
       "  <tbody>\n",
       "    <tr>\n",
       "      <th>0</th>\n",
       "      <td>France</td>\n",
       "      <td>Agriculture, value added (% of GDP)</td>\n",
       "      <td>1.736259</td>\n",
       "      <td>Good</td>\n",
       "    </tr>\n",
       "    <tr>\n",
       "      <th>1</th>\n",
       "      <td>Sweden</td>\n",
       "      <td>Agriculture, value added (% of GDP)</td>\n",
       "      <td>1.317783</td>\n",
       "      <td>Good</td>\n",
       "    </tr>\n",
       "    <tr>\n",
       "      <th>2</th>\n",
       "      <td>United Kingdom</td>\n",
       "      <td>Agriculture, value added (% of GDP)</td>\n",
       "      <td>0.651453</td>\n",
       "      <td>Good</td>\n",
       "    </tr>\n",
       "    <tr>\n",
       "      <th>3</th>\n",
       "      <td>Cyprus</td>\n",
       "      <td>Agriculture, value added (% of GDP)</td>\n",
       "      <td>2.274382</td>\n",
       "      <td>Good</td>\n",
       "    </tr>\n",
       "    <tr>\n",
       "      <th>4</th>\n",
       "      <td>Luxembourg</td>\n",
       "      <td>Agriculture, value added (% of GDP)</td>\n",
       "      <td>0.237523</td>\n",
       "      <td>Good</td>\n",
       "    </tr>\n",
       "  </tbody>\n",
       "</table>\n",
       "</div>"
      ],
      "text/plain": [
       "     Country Name                       Indicator Name      2015 Label\n",
       "0          France  Agriculture, value added (% of GDP)  1.736259  Good\n",
       "1          Sweden  Agriculture, value added (% of GDP)  1.317783  Good\n",
       "2  United Kingdom  Agriculture, value added (% of GDP)  0.651453  Good\n",
       "3          Cyprus  Agriculture, value added (% of GDP)  2.274382  Good\n",
       "4      Luxembourg  Agriculture, value added (% of GDP)  0.237523  Good"
      ]
     },
     "execution_count": 739,
     "metadata": {},
     "output_type": "execute_result"
    }
   ],
   "source": [
    "# 56 country * saved indicator in each year\n",
    "df_test_clean[year].head()"
   ]
  },
  {
   "cell_type": "code",
   "execution_count": 763,
   "metadata": {
    "collapsed": true
   },
   "outputs": [],
   "source": [
    "# reshape the matrix feature to 56 * number of year * saved indicator for each year\n",
    "\n",
    "ind = list(country_class_y['Country Name'])\n",
    "countries_len = len(country_class_y)\n",
    "Xtrain = pd.DataFrame()\n",
    "Xdyear = {}\n",
    "\n",
    "for year in years:    \n",
    "    col = sorted(set_saved_indi_filter[year])\n",
    " \n",
    "    features_len = len(set_saved_indi_filter[year])\n",
    "\n",
    "    Xyear = pd.DataFrame(np.zeros(shape = (countries_len , features_len)), columns = col, index = ind)\n",
    "    for country in country_class_y['Country Name']:\n",
    "        Xyear.loc[country] = df_test_clean[year][df_test_clean[year]['Country Name'] == country][year].values\n",
    "    \n",
    "    Xdyear[year] = Xyear\n",
    "    Xtrain = pd.concat([Xtrain, Xyear], ignore_index = True, axis = 1) \n"
   ]
  },
  {
   "cell_type": "code",
   "execution_count": 764,
   "metadata": {
    "scrolled": true
   },
   "outputs": [
    {
     "data": {
      "text/plain": [
       "(56, 557)"
      ]
     },
     "execution_count": 764,
     "metadata": {},
     "output_type": "execute_result"
    }
   ],
   "source": [
    "Xtrain.shape"
   ]
  },
  {
   "cell_type": "code",
   "execution_count": 765,
   "metadata": {},
   "outputs": [
    {
     "data": {
      "text/plain": [
       "(56,)"
      ]
     },
     "execution_count": 765,
     "metadata": {},
     "output_type": "execute_result"
    }
   ],
   "source": [
    "ytrain = country_class_y['Label']\n",
    "ytrain.shape"
   ]
  },
  {
   "cell_type": "markdown",
   "metadata": {},
   "source": [
    "#  PCA"
   ]
  },
  {
   "cell_type": "code",
   "execution_count": 296,
   "metadata": {
    "scrolled": true
   },
   "outputs": [
    {
     "data": {
      "text/plain": [
       "(0, 5)"
      ]
     },
     "execution_count": 296,
     "metadata": {},
     "output_type": "execute_result"
    },
    {
     "data": {
      "image/png": "[encoded data removed]",
      "text/plain": [
       "<matplotlib.figure.Figure at 0x2a1a438cbe0>"
      ]
     },
     "metadata": {},
     "output_type": "display_data"
    }
   ],
   "source": [
    "from sklearn.decomposition import PCA\n",
    "\n",
    "pca = PCA().fit(Xtrain)\n",
    "plt.plot(np.cumsum(pca.explained_variance_ratio_))\n",
    "plt.xlabel('number of components')\n",
    "plt.ylabel('cumulative explained variance');\n",
    "plt.xlim(0,5)"
   ]
  },
  {
   "cell_type": "code",
   "execution_count": 489,
   "metadata": {},
   "outputs": [
    {
     "data": {
      "text/plain": [
       "(0, 10)"
      ]
     },
     "execution_count": 489,
     "metadata": {},
     "output_type": "execute_result"
    },
    {
     "data": {
      "image/png": "[encoded data removed]",
      "text/plain": [
       "<matplotlib.figure.Figure at 0x2a1a43b4668>"
      ]
     },
     "metadata": {},
     "output_type": "display_data"
    }
   ],
   "source": [
    "from sklearn.decomposition import RandomizedPCA\n",
    "\n",
    "Rpca = PCA(svd_solver='randomized').fit(Xtrain)\n",
    "plt.plot(np.cumsum(Rpca.explained_variance_ratio_))\n",
    "plt.xlabel('number of components')\n",
    "plt.ylabel('cumulative explained variance');\n",
    "plt.xlim(0,10)\n"
   ]
  },
  {
   "cell_type": "code",
   "execution_count": 490,
   "metadata": {},
   "outputs": [
    {
     "name": "stdout",
     "output_type": "stream",
     "text": [
      "(56, 557)\n",
      "(56, 4)\n"
     ]
    }
   ],
   "source": [
    "pca = PCA(2)\n",
    "Rpca = PCA(4, svd_solver='randomized')\n",
    "projected = Rpca.fit_transform(Xtrain)\n",
    "print(Xtrain.shape)\n",
    "print(projected.shape)"
   ]
  },
  {
   "cell_type": "code",
   "execution_count": 491,
   "metadata": {
    "collapsed": true
   },
   "outputs": [],
   "source": [
    "Xtrain = projected"
   ]
  },
  {
   "cell_type": "code",
   "execution_count": 493,
   "metadata": {},
   "outputs": [
    {
     "data": {
      "text/plain": [
       "0    Good\n",
       "1    Good\n",
       "2    Good\n",
       "3    Good\n",
       "4    Good\n",
       "Name: Label, dtype: object"
      ]
     },
     "execution_count": 493,
     "metadata": {},
     "output_type": "execute_result"
    }
   ],
   "source": [
    "ytrain.head()"
   ]
  },
  {
   "cell_type": "code",
   "execution_count": 494,
   "metadata": {
    "collapsed": true
   },
   "outputs": [],
   "source": [
    "ytrain_color = country_class_y['Label'].map({'Good':2, 'Neutral':1, 'Bad':0})"
   ]
  },
  {
   "cell_type": "code",
   "execution_count": 495,
   "metadata": {},
   "outputs": [
    {
     "name": "stderr",
     "output_type": "stream",
     "text": [
      "C:\\Users\\Gebruiker\\Anaconda3\\lib\\site-packages\\matplotlib\\cbook.py:136: MatplotlibDeprecationWarning: The spectral and spectral_r colormap was deprecated in version 2.0. Use nipy_spectral and nipy_spectral_r instead.\n",
      "  warnings.warn(message, mplDeprecation, stacklevel=1)\n"
     ]
    },
    {
     "data": {
      "image/png": "[encoded data removed]",
      "text/plain": [
       "<matplotlib.figure.Figure at 0x2a1a44c0ef0>"
      ]
     },
     "metadata": {},
     "output_type": "display_data"
    }
   ],
   "source": [
    "plt.scatter(projected[:, 0], projected[:, 1],\n",
    "c= ytrain_color, edgecolor='none', alpha=0.5,\n",
    "cmap=plt.cm.get_cmap('spectral', 3))\n",
    "plt.xlabel('component 1')\n",
    "plt.ylabel('component 2')\n",
    "plt.colorbar();"
   ]
  },
  {
   "cell_type": "code",
   "execution_count": 496,
   "metadata": {
    "scrolled": true
   },
   "outputs": [
    {
     "ename": "AttributeError",
     "evalue": "'PCA' object has no attribute 'components_'",
     "output_type": "error",
     "traceback": [
      "\u001b[1;31m---------------------------------------------------------------------------\u001b[0m",
      "\u001b[1;31mAttributeError\u001b[0m                            Traceback (most recent call last)",
      "\u001b[1;32m<ipython-input-496-f13a39d606a7>\u001b[0m in \u001b[0;36m<module>\u001b[1;34m()\u001b[0m\n\u001b[1;32m----> 1\u001b[1;33m \u001b[0mX_new\u001b[0m \u001b[1;33m=\u001b[0m \u001b[0mpca\u001b[0m\u001b[1;33m.\u001b[0m\u001b[0minverse_transform\u001b[0m\u001b[1;33m(\u001b[0m\u001b[0mprojected\u001b[0m\u001b[1;33m)\u001b[0m\u001b[1;33m\u001b[0m\u001b[0m\n\u001b[0m\u001b[0;32m      2\u001b[0m \u001b[0mX_new\u001b[0m\u001b[1;33m.\u001b[0m\u001b[0mshape\u001b[0m\u001b[1;33m\u001b[0m\u001b[0m\n",
      "\u001b[1;32mC:\\Users\\Gebruiker\\Anaconda3\\lib\\site-packages\\sklearn\\decomposition\\base.py\u001b[0m in \u001b[0;36minverse_transform\u001b[1;34m(self, X, y)\u001b[0m\n\u001b[0;32m    160\u001b[0m                             self.components_) + self.mean_\n\u001b[0;32m    161\u001b[0m         \u001b[1;32melse\u001b[0m\u001b[1;33m:\u001b[0m\u001b[1;33m\u001b[0m\u001b[0m\n\u001b[1;32m--> 162\u001b[1;33m             \u001b[1;32mreturn\u001b[0m \u001b[0mfast_dot\u001b[0m\u001b[1;33m(\u001b[0m\u001b[0mX\u001b[0m\u001b[1;33m,\u001b[0m \u001b[0mself\u001b[0m\u001b[1;33m.\u001b[0m\u001b[0mcomponents_\u001b[0m\u001b[1;33m)\u001b[0m \u001b[1;33m+\u001b[0m \u001b[0mself\u001b[0m\u001b[1;33m.\u001b[0m\u001b[0mmean_\u001b[0m\u001b[1;33m\u001b[0m\u001b[0m\n\u001b[0m",
      "\u001b[1;31mAttributeError\u001b[0m: 'PCA' object has no attribute 'components_'"
     ]
    }
   ],
   "source": [
    "X_new = pca.inverse_transform(projected)\n",
    "X_new.shape"
   ]
  },
  {
   "cell_type": "code",
   "execution_count": 498,
   "metadata": {},
   "outputs": [
    {
     "data": {
      "text/plain": [
       "2"
      ]
     },
     "execution_count": 498,
     "metadata": {},
     "output_type": "execute_result"
    }
   ],
   "source": [
    "(X_new > 324000).all(axis = 0).sum()"
   ]
  },
  {
   "cell_type": "code",
   "execution_count": 499,
   "metadata": {},
   "outputs": [
    {
     "data": {
      "text/plain": [
       "(22, 532)"
      ]
     },
     "execution_count": 499,
     "metadata": {},
     "output_type": "execute_result"
    }
   ],
   "source": [
    "22, 532"
   ]
  },
  {
   "cell_type": "code",
   "execution_count": 502,
   "metadata": {},
   "outputs": [
    {
     "data": {
      "text/plain": [
       "(56, 4)"
      ]
     },
     "execution_count": 502,
     "metadata": {},
     "output_type": "execute_result"
    }
   ],
   "source": [
    "X_new.shape\n",
    "56*557/(X_new > 1000000).sum()\n",
    "Xtrain.shape"
   ]
  },
  {
   "cell_type": "markdown",
   "metadata": {},
   "source": [
    "#  RF"
   ]
  },
  {
   "cell_type": "code",
   "execution_count": 767,
   "metadata": {},
   "outputs": [
    {
     "data": {
      "text/html": [
       "<div>\n",
       "<style>\n",
       "    .dataframe thead tr:only-child th {\n",
       "        text-align: right;\n",
       "    }\n",
       "\n",
       "    .dataframe thead th {\n",
       "        text-align: left;\n",
       "    }\n",
       "\n",
       "    .dataframe tbody tr th {\n",
       "        vertical-align: top;\n",
       "    }\n",
       "</style>\n",
       "<table border=\"1\" class=\"dataframe\">\n",
       "  <thead>\n",
       "    <tr style=\"text-align: right;\">\n",
       "      <th></th>\n",
       "      <th>0</th>\n",
       "      <th>1</th>\n",
       "      <th>2</th>\n",
       "      <th>3</th>\n",
       "      <th>4</th>\n",
       "      <th>5</th>\n",
       "      <th>6</th>\n",
       "      <th>7</th>\n",
       "      <th>8</th>\n",
       "      <th>9</th>\n",
       "      <th>...</th>\n",
       "      <th>547</th>\n",
       "      <th>548</th>\n",
       "      <th>549</th>\n",
       "      <th>550</th>\n",
       "      <th>551</th>\n",
       "      <th>552</th>\n",
       "      <th>553</th>\n",
       "      <th>554</th>\n",
       "      <th>555</th>\n",
       "      <th>556</th>\n",
       "    </tr>\n",
       "  </thead>\n",
       "  <tbody>\n",
       "    <tr>\n",
       "      <th>France</th>\n",
       "      <td>100.0</td>\n",
       "      <td>5.771953</td>\n",
       "      <td>53.675508</td>\n",
       "      <td>293904.0</td>\n",
       "      <td>1.872929</td>\n",
       "      <td>33.562898</td>\n",
       "      <td>0.151292</td>\n",
       "      <td>0.167011</td>\n",
       "      <td>0.199311</td>\n",
       "      <td>385368.697</td>\n",
       "      <td>...</td>\n",
       "      <td>100.0</td>\n",
       "      <td>4.3</td>\n",
       "      <td>0.439411</td>\n",
       "      <td>22.640799</td>\n",
       "      <td>66624068.0</td>\n",
       "      <td>98.531467</td>\n",
       "      <td>1.018571</td>\n",
       "      <td>52979459.0</td>\n",
       "      <td>79.520</td>\n",
       "      <td>0.730327</td>\n",
       "    </tr>\n",
       "    <tr>\n",
       "      <th>Sweden</th>\n",
       "      <td>100.0</td>\n",
       "      <td>1.518968</td>\n",
       "      <td>7.837403</td>\n",
       "      <td>32160.0</td>\n",
       "      <td>1.140894</td>\n",
       "      <td>6.565287</td>\n",
       "      <td>0.114215</td>\n",
       "      <td>0.138508</td>\n",
       "      <td>0.168113</td>\n",
       "      <td>51561.687</td>\n",
       "      <td>...</td>\n",
       "      <td>100.0</td>\n",
       "      <td>3.0</td>\n",
       "      <td>1.057455</td>\n",
       "      <td>15.161259</td>\n",
       "      <td>9799186.0</td>\n",
       "      <td>103.762512</td>\n",
       "      <td>1.090930</td>\n",
       "      <td>8409171.0</td>\n",
       "      <td>85.815</td>\n",
       "      <td>1.232392</td>\n",
       "    </tr>\n",
       "    <tr>\n",
       "      <th>United Kingdom</th>\n",
       "      <td>100.0</td>\n",
       "      <td>1.229063</td>\n",
       "      <td>70.086389</td>\n",
       "      <td>169560.0</td>\n",
       "      <td>0.637613</td>\n",
       "      <td>23.680403</td>\n",
       "      <td>0.227460</td>\n",
       "      <td>0.243258</td>\n",
       "      <td>0.278327</td>\n",
       "      <td>542580.321</td>\n",
       "      <td>...</td>\n",
       "      <td>100.0</td>\n",
       "      <td>4.2</td>\n",
       "      <td>0.794968</td>\n",
       "      <td>28.572508</td>\n",
       "      <td>65128861.0</td>\n",
       "      <td>98.531467</td>\n",
       "      <td>1.018571</td>\n",
       "      <td>53791229.0</td>\n",
       "      <td>82.592</td>\n",
       "      <td>1.094476</td>\n",
       "    </tr>\n",
       "    <tr>\n",
       "      <th>Cyprus</th>\n",
       "      <td>100.0</td>\n",
       "      <td>20.958084</td>\n",
       "      <td>18.073593</td>\n",
       "      <td>1670.0</td>\n",
       "      <td>3.134870</td>\n",
       "      <td>13.311688</td>\n",
       "      <td>0.332359</td>\n",
       "      <td>0.301781</td>\n",
       "      <td>0.360632</td>\n",
       "      <td>7502.682</td>\n",
       "      <td>...</td>\n",
       "      <td>100.0</td>\n",
       "      <td>2.7</td>\n",
       "      <td>0.750103</td>\n",
       "      <td>22.502284</td>\n",
       "      <td>1160985.0</td>\n",
       "      <td>96.819061</td>\n",
       "      <td>0.996190</td>\n",
       "      <td>776943.0</td>\n",
       "      <td>66.921</td>\n",
       "      <td>0.603794</td>\n",
       "    </tr>\n",
       "    <tr>\n",
       "      <th>Luxembourg</th>\n",
       "      <td>100.0</td>\n",
       "      <td>9.614399</td>\n",
       "      <td>49.806950</td>\n",
       "      <td>1290.0</td>\n",
       "      <td>0.400196</td>\n",
       "      <td>23.166023</td>\n",
       "      <td>0.244865</td>\n",
       "      <td>0.280155</td>\n",
       "      <td>0.363891</td>\n",
       "      <td>11547.383</td>\n",
       "      <td>...</td>\n",
       "      <td>100.0</td>\n",
       "      <td>1.9</td>\n",
       "      <td>2.359951</td>\n",
       "      <td>22.502284</td>\n",
       "      <td>569604.0</td>\n",
       "      <td>98.531467</td>\n",
       "      <td>1.018571</td>\n",
       "      <td>513555.0</td>\n",
       "      <td>90.160</td>\n",
       "      <td>2.679903</td>\n",
       "    </tr>\n",
       "  </tbody>\n",
       "</table>\n",
       "<p>5 rows × 557 columns</p>\n",
       "</div>"
      ],
      "text/plain": [
       "                  0          1          2         3         4          5    \\\n",
       "France          100.0   5.771953  53.675508  293904.0  1.872929  33.562898   \n",
       "Sweden          100.0   1.518968   7.837403   32160.0  1.140894   6.565287   \n",
       "United Kingdom  100.0   1.229063  70.086389  169560.0  0.637613  23.680403   \n",
       "Cyprus          100.0  20.958084  18.073593    1670.0  3.134870  13.311688   \n",
       "Luxembourg      100.0   9.614399  49.806950    1290.0  0.400196  23.166023   \n",
       "\n",
       "                     6         7         8           9      ...       547  \\\n",
       "France          0.151292  0.167011  0.199311  385368.697    ...     100.0   \n",
       "Sweden          0.114215  0.138508  0.168113   51561.687    ...     100.0   \n",
       "United Kingdom  0.227460  0.243258  0.278327  542580.321    ...     100.0   \n",
       "Cyprus          0.332359  0.301781  0.360632    7502.682    ...     100.0   \n",
       "Luxembourg      0.244865  0.280155  0.363891   11547.383    ...     100.0   \n",
       "\n",
       "                548       549        550         551         552       553  \\\n",
       "France          4.3  0.439411  22.640799  66624068.0   98.531467  1.018571   \n",
       "Sweden          3.0  1.057455  15.161259   9799186.0  103.762512  1.090930   \n",
       "United Kingdom  4.2  0.794968  28.572508  65128861.0   98.531467  1.018571   \n",
       "Cyprus          2.7  0.750103  22.502284   1160985.0   96.819061  0.996190   \n",
       "Luxembourg      1.9  2.359951  22.502284    569604.0   98.531467  1.018571   \n",
       "\n",
       "                       554     555       556  \n",
       "France          52979459.0  79.520  0.730327  \n",
       "Sweden           8409171.0  85.815  1.232392  \n",
       "United Kingdom  53791229.0  82.592  1.094476  \n",
       "Cyprus            776943.0  66.921  0.603794  \n",
       "Luxembourg        513555.0  90.160  2.679903  \n",
       "\n",
       "[5 rows x 557 columns]"
      ]
     },
     "execution_count": 767,
     "metadata": {},
     "output_type": "execute_result"
    }
   ],
   "source": [
    "Xtrain.head()"
   ]
  },
  {
   "cell_type": "code",
   "execution_count": 768,
   "metadata": {
    "collapsed": true
   },
   "outputs": [],
   "source": [
    "from sklearn.ensemble import RandomForestClassifier\n",
    "from sklearn.cross_validation import train_test_split\n",
    "import seaborn as sns; sns.set()\n",
    "\n",
    "from sklearn.grid_search import GridSearchCV\n",
    "\n",
    "Xrf_train, Xrf_test, yrf_train, yrf_test = train_test_split(Xtrain, ytrain, random_state=0, test_size=0.75)\n",
    "RF = RandomForestClassifier(random_state=0)\n"
   ]
  },
  {
   "cell_type": "code",
   "execution_count": 769,
   "metadata": {},
   "outputs": [
    {
     "data": {
      "text/plain": [
       "dict_keys(['bootstrap', 'class_weight', 'criterion', 'max_depth', 'max_features', 'max_leaf_nodes', 'min_impurity_split', 'min_samples_leaf', 'min_samples_split', 'min_weight_fraction_leaf', 'n_estimators', 'n_jobs', 'oob_score', 'random_state', 'verbose', 'warm_start'])"
      ]
     },
     "execution_count": 769,
     "metadata": {},
     "output_type": "execute_result"
    }
   ],
   "source": [
    "RF.get_params().keys()"
   ]
  },
  {
   "cell_type": "code",
   "execution_count": 770,
   "metadata": {
    "collapsed": true
   },
   "outputs": [],
   "source": [
    "param_grid_rf = {'n_estimators': [1, 10, 100, 1000, 2000, 5000]}\n",
    "grid_rf = GridSearchCV(RF, param_grid_rf)\n"
   ]
  },
  {
   "cell_type": "code",
   "execution_count": 771,
   "metadata": {},
   "outputs": [
    {
     "name": "stdout",
     "output_type": "stream",
     "text": [
      "Wall time: 26.8 s\n",
      "{'n_estimators': 100}\n"
     ]
    }
   ],
   "source": [
    "%time grid_rf.fit(Xtrain, ytrain)\n",
    "print(grid_rf.best_params_)"
   ]
  },
  {
   "cell_type": "code",
   "execution_count": 772,
   "metadata": {
    "collapsed": true
   },
   "outputs": [],
   "source": [
    "RF = grid_rf.best_estimator_\n"
   ]
  },
  {
   "cell_type": "code",
   "execution_count": 773,
   "metadata": {
    "collapsed": true
   },
   "outputs": [],
   "source": [
    "RF.fit(Xrf_train, yrf_train)\n",
    "yrf_pred = RF.predict(Xrf_test)\n"
   ]
  },
  {
   "cell_type": "code",
   "execution_count": 774,
   "metadata": {},
   "outputs": [
    {
     "data": {
      "image/png": "[encoded data removed]",
      "text/plain": [
       "<matplotlib.figure.Figure at 0x2a1a4546e48>"
      ]
     },
     "metadata": {},
     "output_type": "display_data"
    }
   ],
   "source": [
    "from sklearn.metrics import confusion_matrix\n",
    "mat = confusion_matrix(yrf_test, yrf_pred)\n",
    "sns.heatmap(mat.T, square=True, annot=True, fmt='d', cbar=False)\n",
    "plt.xlabel('true label')\n",
    "plt.ylabel('predicted label');"
   ]
  },
  {
   "cell_type": "code",
   "execution_count": 775,
   "metadata": {},
   "outputs": [
    {
     "name": "stdout",
     "output_type": "stream",
     "text": [
      "             precision    recall  f1-score   support\n",
      "\n",
      "        Bad       0.86      0.75      0.80        24\n",
      "       Good       0.78      0.64      0.70        11\n",
      "    Neutral       0.42      0.71      0.53         7\n",
      "\n",
      "avg / total       0.76      0.71      0.73        42\n",
      "\n"
     ]
    }
   ],
   "source": [
    "from sklearn import metrics\n",
    "print(metrics.classification_report(yrf_pred, yrf_test))"
   ]
  },
  {
   "cell_type": "code",
   "execution_count": 776,
   "metadata": {},
   "outputs": [
    {
     "data": {
      "text/plain": [
       "0.73288690476190477"
      ]
     },
     "execution_count": 776,
     "metadata": {},
     "output_type": "execute_result"
    }
   ],
   "source": [
    "from sklearn.cross_validation import cross_val_score\n",
    "cross_val_score(RF, Xtrain, ytrain, cv=8).mean()"
   ]
  },
  {
   "cell_type": "markdown",
   "metadata": {},
   "source": [
    "#### Create feature matrix for the test countries"
   ]
  },
  {
   "cell_type": "code",
   "execution_count": 777,
   "metadata": {},
   "outputs": [],
   "source": [
    "# create a df of countries not in CCPI results\n",
    "df_rest = pd.DataFrame()\n",
    "for country in sorted(set(wb['Country Name'])):\n",
    "    # filter the non CCPI countries\n",
    "    if country not in country_class_y['Country Name']:\n",
    "        df1 = wb[wb['Country Name'] == country]\n",
    "        # append to the df\n",
    "        df_rest = pd.concat( [df_rest,df1], ignore_index=True, axis=0)\n"
   ]
  },
  {
   "cell_type": "code",
   "execution_count": 778,
   "metadata": {},
   "outputs": [
    {
     "data": {
      "text/html": [
       "<div>\n",
       "<style>\n",
       "    .dataframe thead tr:only-child th {\n",
       "        text-align: right;\n",
       "    }\n",
       "\n",
       "    .dataframe thead th {\n",
       "        text-align: left;\n",
       "    }\n",
       "\n",
       "    .dataframe tbody tr th {\n",
       "        vertical-align: top;\n",
       "    }\n",
       "</style>\n",
       "<table border=\"1\" class=\"dataframe\">\n",
       "  <thead>\n",
       "    <tr style=\"text-align: right;\">\n",
       "      <th></th>\n",
       "      <th>Country Name</th>\n",
       "      <th>Country Code</th>\n",
       "      <th>Indicator Name</th>\n",
       "      <th>Indicator Code</th>\n",
       "      <th>1960</th>\n",
       "      <th>1961</th>\n",
       "      <th>1962</th>\n",
       "      <th>1963</th>\n",
       "      <th>1964</th>\n",
       "      <th>1965</th>\n",
       "      <th>...</th>\n",
       "      <th>2007</th>\n",
       "      <th>2008</th>\n",
       "      <th>2009</th>\n",
       "      <th>2010</th>\n",
       "      <th>2011</th>\n",
       "      <th>2012</th>\n",
       "      <th>2013</th>\n",
       "      <th>2014</th>\n",
       "      <th>2015</th>\n",
       "      <th>2016</th>\n",
       "    </tr>\n",
       "  </thead>\n",
       "  <tbody>\n",
       "    <tr>\n",
       "      <th>0</th>\n",
       "      <td>Afghanistan</td>\n",
       "      <td>AFG</td>\n",
       "      <td>Urban population (% of total)</td>\n",
       "      <td>SP.URB.TOTL.IN.ZS</td>\n",
       "      <td>8.221000e+00</td>\n",
       "      <td>8.508000e+00</td>\n",
       "      <td>8.805000e+00</td>\n",
       "      <td>9.110000e+00</td>\n",
       "      <td>9.426000e+00</td>\n",
       "      <td>9.750000e+00</td>\n",
       "      <td>...</td>\n",
       "      <td>2.358700e+01</td>\n",
       "      <td>2.394600e+01</td>\n",
       "      <td>2.431300e+01</td>\n",
       "      <td>2.468900e+01</td>\n",
       "      <td>2.507400e+01</td>\n",
       "      <td>2.546800e+01</td>\n",
       "      <td>2.587100e+01</td>\n",
       "      <td>2.628200e+01</td>\n",
       "      <td>2.670300e+01</td>\n",
       "      <td>2.713200e+01</td>\n",
       "    </tr>\n",
       "    <tr>\n",
       "      <th>1</th>\n",
       "      <td>Afghanistan</td>\n",
       "      <td>AFG</td>\n",
       "      <td>Urban population</td>\n",
       "      <td>SP.URB.TOTL</td>\n",
       "      <td>7.395900e+05</td>\n",
       "      <td>7.799080e+05</td>\n",
       "      <td>8.229040e+05</td>\n",
       "      <td>8.685430e+05</td>\n",
       "      <td>9.172780e+05</td>\n",
       "      <td>9.689950e+05</td>\n",
       "      <td>...</td>\n",
       "      <td>6.278103e+06</td>\n",
       "      <td>6.535829e+06</td>\n",
       "      <td>6.808693e+06</td>\n",
       "      <td>7.111214e+06</td>\n",
       "      <td>7.449134e+06</td>\n",
       "      <td>7.817901e+06</td>\n",
       "      <td>8.209305e+06</td>\n",
       "      <td>8.609463e+06</td>\n",
       "      <td>9.008656e+06</td>\n",
       "      <td>9.402875e+06</td>\n",
       "    </tr>\n",
       "    <tr>\n",
       "      <th>2</th>\n",
       "      <td>Afghanistan</td>\n",
       "      <td>AFG</td>\n",
       "      <td>Urban population growth (annual %)</td>\n",
       "      <td>SP.URB.GROW</td>\n",
       "      <td>5.256151e+00</td>\n",
       "      <td>5.307999e+00</td>\n",
       "      <td>5.366358e+00</td>\n",
       "      <td>5.397755e+00</td>\n",
       "      <td>5.459349e+00</td>\n",
       "      <td>5.484886e+00</td>\n",
       "      <td>...</td>\n",
       "      <td>4.250217e+00</td>\n",
       "      <td>4.023133e+00</td>\n",
       "      <td>4.090098e+00</td>\n",
       "      <td>4.347280e+00</td>\n",
       "      <td>4.642481e+00</td>\n",
       "      <td>4.831832e+00</td>\n",
       "      <td>4.885216e+00</td>\n",
       "      <td>4.759368e+00</td>\n",
       "      <td>4.532395e+00</td>\n",
       "      <td>4.282960e+00</td>\n",
       "    </tr>\n",
       "    <tr>\n",
       "      <th>3</th>\n",
       "      <td>Afghanistan</td>\n",
       "      <td>AFG</td>\n",
       "      <td>Population, total</td>\n",
       "      <td>SP.POP.TOTL</td>\n",
       "      <td>8.996351e+06</td>\n",
       "      <td>9.166764e+06</td>\n",
       "      <td>9.345868e+06</td>\n",
       "      <td>9.533954e+06</td>\n",
       "      <td>9.731361e+06</td>\n",
       "      <td>9.938414e+06</td>\n",
       "      <td>...</td>\n",
       "      <td>2.661679e+07</td>\n",
       "      <td>2.729403e+07</td>\n",
       "      <td>2.800433e+07</td>\n",
       "      <td>2.880317e+07</td>\n",
       "      <td>2.970860e+07</td>\n",
       "      <td>3.069696e+07</td>\n",
       "      <td>3.173169e+07</td>\n",
       "      <td>3.275802e+07</td>\n",
       "      <td>3.373649e+07</td>\n",
       "      <td>3.465603e+07</td>\n",
       "    </tr>\n",
       "    <tr>\n",
       "      <th>4</th>\n",
       "      <td>Afghanistan</td>\n",
       "      <td>AFG</td>\n",
       "      <td>Population growth (annual %)</td>\n",
       "      <td>SP.POP.GROW</td>\n",
       "      <td>1.816077e+00</td>\n",
       "      <td>1.876528e+00</td>\n",
       "      <td>1.934999e+00</td>\n",
       "      <td>1.992521e+00</td>\n",
       "      <td>2.049423e+00</td>\n",
       "      <td>2.105369e+00</td>\n",
       "      <td>...</td>\n",
       "      <td>2.755225e+00</td>\n",
       "      <td>2.512574e+00</td>\n",
       "      <td>2.569114e+00</td>\n",
       "      <td>2.812617e+00</td>\n",
       "      <td>3.095119e+00</td>\n",
       "      <td>3.272703e+00</td>\n",
       "      <td>3.315224e+00</td>\n",
       "      <td>3.183201e+00</td>\n",
       "      <td>2.943234e+00</td>\n",
       "      <td>2.689163e+00</td>\n",
       "    </tr>\n",
       "  </tbody>\n",
       "</table>\n",
       "<p>5 rows × 61 columns</p>\n",
       "</div>"
      ],
      "text/plain": [
       "  Country Name Country Code                      Indicator Name  \\\n",
       "0  Afghanistan          AFG       Urban population (% of total)   \n",
       "1  Afghanistan          AFG                    Urban population   \n",
       "2  Afghanistan          AFG  Urban population growth (annual %)   \n",
       "3  Afghanistan          AFG                   Population, total   \n",
       "4  Afghanistan          AFG        Population growth (annual %)   \n",
       "\n",
       "      Indicator Code          1960          1961          1962          1963  \\\n",
       "0  SP.URB.TOTL.IN.ZS  8.221000e+00  8.508000e+00  8.805000e+00  9.110000e+00   \n",
       "1        SP.URB.TOTL  7.395900e+05  7.799080e+05  8.229040e+05  8.685430e+05   \n",
       "2        SP.URB.GROW  5.256151e+00  5.307999e+00  5.366358e+00  5.397755e+00   \n",
       "3        SP.POP.TOTL  8.996351e+06  9.166764e+06  9.345868e+06  9.533954e+06   \n",
       "4        SP.POP.GROW  1.816077e+00  1.876528e+00  1.934999e+00  1.992521e+00   \n",
       "\n",
       "           1964          1965      ...               2007          2008  \\\n",
       "0  9.426000e+00  9.750000e+00      ...       2.358700e+01  2.394600e+01   \n",
       "1  9.172780e+05  9.689950e+05      ...       6.278103e+06  6.535829e+06   \n",
       "2  5.459349e+00  5.484886e+00      ...       4.250217e+00  4.023133e+00   \n",
       "3  9.731361e+06  9.938414e+06      ...       2.661679e+07  2.729403e+07   \n",
       "4  2.049423e+00  2.105369e+00      ...       2.755225e+00  2.512574e+00   \n",
       "\n",
       "           2009          2010          2011          2012          2013  \\\n",
       "0  2.431300e+01  2.468900e+01  2.507400e+01  2.546800e+01  2.587100e+01   \n",
       "1  6.808693e+06  7.111214e+06  7.449134e+06  7.817901e+06  8.209305e+06   \n",
       "2  4.090098e+00  4.347280e+00  4.642481e+00  4.831832e+00  4.885216e+00   \n",
       "3  2.800433e+07  2.880317e+07  2.970860e+07  3.069696e+07  3.173169e+07   \n",
       "4  2.569114e+00  2.812617e+00  3.095119e+00  3.272703e+00  3.315224e+00   \n",
       "\n",
       "           2014          2015          2016  \n",
       "0  2.628200e+01  2.670300e+01  2.713200e+01  \n",
       "1  8.609463e+06  9.008656e+06  9.402875e+06  \n",
       "2  4.759368e+00  4.532395e+00  4.282960e+00  \n",
       "3  3.275802e+07  3.373649e+07  3.465603e+07  \n",
       "4  3.183201e+00  2.943234e+00  2.689163e+00  \n",
       "\n",
       "[5 rows x 61 columns]"
      ]
     },
     "execution_count": 778,
     "metadata": {},
     "output_type": "execute_result"
    }
   ],
   "source": [
    "df_rest.head()"
   ]
  },
  {
   "cell_type": "code",
   "execution_count": 779,
   "metadata": {
    "scrolled": true
   },
   "outputs": [
    {
     "data": {
      "text/html": [
       "<div>\n",
       "<style>\n",
       "    .dataframe thead tr:only-child th {\n",
       "        text-align: right;\n",
       "    }\n",
       "\n",
       "    .dataframe thead th {\n",
       "        text-align: left;\n",
       "    }\n",
       "\n",
       "    .dataframe tbody tr th {\n",
       "        vertical-align: top;\n",
       "    }\n",
       "</style>\n",
       "<table border=\"1\" class=\"dataframe\">\n",
       "  <thead>\n",
       "    <tr style=\"text-align: right;\">\n",
       "      <th></th>\n",
       "      <th>Country Name</th>\n",
       "      <th>Indicator Name</th>\n",
       "      <th>2015</th>\n",
       "    </tr>\n",
       "  </thead>\n",
       "  <tbody>\n",
       "    <tr>\n",
       "      <th>0</th>\n",
       "      <td>Afghanistan</td>\n",
       "      <td>Urban population (% of total)</td>\n",
       "      <td>2.670300e+01</td>\n",
       "    </tr>\n",
       "    <tr>\n",
       "      <th>1</th>\n",
       "      <td>Afghanistan</td>\n",
       "      <td>Urban population</td>\n",
       "      <td>9.008656e+06</td>\n",
       "    </tr>\n",
       "    <tr>\n",
       "      <th>2</th>\n",
       "      <td>Afghanistan</td>\n",
       "      <td>Urban population growth (annual %)</td>\n",
       "      <td>4.532395e+00</td>\n",
       "    </tr>\n",
       "    <tr>\n",
       "      <th>3</th>\n",
       "      <td>Afghanistan</td>\n",
       "      <td>Population, total</td>\n",
       "      <td>3.373649e+07</td>\n",
       "    </tr>\n",
       "    <tr>\n",
       "      <th>4</th>\n",
       "      <td>Afghanistan</td>\n",
       "      <td>Population growth (annual %)</td>\n",
       "      <td>2.943234e+00</td>\n",
       "    </tr>\n",
       "  </tbody>\n",
       "</table>\n",
       "</div>"
      ],
      "text/plain": [
       "  Country Name                      Indicator Name          2015\n",
       "0  Afghanistan       Urban population (% of total)  2.670300e+01\n",
       "1  Afghanistan                    Urban population  9.008656e+06\n",
       "2  Afghanistan  Urban population growth (annual %)  4.532395e+00\n",
       "3  Afghanistan                   Population, total  3.373649e+07\n",
       "4  Afghanistan        Population growth (annual %)  2.943234e+00"
      ]
     },
     "execution_count": 779,
     "metadata": {},
     "output_type": "execute_result"
    }
   ],
   "source": [
    "dict_df_rest_years = {}\n",
    "for year in years:\n",
    "    dict_df_rest_years[year] = df_rest[['Country Name','Indicator Name',year]]\n",
    "    #dict_df_rest_years[year] = pd.merge(dict_df_rest_years[year], country_class_y, on=\"Country Name\", how=\"outer\" )\n",
    "    \n",
    "dict_df_rest_years[year].head()"
   ]
  },
  {
   "cell_type": "code",
   "execution_count": 780,
   "metadata": {},
   "outputs": [
    {
     "name": "stdout",
     "output_type": "stream",
     "text": [
      "(19800, 3)\n",
      "(19800, 3)\n",
      "(19800, 3)\n",
      "(19800, 3)\n",
      "(19800, 3)\n",
      "(19800, 3)\n",
      "(19800, 3)\n",
      "(19800, 3)\n",
      "(19800, 3)\n",
      "(19800, 3)\n",
      "(19800, 3)\n"
     ]
    }
   ],
   "source": [
    "df_rest_test = {}\n",
    "\n",
    "for year in years:\n",
    "    df_rest_test[year] = pd.DataFrame()\n",
    "\n",
    "    for indicator in wb_meta_indi['INDICATOR_NAME']:\n",
    "        df_temp = pd.DataFrame()\n",
    "        df_temp = dict_df_rest_years[year][(dict_df_rest_years[year]['Indicator Name'] == indicator)]\n",
    "\n",
    "        # df_temp = df_temp.fillna(0)\n",
    "        # df_temp.interpolate(method=’polynomial’, order=4)\n",
    "        # print(len(df_temp))\n",
    "\n",
    "        df_rest_test[year] = pd.concat([df_rest_test[year],df_temp], ignore_index=True, axis=0)\n",
    "    print(df_rest_test[year].shape)"
   ]
  },
  {
   "cell_type": "code",
   "execution_count": 781,
   "metadata": {},
   "outputs": [
    {
     "data": {
      "text/html": [
       "<div>\n",
       "<style>\n",
       "    .dataframe thead tr:only-child th {\n",
       "        text-align: right;\n",
       "    }\n",
       "\n",
       "    .dataframe thead th {\n",
       "        text-align: left;\n",
       "    }\n",
       "\n",
       "    .dataframe tbody tr th {\n",
       "        vertical-align: top;\n",
       "    }\n",
       "</style>\n",
       "<table border=\"1\" class=\"dataframe\">\n",
       "  <thead>\n",
       "    <tr style=\"text-align: right;\">\n",
       "      <th></th>\n",
       "      <th>Country Name</th>\n",
       "      <th>Indicator Name</th>\n",
       "      <th>2015</th>\n",
       "    </tr>\n",
       "  </thead>\n",
       "  <tbody>\n",
       "    <tr>\n",
       "      <th>0</th>\n",
       "      <td>Afghanistan</td>\n",
       "      <td>Urban population (% of total)</td>\n",
       "      <td>26.703</td>\n",
       "    </tr>\n",
       "    <tr>\n",
       "      <th>1</th>\n",
       "      <td>Albania</td>\n",
       "      <td>Urban population (% of total)</td>\n",
       "      <td>57.407</td>\n",
       "    </tr>\n",
       "    <tr>\n",
       "      <th>2</th>\n",
       "      <td>Algeria</td>\n",
       "      <td>Urban population (% of total)</td>\n",
       "      <td>70.727</td>\n",
       "    </tr>\n",
       "    <tr>\n",
       "      <th>3</th>\n",
       "      <td>American Samoa</td>\n",
       "      <td>Urban population (% of total)</td>\n",
       "      <td>87.202</td>\n",
       "    </tr>\n",
       "    <tr>\n",
       "      <th>4</th>\n",
       "      <td>Andorra</td>\n",
       "      <td>Urban population (% of total)</td>\n",
       "      <td>85.115</td>\n",
       "    </tr>\n",
       "  </tbody>\n",
       "</table>\n",
       "</div>"
      ],
      "text/plain": [
       "     Country Name                 Indicator Name    2015\n",
       "0     Afghanistan  Urban population (% of total)  26.703\n",
       "1         Albania  Urban population (% of total)  57.407\n",
       "2         Algeria  Urban population (% of total)  70.727\n",
       "3  American Samoa  Urban population (% of total)  87.202\n",
       "4         Andorra  Urban population (% of total)  85.115"
      ]
     },
     "execution_count": 781,
     "metadata": {},
     "output_type": "execute_result"
    }
   ],
   "source": [
    "df_rest_test[year].head()"
   ]
  },
  {
   "cell_type": "code",
   "execution_count": 782,
   "metadata": {
    "scrolled": true
   },
   "outputs": [
    {
     "name": "stdout",
     "output_type": "stream",
     "text": [
      "14520 = 55.0 x 264\n",
      "13728 = 52.0 x 264\n",
      "14520 = 55.0 x 264\n",
      "14520 = 55.0 x 264\n",
      "13992 = 53.0 x 264\n",
      "16368 = 62.0 x 264\n",
      "13728 = 52.0 x 264\n",
      "14256 = 54.0 x 264\n",
      "11352 = 43.0 x 264\n",
      "12936 = 49.0 x 264\n",
      "7128 = 27.0 x 264\n",
      "total of saved indicator 557.0\n"
     ]
    }
   ],
   "source": [
    "# nan for entire set of classes for one category is not included in the new cleaned df\n",
    "df_rest_test_clean = {}\n",
    "indi_sum = 0\n",
    "countries_len = 264\n",
    "for year in years:\n",
    "    df_rest_test_clean[year] = pd.DataFrame()\n",
    "    for indi in sorted(set_saved_indi_filter[year]):\n",
    "        df_temp = df_rest_test[year][df_rest_test[year]['Indicator Name'] == indi]\n",
    "        df_rest_test_clean[year] = pd.concat([df_rest_test_clean[year], df_temp], ignore_index = True, axis = 0)\n",
    "    print(df_rest_test_clean[year].shape[0], '=', df_rest_test_clean[year].shape[0]/countries_len, 'x', countries_len)\n",
    "    indi_sum += df_rest_test_clean[year].shape[0]/countries_len\n",
    "    \n",
    "print('total of saved indicator', indi_sum)"
   ]
  },
  {
   "cell_type": "code",
   "execution_count": 783,
   "metadata": {
    "scrolled": true
   },
   "outputs": [
    {
     "data": {
      "text/html": [
       "<div>\n",
       "<style>\n",
       "    .dataframe thead tr:only-child th {\n",
       "        text-align: right;\n",
       "    }\n",
       "\n",
       "    .dataframe thead th {\n",
       "        text-align: left;\n",
       "    }\n",
       "\n",
       "    .dataframe tbody tr th {\n",
       "        vertical-align: top;\n",
       "    }\n",
       "</style>\n",
       "<table border=\"1\" class=\"dataframe\">\n",
       "  <thead>\n",
       "    <tr style=\"text-align: right;\">\n",
       "      <th></th>\n",
       "      <th>Country Name</th>\n",
       "      <th>Indicator Name</th>\n",
       "      <th>2015</th>\n",
       "    </tr>\n",
       "  </thead>\n",
       "  <tbody>\n",
       "    <tr>\n",
       "      <th>0</th>\n",
       "      <td>Afghanistan</td>\n",
       "      <td>Agriculture, value added (% of GDP)</td>\n",
       "      <td>21.400722</td>\n",
       "    </tr>\n",
       "    <tr>\n",
       "      <th>1</th>\n",
       "      <td>Albania</td>\n",
       "      <td>Agriculture, value added (% of GDP)</td>\n",
       "      <td>23.092629</td>\n",
       "    </tr>\n",
       "    <tr>\n",
       "      <th>2</th>\n",
       "      <td>Algeria</td>\n",
       "      <td>Agriculture, value added (% of GDP)</td>\n",
       "      <td>12.669948</td>\n",
       "    </tr>\n",
       "    <tr>\n",
       "      <th>3</th>\n",
       "      <td>American Samoa</td>\n",
       "      <td>Agriculture, value added (% of GDP)</td>\n",
       "      <td>NaN</td>\n",
       "    </tr>\n",
       "    <tr>\n",
       "      <th>4</th>\n",
       "      <td>Andorra</td>\n",
       "      <td>Agriculture, value added (% of GDP)</td>\n",
       "      <td>NaN</td>\n",
       "    </tr>\n",
       "  </tbody>\n",
       "</table>\n",
       "</div>"
      ],
      "text/plain": [
       "     Country Name                       Indicator Name       2015\n",
       "0     Afghanistan  Agriculture, value added (% of GDP)  21.400722\n",
       "1         Albania  Agriculture, value added (% of GDP)  23.092629\n",
       "2         Algeria  Agriculture, value added (% of GDP)  12.669948\n",
       "3  American Samoa  Agriculture, value added (% of GDP)        NaN\n",
       "4         Andorra  Agriculture, value added (% of GDP)        NaN"
      ]
     },
     "execution_count": 783,
     "metadata": {},
     "output_type": "execute_result"
    }
   ],
   "source": [
    "df_rest_test_clean[year].head()"
   ]
  },
  {
   "cell_type": "code",
   "execution_count": 784,
   "metadata": {},
   "outputs": [
    {
     "data": {
      "text/plain": [
       "264"
      ]
     },
     "execution_count": 784,
     "metadata": {},
     "output_type": "execute_result"
    }
   ],
   "source": [
    "ind = sorted(set(df_rest['Country Name']))\n",
    "len(ind)"
   ]
  },
  {
   "cell_type": "code",
   "execution_count": 785,
   "metadata": {},
   "outputs": [],
   "source": [
    "# reshape the matrix feature\n",
    "countries_len = len(ind)\n",
    "Xtest = pd.DataFrame()\n",
    "Xdrest_year = {}\n",
    "\n",
    "for year in years:    \n",
    "    col = sorted(set_saved_indi_filter[year]) \n",
    "    features_len = len(set_saved_indi_filter[year])\n",
    "\n",
    "    Xyear = pd.DataFrame(np.zeros(shape = (countries_len , features_len)), columns = col, index = ind)\n",
    "    for country in ind:\n",
    "        Xyear.loc[country] = df_rest_test_clean[year][df_rest_test_clean[year]['Country Name'] == country][year].values\n",
    "    \n",
    "    Xdyear[year] = Xyear\n",
    "    Xtest = pd.concat([Xtest, Xyear], ignore_index = True, axis = 1) \n"
   ]
  },
  {
   "cell_type": "code",
   "execution_count": 792,
   "metadata": {},
   "outputs": [
    {
     "name": "stdout",
     "output_type": "stream",
     "text": [
      "(264, 557)\n"
     ]
    },
    {
     "data": {
      "text/html": [
       "<div>\n",
       "<style>\n",
       "    .dataframe thead tr:only-child th {\n",
       "        text-align: right;\n",
       "    }\n",
       "\n",
       "    .dataframe thead th {\n",
       "        text-align: left;\n",
       "    }\n",
       "\n",
       "    .dataframe tbody tr th {\n",
       "        vertical-align: top;\n",
       "    }\n",
       "</style>\n",
       "<table border=\"1\" class=\"dataframe\">\n",
       "  <thead>\n",
       "    <tr style=\"text-align: right;\">\n",
       "      <th></th>\n",
       "      <th>0</th>\n",
       "      <th>1</th>\n",
       "      <th>2</th>\n",
       "      <th>3</th>\n",
       "      <th>4</th>\n",
       "      <th>5</th>\n",
       "      <th>6</th>\n",
       "      <th>7</th>\n",
       "      <th>8</th>\n",
       "      <th>9</th>\n",
       "      <th>...</th>\n",
       "      <th>547</th>\n",
       "      <th>548</th>\n",
       "      <th>549</th>\n",
       "      <th>550</th>\n",
       "      <th>551</th>\n",
       "      <th>552</th>\n",
       "      <th>553</th>\n",
       "      <th>554</th>\n",
       "      <th>555</th>\n",
       "      <th>556</th>\n",
       "    </tr>\n",
       "  </thead>\n",
       "  <tbody>\n",
       "    <tr>\n",
       "      <th>Afghanistan</th>\n",
       "      <td>23.000000</td>\n",
       "      <td>5.840148</td>\n",
       "      <td>58.067580</td>\n",
       "      <td>379100.0</td>\n",
       "      <td>31.750991</td>\n",
       "      <td>11.955090</td>\n",
       "      <td>0.135968</td>\n",
       "      <td>0.046604</td>\n",
       "      <td>0.052341</td>\n",
       "      <td>1327.454</td>\n",
       "      <td>...</td>\n",
       "      <td>78.2</td>\n",
       "      <td>91.1</td>\n",
       "      <td>2.943234</td>\n",
       "      <td>13.738461</td>\n",
       "      <td>33736494.0</td>\n",
       "      <td>NaN</td>\n",
       "      <td>0.65171</td>\n",
       "      <td>9008656.0</td>\n",
       "      <td>26.703</td>\n",
       "      <td>4.532395</td>\n",
       "    </tr>\n",
       "    <tr>\n",
       "      <th>Albania</th>\n",
       "      <td>100.000000</td>\n",
       "      <td>NaN</td>\n",
       "      <td>39.306569</td>\n",
       "      <td>10770.0</td>\n",
       "      <td>21.234328</td>\n",
       "      <td>19.635036</td>\n",
       "      <td>0.458949</td>\n",
       "      <td>0.189289</td>\n",
       "      <td>0.237679</td>\n",
       "      <td>4253.720</td>\n",
       "      <td>...</td>\n",
       "      <td>94.9</td>\n",
       "      <td>14.0</td>\n",
       "      <td>-0.291206</td>\n",
       "      <td>NaN</td>\n",
       "      <td>2880703.0</td>\n",
       "      <td>106.367561</td>\n",
       "      <td>0.94666</td>\n",
       "      <td>1653725.0</td>\n",
       "      <td>57.407</td>\n",
       "      <td>1.462517</td>\n",
       "    </tr>\n",
       "    <tr>\n",
       "      <th>Algeria</th>\n",
       "      <td>98.184265</td>\n",
       "      <td>2.001893</td>\n",
       "      <td>17.302896</td>\n",
       "      <td>412110.0</td>\n",
       "      <td>8.228899</td>\n",
       "      <td>3.153577</td>\n",
       "      <td>0.754142</td>\n",
       "      <td>0.261537</td>\n",
       "      <td>0.293732</td>\n",
       "      <td>107278.085</td>\n",
       "      <td>...</td>\n",
       "      <td>84.3</td>\n",
       "      <td>25.5</td>\n",
       "      <td>1.919959</td>\n",
       "      <td>6.506177</td>\n",
       "      <td>39871528.0</td>\n",
       "      <td>105.799019</td>\n",
       "      <td>NaN</td>\n",
       "      <td>28199936.0</td>\n",
       "      <td>70.727</td>\n",
       "      <td>2.769061</td>\n",
       "    </tr>\n",
       "    <tr>\n",
       "      <th>American Samoa</th>\n",
       "      <td>NaN</td>\n",
       "      <td>NaN</td>\n",
       "      <td>25.000000</td>\n",
       "      <td>50.0</td>\n",
       "      <td>NaN</td>\n",
       "      <td>16.500000</td>\n",
       "      <td>NaN</td>\n",
       "      <td>NaN</td>\n",
       "      <td>NaN</td>\n",
       "      <td>NaN</td>\n",
       "      <td>...</td>\n",
       "      <td>100.0</td>\n",
       "      <td>NaN</td>\n",
       "      <td>0.180222</td>\n",
       "      <td>NaN</td>\n",
       "      <td>55537.0</td>\n",
       "      <td>NaN</td>\n",
       "      <td>NaN</td>\n",
       "      <td>48429.0</td>\n",
       "      <td>87.202</td>\n",
       "      <td>0.107431</td>\n",
       "    </tr>\n",
       "    <tr>\n",
       "      <th>Andorra</th>\n",
       "      <td>100.000000</td>\n",
       "      <td>NaN</td>\n",
       "      <td>41.914894</td>\n",
       "      <td>197.0</td>\n",
       "      <td>0.419197</td>\n",
       "      <td>5.319149</td>\n",
       "      <td>0.149839</td>\n",
       "      <td>NaN</td>\n",
       "      <td>NaN</td>\n",
       "      <td>575.719</td>\n",
       "      <td>...</td>\n",
       "      <td>100.0</td>\n",
       "      <td>2.8</td>\n",
       "      <td>-1.537836</td>\n",
       "      <td>NaN</td>\n",
       "      <td>78014.0</td>\n",
       "      <td>NaN</td>\n",
       "      <td>NaN</td>\n",
       "      <td>66402.0</td>\n",
       "      <td>85.115</td>\n",
       "      <td>-2.143956</td>\n",
       "    </tr>\n",
       "  </tbody>\n",
       "</table>\n",
       "<p>5 rows × 557 columns</p>\n",
       "</div>"
      ],
      "text/plain": [
       "                       0         1          2         3          4    \\\n",
       "Afghanistan      23.000000  5.840148  58.067580  379100.0  31.750991   \n",
       "Albania         100.000000       NaN  39.306569   10770.0  21.234328   \n",
       "Algeria          98.184265  2.001893  17.302896  412110.0   8.228899   \n",
       "American Samoa         NaN       NaN  25.000000      50.0        NaN   \n",
       "Andorra         100.000000       NaN  41.914894     197.0   0.419197   \n",
       "\n",
       "                      5         6         7         8           9      ...     \\\n",
       "Afghanistan     11.955090  0.135968  0.046604  0.052341    1327.454    ...      \n",
       "Albania         19.635036  0.458949  0.189289  0.237679    4253.720    ...      \n",
       "Algeria          3.153577  0.754142  0.261537  0.293732  107278.085    ...      \n",
       "American Samoa  16.500000       NaN       NaN       NaN         NaN    ...      \n",
       "Andorra          5.319149  0.149839       NaN       NaN     575.719    ...      \n",
       "\n",
       "                  547   548       549        550         551         552  \\\n",
       "Afghanistan      78.2  91.1  2.943234  13.738461  33736494.0         NaN   \n",
       "Albania          94.9  14.0 -0.291206        NaN   2880703.0  106.367561   \n",
       "Algeria          84.3  25.5  1.919959   6.506177  39871528.0  105.799019   \n",
       "American Samoa  100.0   NaN  0.180222        NaN     55537.0         NaN   \n",
       "Andorra         100.0   2.8 -1.537836        NaN     78014.0         NaN   \n",
       "\n",
       "                    553         554     555       556  \n",
       "Afghanistan     0.65171   9008656.0  26.703  4.532395  \n",
       "Albania         0.94666   1653725.0  57.407  1.462517  \n",
       "Algeria             NaN  28199936.0  70.727  2.769061  \n",
       "American Samoa      NaN     48429.0  87.202  0.107431  \n",
       "Andorra             NaN     66402.0  85.115 -2.143956  \n",
       "\n",
       "[5 rows x 557 columns]"
      ]
     },
     "execution_count": 792,
     "metadata": {},
     "output_type": "execute_result"
    }
   ],
   "source": [
    "print(Xtest.shape)\n",
    "Xtest.head()"
   ]
  },
  {
   "cell_type": "code",
   "execution_count": 829,
   "metadata": {},
   "outputs": [
    {
     "data": {
      "text/plain": [
       "array(['Afghanistan', 'Albania', 'Algeria', 'American Samoa', 'Andorra',\n",
       "       'Angola', 'Antigua and Barbuda', 'Arab World', 'Argentina',\n",
       "       'Armenia', 'Aruba', 'Australia', 'Austria', 'Azerbaijan',\n",
       "       'Bahamas, The', 'Bahrain', 'Bangladesh', 'Barbados', 'Belarus',\n",
       "       'Belgium', 'Belize', 'Benin', 'Bermuda', 'Bhutan', 'Bolivia',\n",
       "       'Bosnia and Herzegovina', 'Botswana', 'Brazil',\n",
       "       'British Virgin Islands', 'Brunei Darussalam', 'Bulgaria',\n",
       "       'Burkina Faso', 'Burundi', 'Cabo Verde', 'Cambodia', 'Cameroon',\n",
       "       'Canada', 'Caribbean small states', 'Cayman Islands',\n",
       "       'Central African Republic', 'Central Europe and the Baltics',\n",
       "       'Chad', 'Channel Islands', 'Chile', 'China', 'Colombia', 'Comoros',\n",
       "       'Congo, Dem. Rep.', 'Congo, Rep.', 'Costa Rica', \"Cote d'Ivoire\",\n",
       "       'Croatia', 'Cuba', 'Curacao', 'Cyprus', 'Czech Republic', 'Denmark',\n",
       "       'Djibouti', 'Dominica', 'Dominican Republic',\n",
       "       'Early-demographic dividend', 'East Asia & Pacific',\n",
       "       'East Asia & Pacific (IDA & IBRD countries)',\n",
       "       'East Asia & Pacific (excluding high income)', 'Ecuador',\n",
       "       'Egypt, Arab Rep.', 'El Salvador', 'Equatorial Guinea', 'Eritrea',\n",
       "       'Estonia', 'Ethiopia', 'Euro area', 'Europe & Central Asia',\n",
       "       'Europe & Central Asia (IDA & IBRD countries)',\n",
       "       'Europe & Central Asia (excluding high income)', 'European Union',\n",
       "       'Faroe Islands', 'Fiji', 'Finland',\n",
       "       'Fragile and conflict affected situations', 'France',\n",
       "       'French Polynesia', 'Gabon', 'Gambia, The', 'Georgia', 'Germany',\n",
       "       'Ghana', 'Gibraltar', 'Greece', 'Greenland', 'Grenada', 'Guam',\n",
       "       'Guatemala', 'Guinea', 'Guinea-Bissau', 'Guyana', 'Haiti',\n",
       "       'Heavily indebted poor countries (HIPC)', 'High income', 'Honduras',\n",
       "       'Hong Kong SAR, China', 'Hungary', 'IBRD only', 'IDA & IBRD total',\n",
       "       'IDA blend', 'IDA only', 'IDA total', 'Iceland', 'India',\n",
       "       'Indonesia', 'Iran, Islamic Rep.', 'Iraq', 'Ireland', 'Isle of Man',\n",
       "       'Israel', 'Italy', 'Jamaica', 'Japan', 'Jordan', 'Kazakhstan',\n",
       "       'Kenya', 'Kiribati', 'Korea, Dem. People’s Rep.', 'Korea, Rep.',\n",
       "       'Kosovo', 'Kuwait', 'Kyrgyz Republic', 'Lao PDR',\n",
       "       'Late-demographic dividend', 'Latin America & Caribbean',\n",
       "       'Latin America & Caribbean (excluding high income)',\n",
       "       'Latin America & the Caribbean (IDA & IBRD countries)', 'Latvia',\n",
       "       'Least developed countries: UN classification', 'Lebanon',\n",
       "       'Lesotho', 'Liberia', 'Libya', 'Liechtenstein', 'Lithuania',\n",
       "       'Low & middle income', 'Low income', 'Lower middle income',\n",
       "       'Luxembourg', 'Macao SAR, China', 'Macedonia, FYR', 'Madagascar',\n",
       "       'Malawi', 'Malaysia', 'Maldives', 'Mali', 'Malta',\n",
       "       'Marshall Islands', 'Mauritania', 'Mauritius', 'Mexico',\n",
       "       'Micronesia, Fed. Sts.', 'Middle East & North Africa',\n",
       "       'Middle East & North Africa (IDA & IBRD countries)',\n",
       "       'Middle East & North Africa (excluding high income)',\n",
       "       'Middle income', 'Moldova', 'Monaco', 'Mongolia', 'Montenegro',\n",
       "       'Morocco', 'Mozambique', 'Myanmar', 'Namibia', 'Nauru', 'Nepal',\n",
       "       'Netherlands', 'New Caledonia', 'New Zealand', 'Nicaragua', 'Niger',\n",
       "       'Nigeria', 'North America', 'Northern Mariana Islands', 'Norway',\n",
       "       'Not classified', 'OECD members', 'Oman', 'Other small states',\n",
       "       'Pacific island small states', 'Pakistan', 'Palau', 'Panama',\n",
       "       'Papua New Guinea', 'Paraguay', 'Peru', 'Philippines', 'Poland',\n",
       "       'Portugal', 'Post-demographic dividend', 'Pre-demographic dividend',\n",
       "       'Puerto Rico', 'Qatar', 'Romania', 'Russian Federation', 'Rwanda',\n",
       "       'Samoa', 'San Marino', 'Sao Tome and Principe', 'Saudi Arabia',\n",
       "       'Senegal', 'Serbia', 'Seychelles', 'Sierra Leone', 'Singapore',\n",
       "       'Sint Maarten (Dutch part)', 'Slovak Republic', 'Slovenia',\n",
       "       'Small states', 'Solomon Islands', 'Somalia', 'South Africa',\n",
       "       'South Asia', 'South Asia (IDA & IBRD)', 'South Sudan', 'Spain',\n",
       "       'Sri Lanka', 'St. Kitts and Nevis', 'St. Lucia',\n",
       "       'St. Martin (French part)', 'St. Vincent and the Grenadines',\n",
       "       'Sub-Saharan Africa', 'Sub-Saharan Africa (IDA & IBRD countries)',\n",
       "       'Sub-Saharan Africa (excluding high income)', 'Sudan', 'Suriname',\n",
       "       'Swaziland', 'Sweden', 'Switzerland', 'Syrian Arab Republic',\n",
       "       'Tajikistan', 'Tanzania', 'Thailand', 'Timor-Leste', 'Togo',\n",
       "       'Tonga', 'Trinidad and Tobago', 'Tunisia', 'Turkey', 'Turkmenistan',\n",
       "       'Turks and Caicos Islands', 'Tuvalu', 'Uganda', 'Ukraine',\n",
       "       'United Arab Emirates', 'United Kingdom', 'United States',\n",
       "       'Upper middle income', 'Uruguay', 'Uzbekistan', 'Vanuatu',\n",
       "       'Venezuela, RB', 'Vietnam', 'Virgin Islands (U.S.)',\n",
       "       'West Bank and Gaza', 'World', 'Yemen, Rep.', 'Zambia', 'Zimbabwe'], dtype=object)"
      ]
     },
     "execution_count": 829,
     "metadata": {},
     "output_type": "execute_result"
    }
   ],
   "source": [
    "Xrf_rest = Xtest.fillna(0) \n",
    "Xrf_rest.index.values"
   ]
  },
  {
   "cell_type": "code",
   "execution_count": 822,
   "metadata": {
    "scrolled": true
   },
   "outputs": [
    {
     "data": {
      "text/plain": [
       "['Good',\n",
       " 'Good',\n",
       " 'Bad',\n",
       " 'Good',\n",
       " 'Good',\n",
       " 'Good',\n",
       " 'Good',\n",
       " 'Bad',\n",
       " 'Neutral',\n",
       " 'Good',\n",
       " 'Good',\n",
       " 'Bad',\n",
       " 'Bad',\n",
       " 'Bad',\n",
       " 'Good',\n",
       " 'Bad',\n",
       " 'Good',\n",
       " 'Good',\n",
       " 'Bad',\n",
       " 'Bad',\n",
       " 'Good',\n",
       " 'Neutral',\n",
       " 'Good',\n",
       " 'Good',\n",
       " 'Bad',\n",
       " 'Bad',\n",
       " 'Good',\n",
       " 'Good',\n",
       " 'Good',\n",
       " 'Bad',\n",
       " 'Neutral',\n",
       " 'Good',\n",
       " 'Good',\n",
       " 'Good',\n",
       " 'Good',\n",
       " 'Good',\n",
       " 'Bad',\n",
       " 'Bad',\n",
       " 'Good',\n",
       " 'Good',\n",
       " 'Neutral',\n",
       " 'Good',\n",
       " 'Good',\n",
       " 'Good',\n",
       " 'Bad',\n",
       " 'Good',\n",
       " 'Good',\n",
       " 'Good',\n",
       " 'Good',\n",
       " 'Good',\n",
       " 'Good',\n",
       " 'Good',\n",
       " 'Neutral',\n",
       " 'Good',\n",
       " 'Good',\n",
       " 'Neutral',\n",
       " 'Good',\n",
       " 'Good',\n",
       " 'Good',\n",
       " 'Good',\n",
       " 'Bad',\n",
       " 'Bad',\n",
       " 'Bad',\n",
       " 'Bad',\n",
       " 'Good',\n",
       " 'Bad',\n",
       " 'Good',\n",
       " 'Good',\n",
       " 'Good',\n",
       " 'Bad',\n",
       " 'Good',\n",
       " 'Bad',\n",
       " 'Bad',\n",
       " 'Bad',\n",
       " 'Bad',\n",
       " 'Neutral',\n",
       " 'Good',\n",
       " 'Good',\n",
       " 'Bad',\n",
       " 'Bad',\n",
       " 'Good',\n",
       " 'Good',\n",
       " 'Good',\n",
       " 'Good',\n",
       " 'Neutral',\n",
       " 'Neutral',\n",
       " 'Good',\n",
       " 'Good',\n",
       " 'Good',\n",
       " 'Good',\n",
       " 'Good',\n",
       " 'Good',\n",
       " 'Good',\n",
       " 'Good',\n",
       " 'Good',\n",
       " 'Bad',\n",
       " 'Good',\n",
       " 'Good',\n",
       " 'Bad',\n",
       " 'Good',\n",
       " 'Good',\n",
       " 'Neutral',\n",
       " 'Bad',\n",
       " 'Bad',\n",
       " 'Bad',\n",
       " 'Good',\n",
       " 'Bad',\n",
       " 'Good',\n",
       " 'Neutral',\n",
       " 'Bad',\n",
       " 'Bad',\n",
       " 'Bad',\n",
       " 'Good',\n",
       " 'Good',\n",
       " 'Bad',\n",
       " 'Good',\n",
       " 'Bad',\n",
       " 'Bad',\n",
       " 'Bad',\n",
       " 'Bad',\n",
       " 'Good',\n",
       " 'Good',\n",
       " 'Good',\n",
       " 'Bad',\n",
       " 'Good',\n",
       " 'Bad',\n",
       " 'Bad',\n",
       " 'Good',\n",
       " 'Bad',\n",
       " 'Neutral',\n",
       " 'Neutral',\n",
       " 'Neutral',\n",
       " 'Neutral',\n",
       " 'Good',\n",
       " 'Good',\n",
       " 'Good',\n",
       " 'Good',\n",
       " 'Bad',\n",
       " 'Good',\n",
       " 'Neutral',\n",
       " 'Bad',\n",
       " 'Good',\n",
       " 'Bad',\n",
       " 'Good',\n",
       " 'Good',\n",
       " 'Bad',\n",
       " 'Good',\n",
       " 'Good',\n",
       " 'Bad',\n",
       " 'Good',\n",
       " 'Good',\n",
       " 'Good',\n",
       " 'Bad',\n",
       " 'Good',\n",
       " 'Good',\n",
       " 'Neutral',\n",
       " 'Good',\n",
       " 'Bad',\n",
       " 'Bad',\n",
       " 'Bad',\n",
       " 'Bad',\n",
       " 'Bad',\n",
       " 'Good',\n",
       " 'Bad',\n",
       " 'Good',\n",
       " 'Neutral',\n",
       " 'Good',\n",
       " 'Good',\n",
       " 'Good',\n",
       " 'Good',\n",
       " 'Good',\n",
       " 'Neutral',\n",
       " 'Good',\n",
       " 'Bad',\n",
       " 'Good',\n",
       " 'Good',\n",
       " 'Good',\n",
       " 'Bad',\n",
       " 'Good',\n",
       " 'Good',\n",
       " 'Good',\n",
       " 'Bad',\n",
       " 'Bad',\n",
       " 'Bad',\n",
       " 'Good',\n",
       " 'Bad',\n",
       " 'Bad',\n",
       " 'Good',\n",
       " 'Good',\n",
       " 'Good',\n",
       " 'Good',\n",
       " 'Good',\n",
       " 'Neutral',\n",
       " 'Good',\n",
       " 'Bad',\n",
       " 'Good',\n",
       " 'Good',\n",
       " 'Bad',\n",
       " 'Neutral',\n",
       " 'Bad',\n",
       " 'Good',\n",
       " 'Good',\n",
       " 'Good',\n",
       " 'Good',\n",
       " 'Bad',\n",
       " 'Good',\n",
       " 'Bad',\n",
       " 'Good',\n",
       " 'Good',\n",
       " 'Good',\n",
       " 'Good',\n",
       " 'Neutral',\n",
       " 'Neutral',\n",
       " 'Bad',\n",
       " 'Good',\n",
       " 'Good',\n",
       " 'Bad',\n",
       " 'Neutral',\n",
       " 'Neutral',\n",
       " 'Good',\n",
       " 'Good',\n",
       " 'Good',\n",
       " 'Good',\n",
       " 'Good',\n",
       " 'Good',\n",
       " 'Good',\n",
       " 'Bad',\n",
       " 'Bad',\n",
       " 'Bad',\n",
       " 'Good',\n",
       " 'Neutral',\n",
       " 'Good',\n",
       " 'Good',\n",
       " 'Good',\n",
       " 'Good',\n",
       " 'Good',\n",
       " 'Good',\n",
       " 'Bad',\n",
       " 'Good',\n",
       " 'Good',\n",
       " 'Good',\n",
       " 'Bad',\n",
       " 'Neutral',\n",
       " 'Bad',\n",
       " 'Bad',\n",
       " 'Good',\n",
       " 'Good',\n",
       " 'Good',\n",
       " 'Bad',\n",
       " 'Bad',\n",
       " 'Neutral',\n",
       " 'Bad',\n",
       " 'Bad',\n",
       " 'Good',\n",
       " 'Bad',\n",
       " 'Good',\n",
       " 'Bad',\n",
       " 'Bad',\n",
       " 'Good',\n",
       " 'Good',\n",
       " 'Bad',\n",
       " 'Bad',\n",
       " 'Good',\n",
       " 'Bad']"
      ]
     },
     "execution_count": 822,
     "metadata": {},
     "output_type": "execute_result"
    }
   ],
   "source": [
    "yrf_pred_rest = RF.predict(Xrf_rest)\n",
    "list(yrf_pred_rest)"
   ]
  },
  {
   "cell_type": "code",
   "execution_count": 821,
   "metadata": {},
   "outputs": [
    {
     "data": {
      "text/plain": [
       "['Afghanistan',\n",
       " 'Albania',\n",
       " 'Algeria',\n",
       " 'American Samoa',\n",
       " 'Andorra',\n",
       " 'Angola',\n",
       " 'Antigua and Barbuda',\n",
       " 'Arab World',\n",
       " 'Argentina',\n",
       " 'Armenia',\n",
       " 'Aruba',\n",
       " 'Australia',\n",
       " 'Austria',\n",
       " 'Azerbaijan',\n",
       " 'Bahamas, The',\n",
       " 'Bahrain',\n",
       " 'Bangladesh',\n",
       " 'Barbados',\n",
       " 'Belarus',\n",
       " 'Belgium',\n",
       " 'Belize',\n",
       " 'Benin',\n",
       " 'Bermuda',\n",
       " 'Bhutan',\n",
       " 'Bolivia',\n",
       " 'Bosnia and Herzegovina',\n",
       " 'Botswana',\n",
       " 'Brazil',\n",
       " 'British Virgin Islands',\n",
       " 'Brunei Darussalam',\n",
       " 'Bulgaria',\n",
       " 'Burkina Faso',\n",
       " 'Burundi',\n",
       " 'Cabo Verde',\n",
       " 'Cambodia',\n",
       " 'Cameroon',\n",
       " 'Canada',\n",
       " 'Caribbean small states',\n",
       " 'Cayman Islands',\n",
       " 'Central African Republic',\n",
       " 'Central Europe and the Baltics',\n",
       " 'Chad',\n",
       " 'Channel Islands',\n",
       " 'Chile',\n",
       " 'China',\n",
       " 'Colombia',\n",
       " 'Comoros',\n",
       " 'Congo, Dem. Rep.',\n",
       " 'Congo, Rep.',\n",
       " 'Costa Rica',\n",
       " \"Cote d'Ivoire\",\n",
       " 'Croatia',\n",
       " 'Cuba',\n",
       " 'Curacao',\n",
       " 'Cyprus',\n",
       " 'Czech Republic',\n",
       " 'Denmark',\n",
       " 'Djibouti',\n",
       " 'Dominica',\n",
       " 'Dominican Republic',\n",
       " 'Early-demographic dividend',\n",
       " 'East Asia & Pacific',\n",
       " 'East Asia & Pacific (IDA & IBRD countries)',\n",
       " 'East Asia & Pacific (excluding high income)',\n",
       " 'Ecuador',\n",
       " 'Egypt, Arab Rep.',\n",
       " 'El Salvador',\n",
       " 'Equatorial Guinea',\n",
       " 'Eritrea',\n",
       " 'Estonia',\n",
       " 'Ethiopia',\n",
       " 'Euro area',\n",
       " 'Europe & Central Asia',\n",
       " 'Europe & Central Asia (IDA & IBRD countries)',\n",
       " 'Europe & Central Asia (excluding high income)',\n",
       " 'European Union',\n",
       " 'Faroe Islands',\n",
       " 'Fiji',\n",
       " 'Finland',\n",
       " 'Fragile and conflict affected situations',\n",
       " 'France',\n",
       " 'French Polynesia',\n",
       " 'Gabon',\n",
       " 'Gambia, The',\n",
       " 'Georgia',\n",
       " 'Germany',\n",
       " 'Ghana',\n",
       " 'Gibraltar',\n",
       " 'Greece',\n",
       " 'Greenland',\n",
       " 'Grenada',\n",
       " 'Guam',\n",
       " 'Guatemala',\n",
       " 'Guinea',\n",
       " 'Guinea-Bissau',\n",
       " 'Guyana',\n",
       " 'Haiti',\n",
       " 'Heavily indebted poor countries (HIPC)',\n",
       " 'High income',\n",
       " 'Honduras',\n",
       " 'Hong Kong SAR, China',\n",
       " 'Hungary',\n",
       " 'IBRD only',\n",
       " 'IDA & IBRD total',\n",
       " 'IDA blend',\n",
       " 'IDA only',\n",
       " 'IDA total',\n",
       " 'Iceland',\n",
       " 'India',\n",
       " 'Indonesia',\n",
       " 'Iran, Islamic Rep.',\n",
       " 'Iraq',\n",
       " 'Ireland',\n",
       " 'Isle of Man',\n",
       " 'Israel',\n",
       " 'Italy',\n",
       " 'Jamaica',\n",
       " 'Japan',\n",
       " 'Jordan',\n",
       " 'Kazakhstan',\n",
       " 'Kenya',\n",
       " 'Kiribati',\n",
       " 'Korea, Dem. People’s Rep.',\n",
       " 'Korea, Rep.',\n",
       " 'Kosovo',\n",
       " 'Kuwait',\n",
       " 'Kyrgyz Republic',\n",
       " 'Lao PDR',\n",
       " 'Late-demographic dividend',\n",
       " 'Latin America & Caribbean',\n",
       " 'Latin America & Caribbean (excluding high income)',\n",
       " 'Latin America & the Caribbean (IDA & IBRD countries)',\n",
       " 'Latvia',\n",
       " 'Least developed countries: UN classification',\n",
       " 'Lebanon',\n",
       " 'Lesotho',\n",
       " 'Liberia',\n",
       " 'Libya',\n",
       " 'Liechtenstein',\n",
       " 'Lithuania',\n",
       " 'Low & middle income',\n",
       " 'Low income',\n",
       " 'Lower middle income',\n",
       " 'Luxembourg',\n",
       " 'Macao SAR, China',\n",
       " 'Macedonia, FYR',\n",
       " 'Madagascar',\n",
       " 'Malawi',\n",
       " 'Malaysia',\n",
       " 'Maldives',\n",
       " 'Mali',\n",
       " 'Malta',\n",
       " 'Marshall Islands',\n",
       " 'Mauritania',\n",
       " 'Mauritius',\n",
       " 'Mexico',\n",
       " 'Micronesia, Fed. Sts.',\n",
       " 'Middle East & North Africa',\n",
       " 'Middle East & North Africa (IDA & IBRD countries)',\n",
       " 'Middle East & North Africa (excluding high income)',\n",
       " 'Middle income',\n",
       " 'Moldova',\n",
       " 'Monaco',\n",
       " 'Mongolia',\n",
       " 'Montenegro',\n",
       " 'Morocco',\n",
       " 'Mozambique',\n",
       " 'Myanmar',\n",
       " 'Namibia',\n",
       " 'Nauru',\n",
       " 'Nepal',\n",
       " 'Netherlands',\n",
       " 'New Caledonia',\n",
       " 'New Zealand',\n",
       " 'Nicaragua',\n",
       " 'Niger',\n",
       " 'Nigeria',\n",
       " 'North America',\n",
       " 'Northern Mariana Islands',\n",
       " 'Norway',\n",
       " 'Not classified',\n",
       " 'OECD members',\n",
       " 'Oman',\n",
       " 'Other small states',\n",
       " 'Pacific island small states',\n",
       " 'Pakistan',\n",
       " 'Palau',\n",
       " 'Panama',\n",
       " 'Papua New Guinea',\n",
       " 'Paraguay',\n",
       " 'Peru',\n",
       " 'Philippines',\n",
       " 'Poland',\n",
       " 'Portugal',\n",
       " 'Post-demographic dividend',\n",
       " 'Pre-demographic dividend',\n",
       " 'Puerto Rico',\n",
       " 'Qatar',\n",
       " 'Romania',\n",
       " 'Russian Federation',\n",
       " 'Rwanda',\n",
       " 'Samoa',\n",
       " 'San Marino',\n",
       " 'Sao Tome and Principe',\n",
       " 'Saudi Arabia',\n",
       " 'Senegal',\n",
       " 'Serbia',\n",
       " 'Seychelles',\n",
       " 'Sierra Leone',\n",
       " 'Singapore',\n",
       " 'Sint Maarten (Dutch part)',\n",
       " 'Slovak Republic',\n",
       " 'Slovenia',\n",
       " 'Small states',\n",
       " 'Solomon Islands',\n",
       " 'Somalia',\n",
       " 'South Africa',\n",
       " 'South Asia',\n",
       " 'South Asia (IDA & IBRD)',\n",
       " 'South Sudan',\n",
       " 'Spain',\n",
       " 'Sri Lanka',\n",
       " 'St. Kitts and Nevis',\n",
       " 'St. Lucia',\n",
       " 'St. Martin (French part)',\n",
       " 'St. Vincent and the Grenadines',\n",
       " 'Sub-Saharan Africa',\n",
       " 'Sub-Saharan Africa (IDA & IBRD countries)',\n",
       " 'Sub-Saharan Africa (excluding high income)',\n",
       " 'Sudan',\n",
       " 'Suriname',\n",
       " 'Swaziland',\n",
       " 'Sweden',\n",
       " 'Switzerland',\n",
       " 'Syrian Arab Republic',\n",
       " 'Tajikistan',\n",
       " 'Tanzania',\n",
       " 'Thailand',\n",
       " 'Timor-Leste',\n",
       " 'Togo',\n",
       " 'Tonga',\n",
       " 'Trinidad and Tobago',\n",
       " 'Tunisia',\n",
       " 'Turkey',\n",
       " 'Turkmenistan',\n",
       " 'Turks and Caicos Islands',\n",
       " 'Tuvalu',\n",
       " 'Uganda',\n",
       " 'Ukraine',\n",
       " 'United Arab Emirates',\n",
       " 'United Kingdom',\n",
       " 'United States',\n",
       " 'Upper middle income',\n",
       " 'Uruguay',\n",
       " 'Uzbekistan',\n",
       " 'Vanuatu',\n",
       " 'Venezuela, RB',\n",
       " 'Vietnam',\n",
       " 'Virgin Islands (U.S.)',\n",
       " 'West Bank and Gaza',\n",
       " 'World',\n",
       " 'Yemen, Rep.',\n",
       " 'Zambia',\n",
       " 'Zimbabwe']"
      ]
     },
     "execution_count": 821,
     "metadata": {},
     "output_type": "execute_result"
    }
   ],
   "source": [
    "ind"
   ]
  },
  {
   "cell_type": "code",
   "execution_count": 832,
   "metadata": {
    "scrolled": true
   },
   "outputs": [
    {
     "data": {
      "text/html": [
       "<div>\n",
       "<style>\n",
       "    .dataframe thead tr:only-child th {\n",
       "        text-align: right;\n",
       "    }\n",
       "\n",
       "    .dataframe thead th {\n",
       "        text-align: left;\n",
       "    }\n",
       "\n",
       "    .dataframe tbody tr th {\n",
       "        vertical-align: top;\n",
       "    }\n",
       "</style>\n",
       "<table border=\"1\" class=\"dataframe\">\n",
       "  <thead>\n",
       "    <tr style=\"text-align: right;\">\n",
       "      <th></th>\n",
       "      <th>Class</th>\n",
       "    </tr>\n",
       "  </thead>\n",
       "  <tbody>\n",
       "    <tr>\n",
       "      <th>Afghanistan</th>\n",
       "      <td>Good</td>\n",
       "    </tr>\n",
       "    <tr>\n",
       "      <th>Albania</th>\n",
       "      <td>Good</td>\n",
       "    </tr>\n",
       "    <tr>\n",
       "      <th>Algeria</th>\n",
       "      <td>Bad</td>\n",
       "    </tr>\n",
       "    <tr>\n",
       "      <th>American Samoa</th>\n",
       "      <td>Good</td>\n",
       "    </tr>\n",
       "    <tr>\n",
       "      <th>Andorra</th>\n",
       "      <td>Good</td>\n",
       "    </tr>\n",
       "    <tr>\n",
       "      <th>Angola</th>\n",
       "      <td>Good</td>\n",
       "    </tr>\n",
       "    <tr>\n",
       "      <th>Antigua and Barbuda</th>\n",
       "      <td>Good</td>\n",
       "    </tr>\n",
       "    <tr>\n",
       "      <th>Arab World</th>\n",
       "      <td>Bad</td>\n",
       "    </tr>\n",
       "    <tr>\n",
       "      <th>Argentina</th>\n",
       "      <td>Neutral</td>\n",
       "    </tr>\n",
       "    <tr>\n",
       "      <th>Armenia</th>\n",
       "      <td>Good</td>\n",
       "    </tr>\n",
       "    <tr>\n",
       "      <th>Aruba</th>\n",
       "      <td>Good</td>\n",
       "    </tr>\n",
       "    <tr>\n",
       "      <th>Australia</th>\n",
       "      <td>Bad</td>\n",
       "    </tr>\n",
       "    <tr>\n",
       "      <th>Austria</th>\n",
       "      <td>Bad</td>\n",
       "    </tr>\n",
       "    <tr>\n",
       "      <th>Azerbaijan</th>\n",
       "      <td>Bad</td>\n",
       "    </tr>\n",
       "    <tr>\n",
       "      <th>Bahamas, The</th>\n",
       "      <td>Good</td>\n",
       "    </tr>\n",
       "    <tr>\n",
       "      <th>Bahrain</th>\n",
       "      <td>Bad</td>\n",
       "    </tr>\n",
       "    <tr>\n",
       "      <th>Bangladesh</th>\n",
       "      <td>Good</td>\n",
       "    </tr>\n",
       "    <tr>\n",
       "      <th>Barbados</th>\n",
       "      <td>Good</td>\n",
       "    </tr>\n",
       "    <tr>\n",
       "      <th>Belarus</th>\n",
       "      <td>Bad</td>\n",
       "    </tr>\n",
       "    <tr>\n",
       "      <th>Belgium</th>\n",
       "      <td>Bad</td>\n",
       "    </tr>\n",
       "    <tr>\n",
       "      <th>Belize</th>\n",
       "      <td>Good</td>\n",
       "    </tr>\n",
       "    <tr>\n",
       "      <th>Benin</th>\n",
       "      <td>Neutral</td>\n",
       "    </tr>\n",
       "    <tr>\n",
       "      <th>Bermuda</th>\n",
       "      <td>Good</td>\n",
       "    </tr>\n",
       "    <tr>\n",
       "      <th>Bhutan</th>\n",
       "      <td>Good</td>\n",
       "    </tr>\n",
       "    <tr>\n",
       "      <th>Bolivia</th>\n",
       "      <td>Bad</td>\n",
       "    </tr>\n",
       "    <tr>\n",
       "      <th>Bosnia and Herzegovina</th>\n",
       "      <td>Bad</td>\n",
       "    </tr>\n",
       "    <tr>\n",
       "      <th>Botswana</th>\n",
       "      <td>Good</td>\n",
       "    </tr>\n",
       "    <tr>\n",
       "      <th>Brazil</th>\n",
       "      <td>Good</td>\n",
       "    </tr>\n",
       "    <tr>\n",
       "      <th>British Virgin Islands</th>\n",
       "      <td>Good</td>\n",
       "    </tr>\n",
       "    <tr>\n",
       "      <th>Brunei Darussalam</th>\n",
       "      <td>Bad</td>\n",
       "    </tr>\n",
       "    <tr>\n",
       "      <th>...</th>\n",
       "      <td>...</td>\n",
       "    </tr>\n",
       "    <tr>\n",
       "      <th>Syrian Arab Republic</th>\n",
       "      <td>Good</td>\n",
       "    </tr>\n",
       "    <tr>\n",
       "      <th>Tajikistan</th>\n",
       "      <td>Good</td>\n",
       "    </tr>\n",
       "    <tr>\n",
       "      <th>Tanzania</th>\n",
       "      <td>Good</td>\n",
       "    </tr>\n",
       "    <tr>\n",
       "      <th>Thailand</th>\n",
       "      <td>Bad</td>\n",
       "    </tr>\n",
       "    <tr>\n",
       "      <th>Timor-Leste</th>\n",
       "      <td>Good</td>\n",
       "    </tr>\n",
       "    <tr>\n",
       "      <th>Togo</th>\n",
       "      <td>Good</td>\n",
       "    </tr>\n",
       "    <tr>\n",
       "      <th>Tonga</th>\n",
       "      <td>Good</td>\n",
       "    </tr>\n",
       "    <tr>\n",
       "      <th>Trinidad and Tobago</th>\n",
       "      <td>Bad</td>\n",
       "    </tr>\n",
       "    <tr>\n",
       "      <th>Tunisia</th>\n",
       "      <td>Neutral</td>\n",
       "    </tr>\n",
       "    <tr>\n",
       "      <th>Turkey</th>\n",
       "      <td>Bad</td>\n",
       "    </tr>\n",
       "    <tr>\n",
       "      <th>Turkmenistan</th>\n",
       "      <td>Bad</td>\n",
       "    </tr>\n",
       "    <tr>\n",
       "      <th>Turks and Caicos Islands</th>\n",
       "      <td>Good</td>\n",
       "    </tr>\n",
       "    <tr>\n",
       "      <th>Tuvalu</th>\n",
       "      <td>Good</td>\n",
       "    </tr>\n",
       "    <tr>\n",
       "      <th>Uganda</th>\n",
       "      <td>Good</td>\n",
       "    </tr>\n",
       "    <tr>\n",
       "      <th>Ukraine</th>\n",
       "      <td>Bad</td>\n",
       "    </tr>\n",
       "    <tr>\n",
       "      <th>United Arab Emirates</th>\n",
       "      <td>Bad</td>\n",
       "    </tr>\n",
       "    <tr>\n",
       "      <th>United Kingdom</th>\n",
       "      <td>Neutral</td>\n",
       "    </tr>\n",
       "    <tr>\n",
       "      <th>United States</th>\n",
       "      <td>Bad</td>\n",
       "    </tr>\n",
       "    <tr>\n",
       "      <th>Upper middle income</th>\n",
       "      <td>Bad</td>\n",
       "    </tr>\n",
       "    <tr>\n",
       "      <th>Uruguay</th>\n",
       "      <td>Good</td>\n",
       "    </tr>\n",
       "    <tr>\n",
       "      <th>Uzbekistan</th>\n",
       "      <td>Bad</td>\n",
       "    </tr>\n",
       "    <tr>\n",
       "      <th>Vanuatu</th>\n",
       "      <td>Good</td>\n",
       "    </tr>\n",
       "    <tr>\n",
       "      <th>Venezuela, RB</th>\n",
       "      <td>Bad</td>\n",
       "    </tr>\n",
       "    <tr>\n",
       "      <th>Vietnam</th>\n",
       "      <td>Bad</td>\n",
       "    </tr>\n",
       "    <tr>\n",
       "      <th>Virgin Islands (U.S.)</th>\n",
       "      <td>Good</td>\n",
       "    </tr>\n",
       "    <tr>\n",
       "      <th>West Bank and Gaza</th>\n",
       "      <td>Good</td>\n",
       "    </tr>\n",
       "    <tr>\n",
       "      <th>World</th>\n",
       "      <td>Bad</td>\n",
       "    </tr>\n",
       "    <tr>\n",
       "      <th>Yemen, Rep.</th>\n",
       "      <td>Bad</td>\n",
       "    </tr>\n",
       "    <tr>\n",
       "      <th>Zambia</th>\n",
       "      <td>Good</td>\n",
       "    </tr>\n",
       "    <tr>\n",
       "      <th>Zimbabwe</th>\n",
       "      <td>Bad</td>\n",
       "    </tr>\n",
       "  </tbody>\n",
       "</table>\n",
       "<p>264 rows × 1 columns</p>\n",
       "</div>"
      ],
      "text/plain": [
       "                            Class\n",
       "Afghanistan                  Good\n",
       "Albania                      Good\n",
       "Algeria                       Bad\n",
       "American Samoa               Good\n",
       "Andorra                      Good\n",
       "Angola                       Good\n",
       "Antigua and Barbuda          Good\n",
       "Arab World                    Bad\n",
       "Argentina                 Neutral\n",
       "Armenia                      Good\n",
       "Aruba                        Good\n",
       "Australia                     Bad\n",
       "Austria                       Bad\n",
       "Azerbaijan                    Bad\n",
       "Bahamas, The                 Good\n",
       "Bahrain                       Bad\n",
       "Bangladesh                   Good\n",
       "Barbados                     Good\n",
       "Belarus                       Bad\n",
       "Belgium                       Bad\n",
       "Belize                       Good\n",
       "Benin                     Neutral\n",
       "Bermuda                      Good\n",
       "Bhutan                       Good\n",
       "Bolivia                       Bad\n",
       "Bosnia and Herzegovina        Bad\n",
       "Botswana                     Good\n",
       "Brazil                       Good\n",
       "British Virgin Islands       Good\n",
       "Brunei Darussalam             Bad\n",
       "...                           ...\n",
       "Syrian Arab Republic         Good\n",
       "Tajikistan                   Good\n",
       "Tanzania                     Good\n",
       "Thailand                      Bad\n",
       "Timor-Leste                  Good\n",
       "Togo                         Good\n",
       "Tonga                        Good\n",
       "Trinidad and Tobago           Bad\n",
       "Tunisia                   Neutral\n",
       "Turkey                        Bad\n",
       "Turkmenistan                  Bad\n",
       "Turks and Caicos Islands     Good\n",
       "Tuvalu                       Good\n",
       "Uganda                       Good\n",
       "Ukraine                       Bad\n",
       "United Arab Emirates          Bad\n",
       "United Kingdom            Neutral\n",
       "United States                 Bad\n",
       "Upper middle income           Bad\n",
       "Uruguay                      Good\n",
       "Uzbekistan                    Bad\n",
       "Vanuatu                      Good\n",
       "Venezuela, RB                 Bad\n",
       "Vietnam                       Bad\n",
       "Virgin Islands (U.S.)        Good\n",
       "West Bank and Gaza           Good\n",
       "World                         Bad\n",
       "Yemen, Rep.                   Bad\n",
       "Zambia                       Good\n",
       "Zimbabwe                      Bad\n",
       "\n",
       "[264 rows x 1 columns]"
      ]
     },
     "execution_count": 832,
     "metadata": {},
     "output_type": "execute_result"
    }
   ],
   "source": [
    "pd.DataFrame(yrf_pred_rest, index = list(Xrf_rest.index.values), columns = ['Class'])"
   ]
  },
  {
   "cell_type": "markdown",
   "metadata": {},
   "source": [
    "#  SVM"
   ]
  },
  {
   "cell_type": "code",
   "execution_count": 145,
   "metadata": {
    "collapsed": true
   },
   "outputs": [],
   "source": [
    "# apply the ML algorithm here\n",
    "from sklearn.svm import SVC\n",
    "svc = SVC(kernel='rbf', class_weight='balanced')"
   ]
  },
  {
   "cell_type": "code",
   "execution_count": 146,
   "metadata": {
    "scrolled": true
   },
   "outputs": [
    {
     "data": {
      "text/plain": [
       "dict_keys(['C', 'cache_size', 'class_weight', 'coef0', 'decision_function_shape', 'degree', 'gamma', 'kernel', 'max_iter', 'probability', 'random_state', 'shrinking', 'tol', 'verbose'])"
      ]
     },
     "execution_count": 146,
     "metadata": {},
     "output_type": "execute_result"
    }
   ],
   "source": [
    "svc.get_params().keys()"
   ]
  },
  {
   "cell_type": "code",
   "execution_count": 148,
   "metadata": {},
   "outputs": [
    {
     "name": "stdout",
     "output_type": "stream",
     "text": [
      "Wall time: 553 ms\n",
      "{'C': 50, 'gamma': 1e-20}\n"
     ]
    }
   ],
   "source": [
    "from sklearn.grid_search import GridSearchCV\n",
    "param_grid_svc = {'C': [0.05, 0.1, 0.5, 1, 5, 10, 50, 100], 'gamma': [1E-25, 1E-20 , 1E-15, 1E-12, 1E-10, 0.00001]}\n",
    "grid_svc = GridSearchCV(svc, param_grid_svc)\n",
    "\n",
    "%time grid_svc.fit(Xtrain, ytrain)\n",
    "print(grid_svc.best_params_)"
   ]
  },
  {
   "cell_type": "code",
   "execution_count": 149,
   "metadata": {
    "collapsed": true
   },
   "outputs": [],
   "source": [
    "svc = grid_svc.best_estimator_"
   ]
  },
  {
   "cell_type": "code",
   "execution_count": 150,
   "metadata": {},
   "outputs": [
    {
     "data": {
      "text/plain": [
       "array([ 0.46666667,  0.64285714,  0.5       ,  0.69230769])"
      ]
     },
     "execution_count": 150,
     "metadata": {},
     "output_type": "execute_result"
    }
   ],
   "source": [
    "from sklearn.cross_validation import cross_val_score\n",
    "cross_val_score(svc, Xtrain, ytrain, cv=4)"
   ]
  },
  {
   "cell_type": "code",
   "execution_count": 151,
   "metadata": {
    "scrolled": true
   },
   "outputs": [
    {
     "data": {
      "text/plain": [
       "dict_keys(['C', 'cache_size', 'class_weight', 'coef0', 'decision_function_shape', 'degree', 'gamma', 'kernel', 'max_iter', 'probability', 'random_state', 'shrinking', 'tol', 'verbose'])"
      ]
     },
     "execution_count": 151,
     "metadata": {},
     "output_type": "execute_result"
    }
   ],
   "source": [
    "# apply the ML algorithm here\n",
    "from sklearn.svm import SVC\n",
    "svc_sig = SVC(kernel='sigmoid')\n",
    "\n",
    "svc_sig.get_params().keys()"
   ]
  },
  {
   "cell_type": "code",
   "execution_count": 154,
   "metadata": {
    "collapsed": true
   },
   "outputs": [],
   "source": [
    "param_grid_svcsig = {'C': [0.05, 0.1, 0.5, 1, 5, 10, 50, 100], 'gamma': [1E-25, 1E-20 , 1E-15, 1E-12, 1E-10, 0.00001], 'coef0': [-10,-7, -5, -3, -2 , -1,  0, 1, 2]}"
   ]
  },
  {
   "cell_type": "code",
   "execution_count": 155,
   "metadata": {},
   "outputs": [
    {
     "name": "stdout",
     "output_type": "stream",
     "text": [
      "Wall time: 3.93 s\n",
      "{'C': 50, 'coef0': 1, 'gamma': 1e-20}\n"
     ]
    }
   ],
   "source": [
    "grid_svcsig = GridSearchCV(svc_sig, param_grid_svcsig)\n",
    "\n",
    "%time grid_svcsig.fit(Xtrain, ytrain)\n",
    "print(grid_svcsig.best_params_)"
   ]
  },
  {
   "cell_type": "code",
   "execution_count": 156,
   "metadata": {
    "collapsed": true
   },
   "outputs": [],
   "source": [
    "model_svcsig = grid_svcsig.best_estimator_"
   ]
  },
  {
   "cell_type": "code",
   "execution_count": 157,
   "metadata": {},
   "outputs": [
    {
     "data": {
      "text/plain": [
       "array([ 0.46666667,  0.64285714,  0.42857143,  0.30769231])"
      ]
     },
     "execution_count": 157,
     "metadata": {},
     "output_type": "execute_result"
    }
   ],
   "source": [
    "from sklearn.cross_validation import cross_val_score\n",
    "cross_val_score(model_svcsig, Xtrain, ytrain, cv=4)\n",
    "\n"
   ]
  },
  {
   "cell_type": "markdown",
   "metadata": {},
   "source": [
    "#### KMEANS"
   ]
  },
  {
   "cell_type": "code",
   "execution_count": 405,
   "metadata": {},
   "outputs": [
    {
     "data": {
      "text/plain": [
       "(56, 2)"
      ]
     },
     "execution_count": 405,
     "metadata": {},
     "output_type": "execute_result"
    }
   ],
   "source": [
    "Xtrain.shape"
   ]
  },
  {
   "cell_type": "code",
   "execution_count": 406,
   "metadata": {
    "collapsed": true
   },
   "outputs": [],
   "source": [
    "from sklearn.cluster import KMeans\n",
    "kmeans = KMeans(n_clusters=3)\n",
    "kmeans.fit(Xtrain)\n",
    "y_kmeans = kmeans.predict(Xtrain)"
   ]
  },
  {
   "cell_type": "code",
   "execution_count": 407,
   "metadata": {},
   "outputs": [
    {
     "data": {
      "text/plain": [
       "array([0, 0, 2, 0, 0, 0, 0, 0, 0, 0, 0, 2, 0, 0, 0, 2, 0, 0, 0, 0, 0, 0, 0,\n",
       "       0, 2, 0, 0, 0, 2, 0, 0, 0, 0, 0, 0, 2, 0, 0, 1, 0, 0, 0, 0, 2, 0, 0,\n",
       "       0, 0, 0, 0, 0, 0, 0, 0, 2, 0])"
      ]
     },
     "execution_count": 407,
     "metadata": {},
     "output_type": "execute_result"
    }
   ],
   "source": [
    "y_kmeans"
   ]
  },
  {
   "cell_type": "code",
   "execution_count": 408,
   "metadata": {},
   "outputs": [
    {
     "data": {
      "text/plain": [
       "array([2, 2, 2, 2, 2, 2, 2, 2, 2, 2, 2, 2, 2, 1, 1, 1, 1, 1, 1, 1, 1, 1, 1,\n",
       "       1, 1, 1, 1, 1, 1, 0, 0, 0, 0, 0, 0, 0, 0, 0, 0, 0, 0, 0, 0, 0, 0, 0,\n",
       "       0, 0, 0, 0, 0, 0, 0, 0, 0, 0], dtype=int64)"
      ]
     },
     "execution_count": 408,
     "metadata": {},
     "output_type": "execute_result"
    }
   ],
   "source": [
    "ytrain_color.values"
   ]
  },
  {
   "cell_type": "code",
   "execution_count": 409,
   "metadata": {},
   "outputs": [
    {
     "data": {
      "text/plain": [
       "0.44642857142857145"
      ]
     },
     "execution_count": 409,
     "metadata": {},
     "output_type": "execute_result"
    }
   ],
   "source": [
    "from sklearn.metrics import accuracy_score\n",
    "accuracy_score(y_kmeans, ytrain_color.values)"
   ]
  },
  {
   "cell_type": "code",
   "execution_count": 410,
   "metadata": {},
   "outputs": [
    {
     "data": {
      "image/png": "[encoded data removed]",
      "text/plain": [
       "<matplotlib.figure.Figure at 0x2a1a4420908>"
      ]
     },
     "metadata": {},
     "output_type": "display_data"
    }
   ],
   "source": [
    "plt.scatter(Xtrain[:, 0], Xtrain[:, 1], c=ytrain_color.values,\n",
    "s=50, cmap='viridis');"
   ]
  },
  {
   "cell_type": "code",
   "execution_count": null,
   "metadata": {
    "collapsed": true
   },
   "outputs": [],
   "source": []
  }
 ],
 "metadata": {
  "kernelspec": {
   "display_name": "Python 3",
   "language": "python",
   "name": "python3"
  },
  "language_info": {
   "codemirror_mode": {
    "name": "ipython",
    "version": 3
   },
   "file_extension": ".py",
   "mimetype": "text/x-python",
   "name": "python",
   "nbconvert_exporter": "python",
   "pygments_lexer": "ipython3",
   "version": "3.6.1"
  }
 },
 "nbformat": 4,
 "nbformat_minor": 1
}
