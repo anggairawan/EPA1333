{
 "cells": [
  {
   "cell_type": "markdown",
   "metadata": {},
   "source": [
    "# Can we make a change on climate change?\n",
    "#### EPA1333 Final Assignment\n",
    "### Introduction\n",
    "Regardless of the many debates over the impact of humans on climate change, global warming is an observable fact. According to NASA, highest 16 global temperatures have been recorded since 2001, the arctic ice shrank to a minimum in 2012, and carbon dioxide levels in the air are higher than ever!\n",
    "\n",
    "Data analysis can help us better understand how the climate has changed, why, to make predictions for the future years, and to evaluate measures on how to suppress these changes. In this assignment you receive climate change data from World Bank, and are expected to perform an original and non-trivial analysis using Python.\n",
    "\n",
    "### Data\n",
    "\n",
    "#### Climate change indicators\n",
    "The climate change data offered by World Bank contains a large set of indicators, such as for example CO2 emissions, population growth or renewable energy output. Values of these indicators are available per country and per year. You can download the data in *.csv format from https://data.worldbank.org/topic/climate-change."
   ]
  },
  {
   "cell_type": "code",
   "execution_count": 1,
   "metadata": {
    "collapsed": true
   },
   "outputs": [],
   "source": [
    "# import standard library\n",
    "%matplotlib inline\n",
    "import pandas as pd\n",
    "import numpy as np\n",
    "import matplotlib.pyplot as plt"
   ]
  },
  {
   "cell_type": "code",
   "execution_count": 2,
   "metadata": {},
   "outputs": [
    {
     "data": {
      "text/html": [
       "<div>\n",
       "<style>\n",
       "    .dataframe thead tr:only-child th {\n",
       "        text-align: right;\n",
       "    }\n",
       "\n",
       "    .dataframe thead th {\n",
       "        text-align: left;\n",
       "    }\n",
       "\n",
       "    .dataframe tbody tr th {\n",
       "        vertical-align: top;\n",
       "    }\n",
       "</style>\n",
       "<table border=\"1\" class=\"dataframe\">\n",
       "  <thead>\n",
       "    <tr style=\"text-align: right;\">\n",
       "      <th></th>\n",
       "      <th>Country Name</th>\n",
       "      <th>Country Code</th>\n",
       "      <th>Indicator Name</th>\n",
       "      <th>Indicator Code</th>\n",
       "      <th>1960</th>\n",
       "      <th>1961</th>\n",
       "      <th>1962</th>\n",
       "      <th>1963</th>\n",
       "      <th>1964</th>\n",
       "      <th>1965</th>\n",
       "      <th>...</th>\n",
       "      <th>2007</th>\n",
       "      <th>2008</th>\n",
       "      <th>2009</th>\n",
       "      <th>2010</th>\n",
       "      <th>2011</th>\n",
       "      <th>2012</th>\n",
       "      <th>2013</th>\n",
       "      <th>2014</th>\n",
       "      <th>2015</th>\n",
       "      <th>2016</th>\n",
       "    </tr>\n",
       "  </thead>\n",
       "  <tbody>\n",
       "    <tr>\n",
       "      <th>0</th>\n",
       "      <td>Aruba</td>\n",
       "      <td>ABW</td>\n",
       "      <td>Urban population (% of total)</td>\n",
       "      <td>SP.URB.TOTL.IN.ZS</td>\n",
       "      <td>50.776000</td>\n",
       "      <td>50.761000</td>\n",
       "      <td>50.746000</td>\n",
       "      <td>50.730000</td>\n",
       "      <td>50.715000</td>\n",
       "      <td>50.700000</td>\n",
       "      <td>...</td>\n",
       "      <td>44.147000</td>\n",
       "      <td>43.783000</td>\n",
       "      <td>43.421000</td>\n",
       "      <td>43.059000</td>\n",
       "      <td>42.698000</td>\n",
       "      <td>42.364000</td>\n",
       "      <td>42.058000</td>\n",
       "      <td>41.779000</td>\n",
       "      <td>41.528000</td>\n",
       "      <td>41.304000</td>\n",
       "    </tr>\n",
       "    <tr>\n",
       "      <th>1</th>\n",
       "      <td>Aruba</td>\n",
       "      <td>ABW</td>\n",
       "      <td>Urban population</td>\n",
       "      <td>SP.URB.TOTL</td>\n",
       "      <td>27526.000000</td>\n",
       "      <td>28141.000000</td>\n",
       "      <td>28532.000000</td>\n",
       "      <td>28761.000000</td>\n",
       "      <td>28924.000000</td>\n",
       "      <td>29082.000000</td>\n",
       "      <td>...</td>\n",
       "      <td>44686.000000</td>\n",
       "      <td>44375.000000</td>\n",
       "      <td>44052.000000</td>\n",
       "      <td>43778.000000</td>\n",
       "      <td>43575.000000</td>\n",
       "      <td>43456.000000</td>\n",
       "      <td>43398.000000</td>\n",
       "      <td>43365.000000</td>\n",
       "      <td>43331.000000</td>\n",
       "      <td>43296.000000</td>\n",
       "    </tr>\n",
       "    <tr>\n",
       "      <th>2</th>\n",
       "      <td>Aruba</td>\n",
       "      <td>ABW</td>\n",
       "      <td>Urban population growth (annual %)</td>\n",
       "      <td>SP.URB.GROW</td>\n",
       "      <td>3.117931</td>\n",
       "      <td>2.209658</td>\n",
       "      <td>1.379868</td>\n",
       "      <td>0.799404</td>\n",
       "      <td>0.565140</td>\n",
       "      <td>0.544773</td>\n",
       "      <td>...</td>\n",
       "      <td>-0.435429</td>\n",
       "      <td>-0.698401</td>\n",
       "      <td>-0.730549</td>\n",
       "      <td>-0.623935</td>\n",
       "      <td>-0.464782</td>\n",
       "      <td>-0.273466</td>\n",
       "      <td>-0.133557</td>\n",
       "      <td>-0.076069</td>\n",
       "      <td>-0.078435</td>\n",
       "      <td>-0.080806</td>\n",
       "    </tr>\n",
       "    <tr>\n",
       "      <th>3</th>\n",
       "      <td>Aruba</td>\n",
       "      <td>ABW</td>\n",
       "      <td>Population, total</td>\n",
       "      <td>SP.POP.TOTL</td>\n",
       "      <td>54211.000000</td>\n",
       "      <td>55438.000000</td>\n",
       "      <td>56225.000000</td>\n",
       "      <td>56695.000000</td>\n",
       "      <td>57032.000000</td>\n",
       "      <td>57360.000000</td>\n",
       "      <td>...</td>\n",
       "      <td>101220.000000</td>\n",
       "      <td>101353.000000</td>\n",
       "      <td>101453.000000</td>\n",
       "      <td>101669.000000</td>\n",
       "      <td>102053.000000</td>\n",
       "      <td>102577.000000</td>\n",
       "      <td>103187.000000</td>\n",
       "      <td>103795.000000</td>\n",
       "      <td>104341.000000</td>\n",
       "      <td>104822.000000</td>\n",
       "    </tr>\n",
       "    <tr>\n",
       "      <th>4</th>\n",
       "      <td>Aruba</td>\n",
       "      <td>ABW</td>\n",
       "      <td>Population growth (annual %)</td>\n",
       "      <td>SP.POP.GROW</td>\n",
       "      <td>3.148037</td>\n",
       "      <td>2.238144</td>\n",
       "      <td>1.409622</td>\n",
       "      <td>0.832453</td>\n",
       "      <td>0.592649</td>\n",
       "      <td>0.573468</td>\n",
       "      <td>...</td>\n",
       "      <td>0.384060</td>\n",
       "      <td>0.131311</td>\n",
       "      <td>0.098616</td>\n",
       "      <td>0.212680</td>\n",
       "      <td>0.376985</td>\n",
       "      <td>0.512145</td>\n",
       "      <td>0.592914</td>\n",
       "      <td>0.587492</td>\n",
       "      <td>0.524658</td>\n",
       "      <td>0.459929</td>\n",
       "    </tr>\n",
       "  </tbody>\n",
       "</table>\n",
       "<p>5 rows × 61 columns</p>\n",
       "</div>"
      ],
      "text/plain": [
       "  Country Name Country Code                      Indicator Name  \\\n",
       "0        Aruba          ABW       Urban population (% of total)   \n",
       "1        Aruba          ABW                    Urban population   \n",
       "2        Aruba          ABW  Urban population growth (annual %)   \n",
       "3        Aruba          ABW                   Population, total   \n",
       "4        Aruba          ABW        Population growth (annual %)   \n",
       "\n",
       "      Indicator Code          1960          1961          1962          1963  \\\n",
       "0  SP.URB.TOTL.IN.ZS     50.776000     50.761000     50.746000     50.730000   \n",
       "1        SP.URB.TOTL  27526.000000  28141.000000  28532.000000  28761.000000   \n",
       "2        SP.URB.GROW      3.117931      2.209658      1.379868      0.799404   \n",
       "3        SP.POP.TOTL  54211.000000  55438.000000  56225.000000  56695.000000   \n",
       "4        SP.POP.GROW      3.148037      2.238144      1.409622      0.832453   \n",
       "\n",
       "           1964          1965      ...                 2007           2008  \\\n",
       "0     50.715000     50.700000      ...            44.147000      43.783000   \n",
       "1  28924.000000  29082.000000      ...         44686.000000   44375.000000   \n",
       "2      0.565140      0.544773      ...            -0.435429      -0.698401   \n",
       "3  57032.000000  57360.000000      ...        101220.000000  101353.000000   \n",
       "4      0.592649      0.573468      ...             0.384060       0.131311   \n",
       "\n",
       "            2009           2010           2011           2012           2013  \\\n",
       "0      43.421000      43.059000      42.698000      42.364000      42.058000   \n",
       "1   44052.000000   43778.000000   43575.000000   43456.000000   43398.000000   \n",
       "2      -0.730549      -0.623935      -0.464782      -0.273466      -0.133557   \n",
       "3  101453.000000  101669.000000  102053.000000  102577.000000  103187.000000   \n",
       "4       0.098616       0.212680       0.376985       0.512145       0.592914   \n",
       "\n",
       "            2014           2015           2016  \n",
       "0      41.779000      41.528000      41.304000  \n",
       "1   43365.000000   43331.000000   43296.000000  \n",
       "2      -0.076069      -0.078435      -0.080806  \n",
       "3  103795.000000  104341.000000  104822.000000  \n",
       "4       0.587492       0.524658       0.459929  \n",
       "\n",
       "[5 rows x 61 columns]"
      ]
     },
     "execution_count": 2,
     "metadata": {},
     "output_type": "execute_result"
    }
   ],
   "source": [
    "# load world bank data\n",
    "# skip the unneeded header\n",
    "wb = pd.read_csv('world_bank/API_19_DS2_en_csv_v2.csv', sep=',', header=0, skiprows=3) \n",
    "\n",
    "# read_csv resulted in additional blank series at the last column -> drop the column\n",
    "wb = wb.drop(wb.columns[[61]], 1)\n",
    "\n",
    "# display the head of dataframe\n",
    "wb.head()\n"
   ]
  },
  {
   "cell_type": "code",
   "execution_count": 3,
   "metadata": {},
   "outputs": [
    {
     "data": {
      "text/html": [
       "<div>\n",
       "<style>\n",
       "    .dataframe thead tr:only-child th {\n",
       "        text-align: right;\n",
       "    }\n",
       "\n",
       "    .dataframe thead th {\n",
       "        text-align: left;\n",
       "    }\n",
       "\n",
       "    .dataframe tbody tr th {\n",
       "        vertical-align: top;\n",
       "    }\n",
       "</style>\n",
       "<table border=\"1\" class=\"dataframe\">\n",
       "  <thead>\n",
       "    <tr style=\"text-align: right;\">\n",
       "      <th></th>\n",
       "      <th>Country Code</th>\n",
       "      <th>Region</th>\n",
       "      <th>IncomeGroup</th>\n",
       "      <th>SpecialNotes</th>\n",
       "      <th>TableName</th>\n",
       "    </tr>\n",
       "  </thead>\n",
       "  <tbody>\n",
       "    <tr>\n",
       "      <th>0</th>\n",
       "      <td>ABW</td>\n",
       "      <td>Latin America &amp; Caribbean</td>\n",
       "      <td>High income</td>\n",
       "      <td>SNA data for 2000-2011 are updated from offici...</td>\n",
       "      <td>Aruba</td>\n",
       "    </tr>\n",
       "    <tr>\n",
       "      <th>1</th>\n",
       "      <td>AFG</td>\n",
       "      <td>South Asia</td>\n",
       "      <td>Low income</td>\n",
       "      <td>Fiscal year end: March 20; reporting period fo...</td>\n",
       "      <td>Afghanistan</td>\n",
       "    </tr>\n",
       "    <tr>\n",
       "      <th>2</th>\n",
       "      <td>AGO</td>\n",
       "      <td>Sub-Saharan Africa</td>\n",
       "      <td>Lower middle income</td>\n",
       "      <td>NaN</td>\n",
       "      <td>Angola</td>\n",
       "    </tr>\n",
       "    <tr>\n",
       "      <th>3</th>\n",
       "      <td>ALB</td>\n",
       "      <td>Europe &amp; Central Asia</td>\n",
       "      <td>Upper middle income</td>\n",
       "      <td>NaN</td>\n",
       "      <td>Albania</td>\n",
       "    </tr>\n",
       "    <tr>\n",
       "      <th>4</th>\n",
       "      <td>AND</td>\n",
       "      <td>Europe &amp; Central Asia</td>\n",
       "      <td>High income</td>\n",
       "      <td>WB-3 code changed from ADO to AND to align wit...</td>\n",
       "      <td>Andorra</td>\n",
       "    </tr>\n",
       "  </tbody>\n",
       "</table>\n",
       "</div>"
      ],
      "text/plain": [
       "  Country Code                     Region          IncomeGroup  \\\n",
       "0          ABW  Latin America & Caribbean          High income   \n",
       "1          AFG                 South Asia           Low income   \n",
       "2          AGO         Sub-Saharan Africa  Lower middle income   \n",
       "3          ALB      Europe & Central Asia  Upper middle income   \n",
       "4          AND      Europe & Central Asia          High income   \n",
       "\n",
       "                                        SpecialNotes    TableName  \n",
       "0  SNA data for 2000-2011 are updated from offici...        Aruba  \n",
       "1  Fiscal year end: March 20; reporting period fo...  Afghanistan  \n",
       "2                                                NaN       Angola  \n",
       "3                                                NaN      Albania  \n",
       "4  WB-3 code changed from ADO to AND to align wit...      Andorra  "
      ]
     },
     "execution_count": 3,
     "metadata": {},
     "output_type": "execute_result"
    }
   ],
   "source": [
    "#load country metadata\n",
    "wb_meta_country = pd.read_csv('world_bank/Metadata_Country_API_19_DS2_en_csv_v2.csv', sep=',', header=0) \n",
    "\n",
    "# read_csv resulted in additional blank series at the last column -> drop the column\n",
    "wb_meta_country = wb_meta_country.drop(wb_meta_country.columns[[5]], 1)\n",
    "\n",
    "# display the head of dataframe\n",
    "wb_meta_country.head()\n"
   ]
  },
  {
   "cell_type": "code",
   "execution_count": 4,
   "metadata": {},
   "outputs": [
    {
     "data": {
      "text/html": [
       "<div>\n",
       "<style>\n",
       "    .dataframe thead tr:only-child th {\n",
       "        text-align: right;\n",
       "    }\n",
       "\n",
       "    .dataframe thead th {\n",
       "        text-align: left;\n",
       "    }\n",
       "\n",
       "    .dataframe tbody tr th {\n",
       "        vertical-align: top;\n",
       "    }\n",
       "</style>\n",
       "<table border=\"1\" class=\"dataframe\">\n",
       "  <thead>\n",
       "    <tr style=\"text-align: right;\">\n",
       "      <th></th>\n",
       "      <th>INDICATOR_CODE</th>\n",
       "      <th>INDICATOR_NAME</th>\n",
       "      <th>SOURCE_NOTE</th>\n",
       "      <th>SOURCE_ORGANIZATION</th>\n",
       "    </tr>\n",
       "  </thead>\n",
       "  <tbody>\n",
       "    <tr>\n",
       "      <th>0</th>\n",
       "      <td>SP.URB.TOTL.IN.ZS</td>\n",
       "      <td>Urban population (% of total)</td>\n",
       "      <td>Urban population refers to people living in ur...</td>\n",
       "      <td>The United Nations Population Divisions World ...</td>\n",
       "    </tr>\n",
       "    <tr>\n",
       "      <th>1</th>\n",
       "      <td>SP.URB.TOTL</td>\n",
       "      <td>Urban population</td>\n",
       "      <td>Urban population refers to people living in ur...</td>\n",
       "      <td>World Bank Staff estimates based on United Nat...</td>\n",
       "    </tr>\n",
       "    <tr>\n",
       "      <th>2</th>\n",
       "      <td>SP.URB.GROW</td>\n",
       "      <td>Urban population growth (annual %)</td>\n",
       "      <td>Urban population refers to people living in ur...</td>\n",
       "      <td>World Bank Staff estimates based on United Nat...</td>\n",
       "    </tr>\n",
       "    <tr>\n",
       "      <th>3</th>\n",
       "      <td>SP.POP.TOTL</td>\n",
       "      <td>Population, total</td>\n",
       "      <td>Total population is based on the de facto defi...</td>\n",
       "      <td>(1) United Nations Population Division. World ...</td>\n",
       "    </tr>\n",
       "    <tr>\n",
       "      <th>4</th>\n",
       "      <td>SP.POP.GROW</td>\n",
       "      <td>Population growth (annual %)</td>\n",
       "      <td>Annual population growth rate for year t is th...</td>\n",
       "      <td>Derived from total population. Population sour...</td>\n",
       "    </tr>\n",
       "  </tbody>\n",
       "</table>\n",
       "</div>"
      ],
      "text/plain": [
       "      INDICATOR_CODE                      INDICATOR_NAME  \\\n",
       "0  SP.URB.TOTL.IN.ZS       Urban population (% of total)   \n",
       "1        SP.URB.TOTL                    Urban population   \n",
       "2        SP.URB.GROW  Urban population growth (annual %)   \n",
       "3        SP.POP.TOTL                   Population, total   \n",
       "4        SP.POP.GROW        Population growth (annual %)   \n",
       "\n",
       "                                         SOURCE_NOTE  \\\n",
       "0  Urban population refers to people living in ur...   \n",
       "1  Urban population refers to people living in ur...   \n",
       "2  Urban population refers to people living in ur...   \n",
       "3  Total population is based on the de facto defi...   \n",
       "4  Annual population growth rate for year t is th...   \n",
       "\n",
       "                                 SOURCE_ORGANIZATION  \n",
       "0  The United Nations Population Divisions World ...  \n",
       "1  World Bank Staff estimates based on United Nat...  \n",
       "2  World Bank Staff estimates based on United Nat...  \n",
       "3  (1) United Nations Population Division. World ...  \n",
       "4  Derived from total population. Population sour...  "
      ]
     },
     "execution_count": 4,
     "metadata": {},
     "output_type": "execute_result"
    }
   ],
   "source": [
    "#load indicator metadata\n",
    "wb_meta_indi = pd.read_csv('world_bank/Metadata_Indicator_API_19_DS2_en_csv_v2.csv', sep=',', header=0) \n",
    "\n",
    "# read_csv resulted in additional blank series at the last column -> drop the column\n",
    "wb_meta_indi = wb_meta_indi.drop(wb_meta_indi.columns[[4]], 1)\n",
    "\n",
    "# display the head of dataframe\n",
    "wb_meta_indi.head()\n"
   ]
  },
  {
   "cell_type": "markdown",
   "metadata": {},
   "source": [
    "#### Climate data API\n",
    "The Climate Data API provides programmatic access to most of the climate data used on the World Bank’s Climate Change Knowledge Portal. You can access this data directly from Python using requests. In addition to what was already downloadable as csv data, with this API you are able to access temperature, precipitation and basin level data. Read about it in more detail here: https://datahelpdesk.worldbank.org/knowledgebase/articles/902061-climate-data-api\n",
    "\n",
    "Below is an example of how to access yearly temperature historical data per country from Python. You can select a country using its ISO aplha3 code: https://unstats.un.org/unsd/methodology/m49/.\n"
   ]
  },
  {
   "cell_type": "code",
   "execution_count": 5,
   "metadata": {},
   "outputs": [
    {
     "data": {
      "text/plain": [
       "[{'data': 9.215595, 'year': 1901},\n",
       " {'data': 8.389345, 'year': 1902},\n",
       " {'data': 9.500536, 'year': 1903},\n",
       " {'data': 8.901487, 'year': 1904},\n",
       " {'data': 9.12619, 'year': 1905}]"
      ]
     },
     "execution_count": 5,
     "metadata": {},
     "output_type": "execute_result"
    }
   ],
   "source": [
    "import requests\n",
    "r = requests.get('http://climatedataapi.worldbank.org/climateweb/rest/v1/country/cru/tas/year/ROU')\n",
    "rou = r.json()\n",
    "rou[:5]"
   ]
  },
  {
   "cell_type": "markdown",
   "metadata": {},
   "source": [
    "As with most data sources, you might find that you data contains missing values. Please handle them appropriately, for example by using interpolation."
   ]
  },
  {
   "cell_type": "markdown",
   "metadata": {},
   "source": [
    "#### Other resources\n",
    "You are encouraged to find more data sources that will make your analysis more meaningful. Please make sure that you document everything carefully. Only use freely available datasets."
   ]
  },
  {
   "cell_type": "markdown",
   "metadata": {},
   "source": [
    "#### Assignment\n",
    "* Create a Jupyter Notebook that contains your explanations and analyses.\n",
    "* Start the notebook with a clear description of the type of analysis you are going to perform.\n",
    "* The conceptual contents of the Notebook should be roughly similar to a normal written report of 10-20 pages.\n",
    "* Some (minimum) properties of the Notebook and your analyses on which we will grade:\n",
    "    * Required: Combine different data from multiple sources in your analyses.\n",
    "    * Required: Use multiple types of visualizations of your results.\n",
    "    * Required: Make sure your Notebook does not generate errors!\n",
    "    * Required: You should use Python to answer your research questions. Your code should read, clean and format, process and visualize the data. There should be at least some non-trivial processing involved.\n",
    "    * Whenever possible, make your Notebook read the data directly from the web. This way, your notebook will always use the most up-to-date data available. If not, document carefully where the data was collected what to do when you want to use more up-to-date data.\n",
    "    * Demonstrate your skills in Python by using typical Python constructs and using the appropriate data structures (lists, dictionaries, tuples, arrays, dataframes, series, recursion, etc.)\n",
    "    * Write clear, understandable code:\n",
    "        * Document your code! Put comments when necessary.\n",
    "        * Use sensible variable names.\n",
    "        * Break up your code into parts. Use (fruitful) functions.\n",
    "    * Try to think of reusability of your code. How easy would it be to use your same code if we want to try to do a small variations of your analysis? Can we easily adapt/play around with your code?\n",
    "    * How difficult were your analyses?\n",
    "* Make your Notebook self-explanatory. So, it should contain text (with references) as well as your actual analysis code and results.\n",
    "* If you want to use other libraries for your analyses or visualizations, feel free to do so. However, only use free available and well-known libraries. The ones that come standard with Anaconda are fine. If you want to use something else, that you first need to install, check with us first.\n",
    "* Create a zip archive and upload it on Brightspace."
   ]
  },
  {
   "cell_type": "markdown",
   "metadata": {},
   "source": [
    "#### Example\n",
    "Here are some example questions you might ask to start the analysis. Please note that this is just an example and that you are expected to come up with your own questions and analyses.\n",
    "* The EU has the following goal in the Paris agreement: \"At least a 40% domestic reduction in greenhouse gases by 2030 compared to 1990 levels.” How is the EU doing at the moment? If they don’t change policy (i.e extrapolation of current trends) where will they end up? [source]\n",
    "* Can you classify in good/neutral/bad countries?\n",
    "* What is the trend per continent with respect to gas emissions? How do countries within the same continent behave? Is it fair to make statements over whole continents?\n",
    "* Where do you find the highest increase in temperatures compared to 1960?\n",
    "* Suppose that each country has a % growth or reduction of CO2, where do we end up?\n",
    "* What are the countries with most gas emissions? How does that change when you normalize by their size / population?\n",
    "* What is the country with the best trend in renewable energy over the last 10 years?"
   ]
  },
  {
   "cell_type": "code",
   "execution_count": 6,
   "metadata": {
    "scrolled": true
   },
   "outputs": [
    {
     "data": {
      "text/html": [
       "<div>\n",
       "<style>\n",
       "    .dataframe thead tr:only-child th {\n",
       "        text-align: right;\n",
       "    }\n",
       "\n",
       "    .dataframe thead th {\n",
       "        text-align: left;\n",
       "    }\n",
       "\n",
       "    .dataframe tbody tr th {\n",
       "        vertical-align: top;\n",
       "    }\n",
       "</style>\n",
       "<table border=\"1\" class=\"dataframe\">\n",
       "  <thead>\n",
       "    <tr style=\"text-align: right;\">\n",
       "      <th></th>\n",
       "      <th>Countries</th>\n",
       "      <th>Label</th>\n",
       "    </tr>\n",
       "  </thead>\n",
       "  <tbody>\n",
       "    <tr>\n",
       "      <th>0</th>\n",
       "      <td>France</td>\n",
       "      <td>Good</td>\n",
       "    </tr>\n",
       "    <tr>\n",
       "      <th>1</th>\n",
       "      <td>Sweden</td>\n",
       "      <td>Good</td>\n",
       "    </tr>\n",
       "    <tr>\n",
       "      <th>2</th>\n",
       "      <td>United Kingdom</td>\n",
       "      <td>Good</td>\n",
       "    </tr>\n",
       "    <tr>\n",
       "      <th>3</th>\n",
       "      <td>Cyprus</td>\n",
       "      <td>Good</td>\n",
       "    </tr>\n",
       "    <tr>\n",
       "      <th>4</th>\n",
       "      <td>Luxembourg</td>\n",
       "      <td>Good</td>\n",
       "    </tr>\n",
       "  </tbody>\n",
       "</table>\n",
       "</div>"
      ],
      "text/plain": [
       "        Countries Label\n",
       "0          France  Good\n",
       "1          Sweden  Good\n",
       "2  United Kingdom  Good\n",
       "3          Cyprus  Good\n",
       "4      Luxembourg  Good"
      ]
     },
     "execution_count": 6,
     "metadata": {},
     "output_type": "execute_result"
    }
   ],
   "source": [
    "# load label Climate Change Performance Index\n",
    "# the data were extracted from https://germanwatch.org/en/download/16484.pdf\n",
    "country_class_y = pd.read_csv('world_bank/CCPI_2017.csv', sep=',', header=0) \n",
    "country_class_y.head()"
   ]
  },
  {
   "cell_type": "code",
   "execution_count": 7,
   "metadata": {
    "collapsed": true
   },
   "outputs": [],
   "source": [
    "# create a df of countries in CCPI results\n",
    "df = pd.DataFrame()\n",
    "for country in country_class_y['Countries']:\n",
    "    # filter the CCPI countries\n",
    "    df1 = wb[wb['Country Name'] == country]\n",
    "    # append to the df\n",
    "    df = pd.concat( [df,df1], ignore_index=True, axis=0)"
   ]
  },
  {
   "cell_type": "code",
   "execution_count": 8,
   "metadata": {
    "scrolled": true
   },
   "outputs": [
    {
     "name": "stdout",
     "output_type": "stream",
     "text": [
      "(4480, 61)\n",
      "(80, 61)\n"
     ]
    },
    {
     "data": {
      "text/plain": [
       "56.0"
      ]
     },
     "execution_count": 8,
     "metadata": {},
     "output_type": "execute_result"
    }
   ],
   "source": [
    "print(df.shape)\n",
    "print(df1.shape)\n",
    "# check the number of the countries\n",
    "df.shape[0] / df1.shape[0]"
   ]
  },
  {
   "cell_type": "code",
   "execution_count": 21,
   "metadata": {},
   "outputs": [
    {
     "data": {
      "text/html": [
       "<div>\n",
       "<style>\n",
       "    .dataframe thead tr:only-child th {\n",
       "        text-align: right;\n",
       "    }\n",
       "\n",
       "    .dataframe thead th {\n",
       "        text-align: left;\n",
       "    }\n",
       "\n",
       "    .dataframe tbody tr th {\n",
       "        vertical-align: top;\n",
       "    }\n",
       "</style>\n",
       "<table border=\"1\" class=\"dataframe\">\n",
       "  <thead>\n",
       "    <tr style=\"text-align: right;\">\n",
       "      <th></th>\n",
       "      <th>Country Name</th>\n",
       "      <th>Indicator Name</th>\n",
       "      <th>2015</th>\n",
       "    </tr>\n",
       "  </thead>\n",
       "  <tbody>\n",
       "    <tr>\n",
       "      <th>0</th>\n",
       "      <td>France</td>\n",
       "      <td>Urban population (% of total)</td>\n",
       "      <td>7.952000e+01</td>\n",
       "    </tr>\n",
       "    <tr>\n",
       "      <th>1</th>\n",
       "      <td>France</td>\n",
       "      <td>Urban population</td>\n",
       "      <td>5.297946e+07</td>\n",
       "    </tr>\n",
       "    <tr>\n",
       "      <th>2</th>\n",
       "      <td>France</td>\n",
       "      <td>Urban population growth (annual %)</td>\n",
       "      <td>7.303273e-01</td>\n",
       "    </tr>\n",
       "    <tr>\n",
       "      <th>3</th>\n",
       "      <td>France</td>\n",
       "      <td>Population, total</td>\n",
       "      <td>6.662407e+07</td>\n",
       "    </tr>\n",
       "    <tr>\n",
       "      <th>4</th>\n",
       "      <td>France</td>\n",
       "      <td>Population growth (annual %)</td>\n",
       "      <td>4.394107e-01</td>\n",
       "    </tr>\n",
       "  </tbody>\n",
       "</table>\n",
       "</div>"
      ],
      "text/plain": [
       "  Country Name                      Indicator Name          2015\n",
       "0       France       Urban population (% of total)  7.952000e+01\n",
       "1       France                    Urban population  5.297946e+07\n",
       "2       France  Urban population growth (annual %)  7.303273e-01\n",
       "3       France                   Population, total  6.662407e+07\n",
       "4       France        Population growth (annual %)  4.394107e-01"
      ]
     },
     "execution_count": 21,
     "metadata": {},
     "output_type": "execute_result"
    }
   ],
   "source": [
    "# create new df with only data of 2014, add country name and indicator name\n",
    "df_2014 = df[['Country Name','Indicator Name','2014']]\n",
    "df_2014.head()\n",
    "\n",
    "df_2015 = df[['Country Name','Indicator Name','2015']]\n",
    "df_2015.head()"
   ]
  },
  {
   "cell_type": "code",
   "execution_count": 22,
   "metadata": {},
   "outputs": [
    {
     "data": {
      "text/html": [
       "<div>\n",
       "<style>\n",
       "    .dataframe thead tr:only-child th {\n",
       "        text-align: right;\n",
       "    }\n",
       "\n",
       "    .dataframe thead th {\n",
       "        text-align: left;\n",
       "    }\n",
       "\n",
       "    .dataframe tbody tr th {\n",
       "        vertical-align: top;\n",
       "    }\n",
       "</style>\n",
       "<table border=\"1\" class=\"dataframe\">\n",
       "  <thead>\n",
       "    <tr style=\"text-align: right;\">\n",
       "      <th></th>\n",
       "      <th>Country Name</th>\n",
       "      <th>Label</th>\n",
       "    </tr>\n",
       "  </thead>\n",
       "  <tbody>\n",
       "    <tr>\n",
       "      <th>0</th>\n",
       "      <td>France</td>\n",
       "      <td>Good</td>\n",
       "    </tr>\n",
       "    <tr>\n",
       "      <th>1</th>\n",
       "      <td>Sweden</td>\n",
       "      <td>Good</td>\n",
       "    </tr>\n",
       "    <tr>\n",
       "      <th>2</th>\n",
       "      <td>United Kingdom</td>\n",
       "      <td>Good</td>\n",
       "    </tr>\n",
       "    <tr>\n",
       "      <th>3</th>\n",
       "      <td>Cyprus</td>\n",
       "      <td>Good</td>\n",
       "    </tr>\n",
       "    <tr>\n",
       "      <th>4</th>\n",
       "      <td>Luxembourg</td>\n",
       "      <td>Good</td>\n",
       "    </tr>\n",
       "  </tbody>\n",
       "</table>\n",
       "</div>"
      ],
      "text/plain": [
       "     Country Name Label\n",
       "0          France  Good\n",
       "1          Sweden  Good\n",
       "2  United Kingdom  Good\n",
       "3          Cyprus  Good\n",
       "4      Luxembourg  Good"
      ]
     },
     "execution_count": 22,
     "metadata": {},
     "output_type": "execute_result"
    }
   ],
   "source": [
    "# rename the CCPI column to Country Name, so it could be 'merge' on this column name\n",
    "country_class_y.columns = ['Country Name', 'Label']\n",
    "country_class_y.head()"
   ]
  },
  {
   "cell_type": "code",
   "execution_count": 25,
   "metadata": {},
   "outputs": [
    {
     "data": {
      "text/html": [
       "<div>\n",
       "<style>\n",
       "    .dataframe thead tr:only-child th {\n",
       "        text-align: right;\n",
       "    }\n",
       "\n",
       "    .dataframe thead th {\n",
       "        text-align: left;\n",
       "    }\n",
       "\n",
       "    .dataframe tbody tr th {\n",
       "        vertical-align: top;\n",
       "    }\n",
       "</style>\n",
       "<table border=\"1\" class=\"dataframe\">\n",
       "  <thead>\n",
       "    <tr style=\"text-align: right;\">\n",
       "      <th></th>\n",
       "      <th>Country Name</th>\n",
       "      <th>Indicator Name</th>\n",
       "      <th>2015</th>\n",
       "      <th>Label</th>\n",
       "    </tr>\n",
       "  </thead>\n",
       "  <tbody>\n",
       "    <tr>\n",
       "      <th>0</th>\n",
       "      <td>France</td>\n",
       "      <td>Urban population (% of total)</td>\n",
       "      <td>7.952000e+01</td>\n",
       "      <td>Good</td>\n",
       "    </tr>\n",
       "    <tr>\n",
       "      <th>1</th>\n",
       "      <td>France</td>\n",
       "      <td>Urban population</td>\n",
       "      <td>5.297946e+07</td>\n",
       "      <td>Good</td>\n",
       "    </tr>\n",
       "    <tr>\n",
       "      <th>2</th>\n",
       "      <td>France</td>\n",
       "      <td>Urban population growth (annual %)</td>\n",
       "      <td>7.303273e-01</td>\n",
       "      <td>Good</td>\n",
       "    </tr>\n",
       "    <tr>\n",
       "      <th>3</th>\n",
       "      <td>France</td>\n",
       "      <td>Population, total</td>\n",
       "      <td>6.662407e+07</td>\n",
       "      <td>Good</td>\n",
       "    </tr>\n",
       "    <tr>\n",
       "      <th>4</th>\n",
       "      <td>France</td>\n",
       "      <td>Population growth (annual %)</td>\n",
       "      <td>4.394107e-01</td>\n",
       "      <td>Good</td>\n",
       "    </tr>\n",
       "  </tbody>\n",
       "</table>\n",
       "</div>"
      ],
      "text/plain": [
       "  Country Name                      Indicator Name          2015 Label\n",
       "0       France       Urban population (% of total)  7.952000e+01  Good\n",
       "1       France                    Urban population  5.297946e+07  Good\n",
       "2       France  Urban population growth (annual %)  7.303273e-01  Good\n",
       "3       France                   Population, total  6.662407e+07  Good\n",
       "4       France        Population growth (annual %)  4.394107e-01  Good"
      ]
     },
     "execution_count": 25,
     "metadata": {},
     "output_type": "execute_result"
    }
   ],
   "source": [
    "# merge the label dataframe to the data 2014\n",
    "df_2014_label = pd.merge(df_2014, country_class_y, on=\"Country Name\", how=\"outer\" )\n",
    "df_2014_label.head()\n",
    "\n",
    "df_2015_label = pd.merge(df_2015, country_class_y, on=\"Country Name\", how=\"outer\" )\n",
    "df_2015_label.head()"
   ]
  },
  {
   "cell_type": "code",
   "execution_count": 19,
   "metadata": {},
   "outputs": [
    {
     "data": {
      "text/plain": [
       "80"
      ]
     },
     "execution_count": 19,
     "metadata": {},
     "output_type": "execute_result"
    }
   ],
   "source": [
    "# the number of features of each country\n",
    "len(wb_meta_indi['INDICATOR_NAME'])"
   ]
  },
  {
   "cell_type": "code",
   "execution_count": 100,
   "metadata": {},
   "outputs": [
    {
     "data": {
      "text/plain": [
       "(4200, 4)"
      ]
     },
     "execution_count": 100,
     "metadata": {},
     "output_type": "execute_result"
    }
   ],
   "source": [
    "# imputation of the data, filling missing value\n",
    "# we will still have an indicator with NaN value, because the value is NaN for each country\n",
    "# fillna.mean will not really work\n",
    "# at the end we will end up deleted these unnecessary category\n",
    "years = ['2014', '2015']\n",
    "\n",
    "list_deleted_indi = []\n",
    "list_saved_indi = []\n",
    "df_test = pd.DataFrame()\n",
    "\n",
    "for label in country_class_y['Label'].unique():\n",
    "    for indicator in wb_meta_indi['INDICATOR_NAME']:\n",
    "        df_temp = pd.DataFrame()\n",
    "        df_temp = df_2014_label[(df_2014_label['Indicator Name'] == indicator) & (df_2014_label['Label'] == label)]\n",
    "        \n",
    "        df_temp = df_temp.fillna(df_temp.mean())\n",
    "        # df_temp.interpolate(method=’polynomial’, order=4)\n",
    "        # print(len(df_temp))\n",
    "        \n",
    "        if(df_temp['2014'].isnull().values.all()):\n",
    "            list_deleted_indi.append(indicator) \n",
    "        else:\n",
    "            list_saved_indi.append(indicator) \n",
    "            \n",
    "        df_test = pd.concat([df_test,df_temp], ignore_index=True, axis=0)\n",
    "        \n",
    "df_test.shape"
   ]
  },
  {
   "cell_type": "code",
   "execution_count": 104,
   "metadata": {},
   "outputs": [
    {
     "data": {
      "text/plain": [
       "31"
      ]
     },
     "execution_count": 104,
     "metadata": {},
     "output_type": "execute_result"
    }
   ],
   "source": [
    "len(set(list_deleted_indi))"
   ]
  },
  {
   "cell_type": "code",
   "execution_count": 105,
   "metadata": {},
   "outputs": [
    {
     "data": {
      "text/plain": [
       "50"
      ]
     },
     "execution_count": 105,
     "metadata": {},
     "output_type": "execute_result"
    }
   ],
   "source": [
    "len(set(list_saved_indi))"
   ]
  },
  {
   "cell_type": "code",
   "execution_count": 59,
   "metadata": {},
   "outputs": [
    {
     "data": {
      "text/plain": [
       "49"
      ]
     },
     "execution_count": 59,
     "metadata": {},
     "output_type": "execute_result"
    }
   ],
   "source": [
    "len(set(list_saved_indi) - set(list_deleted_indi))"
   ]
  },
  {
   "cell_type": "code",
   "execution_count": 60,
   "metadata": {
    "collapsed": true
   },
   "outputs": [],
   "source": [
    "set_saved_indi_filter = set(wb_meta_indi['INDICATOR_NAME']) - set(list_deleted_indi)"
   ]
  },
  {
   "cell_type": "code",
   "execution_count": 61,
   "metadata": {
    "scrolled": true
   },
   "outputs": [
    {
     "data": {
      "text/plain": [
       "49"
      ]
     },
     "execution_count": 61,
     "metadata": {},
     "output_type": "execute_result"
    }
   ],
   "source": [
    "len(set_saved_indi_filter)"
   ]
  },
  {
   "cell_type": "markdown",
   "metadata": {},
   "source": [
    "We will be using only 49 features from the indicator, because the others 31 is not available (for all category on at least one class (bad:good))"
   ]
  },
  {
   "cell_type": "code",
   "execution_count": 62,
   "metadata": {},
   "outputs": [
    {
     "name": "stdout",
     "output_type": "stream",
     "text": [
      "(2744, 4)\n"
     ]
    },
    {
     "data": {
      "text/html": [
       "<div>\n",
       "<style>\n",
       "    .dataframe thead tr:only-child th {\n",
       "        text-align: right;\n",
       "    }\n",
       "\n",
       "    .dataframe thead th {\n",
       "        text-align: left;\n",
       "    }\n",
       "\n",
       "    .dataframe tbody tr th {\n",
       "        vertical-align: top;\n",
       "    }\n",
       "</style>\n",
       "<table border=\"1\" class=\"dataframe\">\n",
       "  <thead>\n",
       "    <tr style=\"text-align: right;\">\n",
       "      <th></th>\n",
       "      <th>Country Name</th>\n",
       "      <th>Indicator Name</th>\n",
       "      <th>2014</th>\n",
       "      <th>Label</th>\n",
       "    </tr>\n",
       "  </thead>\n",
       "  <tbody>\n",
       "    <tr>\n",
       "      <th>0</th>\n",
       "      <td>France</td>\n",
       "      <td>Improved water source (% of population with ac...</td>\n",
       "      <td>100.0</td>\n",
       "      <td>Good</td>\n",
       "    </tr>\n",
       "    <tr>\n",
       "      <th>1</th>\n",
       "      <td>Sweden</td>\n",
       "      <td>Improved water source (% of population with ac...</td>\n",
       "      <td>100.0</td>\n",
       "      <td>Good</td>\n",
       "    </tr>\n",
       "    <tr>\n",
       "      <th>2</th>\n",
       "      <td>United Kingdom</td>\n",
       "      <td>Improved water source (% of population with ac...</td>\n",
       "      <td>100.0</td>\n",
       "      <td>Good</td>\n",
       "    </tr>\n",
       "    <tr>\n",
       "      <th>3</th>\n",
       "      <td>Cyprus</td>\n",
       "      <td>Improved water source (% of population with ac...</td>\n",
       "      <td>100.0</td>\n",
       "      <td>Good</td>\n",
       "    </tr>\n",
       "    <tr>\n",
       "      <th>4</th>\n",
       "      <td>Luxembourg</td>\n",
       "      <td>Improved water source (% of population with ac...</td>\n",
       "      <td>100.0</td>\n",
       "      <td>Good</td>\n",
       "    </tr>\n",
       "  </tbody>\n",
       "</table>\n",
       "</div>"
      ],
      "text/plain": [
       "     Country Name                                     Indicator Name   2014  \\\n",
       "0          France  Improved water source (% of population with ac...  100.0   \n",
       "1          Sweden  Improved water source (% of population with ac...  100.0   \n",
       "2  United Kingdom  Improved water source (% of population with ac...  100.0   \n",
       "3          Cyprus  Improved water source (% of population with ac...  100.0   \n",
       "4      Luxembourg  Improved water source (% of population with ac...  100.0   \n",
       "\n",
       "  Label  \n",
       "0  Good  \n",
       "1  Good  \n",
       "2  Good  \n",
       "3  Good  \n",
       "4  Good  "
      ]
     },
     "execution_count": 62,
     "metadata": {},
     "output_type": "execute_result"
    }
   ],
   "source": [
    "# nan for entire set of classes for one category is not included in the new cleaned df\n",
    "df_test_clean = pd.DataFrame()\n",
    "for indi in set_saved_indi_filter:\n",
    "    df_temp = df_test[df_test['Indicator Name'] == indi]\n",
    "    df_test_clean = pd.concat([df_test_clean, df_temp], ignore_index = True, axis = 0)\n",
    "\n",
    "print(df_test_clean.shape)\n",
    "df_test_clean.head()"
   ]
  },
  {
   "cell_type": "markdown",
   "metadata": {},
   "source": [
    "As we can see, we only have 2744 (49 features x 56 countries) data"
   ]
  },
  {
   "cell_type": "code",
   "execution_count": 63,
   "metadata": {},
   "outputs": [
    {
     "data": {
      "text/plain": [
       "56"
      ]
     },
     "execution_count": 63,
     "metadata": {},
     "output_type": "execute_result"
    }
   ],
   "source": [
    "len(country_class_y)"
   ]
  },
  {
   "cell_type": "code",
   "execution_count": 64,
   "metadata": {},
   "outputs": [
    {
     "data": {
      "text/plain": [
       "49"
      ]
     },
     "execution_count": 64,
     "metadata": {},
     "output_type": "execute_result"
    }
   ],
   "source": [
    "len(set_saved_indi_filter)"
   ]
  },
  {
   "cell_type": "code",
   "execution_count": 65,
   "metadata": {},
   "outputs": [
    {
     "data": {
      "text/plain": [
       "(56, 49)"
      ]
     },
     "execution_count": 65,
     "metadata": {},
     "output_type": "execute_result"
    }
   ],
   "source": [
    "# reshape the matrix feature\n",
    "col = list(set_saved_indi_filter)\n",
    "ind = list(country_class_y['Country Name'])\n",
    "\n",
    "countries_len = len(country_class_y)\n",
    "features_len = len(set_saved_indi_filter)\n",
    "\n",
    "Xtrain = pd.DataFrame(np.zeros(shape = (countries_len , features_len)), columns = col, index = ind)\n",
    "for country in country_class_y['Country Name']:\n",
    "    Xtrain.loc[country] = df_test_clean[df_test_clean['Country Name'] == country]['2014'].values\n",
    "\n",
    "Xtrain.shape"
   ]
  },
  {
   "cell_type": "code",
   "execution_count": 66,
   "metadata": {},
   "outputs": [
    {
     "data": {
      "text/html": [
       "<div>\n",
       "<style>\n",
       "    .dataframe thead tr:only-child th {\n",
       "        text-align: right;\n",
       "    }\n",
       "\n",
       "    .dataframe thead th {\n",
       "        text-align: left;\n",
       "    }\n",
       "\n",
       "    .dataframe tbody tr th {\n",
       "        vertical-align: top;\n",
       "    }\n",
       "</style>\n",
       "<table border=\"1\" class=\"dataframe\">\n",
       "  <thead>\n",
       "    <tr style=\"text-align: right;\">\n",
       "      <th></th>\n",
       "      <th>Country Name</th>\n",
       "      <th>Indicator Name</th>\n",
       "      <th>2015</th>\n",
       "      <th>Label</th>\n",
       "    </tr>\n",
       "  </thead>\n",
       "  <tbody>\n",
       "    <tr>\n",
       "      <th>0</th>\n",
       "      <td>France</td>\n",
       "      <td>Urban population (% of total)</td>\n",
       "      <td>79.520</td>\n",
       "      <td>Good</td>\n",
       "    </tr>\n",
       "    <tr>\n",
       "      <th>1</th>\n",
       "      <td>Sweden</td>\n",
       "      <td>Urban population (% of total)</td>\n",
       "      <td>85.815</td>\n",
       "      <td>Good</td>\n",
       "    </tr>\n",
       "    <tr>\n",
       "      <th>2</th>\n",
       "      <td>United Kingdom</td>\n",
       "      <td>Urban population (% of total)</td>\n",
       "      <td>82.592</td>\n",
       "      <td>Good</td>\n",
       "    </tr>\n",
       "    <tr>\n",
       "      <th>3</th>\n",
       "      <td>Cyprus</td>\n",
       "      <td>Urban population (% of total)</td>\n",
       "      <td>66.921</td>\n",
       "      <td>Good</td>\n",
       "    </tr>\n",
       "    <tr>\n",
       "      <th>4</th>\n",
       "      <td>Luxembourg</td>\n",
       "      <td>Urban population (% of total)</td>\n",
       "      <td>90.160</td>\n",
       "      <td>Good</td>\n",
       "    </tr>\n",
       "  </tbody>\n",
       "</table>\n",
       "</div>"
      ],
      "text/plain": [
       "     Country Name                 Indicator Name    2015 Label\n",
       "0          France  Urban population (% of total)  79.520  Good\n",
       "1          Sweden  Urban population (% of total)  85.815  Good\n",
       "2  United Kingdom  Urban population (% of total)  82.592  Good\n",
       "3          Cyprus  Urban population (% of total)  66.921  Good\n",
       "4      Luxembourg  Urban population (% of total)  90.160  Good"
      ]
     },
     "execution_count": 66,
     "metadata": {},
     "output_type": "execute_result"
    }
   ],
   "source": [
    "# redo for 2015\n",
    "list_deleted_indi = []\n",
    "list_saved_indi = []\n",
    "df_test = pd.DataFrame()\n",
    "\n",
    "for label in country_class_y['Label'].unique():\n",
    "    for indicator in wb_meta_indi['INDICATOR_NAME']:\n",
    "        df_temp = pd.DataFrame()\n",
    "        df_temp = df_2015_label[(df_2015_label['Indicator Name'] == indicator) & (df_2015_label['Label'] == label)]\n",
    "        \n",
    "        df_temp = df_temp.fillna(df_temp.mean())\n",
    "        # df_temp.interpolate(method=’polynomial’, order=4)\n",
    "        # print(len(df_temp))\n",
    "        \n",
    "        if(df_temp['2015'].isnull().values.all()):\n",
    "            list_deleted_indi.append(indicator) \n",
    "        else:\n",
    "            list_saved_indi.append(indicator) \n",
    "            \n",
    "        df_test = pd.concat([df_test,df_temp], ignore_index=True, axis=0)\n",
    "        \n",
    "df_test.head()"
   ]
  },
  {
   "cell_type": "code",
   "execution_count": 103,
   "metadata": {},
   "outputs": [
    {
     "data": {
      "text/plain": [
       "31"
      ]
     },
     "execution_count": 103,
     "metadata": {},
     "output_type": "execute_result"
    }
   ],
   "source": [
    "len(set(list_deleted_indi))"
   ]
  },
  {
   "cell_type": "code",
   "execution_count": 68,
   "metadata": {},
   "outputs": [
    {
     "data": {
      "text/plain": [
       "28"
      ]
     },
     "execution_count": 68,
     "metadata": {},
     "output_type": "execute_result"
    }
   ],
   "source": [
    "len(set(list_saved_indi))"
   ]
  },
  {
   "cell_type": "code",
   "execution_count": 69,
   "metadata": {},
   "outputs": [
    {
     "data": {
      "text/plain": [
       "27"
      ]
     },
     "execution_count": 69,
     "metadata": {},
     "output_type": "execute_result"
    }
   ],
   "source": [
    "len(set(list_saved_indi) - set(list_deleted_indi))"
   ]
  },
  {
   "cell_type": "code",
   "execution_count": 70,
   "metadata": {
    "collapsed": true
   },
   "outputs": [],
   "source": [
    "set_saved_indi_filter = set(wb_meta_indi['INDICATOR_NAME']) - set(list_deleted_indi)"
   ]
  },
  {
   "cell_type": "code",
   "execution_count": 71,
   "metadata": {},
   "outputs": [
    {
     "data": {
      "text/plain": [
       "27"
      ]
     },
     "execution_count": 71,
     "metadata": {},
     "output_type": "execute_result"
    }
   ],
   "source": [
    "len(set_saved_indi_filter)"
   ]
  },
  {
   "cell_type": "code",
   "execution_count": 72,
   "metadata": {},
   "outputs": [
    {
     "name": "stdout",
     "output_type": "stream",
     "text": [
      "(1512, 4)\n"
     ]
    },
    {
     "data": {
      "text/html": [
       "<div>\n",
       "<style>\n",
       "    .dataframe thead tr:only-child th {\n",
       "        text-align: right;\n",
       "    }\n",
       "\n",
       "    .dataframe thead th {\n",
       "        text-align: left;\n",
       "    }\n",
       "\n",
       "    .dataframe tbody tr th {\n",
       "        vertical-align: top;\n",
       "    }\n",
       "</style>\n",
       "<table border=\"1\" class=\"dataframe\">\n",
       "  <thead>\n",
       "    <tr style=\"text-align: right;\">\n",
       "      <th></th>\n",
       "      <th>Country Name</th>\n",
       "      <th>Indicator Name</th>\n",
       "      <th>2015</th>\n",
       "      <th>Label</th>\n",
       "    </tr>\n",
       "  </thead>\n",
       "  <tbody>\n",
       "    <tr>\n",
       "      <th>0</th>\n",
       "      <td>France</td>\n",
       "      <td>Improved water source (% of population with ac...</td>\n",
       "      <td>100.0</td>\n",
       "      <td>Good</td>\n",
       "    </tr>\n",
       "    <tr>\n",
       "      <th>1</th>\n",
       "      <td>Sweden</td>\n",
       "      <td>Improved water source (% of population with ac...</td>\n",
       "      <td>100.0</td>\n",
       "      <td>Good</td>\n",
       "    </tr>\n",
       "    <tr>\n",
       "      <th>2</th>\n",
       "      <td>United Kingdom</td>\n",
       "      <td>Improved water source (% of population with ac...</td>\n",
       "      <td>100.0</td>\n",
       "      <td>Good</td>\n",
       "    </tr>\n",
       "    <tr>\n",
       "      <th>3</th>\n",
       "      <td>Cyprus</td>\n",
       "      <td>Improved water source (% of population with ac...</td>\n",
       "      <td>100.0</td>\n",
       "      <td>Good</td>\n",
       "    </tr>\n",
       "    <tr>\n",
       "      <th>4</th>\n",
       "      <td>Luxembourg</td>\n",
       "      <td>Improved water source (% of population with ac...</td>\n",
       "      <td>100.0</td>\n",
       "      <td>Good</td>\n",
       "    </tr>\n",
       "  </tbody>\n",
       "</table>\n",
       "</div>"
      ],
      "text/plain": [
       "     Country Name                                     Indicator Name   2015  \\\n",
       "0          France  Improved water source (% of population with ac...  100.0   \n",
       "1          Sweden  Improved water source (% of population with ac...  100.0   \n",
       "2  United Kingdom  Improved water source (% of population with ac...  100.0   \n",
       "3          Cyprus  Improved water source (% of population with ac...  100.0   \n",
       "4      Luxembourg  Improved water source (% of population with ac...  100.0   \n",
       "\n",
       "  Label  \n",
       "0  Good  \n",
       "1  Good  \n",
       "2  Good  \n",
       "3  Good  \n",
       "4  Good  "
      ]
     },
     "execution_count": 72,
     "metadata": {},
     "output_type": "execute_result"
    }
   ],
   "source": [
    "# nan for entire set of classes for one category is not included in the new cleaned df\n",
    "df_test_clean = pd.DataFrame()\n",
    "for indi in set_saved_indi_filter:\n",
    "    df_temp = df_test[df_test['Indicator Name'] == indi]\n",
    "    df_test_clean = pd.concat([df_test_clean, df_temp], ignore_index = True, axis = 0)\n",
    "\n",
    "print(df_test_clean.shape)\n",
    "df_test_clean.head()"
   ]
  },
  {
   "cell_type": "code",
   "execution_count": 73,
   "metadata": {},
   "outputs": [
    {
     "data": {
      "text/plain": [
       "(56, 27)"
      ]
     },
     "execution_count": 73,
     "metadata": {},
     "output_type": "execute_result"
    }
   ],
   "source": [
    "# reshape the matrix feature\n",
    "col = list(set_saved_indi_filter)\n",
    "ind = list(country_class_y['Country Name'])\n",
    "\n",
    "countries_len = len(country_class_y)\n",
    "features_len = len(set_saved_indi_filter)\n",
    "\n",
    "Xtrain2 = pd.DataFrame(np.zeros(shape = (countries_len , features_len)), columns = col, index = ind)\n",
    "for country in country_class_y['Country Name']:\n",
    "    Xtrain2.loc[country] = df_test_clean[df_test_clean['Country Name'] == country]['2015'].values\n",
    "\n",
    "Xtrain2.shape"
   ]
  },
  {
   "cell_type": "code",
   "execution_count": 74,
   "metadata": {},
   "outputs": [
    {
     "data": {
      "text/plain": [
       "(56,)"
      ]
     },
     "execution_count": 74,
     "metadata": {},
     "output_type": "execute_result"
    }
   ],
   "source": [
    "ytrain = country_class_y['Label']\n",
    "ytrain.shape"
   ]
  },
  {
   "cell_type": "code",
   "execution_count": 75,
   "metadata": {},
   "outputs": [
    {
     "data": {
      "text/plain": [
       "(56, 76)"
      ]
     },
     "execution_count": 75,
     "metadata": {},
     "output_type": "execute_result"
    }
   ],
   "source": [
    "Xtrain3 = pd.concat([Xtrain, Xtrain2], ignore_index = True, axis = 1)\n",
    "Xtrain3.shape"
   ]
  },
  {
   "cell_type": "code",
   "execution_count": 76,
   "metadata": {},
   "outputs": [
    {
     "data": {
      "text/plain": [
       "(56, 76)"
      ]
     },
     "execution_count": 76,
     "metadata": {},
     "output_type": "execute_result"
    }
   ],
   "source": [
    "Xtrain = Xtrain3\n",
    "Xtrain.shape"
   ]
  },
  {
   "cell_type": "code",
   "execution_count": 79,
   "metadata": {},
   "outputs": [],
   "source": [
    "from sklearn.ensemble import RandomForestClassifier\n",
    "from sklearn.cross_validation import train_test_split\n",
    "import seaborn as sns; sns.set()\n",
    "\n",
    "from sklearn.grid_search import GridSearchCV\n",
    "\n",
    "Xrf_train, Xrf_test, yrf_train, yrf_test = train_test_split(Xtrain, ytrain, random_state=0, test_size=0.5)\n",
    "RF = RandomForestClassifier(random_state=0)\n"
   ]
  },
  {
   "cell_type": "code",
   "execution_count": 80,
   "metadata": {},
   "outputs": [
    {
     "data": {
      "text/plain": [
       "dict_keys(['bootstrap', 'class_weight', 'criterion', 'max_depth', 'max_features', 'max_leaf_nodes', 'min_impurity_split', 'min_samples_leaf', 'min_samples_split', 'min_weight_fraction_leaf', 'n_estimators', 'n_jobs', 'oob_score', 'random_state', 'verbose', 'warm_start'])"
      ]
     },
     "execution_count": 80,
     "metadata": {},
     "output_type": "execute_result"
    }
   ],
   "source": [
    "RF.get_params().keys()"
   ]
  },
  {
   "cell_type": "code",
   "execution_count": 81,
   "metadata": {
    "collapsed": true
   },
   "outputs": [],
   "source": [
    "param_grid_rf = {'n_estimators': [1, 10, 100, 1000, 2000, 10000]}\n",
    "grid_rf = GridSearchCV(RF, param_grid_rf)\n"
   ]
  },
  {
   "cell_type": "code",
   "execution_count": 82,
   "metadata": {},
   "outputs": [
    {
     "name": "stdout",
     "output_type": "stream",
     "text": [
      "Wall time: 41.9 s\n",
      "{'n_estimators': 100}\n"
     ]
    }
   ],
   "source": [
    "%time grid_rf.fit(Xtrain, ytrain)\n",
    "print(grid_rf.best_params_)"
   ]
  },
  {
   "cell_type": "code",
   "execution_count": 83,
   "metadata": {
    "collapsed": true
   },
   "outputs": [],
   "source": [
    "RF = grid_rf.best_estimator_\n"
   ]
  },
  {
   "cell_type": "code",
   "execution_count": 84,
   "metadata": {
    "collapsed": true
   },
   "outputs": [],
   "source": [
    "RF.fit(Xrf_train, yrf_train)\n",
    "yrf_pred = RF.predict(Xrf_test)\n"
   ]
  },
  {
   "cell_type": "code",
   "execution_count": 85,
   "metadata": {},
   "outputs": [
    {
     "data": {
      "image/png": "[encoded data removed]",
      "text/plain": [
       "<matplotlib.figure.Figure at 0x19e768b6438>"
      ]
     },
     "metadata": {},
     "output_type": "display_data"
    }
   ],
   "source": [
    "from sklearn.metrics import confusion_matrix\n",
    "mat = confusion_matrix(yrf_test, yrf_pred)\n",
    "sns.heatmap(mat.T, square=True, annot=True, fmt='d', cbar=False)\n",
    "plt.xlabel('true label')\n",
    "plt.ylabel('predicted label');"
   ]
  },
  {
   "cell_type": "code",
   "execution_count": 86,
   "metadata": {},
   "outputs": [
    {
     "name": "stdout",
     "output_type": "stream",
     "text": [
      "             precision    recall  f1-score   support\n",
      "\n",
      "        Bad       0.73      0.85      0.79        13\n",
      "       Good       0.83      0.71      0.77         7\n",
      "    Neutral       0.71      0.62      0.67         8\n",
      "\n",
      "avg / total       0.75      0.75      0.75        28\n",
      "\n"
     ]
    }
   ],
   "source": [
    "from sklearn import metrics\n",
    "print(metrics.classification_report(yrf_pred, yrf_test))"
   ]
  },
  {
   "cell_type": "code",
   "execution_count": 87,
   "metadata": {},
   "outputs": [
    {
     "data": {
      "text/plain": [
       "array([ 0.86666667,  0.85714286,  0.85714286,  0.69230769])"
      ]
     },
     "execution_count": 87,
     "metadata": {},
     "output_type": "execute_result"
    }
   ],
   "source": [
    "from sklearn.cross_validation import cross_val_score\n",
    "cross_val_score(RF, Xtrain, ytrain, cv=4)"
   ]
  },
  {
   "cell_type": "code",
   "execution_count": 88,
   "metadata": {
    "collapsed": true
   },
   "outputs": [],
   "source": [
    "# apply the ML algorithm here\n",
    "from sklearn.svm import SVC\n",
    "svc = SVC(kernel='rbf', class_weight='balanced')"
   ]
  },
  {
   "cell_type": "code",
   "execution_count": 89,
   "metadata": {
    "scrolled": true
   },
   "outputs": [
    {
     "data": {
      "text/plain": [
       "dict_keys(['C', 'cache_size', 'class_weight', 'coef0', 'decision_function_shape', 'degree', 'gamma', 'kernel', 'max_iter', 'probability', 'random_state', 'shrinking', 'tol', 'verbose'])"
      ]
     },
     "execution_count": 89,
     "metadata": {},
     "output_type": "execute_result"
    }
   ],
   "source": [
    "svc.get_params().keys()"
   ]
  },
  {
   "cell_type": "code",
   "execution_count": 91,
   "metadata": {},
   "outputs": [
    {
     "name": "stdout",
     "output_type": "stream",
     "text": [
      "Wall time: 419 ms\n",
      "{'C': 50, 'gamma': 1e-20}\n"
     ]
    }
   ],
   "source": [
    "from sklearn.grid_search import GridSearchCV\n",
    "param_grid_svc = {'C': [0.05, 0.1, 0.5, 1, 5, 10, 50, 100], 'gamma': [1E-20 , 1E-15, 1E-12, 1E-10, 0.00001]}\n",
    "grid_svc = GridSearchCV(svc, param_grid_svc)\n",
    "\n",
    "%time grid_svc.fit(Xtrain, ytrain)\n",
    "print(grid_svc.best_params_)"
   ]
  },
  {
   "cell_type": "code",
   "execution_count": 92,
   "metadata": {
    "collapsed": true
   },
   "outputs": [],
   "source": [
    "svc = grid_svc.best_estimator_"
   ]
  },
  {
   "cell_type": "code",
   "execution_count": 93,
   "metadata": {},
   "outputs": [
    {
     "data": {
      "text/plain": [
       "array([ 0.6       ,  0.64285714,  0.35714286,  0.69230769])"
      ]
     },
     "execution_count": 93,
     "metadata": {},
     "output_type": "execute_result"
    }
   ],
   "source": [
    "from sklearn.cross_validation import cross_val_score\n",
    "cross_val_score(svc, Xtrain, ytrain, cv=4)"
   ]
  },
  {
   "cell_type": "code",
   "execution_count": 94,
   "metadata": {
    "scrolled": true
   },
   "outputs": [
    {
     "data": {
      "text/plain": [
       "dict_keys(['C', 'cache_size', 'class_weight', 'coef0', 'decision_function_shape', 'degree', 'gamma', 'kernel', 'max_iter', 'probability', 'random_state', 'shrinking', 'tol', 'verbose'])"
      ]
     },
     "execution_count": 94,
     "metadata": {},
     "output_type": "execute_result"
    }
   ],
   "source": [
    "# apply the ML algorithm here\n",
    "from sklearn.svm import SVC\n",
    "svc_sig = SVC(kernel='sigmoid')\n",
    "\n",
    "svc_sig.get_params().keys()"
   ]
  },
  {
   "cell_type": "code",
   "execution_count": 95,
   "metadata": {
    "collapsed": true
   },
   "outputs": [],
   "source": [
    "param_grid_svcsig = {'C': [0.05, 0.1, 0.5, 1, 5, 10, 50], 'gamma': [1E-25, 1E-20 , 1E-15, 1E-12, 1E-10, 0.00001], 'coef0': [-10,-7, -5, -3, -2 , -1,  0, 1, 2]}"
   ]
  },
  {
   "cell_type": "code",
   "execution_count": 96,
   "metadata": {},
   "outputs": [
    {
     "name": "stdout",
     "output_type": "stream",
     "text": [
      "Wall time: 2.35 s\n",
      "{'C': 0.5, 'coef0': -7, 'gamma': 1e-20}\n"
     ]
    }
   ],
   "source": [
    "grid_svcsig = GridSearchCV(svc_sig, param_grid_svcsig)\n",
    "\n",
    "%time grid_svcsig.fit(Xtrain, ytrain)\n",
    "print(grid_svcsig.best_params_)"
   ]
  },
  {
   "cell_type": "code",
   "execution_count": 98,
   "metadata": {},
   "outputs": [],
   "source": [
    "model_svcsig = grid_svcsig.best_estimator_"
   ]
  },
  {
   "cell_type": "code",
   "execution_count": 99,
   "metadata": {},
   "outputs": [
    {
     "data": {
      "text/plain": [
       "array([ 0.53333333,  0.5       ,  0.57142857,  0.53846154])"
      ]
     },
     "execution_count": 99,
     "metadata": {},
     "output_type": "execute_result"
    }
   ],
   "source": [
    "from sklearn.cross_validation import cross_val_score\n",
    "cross_val_score(model_svcsig, Xtrain, ytrain, cv=4)"
   ]
  },
  {
   "cell_type": "markdown",
   "metadata": {},
   "source": [
    "IGNORE THE CODE BELOW"
   ]
  },
  {
   "cell_type": "code",
   "execution_count": 106,
   "metadata": {},
   "outputs": [
    {
     "data": {
      "text/html": [
       "<div>\n",
       "<style>\n",
       "    .dataframe thead tr:only-child th {\n",
       "        text-align: right;\n",
       "    }\n",
       "\n",
       "    .dataframe thead th {\n",
       "        text-align: left;\n",
       "    }\n",
       "\n",
       "    .dataframe tbody tr th {\n",
       "        vertical-align: top;\n",
       "    }\n",
       "</style>\n",
       "<table border=\"1\" class=\"dataframe\">\n",
       "  <thead>\n",
       "    <tr style=\"text-align: right;\">\n",
       "      <th></th>\n",
       "      <th>Country Name</th>\n",
       "      <th>Indicator Name</th>\n",
       "      <th>2000</th>\n",
       "    </tr>\n",
       "  </thead>\n",
       "  <tbody>\n",
       "    <tr>\n",
       "      <th>0</th>\n",
       "      <td>Aruba</td>\n",
       "      <td>Urban population (% of total)</td>\n",
       "      <td>46.717000</td>\n",
       "    </tr>\n",
       "    <tr>\n",
       "      <th>1</th>\n",
       "      <td>Aruba</td>\n",
       "      <td>Urban population</td>\n",
       "      <td>42444.000000</td>\n",
       "    </tr>\n",
       "    <tr>\n",
       "      <th>2</th>\n",
       "      <td>Aruba</td>\n",
       "      <td>Urban population growth (annual %)</td>\n",
       "      <td>1.182632</td>\n",
       "    </tr>\n",
       "    <tr>\n",
       "      <th>3</th>\n",
       "      <td>Aruba</td>\n",
       "      <td>Population, total</td>\n",
       "      <td>90853.000000</td>\n",
       "    </tr>\n",
       "    <tr>\n",
       "      <th>4</th>\n",
       "      <td>Aruba</td>\n",
       "      <td>Population growth (annual %)</td>\n",
       "      <td>2.055027</td>\n",
       "    </tr>\n",
       "  </tbody>\n",
       "</table>\n",
       "</div>"
      ],
      "text/plain": [
       "  Country Name                      Indicator Name          2000\n",
       "0        Aruba       Urban population (% of total)     46.717000\n",
       "1        Aruba                    Urban population  42444.000000\n",
       "2        Aruba  Urban population growth (annual %)      1.182632\n",
       "3        Aruba                   Population, total  90853.000000\n",
       "4        Aruba        Population growth (annual %)      2.055027"
      ]
     },
     "execution_count": 106,
     "metadata": {},
     "output_type": "execute_result"
    }
   ],
   "source": [
    "wb_test = wb[['Country Name','Indicator Name','2000']]\n",
    "wb_test.head()"
   ]
  },
  {
   "cell_type": "code",
   "execution_count": 107,
   "metadata": {},
   "outputs": [
    {
     "name": "stdout",
     "output_type": "stream",
     "text": [
      "(16896, 3)\n"
     ]
    },
    {
     "data": {
      "text/html": [
       "<div>\n",
       "<style>\n",
       "    .dataframe thead tr:only-child th {\n",
       "        text-align: right;\n",
       "    }\n",
       "\n",
       "    .dataframe thead th {\n",
       "        text-align: left;\n",
       "    }\n",
       "\n",
       "    .dataframe tbody tr th {\n",
       "        vertical-align: top;\n",
       "    }\n",
       "</style>\n",
       "<table border=\"1\" class=\"dataframe\">\n",
       "  <thead>\n",
       "    <tr style=\"text-align: right;\">\n",
       "      <th></th>\n",
       "      <th>Country Name</th>\n",
       "      <th>Indicator Name</th>\n",
       "      <th>2000</th>\n",
       "    </tr>\n",
       "  </thead>\n",
       "  <tbody>\n",
       "    <tr>\n",
       "      <th>0</th>\n",
       "      <td>Aruba</td>\n",
       "      <td>Terrestrial protected areas (% of total land a...</td>\n",
       "      <td>0.48</td>\n",
       "    </tr>\n",
       "    <tr>\n",
       "      <th>1</th>\n",
       "      <td>Afghanistan</td>\n",
       "      <td>Terrestrial protected areas (% of total land a...</td>\n",
       "      <td>0.36</td>\n",
       "    </tr>\n",
       "    <tr>\n",
       "      <th>2</th>\n",
       "      <td>Angola</td>\n",
       "      <td>Terrestrial protected areas (% of total land a...</td>\n",
       "      <td>6.97</td>\n",
       "    </tr>\n",
       "    <tr>\n",
       "      <th>3</th>\n",
       "      <td>Albania</td>\n",
       "      <td>Terrestrial protected areas (% of total land a...</td>\n",
       "      <td>0.52</td>\n",
       "    </tr>\n",
       "    <tr>\n",
       "      <th>4</th>\n",
       "      <td>Andorra</td>\n",
       "      <td>Terrestrial protected areas (% of total land a...</td>\n",
       "      <td>9.25</td>\n",
       "    </tr>\n",
       "  </tbody>\n",
       "</table>\n",
       "</div>"
      ],
      "text/plain": [
       "  Country Name                                     Indicator Name  2000\n",
       "0        Aruba  Terrestrial protected areas (% of total land a...  0.48\n",
       "1  Afghanistan  Terrestrial protected areas (% of total land a...  0.36\n",
       "2       Angola  Terrestrial protected areas (% of total land a...  6.97\n",
       "3      Albania  Terrestrial protected areas (% of total land a...  0.52\n",
       "4      Andorra  Terrestrial protected areas (% of total land a...  9.25"
      ]
     },
     "execution_count": 107,
     "metadata": {},
     "output_type": "execute_result"
    }
   ],
   "source": [
    "# Xtest\n",
    "\n",
    "df_test_set = pd.DataFrame()\n",
    "for indi in set_saved_indi_filter:\n",
    "    df_temp = wb_test[wb_test['Indicator Name'] == indi]\n",
    "    df_test_set = pd.concat([df_test_set, df_temp], ignore_index = True, axis = 0)\n",
    "\n",
    "print(df_test_set.shape)\n",
    "df_test_set.head()\n"
   ]
  },
  {
   "cell_type": "code",
   "execution_count": 108,
   "metadata": {},
   "outputs": [
    {
     "data": {
      "text/plain": [
       "264"
      ]
     },
     "execution_count": 108,
     "metadata": {},
     "output_type": "execute_result"
    }
   ],
   "source": [
    "len(wb['Country Name'].unique())"
   ]
  },
  {
   "cell_type": "code",
   "execution_count": 110,
   "metadata": {
    "scrolled": true
   },
   "outputs": [
    {
     "data": {
      "text/plain": [
       "64.0"
      ]
     },
     "execution_count": 110,
     "metadata": {},
     "output_type": "execute_result"
    }
   ],
   "source": [
    "16896/264"
   ]
  },
  {
   "cell_type": "code",
   "execution_count": 111,
   "metadata": {
    "collapsed": true
   },
   "outputs": [],
   "source": [
    "set_test = set(wb['Country Name']) - set(country_class_y['Country Name'])\n",
    "\n",
    "df_test_set_country = pd.DataFrame()\n",
    "for country in set_test:\n",
    "    # print(country)\n",
    "    df_temp = df_test_set[df_test_set['Country Name'] == country]\n",
    "    df_test_set_country = pd.concat([df_test_set_country, df_temp], ignore_index = True, axis = 0)"
   ]
  },
  {
   "cell_type": "code",
   "execution_count": 112,
   "metadata": {
    "scrolled": false
   },
   "outputs": [
    {
     "data": {
      "text/plain": [
       "208"
      ]
     },
     "execution_count": 112,
     "metadata": {},
     "output_type": "execute_result"
    }
   ],
   "source": [
    "len(set_test)"
   ]
  },
  {
   "cell_type": "code",
   "execution_count": 113,
   "metadata": {
    "scrolled": true
   },
   "outputs": [
    {
     "data": {
      "text/html": [
       "<div>\n",
       "<style>\n",
       "    .dataframe thead tr:only-child th {\n",
       "        text-align: right;\n",
       "    }\n",
       "\n",
       "    .dataframe thead th {\n",
       "        text-align: left;\n",
       "    }\n",
       "\n",
       "    .dataframe tbody tr th {\n",
       "        vertical-align: top;\n",
       "    }\n",
       "</style>\n",
       "<table border=\"1\" class=\"dataframe\">\n",
       "  <thead>\n",
       "    <tr style=\"text-align: right;\">\n",
       "      <th></th>\n",
       "      <th>Country Name</th>\n",
       "      <th>Indicator Name</th>\n",
       "      <th>2000</th>\n",
       "    </tr>\n",
       "  </thead>\n",
       "  <tbody>\n",
       "    <tr>\n",
       "      <th>0</th>\n",
       "      <td>Bahrain</td>\n",
       "      <td>Terrestrial protected areas (% of total land a...</td>\n",
       "      <td>2.78</td>\n",
       "    </tr>\n",
       "    <tr>\n",
       "      <th>1</th>\n",
       "      <td>Bahrain</td>\n",
       "      <td>Electricity production from natural gas source...</td>\n",
       "      <td>100.00</td>\n",
       "    </tr>\n",
       "    <tr>\n",
       "      <th>2</th>\n",
       "      <td>Bahrain</td>\n",
       "      <td>Forest area (sq. km)</td>\n",
       "      <td>3.70</td>\n",
       "    </tr>\n",
       "    <tr>\n",
       "      <th>3</th>\n",
       "      <td>Bahrain</td>\n",
       "      <td>Other greenhouse gas emissions, HFC, PFC and S...</td>\n",
       "      <td>236.00</td>\n",
       "    </tr>\n",
       "    <tr>\n",
       "      <th>4</th>\n",
       "      <td>Bahrain</td>\n",
       "      <td>Electricity production from nuclear sources (%...</td>\n",
       "      <td>0.00</td>\n",
       "    </tr>\n",
       "  </tbody>\n",
       "</table>\n",
       "</div>"
      ],
      "text/plain": [
       "  Country Name                                     Indicator Name    2000\n",
       "0      Bahrain  Terrestrial protected areas (% of total land a...    2.78\n",
       "1      Bahrain  Electricity production from natural gas source...  100.00\n",
       "2      Bahrain                               Forest area (sq. km)    3.70\n",
       "3      Bahrain  Other greenhouse gas emissions, HFC, PFC and S...  236.00\n",
       "4      Bahrain  Electricity production from nuclear sources (%...    0.00"
      ]
     },
     "execution_count": 113,
     "metadata": {},
     "output_type": "execute_result"
    }
   ],
   "source": [
    "df_test_set_country.head()"
   ]
  },
  {
   "cell_type": "code",
   "execution_count": 116,
   "metadata": {
    "collapsed": true
   },
   "outputs": [],
   "source": [
    "df_vietnam = df_test_set_country[df_test_set_country['Country Name'] == 'Vietnam']\n",
    "df_vietnam = df_vietnam.fillna(0)"
   ]
  },
  {
   "cell_type": "code",
   "execution_count": 117,
   "metadata": {},
   "outputs": [
    {
     "data": {
      "text/plain": [
       "Country Name      0\n",
       "Indicator Name    0\n",
       "2000              0\n",
       "dtype: int64"
      ]
     },
     "execution_count": 117,
     "metadata": {},
     "output_type": "execute_result"
    }
   ],
   "source": [
    "df_vietnam.isnull().sum()"
   ]
  },
  {
   "cell_type": "code",
   "execution_count": 118,
   "metadata": {
    "collapsed": true
   },
   "outputs": [],
   "source": [
    "Xtest = pd.DataFrame(df_vietnam['2000'].values.reshape(1,64))"
   ]
  },
  {
   "cell_type": "code",
   "execution_count": 222,
   "metadata": {},
   "outputs": [
    {
     "data": {
      "text/plain": [
       "array(['Bad'], dtype=object)"
      ]
     },
     "execution_count": 222,
     "metadata": {},
     "output_type": "execute_result"
    }
   ],
   "source": [
    "ytest = model.predict(Xtest)\n",
    "ytest"
   ]
  },
  {
   "cell_type": "code",
   "execution_count": 227,
   "metadata": {},
   "outputs": [
    {
     "data": {
      "text/plain": [
       "array([ 0.5       ,  0.625     ,  0.625     ,  0.42857143,  0.42857143,\n",
       "        0.5       ,  0.5       ,  0.5       ])"
      ]
     },
     "execution_count": 227,
     "metadata": {},
     "output_type": "execute_result"
    }
   ],
   "source": [
    "from sklearn.cross_validation import cross_val_score\n",
    "cross_val_score(model, Xtrain, ytrain, cv=8)"
   ]
  },
  {
   "cell_type": "code",
   "execution_count": 224,
   "metadata": {},
   "outputs": [
    {
     "data": {
      "text/plain": [
       "array([ 0.5       ,  0.5       ,  0.5       ,  0.42857143,  0.57142857,\n",
       "        0.5       ,  0.5       ,  0.5       ])"
      ]
     },
     "execution_count": 224,
     "metadata": {},
     "output_type": "execute_result"
    }
   ],
   "source": [
    "from sklearn.cross_validation import cross_val_score\n",
    "cross_val_score(model, Xtrain, ytrain, cv=8)"
   ]
  },
  {
   "cell_type": "code",
   "execution_count": 413,
   "metadata": {},
   "outputs": [
    {
     "name": "stdout",
     "output_type": "stream",
     "text": [
      "       Country Name                 Indicator Name    2000\n",
      "0            France  Urban population (% of total)  75.871\n",
      "80           Sweden  Urban population (% of total)  84.026\n",
      "160  United Kingdom  Urban population (% of total)  78.651\n",
      "240          Cyprus  Urban population (% of total)  68.648\n",
      "320      Luxembourg  Urban population (% of total)  84.216\n",
      "400           Malta  Urban population (% of total)  92.368\n",
      "480        Portugal  Urban population (% of total)  54.399\n",
      "560         Belgium  Urban population (% of total)  97.128\n",
      "640         Denmark  Urban population (% of total)  85.100\n",
      "720     Switzerland  Urban population (% of total)  73.322\n",
      "800          Latvia  Urban population (% of total)  68.067\n",
      "880           Italy  Urban population (% of total)  67.222\n",
      "960         Croatia  Urban population (% of total)  55.587\n",
      "       Country Name    Indicator Name        2000\n",
      "1            France  Urban population  46214921.0\n",
      "81           Sweden  Urban population   7454878.0\n",
      "161  United Kingdom  Urban population  46319551.0\n",
      "241          Cyprus  Urban population    647547.0\n",
      "321      Luxembourg  Urban population    367434.0\n",
      "401           Malta  Urban population    360316.0\n",
      "481        Portugal  Urban population   5597602.0\n",
      "561         Belgium  Urban population   9956834.0\n",
      "641         Denmark  Urban population   4544013.0\n",
      "721     Switzerland  Urban population   5267636.0\n",
      "801          Latvia  Urban population   1611520.0\n",
      "881           Italy  Urban population  38277624.0\n",
      "961         Croatia  Urban population   2460281.0\n",
      "       Country Name                      Indicator Name      2000\n",
      "2            France  Urban population growth (annual %)  1.024238\n",
      "82           Sweden  Urban population growth (annual %)  0.193900\n",
      "162  United Kingdom  Urban population growth (annual %)  0.433616\n",
      "242          Cyprus  Urban population growth (annual %)  2.020595\n",
      "322      Luxembourg  Urban population growth (annual %)  2.260035\n",
      "402           Malta  Urban population growth (annual %)  0.952299\n",
      "482        Portugal  Urban population growth (annual %)  1.916107\n",
      "562         Belgium  Urban population growth (annual %)  0.307397\n",
      "642         Denmark  Urban population growth (annual %)  0.350679\n",
      "722     Switzerland  Urban population growth (annual %)  0.492417\n",
      "802          Latvia  Urban population growth (annual %) -1.188489\n",
      "882           Italy  Urban population growth (annual %)  0.134600\n",
      "962         Croatia  Urban population growth (annual %) -2.600589\n",
      "       Country Name     Indicator Name        2000\n",
      "3            France  Population, total  60912498.0\n",
      "83           Sweden  Population, total   8872109.0\n",
      "163  United Kingdom  Population, total  58892514.0\n",
      "243          Cyprus  Population, total    943286.0\n",
      "323      Luxembourg  Population, total    436300.0\n",
      "403           Malta  Population, total    390087.0\n",
      "483        Portugal  Population, total  10289898.0\n",
      "563         Belgium  Population, total  10251250.0\n",
      "643         Denmark  Population, total   5339616.0\n",
      "723     Switzerland  Population, total   7184250.0\n",
      "803          Latvia  Population, total   2367550.0\n",
      "883           Italy  Population, total  56942108.0\n",
      "963         Croatia  Population, total   4426000.0\n",
      "       Country Name                Indicator Name      2000\n",
      "4            France  Population growth (annual %)  0.684931\n",
      "84           Sweden  Population growth (annual %)  0.160575\n",
      "164  United Kingdom  Population growth (annual %)  0.357301\n",
      "244          Cyprus  Population growth (annual %)  1.844130\n",
      "324      Luxembourg  Population growth (annual %)  1.344083\n",
      "404           Malta  Population growth (annual %)  0.645267\n",
      "484        Portugal  Population growth (annual %)  0.702860\n",
      "564         Belgium  Population growth (annual %)  0.242518\n",
      "644         Denmark  Population growth (annual %)  0.334234\n",
      "724     Switzerland  Population growth (annual %)  0.561955\n",
      "804          Latvia  Population growth (annual %) -0.963935\n",
      "884           Italy  Population growth (annual %)  0.045304\n",
      "964         Croatia  Population growth (annual %) -2.850973\n",
      "       Country Name                                     Indicator Name  2000\n",
      "5            France  Poverty headcount ratio at $1.90 a day (2011 P...   NaN\n",
      "85           Sweden  Poverty headcount ratio at $1.90 a day (2011 P...   NaN\n",
      "165  United Kingdom  Poverty headcount ratio at $1.90 a day (2011 P...   NaN\n",
      "245          Cyprus  Poverty headcount ratio at $1.90 a day (2011 P...   NaN\n",
      "325      Luxembourg  Poverty headcount ratio at $1.90 a day (2011 P...   NaN\n",
      "405           Malta  Poverty headcount ratio at $1.90 a day (2011 P...   NaN\n",
      "485        Portugal  Poverty headcount ratio at $1.90 a day (2011 P...   NaN\n",
      "565         Belgium  Poverty headcount ratio at $1.90 a day (2011 P...   NaN\n",
      "645         Denmark  Poverty headcount ratio at $1.90 a day (2011 P...   NaN\n",
      "725     Switzerland  Poverty headcount ratio at $1.90 a day (2011 P...   NaN\n",
      "805          Latvia  Poverty headcount ratio at $1.90 a day (2011 P...   NaN\n",
      "885           Italy  Poverty headcount ratio at $1.90 a day (2011 P...   NaN\n",
      "965         Croatia  Poverty headcount ratio at $1.90 a day (2011 P...   NaN\n",
      "       Country Name                                     Indicator Name  2000\n",
      "6            France  Prevalence of underweight, weight for age (% o...   NaN\n",
      "86           Sweden  Prevalence of underweight, weight for age (% o...   NaN\n",
      "166  United Kingdom  Prevalence of underweight, weight for age (% o...   NaN\n",
      "246          Cyprus  Prevalence of underweight, weight for age (% o...   NaN\n",
      "326      Luxembourg  Prevalence of underweight, weight for age (% o...   NaN\n",
      "406           Malta  Prevalence of underweight, weight for age (% o...   NaN\n",
      "486        Portugal  Prevalence of underweight, weight for age (% o...   NaN\n",
      "566         Belgium  Prevalence of underweight, weight for age (% o...   NaN\n",
      "646         Denmark  Prevalence of underweight, weight for age (% o...   NaN\n",
      "726     Switzerland  Prevalence of underweight, weight for age (% o...   NaN\n",
      "806          Latvia  Prevalence of underweight, weight for age (% o...   NaN\n",
      "886           Italy  Prevalence of underweight, weight for age (% o...   NaN\n",
      "966         Croatia  Prevalence of underweight, weight for age (% o...   NaN\n",
      "       Country Name                                     Indicator Name   2000\n",
      "7            France  Improved sanitation facilities (% of populatio...   98.7\n",
      "87           Sweden  Improved sanitation facilities (% of populatio...   99.3\n",
      "167  United Kingdom  Improved sanitation facilities (% of populatio...   99.2\n",
      "247          Cyprus  Improved sanitation facilities (% of populatio...  100.0\n",
      "327      Luxembourg  Improved sanitation facilities (% of populatio...   97.7\n",
      "407           Malta  Improved sanitation facilities (% of populatio...  100.0\n",
      "487        Portugal  Improved sanitation facilities (% of populatio...   96.2\n",
      "567         Belgium  Improved sanitation facilities (% of populatio...   99.5\n",
      "647         Denmark  Improved sanitation facilities (% of populatio...   99.6\n",
      "727     Switzerland  Improved sanitation facilities (% of populatio...   99.9\n",
      "807          Latvia  Improved sanitation facilities (% of populatio...   81.7\n",
      "887           Italy  Improved sanitation facilities (% of populatio...   99.5\n",
      "967         Croatia  Improved sanitation facilities (% of populatio...   97.3\n",
      "       Country Name                               Indicator Name  2000\n",
      "8            France  Community health workers (per 1,000 people)   NaN\n",
      "88           Sweden  Community health workers (per 1,000 people)   NaN\n",
      "168  United Kingdom  Community health workers (per 1,000 people)   NaN\n",
      "248          Cyprus  Community health workers (per 1,000 people)   NaN\n",
      "328      Luxembourg  Community health workers (per 1,000 people)   NaN\n",
      "408           Malta  Community health workers (per 1,000 people)   NaN\n",
      "488        Portugal  Community health workers (per 1,000 people)   NaN\n",
      "568         Belgium  Community health workers (per 1,000 people)   NaN\n",
      "648         Denmark  Community health workers (per 1,000 people)   NaN\n",
      "728     Switzerland  Community health workers (per 1,000 people)   NaN\n",
      "808          Latvia  Community health workers (per 1,000 people)   NaN\n",
      "888           Italy  Community health workers (per 1,000 people)   NaN\n",
      "968         Croatia  Community health workers (per 1,000 people)   NaN\n",
      "       Country Name                                     Indicator Name   2000\n",
      "9            France  Improved water source (% of population with ac...  100.0\n",
      "89           Sweden  Improved water source (% of population with ac...  100.0\n",
      "169  United Kingdom  Improved water source (% of population with ac...  100.0\n",
      "249          Cyprus  Improved water source (% of population with ac...  100.0\n",
      "329      Luxembourg  Improved water source (% of population with ac...  100.0\n",
      "409           Malta  Improved water source (% of population with ac...  100.0\n",
      "489        Portugal  Improved water source (% of population with ac...   98.0\n",
      "569         Belgium  Improved water source (% of population with ac...  100.0\n",
      "649         Denmark  Improved water source (% of population with ac...  100.0\n",
      "729     Switzerland  Improved water source (% of population with ac...  100.0\n",
      "809          Latvia  Improved water source (% of population with ac...   98.3\n",
      "889           Italy  Improved water source (% of population with ac...  100.0\n",
      "969         Croatia  Improved water source (% of population with ac...   98.3\n",
      "       Country Name                                     Indicator Name   2000\n",
      "10           France  Improved water source, urban (% of urban popul...  100.0\n",
      "90           Sweden  Improved water source, urban (% of urban popul...  100.0\n",
      "170  United Kingdom  Improved water source, urban (% of urban popul...  100.0\n",
      "250          Cyprus  Improved water source, urban (% of urban popul...  100.0\n",
      "330      Luxembourg  Improved water source, urban (% of urban popul...  100.0\n",
      "410           Malta  Improved water source, urban (% of urban popul...  100.0\n",
      "490        Portugal  Improved water source, urban (% of urban popul...   98.7\n",
      "570         Belgium  Improved water source, urban (% of urban popul...  100.0\n",
      "650         Denmark  Improved water source, urban (% of urban popul...  100.0\n",
      "730     Switzerland  Improved water source, urban (% of urban popul...  100.0\n",
      "810          Latvia  Improved water source, urban (% of urban popul...   99.6\n",
      "890           Italy  Improved water source, urban (% of urban popul...  100.0\n",
      "970         Croatia  Improved water source, urban (% of urban popul...   99.8\n",
      "       Country Name                                     Indicator Name   2000\n",
      "11           France  Improved water source, rural (% of rural popul...  100.0\n",
      "91           Sweden  Improved water source, rural (% of rural popul...  100.0\n",
      "171  United Kingdom  Improved water source, rural (% of rural popul...  100.0\n",
      "251          Cyprus  Improved water source, rural (% of rural popul...  100.0\n",
      "331      Luxembourg  Improved water source, rural (% of rural popul...  100.0\n",
      "411           Malta  Improved water source, rural (% of rural popul...   99.7\n",
      "491        Portugal  Improved water source, rural (% of rural popul...   97.1\n",
      "571         Belgium  Improved water source, rural (% of rural popul...  100.0\n",
      "651         Denmark  Improved water source, rural (% of rural popul...  100.0\n",
      "731     Switzerland  Improved water source, rural (% of rural popul...  100.0\n",
      "811          Latvia  Improved water source, rural (% of rural popul...   95.4\n",
      "891           Italy  Improved water source, rural (% of rural popul...  100.0\n",
      "971         Croatia  Improved water source, rural (% of rural popul...   96.3\n",
      "       Country Name                                   Indicator Name  2000\n",
      "12           France  Mortality rate, under-5 (per 1,000 live births)   5.4\n",
      "92           Sweden  Mortality rate, under-5 (per 1,000 live births)   4.1\n",
      "172  United Kingdom  Mortality rate, under-5 (per 1,000 live births)   6.6\n",
      "252          Cyprus  Mortality rate, under-5 (per 1,000 live births)   6.6\n",
      "332      Luxembourg  Mortality rate, under-5 (per 1,000 live births)   4.8\n",
      "412           Malta  Mortality rate, under-5 (per 1,000 live births)   7.8\n",
      "492        Portugal  Mortality rate, under-5 (per 1,000 live births)   7.2\n",
      "572         Belgium  Mortality rate, under-5 (per 1,000 live births)   5.8\n",
      "652         Denmark  Mortality rate, under-5 (per 1,000 live births)   5.6\n",
      "732     Switzerland  Mortality rate, under-5 (per 1,000 live births)   5.6\n",
      "812          Latvia  Mortality rate, under-5 (per 1,000 live births)  17.2\n",
      "892           Italy  Mortality rate, under-5 (per 1,000 live births)   5.5\n",
      "972         Croatia  Mortality rate, under-5 (per 1,000 live births)   8.3\n",
      "       Country Name                                     Indicator Name  \\\n",
      "13           France  Primary completion rate, total (% of relevant ...   \n",
      "93           Sweden  Primary completion rate, total (% of relevant ...   \n",
      "173  United Kingdom  Primary completion rate, total (% of relevant ...   \n",
      "253          Cyprus  Primary completion rate, total (% of relevant ...   \n",
      "333      Luxembourg  Primary completion rate, total (% of relevant ...   \n",
      "413           Malta  Primary completion rate, total (% of relevant ...   \n",
      "493        Portugal  Primary completion rate, total (% of relevant ...   \n",
      "573         Belgium  Primary completion rate, total (% of relevant ...   \n",
      "653         Denmark  Primary completion rate, total (% of relevant ...   \n",
      "733     Switzerland  Primary completion rate, total (% of relevant ...   \n",
      "813          Latvia  Primary completion rate, total (% of relevant ...   \n",
      "893           Italy  Primary completion rate, total (% of relevant ...   \n",
      "973         Croatia  Primary completion rate, total (% of relevant ...   \n",
      "\n",
      "           2000  \n",
      "13    97.439728  \n",
      "93    99.592072  \n",
      "173         NaN  \n",
      "253   97.659500  \n",
      "333         NaN  \n",
      "413  107.996391  \n",
      "493         NaN  \n",
      "573         NaN  \n",
      "653  100.194656  \n",
      "733   96.375633  \n",
      "813   96.243538  \n",
      "893  100.813980  \n",
      "973   90.883690  \n",
      "       Country Name                                     Indicator Name  \\\n",
      "13           France  Primary completion rate, total (% of relevant ...   \n",
      "93           Sweden  Primary completion rate, total (% of relevant ...   \n",
      "173  United Kingdom  Primary completion rate, total (% of relevant ...   \n",
      "253          Cyprus  Primary completion rate, total (% of relevant ...   \n",
      "333      Luxembourg  Primary completion rate, total (% of relevant ...   \n",
      "413           Malta  Primary completion rate, total (% of relevant ...   \n",
      "493        Portugal  Primary completion rate, total (% of relevant ...   \n",
      "573         Belgium  Primary completion rate, total (% of relevant ...   \n",
      "653         Denmark  Primary completion rate, total (% of relevant ...   \n",
      "733     Switzerland  Primary completion rate, total (% of relevant ...   \n",
      "813          Latvia  Primary completion rate, total (% of relevant ...   \n",
      "893           Italy  Primary completion rate, total (% of relevant ...   \n",
      "973         Croatia  Primary completion rate, total (% of relevant ...   \n",
      "\n",
      "           2000  \n",
      "13    97.439728  \n",
      "93    99.592072  \n",
      "173   98.577688  \n",
      "253   97.659500  \n",
      "333   98.577688  \n",
      "413  107.996391  \n",
      "493   98.577688  \n",
      "573   98.577688  \n",
      "653  100.194656  \n",
      "733   96.375633  \n",
      "813   96.243538  \n",
      "893  100.813980  \n",
      "973   90.883690  \n",
      "          Country Name                 Indicator Name    2000\n",
      "1040           Romania  Urban population (% of total)  53.004\n",
      "1120         Lithuania  Urban population (% of total)  66.986\n",
      "1200             India  Urban population (% of total)  27.667\n",
      "1280           Ireland  Urban population (% of total)  59.146\n",
      "1360         Indonesia  Urban population (% of total)  42.002\n",
      "1440  Egypt, Arab Rep.  Urban population (% of total)  42.797\n",
      "1520    Czech Republic  Urban population (% of total)  73.988\n",
      "1600            Greece  Urban population (% of total)  72.716\n",
      "1680   Slovak Republic  Urban population (% of total)  56.233\n",
      "1760       Netherlands  Urban population (% of total)  76.795\n",
      "1840            Mexico  Urban population (% of total)  74.722\n",
      "1920           Germany  Urban population (% of total)  73.067\n",
      "2000          Slovenia  Urban population (% of total)  50.752\n",
      "2080           Finland  Urban population (% of total)  82.183\n",
      "2160      South Africa  Urban population (% of total)  56.891\n",
      "2240             Spain  Urban population (% of total)  76.262\n",
      "          Country Name    Indicator Name         2000\n",
      "1041           Romania  Urban population   11895672.0\n",
      "1121         Lithuania  Urban population    2344199.0\n",
      "1201             India  Urban population  291347596.0\n",
      "1281           Ireland  Urban population    2250608.0\n",
      "1361         Indonesia  Urban population   88851211.0\n",
      "1441  Egypt, Arab Rep.  Urban population   29917666.0\n",
      "1521    Czech Republic  Urban population    7587516.0\n",
      "1601            Greece  Urban population    7857551.0\n",
      "1681   Slovak Republic  Urban population    3030239.0\n",
      "1761       Netherlands  Urban population   12229998.0\n",
      "1841            Mexico  Urban population   76006974.0\n",
      "1921           Germany  Urban population   60069483.0\n",
      "2001          Slovenia  Urban population    1009419.0\n",
      "2081           Finland  Urban population    4253964.0\n",
      "2161      South Africa  Urban population   25542270.0\n",
      "2241             Spain  Urban population   30937864.0\n",
      "          Country Name                      Indicator Name      2000\n",
      "1042           Romania  Urban population growth (annual %) -0.419566\n",
      "1122         Lithuania  Urban population growth (annual %) -0.792941\n",
      "1202             India  Urban population growth (annual %)  2.550038\n",
      "1282           Ireland  Urban population growth (annual %)  1.756601\n",
      "1362         Indonesia  Urban population growth (annual %)  4.316865\n",
      "1442  Egypt, Arab Rep.  Urban population growth (annual %)  1.956898\n",
      "1522    Czech Republic  Urban population growth (annual %) -0.458662\n",
      "1602            Greece  Urban population growth (annual %)  0.572821\n",
      "1682   Slovak Republic  Urban population growth (annual %) -0.243776\n",
      "1762       Netherlands  Urban population growth (annual %)  1.715922\n",
      "1842            Mexico  Urban population growth (annual %)  1.781695\n",
      "1922           Germany  Urban population growth (annual %)  0.139537\n",
      "2002          Slovenia  Urban population growth (annual %)  0.349225\n",
      "2082           Finland  Urban population growth (annual %)  0.496415\n",
      "2162      South Africa  Urban population growth (annual %)  2.335313\n",
      "2242             Spain  Urban population growth (annual %)  0.553406\n",
      "          Country Name     Indicator Name          2000\n",
      "1043           Romania  Population, total  2.244297e+07\n",
      "1123         Lithuania  Population, total  3.499536e+06\n",
      "1203             India  Population, total  1.053051e+09\n",
      "1283           Ireland  Population, total  3.805174e+06\n",
      "1363         Indonesia  Population, total  2.115404e+08\n",
      "1443  Egypt, Arab Rep.  Population, total  6.990599e+07\n",
      "1523    Czech Republic  Population, total  1.025506e+07\n",
      "1603            Greece  Population, total  1.080581e+07\n",
      "1683   Slovak Republic  Population, total  5.388720e+06\n",
      "1763       Netherlands  Population, total  1.592551e+07\n",
      "1843            Mexico  Population, total  1.017197e+08\n",
      "1923           Germany  Population, total  8.221151e+07\n",
      "2003          Slovenia  Population, total  1.988925e+06\n",
      "2083           Finland  Population, total  5.176209e+06\n",
      "2163      South Africa  Population, total  4.489686e+07\n",
      "2243             Spain  Population, total  4.056786e+07\n",
      "          Country Name                Indicator Name      2000\n",
      "1044           Romania  Population growth (annual %) -0.129440\n",
      "1124         Lithuania  Population growth (annual %) -0.703385\n",
      "1204             India  Population growth (annual %)  1.773546\n",
      "1284           Ireland  Population growth (annual %)  1.333043\n",
      "1364         Indonesia  Population growth (annual %)  1.393740\n",
      "1444  Egypt, Arab Rep.  Population growth (annual %)  1.847016\n",
      "1524    Czech Republic  Population growth (annual %) -0.280414\n",
      "1604            Greece  Population growth (annual %)  0.409042\n",
      "1684   Slovak Republic  Population growth (annual %) -0.135376\n",
      "1764       Netherlands  Population growth (annual %)  0.714770\n",
      "1844            Mexico  Population growth (annual %)  1.404926\n",
      "1924           Germany  Population growth (annual %)  0.135432\n",
      "2004          Slovenia  Population growth (annual %)  0.296075\n",
      "2084           Finland  Population growth (annual %)  0.207607\n",
      "2164      South Africa  Population growth (annual %)  1.488015\n",
      "2244             Spain  Population growth (annual %)  0.447137\n",
      "          Country Name                                     Indicator Name  \\\n",
      "1045           Romania  Poverty headcount ratio at $1.90 a day (2011 P...   \n",
      "1125         Lithuania  Poverty headcount ratio at $1.90 a day (2011 P...   \n",
      "1205             India  Poverty headcount ratio at $1.90 a day (2011 P...   \n",
      "1285           Ireland  Poverty headcount ratio at $1.90 a day (2011 P...   \n",
      "1365         Indonesia  Poverty headcount ratio at $1.90 a day (2011 P...   \n",
      "1445  Egypt, Arab Rep.  Poverty headcount ratio at $1.90 a day (2011 P...   \n",
      "1525    Czech Republic  Poverty headcount ratio at $1.90 a day (2011 P...   \n",
      "1605            Greece  Poverty headcount ratio at $1.90 a day (2011 P...   \n",
      "1685   Slovak Republic  Poverty headcount ratio at $1.90 a day (2011 P...   \n",
      "1765       Netherlands  Poverty headcount ratio at $1.90 a day (2011 P...   \n",
      "1845            Mexico  Poverty headcount ratio at $1.90 a day (2011 P...   \n",
      "1925           Germany  Poverty headcount ratio at $1.90 a day (2011 P...   \n",
      "2005          Slovenia  Poverty headcount ratio at $1.90 a day (2011 P...   \n",
      "2085           Finland  Poverty headcount ratio at $1.90 a day (2011 P...   \n",
      "2165      South Africa  Poverty headcount ratio at $1.90 a day (2011 P...   \n",
      "2245             Spain  Poverty headcount ratio at $1.90 a day (2011 P...   \n",
      "\n",
      "      2000  \n",
      "1045   7.5  \n",
      "1125   NaN  \n",
      "1205   NaN  \n",
      "1285   NaN  \n",
      "1365  39.8  \n",
      "1445   NaN  \n",
      "1525   NaN  \n",
      "1605   NaN  \n",
      "1685   NaN  \n",
      "1765   NaN  \n",
      "1845  11.0  \n",
      "1925   NaN  \n",
      "2005   NaN  \n",
      "2085   NaN  \n",
      "2165  32.6  \n",
      "2245   NaN  \n",
      "          Country Name                                     Indicator Name  \\\n",
      "1045           Romania  Poverty headcount ratio at $1.90 a day (2011 P...   \n",
      "1125         Lithuania  Poverty headcount ratio at $1.90 a day (2011 P...   \n",
      "1205             India  Poverty headcount ratio at $1.90 a day (2011 P...   \n",
      "1285           Ireland  Poverty headcount ratio at $1.90 a day (2011 P...   \n",
      "1365         Indonesia  Poverty headcount ratio at $1.90 a day (2011 P...   \n",
      "1445  Egypt, Arab Rep.  Poverty headcount ratio at $1.90 a day (2011 P...   \n",
      "1525    Czech Republic  Poverty headcount ratio at $1.90 a day (2011 P...   \n",
      "1605            Greece  Poverty headcount ratio at $1.90 a day (2011 P...   \n",
      "1685   Slovak Republic  Poverty headcount ratio at $1.90 a day (2011 P...   \n",
      "1765       Netherlands  Poverty headcount ratio at $1.90 a day (2011 P...   \n",
      "1845            Mexico  Poverty headcount ratio at $1.90 a day (2011 P...   \n",
      "1925           Germany  Poverty headcount ratio at $1.90 a day (2011 P...   \n",
      "2005          Slovenia  Poverty headcount ratio at $1.90 a day (2011 P...   \n",
      "2085           Finland  Poverty headcount ratio at $1.90 a day (2011 P...   \n",
      "2165      South Africa  Poverty headcount ratio at $1.90 a day (2011 P...   \n",
      "2245             Spain  Poverty headcount ratio at $1.90 a day (2011 P...   \n",
      "\n",
      "        2000  \n",
      "1045   7.500  \n",
      "1125  22.725  \n",
      "1205  22.725  \n",
      "1285  22.725  \n",
      "1365  39.800  \n",
      "1445  22.725  \n",
      "1525  22.725  \n",
      "1605  22.725  \n",
      "1685  22.725  \n",
      "1765  22.725  \n",
      "1845  11.000  \n",
      "1925  22.725  \n",
      "2005  22.725  \n",
      "2085  22.725  \n",
      "2165  32.600  \n",
      "2245  22.725  \n",
      "            Country Name                 Indicator Name     2000\n",
      "2320             Hungary  Urban population (% of total)   64.575\n",
      "2400              Poland  Urban population (% of total)   61.716\n",
      "2480           Argentina  Urban population (% of total)   89.142\n",
      "2560            Bulgaria  Urban population (% of total)   68.899\n",
      "2640              Norway  Urban population (% of total)   76.081\n",
      "2720             Iceland  Urban population (% of total)   92.401\n",
      "2800              Brazil  Urban population (% of total)   81.192\n",
      "2880             Austria  Urban population (% of total)   65.800\n",
      "2960            Thailand  Urban population (% of total)   31.391\n",
      "3040       United States  Urban population (% of total)   79.057\n",
      "3120            Malaysia  Urban population (% of total)   61.977\n",
      "3200             Ukraine  Urban population (% of total)   67.145\n",
      "3280         New Zealand  Urban population (% of total)   85.677\n",
      "3360             Algeria  Urban population (% of total)   59.919\n",
      "3440               China  Urban population (% of total)   35.877\n",
      "3520             Belarus  Urban population (% of total)   69.973\n",
      "3600             Estonia  Urban population (% of total)   69.368\n",
      "3680              Turkey  Urban population (% of total)   64.741\n",
      "3760  Russian Federation  Urban population (% of total)   73.350\n",
      "3840           Singapore  Urban population (% of total)  100.000\n",
      "3920              Canada  Urban population (% of total)   79.478\n",
      "4000  Iran, Islamic Rep.  Urban population (% of total)   64.042\n",
      "4080           Australia  Urban population (% of total)   87.165\n",
      "4160         Korea, Rep.  Urban population (% of total)   79.621\n",
      "4240          Kazakhstan  Urban population (% of total)   55.729\n",
      "4320               Japan  Urban population (% of total)   78.649\n",
      "4400        Saudi Arabia  Urban population (% of total)   79.848\n",
      "            Country Name    Indicator Name         2000\n",
      "2321             Hungary  Urban population    6593735.0\n",
      "2401              Poland  Urban population   23611695.0\n",
      "2481           Argentina  Urban population   33033754.0\n",
      "2561            Bulgaria  Urban population    5629167.0\n",
      "2641              Norway  Urban population    3416773.0\n",
      "2721             Iceland  Urban population     259836.0\n",
      "2801              Brazil  Urban population  142319498.0\n",
      "2881             Austria  Urban population    5271610.0\n",
      "2961            Thailand  Urban population   19763152.0\n",
      "3041       United States  Urban population  223069137.0\n",
      "3121            Malaysia  Urban population   14369744.0\n",
      "3201             Ukraine  Urban population   33019123.0\n",
      "3281         New Zealand  Urban population    3305162.0\n",
      "3361             Algeria  Urban population   18684937.0\n",
      "3441               China  Urban population  452999147.0\n",
      "3521             Belarus  Urban population    6983033.0\n",
      "3601             Estonia  Urban population     969061.0\n",
      "3681              Turkey  Urban population   40942287.0\n",
      "3761  Russian Federation  Urban population  107528575.0\n",
      "3841           Singapore  Urban population    4027887.0\n",
      "3921              Canada  Urban population   24455142.0\n",
      "4001  Iran, Islamic Rep.  Urban population   42352162.0\n",
      "4081           Australia  Urban population   16694712.0\n",
      "4161         Korea, Rep.  Urban population   37428328.0\n",
      "4241          Kazakhstan  Urban population    8294496.0\n",
      "4321               Japan  Urban population   99760751.0\n",
      "4401        Saudi Arabia  Urban population   16579888.0\n",
      "            Country Name                      Indicator Name      2000\n",
      "2322             Hungary  Urban population growth (annual %) -0.456240\n",
      "2402              Poland  Urban population growth (annual %) -0.973016\n",
      "2482           Argentina  Urban population growth (annual %)  1.324248\n",
      "2562            Bulgaria  Urban population growth (annual %) -0.171158\n",
      "2642              Norway  Urban population growth (annual %)  1.965500\n",
      "2722             Iceland  Urban population growth (annual %)  1.514279\n",
      "2802              Brazil  Urban population growth (annual %)  2.313824\n",
      "2882             Austria  Urban population growth (annual %)  0.240462\n",
      "2962            Thailand  Urban population growth (annual %)  2.393448\n",
      "3042       United States  Urban population growth (annual %)  1.512011\n",
      "3122            Malaysia  Urban population growth (annual %)  4.322236\n",
      "3202             Ukraine  Urban population growth (annual %) -0.948496\n",
      "3282         New Zealand  Urban population growth (annual %)  0.662307\n",
      "3362             Algeria  Urban population growth (annual %)  2.695483\n",
      "3442               China  Urban population growth (annual %)  3.649253\n",
      "3522             Belarus  Urban population growth (annual %)  0.233050\n",
      "3602             Estonia  Urban population growth (annual %)  0.231833\n",
      "3682              Turkey  Urban population growth (annual %)  2.321426\n",
      "3762  Russian Federation  Urban population growth (annual %) -0.426020\n",
      "3842           Singapore  Urban population growth (annual %)  1.732042\n",
      "3922              Canada  Urban population growth (annual %)  1.355944\n",
      "4002  Iran, Islamic Rep.  Urban population growth (annual %)  2.766920\n",
      "4082           Australia  Urban population growth (annual %)  1.442685\n",
      "4162         Korea, Rep.  Urban population growth (annual %)  1.134284\n",
      "4242          Kazakhstan  Urban population growth (annual %) -0.660578\n",
      "4322               Japan  Urban population growth (annual %)  0.327610\n",
      "4402        Saudi Arabia  Urban population growth (annual %)  2.580024\n",
      "            Country Name     Indicator Name          2000\n",
      "2323             Hungary  Population, total  1.021097e+07\n",
      "2403              Poland  Population, total  3.825863e+07\n",
      "2483           Argentina  Population, total  3.705745e+07\n",
      "2563            Bulgaria  Population, total  8.170172e+06\n",
      "2643              Norway  Population, total  4.490967e+06\n",
      "2723             Iceland  Population, total  2.812050e+05\n",
      "2803              Brazil  Population, total  1.752876e+08\n",
      "2883             Austria  Population, total  8.011566e+06\n",
      "2963            Thailand  Population, total  6.295802e+07\n",
      "3043       United States  Population, total  2.821624e+08\n",
      "3123            Malaysia  Population, total  2.318561e+07\n",
      "3203             Ukraine  Population, total  4.917585e+07\n",
      "3283         New Zealand  Population, total  3.857700e+06\n",
      "3363             Algeria  Population, total  3.118366e+07\n",
      "3443               China  Population, total  1.262645e+09\n",
      "3523             Belarus  Population, total  9.979610e+06\n",
      "3603             Estonia  Population, total  1.396985e+06\n",
      "3683              Turkey  Population, total  6.324012e+07\n",
      "3763  Russian Federation  Population, total  1.465966e+08\n",
      "3843           Singapore  Population, total  4.027887e+06\n",
      "3923              Canada  Population, total  3.076970e+07\n",
      "4003  Iran, Islamic Rep.  Population, total  6.613185e+07\n",
      "4083           Australia  Population, total  1.915300e+07\n",
      "4163         Korea, Rep.  Population, total  4.700811e+07\n",
      "4243          Kazakhstan  Population, total  1.488363e+07\n",
      "4323               Japan  Population, total  1.268430e+08\n",
      "4403        Saudi Arabia  Population, total  2.076431e+07\n",
      "            Country Name                Indicator Name      2000\n",
      "2324             Hungary  Population growth (annual %) -0.259765\n",
      "2404              Poland  Population growth (annual %) -1.044335\n",
      "2484           Argentina  Population growth (annual %)  1.110875\n",
      "2564            Bulgaria  Population growth (annual %) -0.493896\n",
      "2644              Norway  Population growth (annual %)  0.649045\n",
      "2724             Iceland  Population growth (annual %)  1.369193\n",
      "2804              Brazil  Population growth (annual %)  1.452901\n",
      "2884             Austria  Population growth (annual %)  0.240467\n",
      "2964            Thailand  Population growth (annual %)  1.039999\n",
      "3044       United States  Population growth (annual %)  1.112769\n",
      "3124            Malaysia  Population growth (annual %)  2.309440\n",
      "3204             Ukraine  Population growth (annual %) -1.006596\n",
      "3284         New Zealand  Population growth (annual %)  0.587564\n",
      "3364             Algeria  Population growth (annual %)  1.349663\n",
      "3444               China  Population growth (annual %)  0.787957\n",
      "3524             Belarus  Population growth (annual %) -0.471131\n",
      "3604             Estonia  Population growth (annual %)  0.483707\n",
      "3684              Turkey  Population growth (annual %)  1.518096\n",
      "3764  Russian Federation  Population growth (annual %) -0.420567\n",
      "3844           Singapore  Population growth (annual %)  1.732042\n",
      "3924              Canada  Population growth (annual %)  0.882999\n",
      "4004  Iran, Islamic Rep.  Population growth (annual %)  1.629973\n",
      "4084           Australia  Population growth (annual %)  1.192272\n",
      "4164         Korea, Rep.  Population growth (annual %)  0.836181\n",
      "4244          Kazakhstan  Population growth (annual %) -0.300550\n",
      "4324               Japan  Population growth (annual %)  0.167276\n",
      "4404        Saudi Arabia  Population growth (annual %)  2.289046\n",
      "            Country Name                                     Indicator Name  \\\n",
      "2325             Hungary  Poverty headcount ratio at $1.90 a day (2011 P...   \n",
      "2405              Poland  Poverty headcount ratio at $1.90 a day (2011 P...   \n",
      "2485           Argentina  Poverty headcount ratio at $1.90 a day (2011 P...   \n",
      "2565            Bulgaria  Poverty headcount ratio at $1.90 a day (2011 P...   \n",
      "2645              Norway  Poverty headcount ratio at $1.90 a day (2011 P...   \n",
      "2725             Iceland  Poverty headcount ratio at $1.90 a day (2011 P...   \n",
      "2805              Brazil  Poverty headcount ratio at $1.90 a day (2011 P...   \n",
      "2885             Austria  Poverty headcount ratio at $1.90 a day (2011 P...   \n",
      "2965            Thailand  Poverty headcount ratio at $1.90 a day (2011 P...   \n",
      "3045       United States  Poverty headcount ratio at $1.90 a day (2011 P...   \n",
      "3125            Malaysia  Poverty headcount ratio at $1.90 a day (2011 P...   \n",
      "3205             Ukraine  Poverty headcount ratio at $1.90 a day (2011 P...   \n",
      "3285         New Zealand  Poverty headcount ratio at $1.90 a day (2011 P...   \n",
      "3365             Algeria  Poverty headcount ratio at $1.90 a day (2011 P...   \n",
      "3445               China  Poverty headcount ratio at $1.90 a day (2011 P...   \n",
      "3525             Belarus  Poverty headcount ratio at $1.90 a day (2011 P...   \n",
      "3605             Estonia  Poverty headcount ratio at $1.90 a day (2011 P...   \n",
      "3685              Turkey  Poverty headcount ratio at $1.90 a day (2011 P...   \n",
      "3765  Russian Federation  Poverty headcount ratio at $1.90 a day (2011 P...   \n",
      "3845           Singapore  Poverty headcount ratio at $1.90 a day (2011 P...   \n",
      "3925              Canada  Poverty headcount ratio at $1.90 a day (2011 P...   \n",
      "4005  Iran, Islamic Rep.  Poverty headcount ratio at $1.90 a day (2011 P...   \n",
      "4085           Australia  Poverty headcount ratio at $1.90 a day (2011 P...   \n",
      "4165         Korea, Rep.  Poverty headcount ratio at $1.90 a day (2011 P...   \n",
      "4245          Kazakhstan  Poverty headcount ratio at $1.90 a day (2011 P...   \n",
      "4325               Japan  Poverty headcount ratio at $1.90 a day (2011 P...   \n",
      "4405        Saudi Arabia  Poverty headcount ratio at $1.90 a day (2011 P...   \n",
      "\n",
      "      2000  \n",
      "2325   NaN  \n",
      "2405   0.1  \n",
      "2485   5.7  \n",
      "2565   NaN  \n",
      "2645   NaN  \n",
      "2725   NaN  \n",
      "2805   NaN  \n",
      "2885   NaN  \n",
      "2965   2.5  \n",
      "3045   0.7  \n",
      "3125   NaN  \n",
      "3205   NaN  \n",
      "3285   NaN  \n",
      "3365   NaN  \n",
      "3445   NaN  \n",
      "3525   7.1  \n",
      "3605   NaN  \n",
      "3685   NaN  \n",
      "3765   2.3  \n",
      "3845   NaN  \n",
      "3925   0.3  \n",
      "4005   NaN  \n",
      "4085   NaN  \n",
      "4165   NaN  \n",
      "4245   NaN  \n",
      "4325   NaN  \n"
     ]
    },
    {
     "name": "stdout",
     "output_type": "stream",
     "text": [
      "4405   NaN  \n",
      "            Country Name                                     Indicator Name  \\\n",
      "2325             Hungary  Poverty headcount ratio at $1.90 a day (2011 P...   \n",
      "2405              Poland  Poverty headcount ratio at $1.90 a day (2011 P...   \n",
      "2485           Argentina  Poverty headcount ratio at $1.90 a day (2011 P...   \n",
      "2565            Bulgaria  Poverty headcount ratio at $1.90 a day (2011 P...   \n",
      "2645              Norway  Poverty headcount ratio at $1.90 a day (2011 P...   \n",
      "2725             Iceland  Poverty headcount ratio at $1.90 a day (2011 P...   \n",
      "2805              Brazil  Poverty headcount ratio at $1.90 a day (2011 P...   \n",
      "2885             Austria  Poverty headcount ratio at $1.90 a day (2011 P...   \n",
      "2965            Thailand  Poverty headcount ratio at $1.90 a day (2011 P...   \n",
      "3045       United States  Poverty headcount ratio at $1.90 a day (2011 P...   \n",
      "3125            Malaysia  Poverty headcount ratio at $1.90 a day (2011 P...   \n",
      "3205             Ukraine  Poverty headcount ratio at $1.90 a day (2011 P...   \n",
      "3285         New Zealand  Poverty headcount ratio at $1.90 a day (2011 P...   \n",
      "3365             Algeria  Poverty headcount ratio at $1.90 a day (2011 P...   \n",
      "3445               China  Poverty headcount ratio at $1.90 a day (2011 P...   \n",
      "3525             Belarus  Poverty headcount ratio at $1.90 a day (2011 P...   \n",
      "3605             Estonia  Poverty headcount ratio at $1.90 a day (2011 P...   \n",
      "3685              Turkey  Poverty headcount ratio at $1.90 a day (2011 P...   \n",
      "3765  Russian Federation  Poverty headcount ratio at $1.90 a day (2011 P...   \n",
      "3845           Singapore  Poverty headcount ratio at $1.90 a day (2011 P...   \n",
      "3925              Canada  Poverty headcount ratio at $1.90 a day (2011 P...   \n",
      "4005  Iran, Islamic Rep.  Poverty headcount ratio at $1.90 a day (2011 P...   \n",
      "4085           Australia  Poverty headcount ratio at $1.90 a day (2011 P...   \n",
      "4165         Korea, Rep.  Poverty headcount ratio at $1.90 a day (2011 P...   \n",
      "4245          Kazakhstan  Poverty headcount ratio at $1.90 a day (2011 P...   \n",
      "4325               Japan  Poverty headcount ratio at $1.90 a day (2011 P...   \n",
      "4405        Saudi Arabia  Poverty headcount ratio at $1.90 a day (2011 P...   \n",
      "\n",
      "          2000  \n",
      "2325  2.671429  \n",
      "2405  0.100000  \n",
      "2485  5.700000  \n",
      "2565  2.671429  \n",
      "2645  2.671429  \n",
      "2725  2.671429  \n",
      "2805  2.671429  \n",
      "2885  2.671429  \n",
      "2965  2.500000  \n",
      "3045  0.700000  \n",
      "3125  2.671429  \n",
      "3205  2.671429  \n",
      "3285  2.671429  \n",
      "3365  2.671429  \n",
      "3445  2.671429  \n",
      "3525  7.100000  \n",
      "3605  2.671429  \n",
      "3685  2.671429  \n",
      "3765  2.300000  \n",
      "3845  2.671429  \n",
      "3925  0.300000  \n",
      "4005  2.671429  \n",
      "4085  2.671429  \n",
      "4165  2.671429  \n",
      "4245  2.671429  \n",
      "4325  2.671429  \n",
      "4405  2.671429  \n",
      "['Poverty headcount ratio at $1.90 a day (2011 PPP) (% of population)', 'Prevalence of underweight, weight for age (% of children under 5)', 'Community health workers (per 1,000 people)']\n"
     ]
    },
    {
     "data": {
      "text/html": [
       "<div>\n",
       "<style>\n",
       "    .dataframe thead tr:only-child th {\n",
       "        text-align: right;\n",
       "    }\n",
       "\n",
       "    .dataframe thead th {\n",
       "        text-align: left;\n",
       "    }\n",
       "\n",
       "    .dataframe tbody tr th {\n",
       "        vertical-align: top;\n",
       "    }\n",
       "</style>\n",
       "<table border=\"1\" class=\"dataframe\">\n",
       "  <thead>\n",
       "    <tr style=\"text-align: right;\">\n",
       "      <th></th>\n",
       "      <th>Country Name</th>\n",
       "      <th>Indicator Name</th>\n",
       "      <th>2000</th>\n",
       "    </tr>\n",
       "  </thead>\n",
       "  <tbody>\n",
       "    <tr>\n",
       "      <th>0</th>\n",
       "      <td>France</td>\n",
       "      <td>Urban population (% of total)</td>\n",
       "      <td>7.587100e+01</td>\n",
       "    </tr>\n",
       "    <tr>\n",
       "      <th>1</th>\n",
       "      <td>Sweden</td>\n",
       "      <td>Urban population (% of total)</td>\n",
       "      <td>8.402600e+01</td>\n",
       "    </tr>\n",
       "    <tr>\n",
       "      <th>2</th>\n",
       "      <td>United Kingdom</td>\n",
       "      <td>Urban population (% of total)</td>\n",
       "      <td>7.865100e+01</td>\n",
       "    </tr>\n",
       "    <tr>\n",
       "      <th>3</th>\n",
       "      <td>Cyprus</td>\n",
       "      <td>Urban population (% of total)</td>\n",
       "      <td>6.864800e+01</td>\n",
       "    </tr>\n",
       "    <tr>\n",
       "      <th>4</th>\n",
       "      <td>Luxembourg</td>\n",
       "      <td>Urban population (% of total)</td>\n",
       "      <td>8.421600e+01</td>\n",
       "    </tr>\n",
       "    <tr>\n",
       "      <th>5</th>\n",
       "      <td>Malta</td>\n",
       "      <td>Urban population (% of total)</td>\n",
       "      <td>9.236800e+01</td>\n",
       "    </tr>\n",
       "    <tr>\n",
       "      <th>6</th>\n",
       "      <td>Portugal</td>\n",
       "      <td>Urban population (% of total)</td>\n",
       "      <td>5.439900e+01</td>\n",
       "    </tr>\n",
       "    <tr>\n",
       "      <th>7</th>\n",
       "      <td>Belgium</td>\n",
       "      <td>Urban population (% of total)</td>\n",
       "      <td>9.712800e+01</td>\n",
       "    </tr>\n",
       "    <tr>\n",
       "      <th>8</th>\n",
       "      <td>Denmark</td>\n",
       "      <td>Urban population (% of total)</td>\n",
       "      <td>8.510000e+01</td>\n",
       "    </tr>\n",
       "    <tr>\n",
       "      <th>9</th>\n",
       "      <td>Switzerland</td>\n",
       "      <td>Urban population (% of total)</td>\n",
       "      <td>7.332200e+01</td>\n",
       "    </tr>\n",
       "    <tr>\n",
       "      <th>10</th>\n",
       "      <td>Latvia</td>\n",
       "      <td>Urban population (% of total)</td>\n",
       "      <td>6.806700e+01</td>\n",
       "    </tr>\n",
       "    <tr>\n",
       "      <th>11</th>\n",
       "      <td>Italy</td>\n",
       "      <td>Urban population (% of total)</td>\n",
       "      <td>6.722200e+01</td>\n",
       "    </tr>\n",
       "    <tr>\n",
       "      <th>12</th>\n",
       "      <td>Croatia</td>\n",
       "      <td>Urban population (% of total)</td>\n",
       "      <td>5.558700e+01</td>\n",
       "    </tr>\n",
       "    <tr>\n",
       "      <th>13</th>\n",
       "      <td>France</td>\n",
       "      <td>Urban population</td>\n",
       "      <td>4.621492e+07</td>\n",
       "    </tr>\n",
       "    <tr>\n",
       "      <th>14</th>\n",
       "      <td>Sweden</td>\n",
       "      <td>Urban population</td>\n",
       "      <td>7.454878e+06</td>\n",
       "    </tr>\n",
       "    <tr>\n",
       "      <th>15</th>\n",
       "      <td>United Kingdom</td>\n",
       "      <td>Urban population</td>\n",
       "      <td>4.631955e+07</td>\n",
       "    </tr>\n",
       "    <tr>\n",
       "      <th>16</th>\n",
       "      <td>Cyprus</td>\n",
       "      <td>Urban population</td>\n",
       "      <td>6.475470e+05</td>\n",
       "    </tr>\n",
       "    <tr>\n",
       "      <th>17</th>\n",
       "      <td>Luxembourg</td>\n",
       "      <td>Urban population</td>\n",
       "      <td>3.674340e+05</td>\n",
       "    </tr>\n",
       "    <tr>\n",
       "      <th>18</th>\n",
       "      <td>Malta</td>\n",
       "      <td>Urban population</td>\n",
       "      <td>3.603160e+05</td>\n",
       "    </tr>\n",
       "    <tr>\n",
       "      <th>19</th>\n",
       "      <td>Portugal</td>\n",
       "      <td>Urban population</td>\n",
       "      <td>5.597602e+06</td>\n",
       "    </tr>\n",
       "    <tr>\n",
       "      <th>20</th>\n",
       "      <td>Belgium</td>\n",
       "      <td>Urban population</td>\n",
       "      <td>9.956834e+06</td>\n",
       "    </tr>\n",
       "    <tr>\n",
       "      <th>21</th>\n",
       "      <td>Denmark</td>\n",
       "      <td>Urban population</td>\n",
       "      <td>4.544013e+06</td>\n",
       "    </tr>\n",
       "    <tr>\n",
       "      <th>22</th>\n",
       "      <td>Switzerland</td>\n",
       "      <td>Urban population</td>\n",
       "      <td>5.267636e+06</td>\n",
       "    </tr>\n",
       "    <tr>\n",
       "      <th>23</th>\n",
       "      <td>Latvia</td>\n",
       "      <td>Urban population</td>\n",
       "      <td>1.611520e+06</td>\n",
       "    </tr>\n",
       "    <tr>\n",
       "      <th>24</th>\n",
       "      <td>Italy</td>\n",
       "      <td>Urban population</td>\n",
       "      <td>3.827762e+07</td>\n",
       "    </tr>\n",
       "    <tr>\n",
       "      <th>25</th>\n",
       "      <td>Croatia</td>\n",
       "      <td>Urban population</td>\n",
       "      <td>2.460281e+06</td>\n",
       "    </tr>\n",
       "    <tr>\n",
       "      <th>26</th>\n",
       "      <td>France</td>\n",
       "      <td>Urban population growth (annual %)</td>\n",
       "      <td>1.024238e+00</td>\n",
       "    </tr>\n",
       "    <tr>\n",
       "      <th>27</th>\n",
       "      <td>Sweden</td>\n",
       "      <td>Urban population growth (annual %)</td>\n",
       "      <td>1.939000e-01</td>\n",
       "    </tr>\n",
       "    <tr>\n",
       "      <th>28</th>\n",
       "      <td>United Kingdom</td>\n",
       "      <td>Urban population growth (annual %)</td>\n",
       "      <td>4.336157e-01</td>\n",
       "    </tr>\n",
       "    <tr>\n",
       "      <th>29</th>\n",
       "      <td>Cyprus</td>\n",
       "      <td>Urban population growth (annual %)</td>\n",
       "      <td>2.020595e+00</td>\n",
       "    </tr>\n",
       "    <tr>\n",
       "      <th>...</th>\n",
       "      <td>...</td>\n",
       "      <td>...</td>\n",
       "      <td>...</td>\n",
       "    </tr>\n",
       "    <tr>\n",
       "      <th>466</th>\n",
       "      <td>Kazakhstan</td>\n",
       "      <td>Poverty headcount ratio at $1.90 a day (2011 P...</td>\n",
       "      <td>NaN</td>\n",
       "    </tr>\n",
       "    <tr>\n",
       "      <th>467</th>\n",
       "      <td>Japan</td>\n",
       "      <td>Poverty headcount ratio at $1.90 a day (2011 P...</td>\n",
       "      <td>NaN</td>\n",
       "    </tr>\n",
       "    <tr>\n",
       "      <th>468</th>\n",
       "      <td>Saudi Arabia</td>\n",
       "      <td>Poverty headcount ratio at $1.90 a day (2011 P...</td>\n",
       "      <td>NaN</td>\n",
       "    </tr>\n",
       "    <tr>\n",
       "      <th>469</th>\n",
       "      <td>Hungary</td>\n",
       "      <td>Poverty headcount ratio at $1.90 a day (2011 P...</td>\n",
       "      <td>2.671429e+00</td>\n",
       "    </tr>\n",
       "    <tr>\n",
       "      <th>470</th>\n",
       "      <td>Poland</td>\n",
       "      <td>Poverty headcount ratio at $1.90 a day (2011 P...</td>\n",
       "      <td>1.000000e-01</td>\n",
       "    </tr>\n",
       "    <tr>\n",
       "      <th>471</th>\n",
       "      <td>Argentina</td>\n",
       "      <td>Poverty headcount ratio at $1.90 a day (2011 P...</td>\n",
       "      <td>5.700000e+00</td>\n",
       "    </tr>\n",
       "    <tr>\n",
       "      <th>472</th>\n",
       "      <td>Bulgaria</td>\n",
       "      <td>Poverty headcount ratio at $1.90 a day (2011 P...</td>\n",
       "      <td>2.671429e+00</td>\n",
       "    </tr>\n",
       "    <tr>\n",
       "      <th>473</th>\n",
       "      <td>Norway</td>\n",
       "      <td>Poverty headcount ratio at $1.90 a day (2011 P...</td>\n",
       "      <td>2.671429e+00</td>\n",
       "    </tr>\n",
       "    <tr>\n",
       "      <th>474</th>\n",
       "      <td>Iceland</td>\n",
       "      <td>Poverty headcount ratio at $1.90 a day (2011 P...</td>\n",
       "      <td>2.671429e+00</td>\n",
       "    </tr>\n",
       "    <tr>\n",
       "      <th>475</th>\n",
       "      <td>Brazil</td>\n",
       "      <td>Poverty headcount ratio at $1.90 a day (2011 P...</td>\n",
       "      <td>2.671429e+00</td>\n",
       "    </tr>\n",
       "    <tr>\n",
       "      <th>476</th>\n",
       "      <td>Austria</td>\n",
       "      <td>Poverty headcount ratio at $1.90 a day (2011 P...</td>\n",
       "      <td>2.671429e+00</td>\n",
       "    </tr>\n",
       "    <tr>\n",
       "      <th>477</th>\n",
       "      <td>Thailand</td>\n",
       "      <td>Poverty headcount ratio at $1.90 a day (2011 P...</td>\n",
       "      <td>2.500000e+00</td>\n",
       "    </tr>\n",
       "    <tr>\n",
       "      <th>478</th>\n",
       "      <td>United States</td>\n",
       "      <td>Poverty headcount ratio at $1.90 a day (2011 P...</td>\n",
       "      <td>7.000000e-01</td>\n",
       "    </tr>\n",
       "    <tr>\n",
       "      <th>479</th>\n",
       "      <td>Malaysia</td>\n",
       "      <td>Poverty headcount ratio at $1.90 a day (2011 P...</td>\n",
       "      <td>2.671429e+00</td>\n",
       "    </tr>\n",
       "    <tr>\n",
       "      <th>480</th>\n",
       "      <td>Ukraine</td>\n",
       "      <td>Poverty headcount ratio at $1.90 a day (2011 P...</td>\n",
       "      <td>2.671429e+00</td>\n",
       "    </tr>\n",
       "    <tr>\n",
       "      <th>481</th>\n",
       "      <td>New Zealand</td>\n",
       "      <td>Poverty headcount ratio at $1.90 a day (2011 P...</td>\n",
       "      <td>2.671429e+00</td>\n",
       "    </tr>\n",
       "    <tr>\n",
       "      <th>482</th>\n",
       "      <td>Algeria</td>\n",
       "      <td>Poverty headcount ratio at $1.90 a day (2011 P...</td>\n",
       "      <td>2.671429e+00</td>\n",
       "    </tr>\n",
       "    <tr>\n",
       "      <th>483</th>\n",
       "      <td>China</td>\n",
       "      <td>Poverty headcount ratio at $1.90 a day (2011 P...</td>\n",
       "      <td>2.671429e+00</td>\n",
       "    </tr>\n",
       "    <tr>\n",
       "      <th>484</th>\n",
       "      <td>Belarus</td>\n",
       "      <td>Poverty headcount ratio at $1.90 a day (2011 P...</td>\n",
       "      <td>7.100000e+00</td>\n",
       "    </tr>\n",
       "    <tr>\n",
       "      <th>485</th>\n",
       "      <td>Estonia</td>\n",
       "      <td>Poverty headcount ratio at $1.90 a day (2011 P...</td>\n",
       "      <td>2.671429e+00</td>\n",
       "    </tr>\n",
       "    <tr>\n",
       "      <th>486</th>\n",
       "      <td>Turkey</td>\n",
       "      <td>Poverty headcount ratio at $1.90 a day (2011 P...</td>\n",
       "      <td>2.671429e+00</td>\n",
       "    </tr>\n",
       "    <tr>\n",
       "      <th>487</th>\n",
       "      <td>Russian Federation</td>\n",
       "      <td>Poverty headcount ratio at $1.90 a day (2011 P...</td>\n",
       "      <td>2.300000e+00</td>\n",
       "    </tr>\n",
       "    <tr>\n",
       "      <th>488</th>\n",
       "      <td>Singapore</td>\n",
       "      <td>Poverty headcount ratio at $1.90 a day (2011 P...</td>\n",
       "      <td>2.671429e+00</td>\n",
       "    </tr>\n",
       "    <tr>\n",
       "      <th>489</th>\n",
       "      <td>Canada</td>\n",
       "      <td>Poverty headcount ratio at $1.90 a day (2011 P...</td>\n",
       "      <td>3.000000e-01</td>\n",
       "    </tr>\n",
       "    <tr>\n",
       "      <th>490</th>\n",
       "      <td>Iran, Islamic Rep.</td>\n",
       "      <td>Poverty headcount ratio at $1.90 a day (2011 P...</td>\n",
       "      <td>2.671429e+00</td>\n",
       "    </tr>\n",
       "    <tr>\n",
       "      <th>491</th>\n",
       "      <td>Australia</td>\n",
       "      <td>Poverty headcount ratio at $1.90 a day (2011 P...</td>\n",
       "      <td>2.671429e+00</td>\n",
       "    </tr>\n",
       "    <tr>\n",
       "      <th>492</th>\n",
       "      <td>Korea, Rep.</td>\n",
       "      <td>Poverty headcount ratio at $1.90 a day (2011 P...</td>\n",
       "      <td>2.671429e+00</td>\n",
       "    </tr>\n",
       "    <tr>\n",
       "      <th>493</th>\n",
       "      <td>Kazakhstan</td>\n",
       "      <td>Poverty headcount ratio at $1.90 a day (2011 P...</td>\n",
       "      <td>2.671429e+00</td>\n",
       "    </tr>\n",
       "    <tr>\n",
       "      <th>494</th>\n",
       "      <td>Japan</td>\n",
       "      <td>Poverty headcount ratio at $1.90 a day (2011 P...</td>\n",
       "      <td>2.671429e+00</td>\n",
       "    </tr>\n",
       "    <tr>\n",
       "      <th>495</th>\n",
       "      <td>Saudi Arabia</td>\n",
       "      <td>Poverty headcount ratio at $1.90 a day (2011 P...</td>\n",
       "      <td>2.671429e+00</td>\n",
       "    </tr>\n",
       "  </tbody>\n",
       "</table>\n",
       "<p>496 rows × 3 columns</p>\n",
       "</div>"
      ],
      "text/plain": [
       "           Country Name                                     Indicator Name  \\\n",
       "0                France                      Urban population (% of total)   \n",
       "1                Sweden                      Urban population (% of total)   \n",
       "2        United Kingdom                      Urban population (% of total)   \n",
       "3                Cyprus                      Urban population (% of total)   \n",
       "4            Luxembourg                      Urban population (% of total)   \n",
       "5                 Malta                      Urban population (% of total)   \n",
       "6              Portugal                      Urban population (% of total)   \n",
       "7               Belgium                      Urban population (% of total)   \n",
       "8               Denmark                      Urban population (% of total)   \n",
       "9           Switzerland                      Urban population (% of total)   \n",
       "10               Latvia                      Urban population (% of total)   \n",
       "11                Italy                      Urban population (% of total)   \n",
       "12              Croatia                      Urban population (% of total)   \n",
       "13               France                                   Urban population   \n",
       "14               Sweden                                   Urban population   \n",
       "15       United Kingdom                                   Urban population   \n",
       "16               Cyprus                                   Urban population   \n",
       "17           Luxembourg                                   Urban population   \n",
       "18                Malta                                   Urban population   \n",
       "19             Portugal                                   Urban population   \n",
       "20              Belgium                                   Urban population   \n",
       "21              Denmark                                   Urban population   \n",
       "22          Switzerland                                   Urban population   \n",
       "23               Latvia                                   Urban population   \n",
       "24                Italy                                   Urban population   \n",
       "25              Croatia                                   Urban population   \n",
       "26               France                 Urban population growth (annual %)   \n",
       "27               Sweden                 Urban population growth (annual %)   \n",
       "28       United Kingdom                 Urban population growth (annual %)   \n",
       "29               Cyprus                 Urban population growth (annual %)   \n",
       "..                  ...                                                ...   \n",
       "466          Kazakhstan  Poverty headcount ratio at $1.90 a day (2011 P...   \n",
       "467               Japan  Poverty headcount ratio at $1.90 a day (2011 P...   \n",
       "468        Saudi Arabia  Poverty headcount ratio at $1.90 a day (2011 P...   \n",
       "469             Hungary  Poverty headcount ratio at $1.90 a day (2011 P...   \n",
       "470              Poland  Poverty headcount ratio at $1.90 a day (2011 P...   \n",
       "471           Argentina  Poverty headcount ratio at $1.90 a day (2011 P...   \n",
       "472            Bulgaria  Poverty headcount ratio at $1.90 a day (2011 P...   \n",
       "473              Norway  Poverty headcount ratio at $1.90 a day (2011 P...   \n",
       "474             Iceland  Poverty headcount ratio at $1.90 a day (2011 P...   \n",
       "475              Brazil  Poverty headcount ratio at $1.90 a day (2011 P...   \n",
       "476             Austria  Poverty headcount ratio at $1.90 a day (2011 P...   \n",
       "477            Thailand  Poverty headcount ratio at $1.90 a day (2011 P...   \n",
       "478       United States  Poverty headcount ratio at $1.90 a day (2011 P...   \n",
       "479            Malaysia  Poverty headcount ratio at $1.90 a day (2011 P...   \n",
       "480             Ukraine  Poverty headcount ratio at $1.90 a day (2011 P...   \n",
       "481         New Zealand  Poverty headcount ratio at $1.90 a day (2011 P...   \n",
       "482             Algeria  Poverty headcount ratio at $1.90 a day (2011 P...   \n",
       "483               China  Poverty headcount ratio at $1.90 a day (2011 P...   \n",
       "484             Belarus  Poverty headcount ratio at $1.90 a day (2011 P...   \n",
       "485             Estonia  Poverty headcount ratio at $1.90 a day (2011 P...   \n",
       "486              Turkey  Poverty headcount ratio at $1.90 a day (2011 P...   \n",
       "487  Russian Federation  Poverty headcount ratio at $1.90 a day (2011 P...   \n",
       "488           Singapore  Poverty headcount ratio at $1.90 a day (2011 P...   \n",
       "489              Canada  Poverty headcount ratio at $1.90 a day (2011 P...   \n",
       "490  Iran, Islamic Rep.  Poverty headcount ratio at $1.90 a day (2011 P...   \n",
       "491           Australia  Poverty headcount ratio at $1.90 a day (2011 P...   \n",
       "492         Korea, Rep.  Poverty headcount ratio at $1.90 a day (2011 P...   \n",
       "493          Kazakhstan  Poverty headcount ratio at $1.90 a day (2011 P...   \n",
       "494               Japan  Poverty headcount ratio at $1.90 a day (2011 P...   \n",
       "495        Saudi Arabia  Poverty headcount ratio at $1.90 a day (2011 P...   \n",
       "\n",
       "             2000  \n",
       "0    7.587100e+01  \n",
       "1    8.402600e+01  \n",
       "2    7.865100e+01  \n",
       "3    6.864800e+01  \n",
       "4    8.421600e+01  \n",
       "5    9.236800e+01  \n",
       "6    5.439900e+01  \n",
       "7    9.712800e+01  \n",
       "8    8.510000e+01  \n",
       "9    7.332200e+01  \n",
       "10   6.806700e+01  \n",
       "11   6.722200e+01  \n",
       "12   5.558700e+01  \n",
       "13   4.621492e+07  \n",
       "14   7.454878e+06  \n",
       "15   4.631955e+07  \n",
       "16   6.475470e+05  \n",
       "17   3.674340e+05  \n",
       "18   3.603160e+05  \n",
       "19   5.597602e+06  \n",
       "20   9.956834e+06  \n",
       "21   4.544013e+06  \n",
       "22   5.267636e+06  \n",
       "23   1.611520e+06  \n",
       "24   3.827762e+07  \n",
       "25   2.460281e+06  \n",
       "26   1.024238e+00  \n",
       "27   1.939000e-01  \n",
       "28   4.336157e-01  \n",
       "29   2.020595e+00  \n",
       "..            ...  \n",
       "466           NaN  \n",
       "467           NaN  \n",
       "468           NaN  \n",
       "469  2.671429e+00  \n",
       "470  1.000000e-01  \n",
       "471  5.700000e+00  \n",
       "472  2.671429e+00  \n",
       "473  2.671429e+00  \n",
       "474  2.671429e+00  \n",
       "475  2.671429e+00  \n",
       "476  2.671429e+00  \n",
       "477  2.500000e+00  \n",
       "478  7.000000e-01  \n",
       "479  2.671429e+00  \n",
       "480  2.671429e+00  \n",
       "481  2.671429e+00  \n",
       "482  2.671429e+00  \n",
       "483  2.671429e+00  \n",
       "484  7.100000e+00  \n",
       "485  2.671429e+00  \n",
       "486  2.671429e+00  \n",
       "487  2.300000e+00  \n",
       "488  2.671429e+00  \n",
       "489  3.000000e-01  \n",
       "490  2.671429e+00  \n",
       "491  2.671429e+00  \n",
       "492  2.671429e+00  \n",
       "493  2.671429e+00  \n",
       "494  2.671429e+00  \n",
       "495  2.671429e+00  \n",
       "\n",
       "[496 rows x 3 columns]"
      ]
     },
     "execution_count": 413,
     "metadata": {},
     "output_type": "execute_result"
    }
   ],
   "source": [
    "list_deleted_indi = []\n",
    "df_test = pd.DataFrame()\n",
    "\n",
    "for label in country_class_y['Label'].unique():\n",
    "    for indicator in wb_meta_indi['INDICATOR_NAME']:\n",
    "        df_temp = pd.DataFrame()\n",
    "        df_temp = df_2000[(df_2000['Indicator Name'] == indicator) & (df_2000_label['Label'] == label)]\n",
    "        print(df_temp)\n",
    "        #df_temp = df_temp.fillna(df_temp.mean())\n",
    "        \n",
    "        if(df_temp['2000'].isnull().values.all()):\n",
    "            #print(df_temp)\n",
    "            list_deleted_indi.append(indicator) \n",
    "        \n",
    "        if((not df_temp['2000'].isnull().values.all()) & df_temp.isnull().values.any()):\n",
    "            df_temp = df_temp.fillna(df_temp.mean())\n",
    "            df_test = pd.concat( [df_test,df_temp], ignore_index=True, axis=0)\n",
    "            print(df_temp)\n",
    "            break\n",
    "        \n",
    "        df_test = pd.concat( [df_test,df_temp], ignore_index=True, axis=0)\n",
    "        \n",
    "    if((not df_temp['2000'].isnull().values.all()) & df_temp.isnull().values.any()):\n",
    "        break\n",
    "\n",
    "print(list_deleted_indi)\n",
    "df_test"
   ]
  },
  {
   "cell_type": "code",
   "execution_count": 114,
   "metadata": {},
   "outputs": [
    {
     "ename": "SyntaxError",
     "evalue": "invalid syntax (<ipython-input-114-c4be017c096d>, line 11)",
     "output_type": "error",
     "traceback": [
      "\u001b[1;36m  File \u001b[1;32m\"<ipython-input-114-c4be017c096d>\"\u001b[1;36m, line \u001b[1;32m11\u001b[0m\n\u001b[1;33m    df_test_country[]\u001b[0m\n\u001b[1;37m                    ^\u001b[0m\n\u001b[1;31mSyntaxError\u001b[0m\u001b[1;31m:\u001b[0m invalid syntax\n"
     ]
    }
   ],
   "source": [
    "# reshape the matrix feature\n",
    "col = list(set_saved_indi_filter)\n",
    "ind = list(country_class_y['Country Name'])\n",
    "\n",
    "for country in country_class_y['Country Name']:\n",
    "    Xtrain.loc[country] = df_test_clean[df_test_clean['Country Name'] == country]['2000'].values\n",
    "Xtrain.shape\n",
    "\n",
    "Xtrain = pd.DataFrame(np.zeros(shape = (56, 64)), columns = col, index = ind)\n",
    "for country in set_test:\n",
    "    df_test_country[]\n",
    "    "
   ]
  }
 ],
 "metadata": {
  "kernelspec": {
   "display_name": "Python 3",
   "language": "python",
   "name": "python3"
  },
  "language_info": {
   "codemirror_mode": {
    "name": "ipython",
    "version": 3
   },
   "file_extension": ".py",
   "mimetype": "text/x-python",
   "name": "python",
   "nbconvert_exporter": "python",
   "pygments_lexer": "ipython3",
   "version": "3.6.1"
  }
 },
 "nbformat": 4,
 "nbformat_minor": 1
}
