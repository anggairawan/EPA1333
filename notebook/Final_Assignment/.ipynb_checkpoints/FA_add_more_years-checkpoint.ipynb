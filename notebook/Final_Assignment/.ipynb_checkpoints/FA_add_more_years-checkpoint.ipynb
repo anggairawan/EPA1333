{
 "cells": [
  {
   "cell_type": "markdown",
   "metadata": {},
   "source": [
    "# Can we make a change on climate change?\n",
    "#### EPA1333 Final Assignment\n",
    "### Introduction\n",
    "Regardless of the many debates over the impact of humans on climate change, global warming is an observable fact. According to NASA, highest 16 global temperatures have been recorded since 2001, the arctic ice shrank to a minimum in 2012, and carbon dioxide levels in the air are higher than ever!\n",
    "\n",
    "Data analysis can help us better understand how the climate has changed, why, to make predictions for the future years, and to evaluate measures on how to suppress these changes. In this assignment you receive climate change data from World Bank, and are expected to perform an original and non-trivial analysis using Python.\n",
    "\n",
    "### Data\n",
    "\n",
    "#### Climate change indicators\n",
    "The climate change data offered by World Bank contains a large set of indicators, such as for example CO2 emissions, population growth or renewable energy output. Values of these indicators are available per country and per year. You can download the data in *.csv format from https://data.worldbank.org/topic/climate-change."
   ]
  },
  {
   "cell_type": "code",
   "execution_count": 1,
   "metadata": {
    "collapsed": true
   },
   "outputs": [],
   "source": [
    "# import standard library\n",
    "%matplotlib inline\n",
    "import pandas as pd\n",
    "import numpy as np\n",
    "import matplotlib.pyplot as plt"
   ]
  },
  {
   "cell_type": "code",
   "execution_count": 2,
   "metadata": {},
   "outputs": [
    {
     "data": {
      "text/html": [
       "<div>\n",
       "<style>\n",
       "    .dataframe thead tr:only-child th {\n",
       "        text-align: right;\n",
       "    }\n",
       "\n",
       "    .dataframe thead th {\n",
       "        text-align: left;\n",
       "    }\n",
       "\n",
       "    .dataframe tbody tr th {\n",
       "        vertical-align: top;\n",
       "    }\n",
       "</style>\n",
       "<table border=\"1\" class=\"dataframe\">\n",
       "  <thead>\n",
       "    <tr style=\"text-align: right;\">\n",
       "      <th></th>\n",
       "      <th>Country Name</th>\n",
       "      <th>Country Code</th>\n",
       "      <th>Indicator Name</th>\n",
       "      <th>Indicator Code</th>\n",
       "      <th>1960</th>\n",
       "      <th>1961</th>\n",
       "      <th>1962</th>\n",
       "      <th>1963</th>\n",
       "      <th>1964</th>\n",
       "      <th>1965</th>\n",
       "      <th>...</th>\n",
       "      <th>2007</th>\n",
       "      <th>2008</th>\n",
       "      <th>2009</th>\n",
       "      <th>2010</th>\n",
       "      <th>2011</th>\n",
       "      <th>2012</th>\n",
       "      <th>2013</th>\n",
       "      <th>2014</th>\n",
       "      <th>2015</th>\n",
       "      <th>2016</th>\n",
       "    </tr>\n",
       "  </thead>\n",
       "  <tbody>\n",
       "    <tr>\n",
       "      <th>0</th>\n",
       "      <td>Aruba</td>\n",
       "      <td>ABW</td>\n",
       "      <td>Urban population (% of total)</td>\n",
       "      <td>SP.URB.TOTL.IN.ZS</td>\n",
       "      <td>50.776000</td>\n",
       "      <td>50.761000</td>\n",
       "      <td>50.746000</td>\n",
       "      <td>50.730000</td>\n",
       "      <td>50.715000</td>\n",
       "      <td>50.700000</td>\n",
       "      <td>...</td>\n",
       "      <td>44.147000</td>\n",
       "      <td>43.783000</td>\n",
       "      <td>43.421000</td>\n",
       "      <td>43.059000</td>\n",
       "      <td>42.698000</td>\n",
       "      <td>42.364000</td>\n",
       "      <td>42.058000</td>\n",
       "      <td>41.779000</td>\n",
       "      <td>41.528000</td>\n",
       "      <td>41.304000</td>\n",
       "    </tr>\n",
       "    <tr>\n",
       "      <th>1</th>\n",
       "      <td>Aruba</td>\n",
       "      <td>ABW</td>\n",
       "      <td>Urban population</td>\n",
       "      <td>SP.URB.TOTL</td>\n",
       "      <td>27526.000000</td>\n",
       "      <td>28141.000000</td>\n",
       "      <td>28532.000000</td>\n",
       "      <td>28761.000000</td>\n",
       "      <td>28924.000000</td>\n",
       "      <td>29082.000000</td>\n",
       "      <td>...</td>\n",
       "      <td>44686.000000</td>\n",
       "      <td>44375.000000</td>\n",
       "      <td>44052.000000</td>\n",
       "      <td>43778.000000</td>\n",
       "      <td>43575.000000</td>\n",
       "      <td>43456.000000</td>\n",
       "      <td>43398.000000</td>\n",
       "      <td>43365.000000</td>\n",
       "      <td>43331.000000</td>\n",
       "      <td>43296.000000</td>\n",
       "    </tr>\n",
       "    <tr>\n",
       "      <th>2</th>\n",
       "      <td>Aruba</td>\n",
       "      <td>ABW</td>\n",
       "      <td>Urban population growth (annual %)</td>\n",
       "      <td>SP.URB.GROW</td>\n",
       "      <td>3.117931</td>\n",
       "      <td>2.209658</td>\n",
       "      <td>1.379868</td>\n",
       "      <td>0.799404</td>\n",
       "      <td>0.565140</td>\n",
       "      <td>0.544773</td>\n",
       "      <td>...</td>\n",
       "      <td>-0.435429</td>\n",
       "      <td>-0.698401</td>\n",
       "      <td>-0.730549</td>\n",
       "      <td>-0.623935</td>\n",
       "      <td>-0.464782</td>\n",
       "      <td>-0.273466</td>\n",
       "      <td>-0.133557</td>\n",
       "      <td>-0.076069</td>\n",
       "      <td>-0.078435</td>\n",
       "      <td>-0.080806</td>\n",
       "    </tr>\n",
       "    <tr>\n",
       "      <th>3</th>\n",
       "      <td>Aruba</td>\n",
       "      <td>ABW</td>\n",
       "      <td>Population, total</td>\n",
       "      <td>SP.POP.TOTL</td>\n",
       "      <td>54211.000000</td>\n",
       "      <td>55438.000000</td>\n",
       "      <td>56225.000000</td>\n",
       "      <td>56695.000000</td>\n",
       "      <td>57032.000000</td>\n",
       "      <td>57360.000000</td>\n",
       "      <td>...</td>\n",
       "      <td>101220.000000</td>\n",
       "      <td>101353.000000</td>\n",
       "      <td>101453.000000</td>\n",
       "      <td>101669.000000</td>\n",
       "      <td>102053.000000</td>\n",
       "      <td>102577.000000</td>\n",
       "      <td>103187.000000</td>\n",
       "      <td>103795.000000</td>\n",
       "      <td>104341.000000</td>\n",
       "      <td>104822.000000</td>\n",
       "    </tr>\n",
       "    <tr>\n",
       "      <th>4</th>\n",
       "      <td>Aruba</td>\n",
       "      <td>ABW</td>\n",
       "      <td>Population growth (annual %)</td>\n",
       "      <td>SP.POP.GROW</td>\n",
       "      <td>3.148037</td>\n",
       "      <td>2.238144</td>\n",
       "      <td>1.409622</td>\n",
       "      <td>0.832453</td>\n",
       "      <td>0.592649</td>\n",
       "      <td>0.573468</td>\n",
       "      <td>...</td>\n",
       "      <td>0.384060</td>\n",
       "      <td>0.131311</td>\n",
       "      <td>0.098616</td>\n",
       "      <td>0.212680</td>\n",
       "      <td>0.376985</td>\n",
       "      <td>0.512145</td>\n",
       "      <td>0.592914</td>\n",
       "      <td>0.587492</td>\n",
       "      <td>0.524658</td>\n",
       "      <td>0.459929</td>\n",
       "    </tr>\n",
       "  </tbody>\n",
       "</table>\n",
       "<p>5 rows × 61 columns</p>\n",
       "</div>"
      ],
      "text/plain": [
       "  Country Name Country Code                      Indicator Name  \\\n",
       "0        Aruba          ABW       Urban population (% of total)   \n",
       "1        Aruba          ABW                    Urban population   \n",
       "2        Aruba          ABW  Urban population growth (annual %)   \n",
       "3        Aruba          ABW                   Population, total   \n",
       "4        Aruba          ABW        Population growth (annual %)   \n",
       "\n",
       "      Indicator Code          1960          1961          1962          1963  \\\n",
       "0  SP.URB.TOTL.IN.ZS     50.776000     50.761000     50.746000     50.730000   \n",
       "1        SP.URB.TOTL  27526.000000  28141.000000  28532.000000  28761.000000   \n",
       "2        SP.URB.GROW      3.117931      2.209658      1.379868      0.799404   \n",
       "3        SP.POP.TOTL  54211.000000  55438.000000  56225.000000  56695.000000   \n",
       "4        SP.POP.GROW      3.148037      2.238144      1.409622      0.832453   \n",
       "\n",
       "           1964          1965      ...                 2007           2008  \\\n",
       "0     50.715000     50.700000      ...            44.147000      43.783000   \n",
       "1  28924.000000  29082.000000      ...         44686.000000   44375.000000   \n",
       "2      0.565140      0.544773      ...            -0.435429      -0.698401   \n",
       "3  57032.000000  57360.000000      ...        101220.000000  101353.000000   \n",
       "4      0.592649      0.573468      ...             0.384060       0.131311   \n",
       "\n",
       "            2009           2010           2011           2012           2013  \\\n",
       "0      43.421000      43.059000      42.698000      42.364000      42.058000   \n",
       "1   44052.000000   43778.000000   43575.000000   43456.000000   43398.000000   \n",
       "2      -0.730549      -0.623935      -0.464782      -0.273466      -0.133557   \n",
       "3  101453.000000  101669.000000  102053.000000  102577.000000  103187.000000   \n",
       "4       0.098616       0.212680       0.376985       0.512145       0.592914   \n",
       "\n",
       "            2014           2015           2016  \n",
       "0      41.779000      41.528000      41.304000  \n",
       "1   43365.000000   43331.000000   43296.000000  \n",
       "2      -0.076069      -0.078435      -0.080806  \n",
       "3  103795.000000  104341.000000  104822.000000  \n",
       "4       0.587492       0.524658       0.459929  \n",
       "\n",
       "[5 rows x 61 columns]"
      ]
     },
     "execution_count": 2,
     "metadata": {},
     "output_type": "execute_result"
    }
   ],
   "source": [
    "# load world bank data\n",
    "# skip the unneeded header\n",
    "wb = pd.read_csv('world_bank/API_19_DS2_en_csv_v2.csv', sep=',', header=0, skiprows=3) \n",
    "\n",
    "# read_csv resulted in additional blank series at the last column -> drop the column\n",
    "wb = wb.drop(wb.columns[[61]], 1)\n",
    "\n",
    "# display the head of dataframe\n",
    "wb.head()\n"
   ]
  },
  {
   "cell_type": "code",
   "execution_count": 3,
   "metadata": {},
   "outputs": [
    {
     "data": {
      "text/html": [
       "<div>\n",
       "<style>\n",
       "    .dataframe thead tr:only-child th {\n",
       "        text-align: right;\n",
       "    }\n",
       "\n",
       "    .dataframe thead th {\n",
       "        text-align: left;\n",
       "    }\n",
       "\n",
       "    .dataframe tbody tr th {\n",
       "        vertical-align: top;\n",
       "    }\n",
       "</style>\n",
       "<table border=\"1\" class=\"dataframe\">\n",
       "  <thead>\n",
       "    <tr style=\"text-align: right;\">\n",
       "      <th></th>\n",
       "      <th>Country Code</th>\n",
       "      <th>Region</th>\n",
       "      <th>IncomeGroup</th>\n",
       "      <th>SpecialNotes</th>\n",
       "      <th>TableName</th>\n",
       "    </tr>\n",
       "  </thead>\n",
       "  <tbody>\n",
       "    <tr>\n",
       "      <th>0</th>\n",
       "      <td>ABW</td>\n",
       "      <td>Latin America &amp; Caribbean</td>\n",
       "      <td>High income</td>\n",
       "      <td>SNA data for 2000-2011 are updated from offici...</td>\n",
       "      <td>Aruba</td>\n",
       "    </tr>\n",
       "    <tr>\n",
       "      <th>1</th>\n",
       "      <td>AFG</td>\n",
       "      <td>South Asia</td>\n",
       "      <td>Low income</td>\n",
       "      <td>Fiscal year end: March 20; reporting period fo...</td>\n",
       "      <td>Afghanistan</td>\n",
       "    </tr>\n",
       "    <tr>\n",
       "      <th>2</th>\n",
       "      <td>AGO</td>\n",
       "      <td>Sub-Saharan Africa</td>\n",
       "      <td>Lower middle income</td>\n",
       "      <td>NaN</td>\n",
       "      <td>Angola</td>\n",
       "    </tr>\n",
       "    <tr>\n",
       "      <th>3</th>\n",
       "      <td>ALB</td>\n",
       "      <td>Europe &amp; Central Asia</td>\n",
       "      <td>Upper middle income</td>\n",
       "      <td>NaN</td>\n",
       "      <td>Albania</td>\n",
       "    </tr>\n",
       "    <tr>\n",
       "      <th>4</th>\n",
       "      <td>AND</td>\n",
       "      <td>Europe &amp; Central Asia</td>\n",
       "      <td>High income</td>\n",
       "      <td>WB-3 code changed from ADO to AND to align wit...</td>\n",
       "      <td>Andorra</td>\n",
       "    </tr>\n",
       "  </tbody>\n",
       "</table>\n",
       "</div>"
      ],
      "text/plain": [
       "  Country Code                     Region          IncomeGroup  \\\n",
       "0          ABW  Latin America & Caribbean          High income   \n",
       "1          AFG                 South Asia           Low income   \n",
       "2          AGO         Sub-Saharan Africa  Lower middle income   \n",
       "3          ALB      Europe & Central Asia  Upper middle income   \n",
       "4          AND      Europe & Central Asia          High income   \n",
       "\n",
       "                                        SpecialNotes    TableName  \n",
       "0  SNA data for 2000-2011 are updated from offici...        Aruba  \n",
       "1  Fiscal year end: March 20; reporting period fo...  Afghanistan  \n",
       "2                                                NaN       Angola  \n",
       "3                                                NaN      Albania  \n",
       "4  WB-3 code changed from ADO to AND to align wit...      Andorra  "
      ]
     },
     "execution_count": 3,
     "metadata": {},
     "output_type": "execute_result"
    }
   ],
   "source": [
    "#load country metadata\n",
    "wb_meta_country = pd.read_csv('world_bank/Metadata_Country_API_19_DS2_en_csv_v2.csv', sep=',', header=0) \n",
    "\n",
    "# read_csv resulted in additional blank series at the last column -> drop the column\n",
    "wb_meta_country = wb_meta_country.drop(wb_meta_country.columns[[5]], 1)\n",
    "\n",
    "# display the head of dataframe\n",
    "wb_meta_country.head()\n"
   ]
  },
  {
   "cell_type": "code",
   "execution_count": 4,
   "metadata": {},
   "outputs": [
    {
     "data": {
      "text/html": [
       "<div>\n",
       "<style>\n",
       "    .dataframe thead tr:only-child th {\n",
       "        text-align: right;\n",
       "    }\n",
       "\n",
       "    .dataframe thead th {\n",
       "        text-align: left;\n",
       "    }\n",
       "\n",
       "    .dataframe tbody tr th {\n",
       "        vertical-align: top;\n",
       "    }\n",
       "</style>\n",
       "<table border=\"1\" class=\"dataframe\">\n",
       "  <thead>\n",
       "    <tr style=\"text-align: right;\">\n",
       "      <th></th>\n",
       "      <th>INDICATOR_CODE</th>\n",
       "      <th>INDICATOR_NAME</th>\n",
       "      <th>SOURCE_NOTE</th>\n",
       "      <th>SOURCE_ORGANIZATION</th>\n",
       "    </tr>\n",
       "  </thead>\n",
       "  <tbody>\n",
       "    <tr>\n",
       "      <th>0</th>\n",
       "      <td>SP.URB.TOTL.IN.ZS</td>\n",
       "      <td>Urban population (% of total)</td>\n",
       "      <td>Urban population refers to people living in ur...</td>\n",
       "      <td>The United Nations Population Divisions World ...</td>\n",
       "    </tr>\n",
       "    <tr>\n",
       "      <th>1</th>\n",
       "      <td>SP.URB.TOTL</td>\n",
       "      <td>Urban population</td>\n",
       "      <td>Urban population refers to people living in ur...</td>\n",
       "      <td>World Bank Staff estimates based on United Nat...</td>\n",
       "    </tr>\n",
       "    <tr>\n",
       "      <th>2</th>\n",
       "      <td>SP.URB.GROW</td>\n",
       "      <td>Urban population growth (annual %)</td>\n",
       "      <td>Urban population refers to people living in ur...</td>\n",
       "      <td>World Bank Staff estimates based on United Nat...</td>\n",
       "    </tr>\n",
       "    <tr>\n",
       "      <th>3</th>\n",
       "      <td>SP.POP.TOTL</td>\n",
       "      <td>Population, total</td>\n",
       "      <td>Total population is based on the de facto defi...</td>\n",
       "      <td>(1) United Nations Population Division. World ...</td>\n",
       "    </tr>\n",
       "    <tr>\n",
       "      <th>4</th>\n",
       "      <td>SP.POP.GROW</td>\n",
       "      <td>Population growth (annual %)</td>\n",
       "      <td>Annual population growth rate for year t is th...</td>\n",
       "      <td>Derived from total population. Population sour...</td>\n",
       "    </tr>\n",
       "  </tbody>\n",
       "</table>\n",
       "</div>"
      ],
      "text/plain": [
       "      INDICATOR_CODE                      INDICATOR_NAME  \\\n",
       "0  SP.URB.TOTL.IN.ZS       Urban population (% of total)   \n",
       "1        SP.URB.TOTL                    Urban population   \n",
       "2        SP.URB.GROW  Urban population growth (annual %)   \n",
       "3        SP.POP.TOTL                   Population, total   \n",
       "4        SP.POP.GROW        Population growth (annual %)   \n",
       "\n",
       "                                         SOURCE_NOTE  \\\n",
       "0  Urban population refers to people living in ur...   \n",
       "1  Urban population refers to people living in ur...   \n",
       "2  Urban population refers to people living in ur...   \n",
       "3  Total population is based on the de facto defi...   \n",
       "4  Annual population growth rate for year t is th...   \n",
       "\n",
       "                                 SOURCE_ORGANIZATION  \n",
       "0  The United Nations Population Divisions World ...  \n",
       "1  World Bank Staff estimates based on United Nat...  \n",
       "2  World Bank Staff estimates based on United Nat...  \n",
       "3  (1) United Nations Population Division. World ...  \n",
       "4  Derived from total population. Population sour...  "
      ]
     },
     "execution_count": 4,
     "metadata": {},
     "output_type": "execute_result"
    }
   ],
   "source": [
    "#load indicator metadata\n",
    "wb_meta_indi = pd.read_csv('world_bank/Metadata_Indicator_API_19_DS2_en_csv_v2.csv', sep=',', header=0) \n",
    "\n",
    "# read_csv resulted in additional blank series at the last column -> drop the column\n",
    "wb_meta_indi = wb_meta_indi.drop(wb_meta_indi.columns[[4]], 1)\n",
    "\n",
    "# display the head of dataframe\n",
    "wb_meta_indi.head()\n"
   ]
  },
  {
   "cell_type": "markdown",
   "metadata": {},
   "source": [
    "#### Climate data API\n",
    "The Climate Data API provides programmatic access to most of the climate data used on the World Bank’s Climate Change Knowledge Portal. You can access this data directly from Python using requests. In addition to what was already downloadable as csv data, with this API you are able to access temperature, precipitation and basin level data. Read about it in more detail here: https://datahelpdesk.worldbank.org/knowledgebase/articles/902061-climate-data-api\n",
    "\n",
    "Below is an example of how to access yearly temperature historical data per country from Python. You can select a country using its ISO aplha3 code: https://unstats.un.org/unsd/methodology/m49/.\n"
   ]
  },
  {
   "cell_type": "code",
   "execution_count": 5,
   "metadata": {},
   "outputs": [
    {
     "data": {
      "text/plain": [
       "[{'data': 9.215595, 'year': 1901},\n",
       " {'data': 8.389345, 'year': 1902},\n",
       " {'data': 9.500536, 'year': 1903},\n",
       " {'data': 8.901487, 'year': 1904},\n",
       " {'data': 9.12619, 'year': 1905}]"
      ]
     },
     "execution_count": 5,
     "metadata": {},
     "output_type": "execute_result"
    }
   ],
   "source": [
    "import requests\n",
    "r = requests.get('http://climatedataapi.worldbank.org/climateweb/rest/v1/country/cru/tas/year/ROU')\n",
    "rou = r.json()\n",
    "rou[:5]"
   ]
  },
  {
   "cell_type": "markdown",
   "metadata": {},
   "source": [
    "As with most data sources, you might find that you data contains missing values. Please handle them appropriately, for example by using interpolation."
   ]
  },
  {
   "cell_type": "markdown",
   "metadata": {},
   "source": [
    "#### Other resources\n",
    "You are encouraged to find more data sources that will make your analysis more meaningful. Please make sure that you document everything carefully. Only use freely available datasets."
   ]
  },
  {
   "cell_type": "markdown",
   "metadata": {},
   "source": [
    "#### Assignment\n",
    "* Create a Jupyter Notebook that contains your explanations and analyses.\n",
    "* Start the notebook with a clear description of the type of analysis you are going to perform.\n",
    "* The conceptual contents of the Notebook should be roughly similar to a normal written report of 10-20 pages.\n",
    "* Some (minimum) properties of the Notebook and your analyses on which we will grade:\n",
    "    * Required: Combine different data from multiple sources in your analyses.\n",
    "    * Required: Use multiple types of visualizations of your results.\n",
    "    * Required: Make sure your Notebook does not generate errors!\n",
    "    * Required: You should use Python to answer your research questions. Your code should read, clean and format, process and visualize the data. There should be at least some non-trivial processing involved.\n",
    "    * Whenever possible, make your Notebook read the data directly from the web. This way, your notebook will always use the most up-to-date data available. If not, document carefully where the data was collected what to do when you want to use more up-to-date data.\n",
    "    * Demonstrate your skills in Python by using typical Python constructs and using the appropriate data structures (lists, dictionaries, tuples, arrays, dataframes, series, recursion, etc.)\n",
    "    * Write clear, understandable code:\n",
    "        * Document your code! Put comments when necessary.\n",
    "        * Use sensible variable names.\n",
    "        * Break up your code into parts. Use (fruitful) functions.\n",
    "    * Try to think of reusability of your code. How easy would it be to use your same code if we want to try to do a small variations of your analysis? Can we easily adapt/play around with your code?\n",
    "    * How difficult were your analyses?\n",
    "* Make your Notebook self-explanatory. So, it should contain text (with references) as well as your actual analysis code and results.\n",
    "* If you want to use other libraries for your analyses or visualizations, feel free to do so. However, only use free available and well-known libraries. The ones that come standard with Anaconda are fine. If you want to use something else, that you first need to install, check with us first.\n",
    "* Create a zip archive and upload it on Brightspace."
   ]
  },
  {
   "cell_type": "markdown",
   "metadata": {},
   "source": [
    "#### Example\n",
    "Here are some example questions you might ask to start the analysis. Please note that this is just an example and that you are expected to come up with your own questions and analyses.\n",
    "* The EU has the following goal in the Paris agreement: \"At least a 40% domestic reduction in greenhouse gases by 2030 compared to 1990 levels.” How is the EU doing at the moment? If they don’t change policy (i.e extrapolation of current trends) where will they end up? [source]\n",
    "* Can you classify in good/neutral/bad countries?\n",
    "* What is the trend per continent with respect to gas emissions? How do countries within the same continent behave? Is it fair to make statements over whole continents?\n",
    "* Where do you find the highest increase in temperatures compared to 1960?\n",
    "* Suppose that each country has a % growth or reduction of CO2, where do we end up?\n",
    "* What are the countries with most gas emissions? How does that change when you normalize by their size / population?\n",
    "* What is the country with the best trend in renewable energy over the last 10 years?"
   ]
  },
  {
   "cell_type": "code",
   "execution_count": 6,
   "metadata": {
    "scrolled": true
   },
   "outputs": [
    {
     "data": {
      "text/html": [
       "<div>\n",
       "<style>\n",
       "    .dataframe thead tr:only-child th {\n",
       "        text-align: right;\n",
       "    }\n",
       "\n",
       "    .dataframe thead th {\n",
       "        text-align: left;\n",
       "    }\n",
       "\n",
       "    .dataframe tbody tr th {\n",
       "        vertical-align: top;\n",
       "    }\n",
       "</style>\n",
       "<table border=\"1\" class=\"dataframe\">\n",
       "  <thead>\n",
       "    <tr style=\"text-align: right;\">\n",
       "      <th></th>\n",
       "      <th>Countries</th>\n",
       "      <th>Label</th>\n",
       "    </tr>\n",
       "  </thead>\n",
       "  <tbody>\n",
       "    <tr>\n",
       "      <th>0</th>\n",
       "      <td>France</td>\n",
       "      <td>Good</td>\n",
       "    </tr>\n",
       "    <tr>\n",
       "      <th>1</th>\n",
       "      <td>Sweden</td>\n",
       "      <td>Good</td>\n",
       "    </tr>\n",
       "    <tr>\n",
       "      <th>2</th>\n",
       "      <td>United Kingdom</td>\n",
       "      <td>Good</td>\n",
       "    </tr>\n",
       "    <tr>\n",
       "      <th>3</th>\n",
       "      <td>Cyprus</td>\n",
       "      <td>Good</td>\n",
       "    </tr>\n",
       "    <tr>\n",
       "      <th>4</th>\n",
       "      <td>Luxembourg</td>\n",
       "      <td>Good</td>\n",
       "    </tr>\n",
       "  </tbody>\n",
       "</table>\n",
       "</div>"
      ],
      "text/plain": [
       "        Countries Label\n",
       "0          France  Good\n",
       "1          Sweden  Good\n",
       "2  United Kingdom  Good\n",
       "3          Cyprus  Good\n",
       "4      Luxembourg  Good"
      ]
     },
     "execution_count": 6,
     "metadata": {},
     "output_type": "execute_result"
    }
   ],
   "source": [
    "# load label Climate Change Performance Index\n",
    "# the data were extracted from https://germanwatch.org/en/download/16484.pdf\n",
    "country_class_y = pd.read_csv('world_bank/CCPI_2017.csv', sep=',', header=0) \n",
    "country_class_y.head()"
   ]
  },
  {
   "cell_type": "code",
   "execution_count": 7,
   "metadata": {
    "collapsed": true
   },
   "outputs": [],
   "source": [
    "# create a df of countries in CCPI results\n",
    "df = pd.DataFrame()\n",
    "for country in country_class_y['Countries']:\n",
    "    # filter the CCPI countries\n",
    "    df1 = wb[wb['Country Name'] == country]\n",
    "    # append to the df\n",
    "    df = pd.concat( [df,df1], ignore_index=True, axis=0)"
   ]
  },
  {
   "cell_type": "code",
   "execution_count": 8,
   "metadata": {
    "scrolled": true
   },
   "outputs": [
    {
     "name": "stdout",
     "output_type": "stream",
     "text": [
      "(4480, 61)\n",
      "(80, 61)\n"
     ]
    },
    {
     "data": {
      "text/plain": [
       "56.0"
      ]
     },
     "execution_count": 8,
     "metadata": {},
     "output_type": "execute_result"
    }
   ],
   "source": [
    "print(df.shape)\n",
    "print(df1.shape)\n",
    "# check the number of the countries\n",
    "df.shape[0] / df1.shape[0]"
   ]
  },
  {
   "cell_type": "code",
   "execution_count": null,
   "metadata": {
    "collapsed": true
   },
   "outputs": [],
   "source": [
    "# rename the CCPI column to Country Name, so it could be 'merge' on this column name\n",
    "country_class_y.columns = ['Country Name', 'Label']\n",
    "country_class_y.head()"
   ]
  },
  {
   "cell_type": "code",
   "execution_count": 184,
   "metadata": {},
   "outputs": [
    {
     "data": {
      "text/plain": [
       "['2013', '2014', '2015']"
      ]
     },
     "execution_count": 184,
     "metadata": {},
     "output_type": "execute_result"
    }
   ],
   "source": [
    "years = list(df.columns[57:60])\n",
    "years"
   ]
  },
  {
   "cell_type": "code",
   "execution_count": 185,
   "metadata": {},
   "outputs": [
    {
     "data": {
      "text/html": [
       "<div>\n",
       "<style>\n",
       "    .dataframe thead tr:only-child th {\n",
       "        text-align: right;\n",
       "    }\n",
       "\n",
       "    .dataframe thead th {\n",
       "        text-align: left;\n",
       "    }\n",
       "\n",
       "    .dataframe tbody tr th {\n",
       "        vertical-align: top;\n",
       "    }\n",
       "</style>\n",
       "<table border=\"1\" class=\"dataframe\">\n",
       "  <thead>\n",
       "    <tr style=\"text-align: right;\">\n",
       "      <th></th>\n",
       "      <th>Country Name</th>\n",
       "      <th>Indicator Name</th>\n",
       "      <th>2015</th>\n",
       "      <th>Label</th>\n",
       "    </tr>\n",
       "  </thead>\n",
       "  <tbody>\n",
       "    <tr>\n",
       "      <th>0</th>\n",
       "      <td>France</td>\n",
       "      <td>Urban population (% of total)</td>\n",
       "      <td>7.952000e+01</td>\n",
       "      <td>Good</td>\n",
       "    </tr>\n",
       "    <tr>\n",
       "      <th>1</th>\n",
       "      <td>France</td>\n",
       "      <td>Urban population</td>\n",
       "      <td>5.297946e+07</td>\n",
       "      <td>Good</td>\n",
       "    </tr>\n",
       "    <tr>\n",
       "      <th>2</th>\n",
       "      <td>France</td>\n",
       "      <td>Urban population growth (annual %)</td>\n",
       "      <td>7.303273e-01</td>\n",
       "      <td>Good</td>\n",
       "    </tr>\n",
       "    <tr>\n",
       "      <th>3</th>\n",
       "      <td>France</td>\n",
       "      <td>Population, total</td>\n",
       "      <td>6.662407e+07</td>\n",
       "      <td>Good</td>\n",
       "    </tr>\n",
       "    <tr>\n",
       "      <th>4</th>\n",
       "      <td>France</td>\n",
       "      <td>Population growth (annual %)</td>\n",
       "      <td>4.394107e-01</td>\n",
       "      <td>Good</td>\n",
       "    </tr>\n",
       "  </tbody>\n",
       "</table>\n",
       "</div>"
      ],
      "text/plain": [
       "  Country Name                      Indicator Name          2015 Label\n",
       "0       France       Urban population (% of total)  7.952000e+01  Good\n",
       "1       France                    Urban population  5.297946e+07  Good\n",
       "2       France  Urban population growth (annual %)  7.303273e-01  Good\n",
       "3       France                   Population, total  6.662407e+07  Good\n",
       "4       France        Population growth (annual %)  4.394107e-01  Good"
      ]
     },
     "execution_count": 185,
     "metadata": {},
     "output_type": "execute_result"
    }
   ],
   "source": [
    "# store as a dictionary\n",
    "\n",
    "dict_df_years = {}\n",
    "for year in years:\n",
    "    dict_df_years[year] = df[['Country Name','Indicator Name',year]]\n",
    "    dict_df_years[year] = pd.merge(dict_df_years[year], country_class_y, on=\"Country Name\", how=\"outer\" )\n",
    "    \n",
    "dict_df_years[year].head()"
   ]
  },
  {
   "cell_type": "code",
   "execution_count": 187,
   "metadata": {},
   "outputs": [
    {
     "data": {
      "text/plain": [
       "80"
      ]
     },
     "execution_count": 187,
     "metadata": {},
     "output_type": "execute_result"
    }
   ],
   "source": [
    "# the number of features of each country\n",
    "len(wb_meta_indi['INDICATOR_NAME'])"
   ]
  },
  {
   "cell_type": "code",
   "execution_count": 188,
   "metadata": {},
   "outputs": [],
   "source": [
    "# imputation of the data, filling missing value\n",
    "# we will still have an indicator with NaN value, because the value is NaN for each country\n",
    "# fillna.mean will not really work\n",
    "# at the end we will end up deleted these unnecessary category\n",
    "\n",
    "list_deleted_indi = {}\n",
    "list_saved_indi = {}\n",
    "df_test = {}\n",
    "\n",
    "for year in years:\n",
    "    list_deleted_indi[year] = []\n",
    "    list_saved_indi[year] = []\n",
    "    df_test[year] = pd.DataFrame()\n",
    "\n",
    "    for label in country_class_y['Label'].unique():\n",
    "        for indicator in wb_meta_indi['INDICATOR_NAME']:\n",
    "            df_temp = pd.DataFrame()\n",
    "            df_temp = dict_df_years[year][(dict_df_years[year]['Indicator Name'] == indicator) & (dict_df_years[year]['Label'] == label)]\n",
    "        \n",
    "            df_temp = df_temp.fillna(df_temp.mean())\n",
    "            # df_temp.interpolate(method=’polynomial’, order=4)\n",
    "            # print(len(df_temp))\n",
    "\n",
    "            if(df_temp[year].isnull().values.all()):\n",
    "                list_deleted_indi[year].append(indicator) \n",
    "            else:\n",
    "                list_saved_indi[year].append(indicator) \n",
    "\n",
    "            df_test[year] = pd.concat([df_test[year],df_temp], ignore_index=True, axis=0)\n",
    "            "
   ]
  },
  {
   "cell_type": "code",
   "execution_count": 189,
   "metadata": {},
   "outputs": [
    {
     "name": "stdout",
     "output_type": "stream",
     "text": [
      "2013 37 43\n",
      "2014 31 49\n",
      "2015 53 27\n"
     ]
    }
   ],
   "source": [
    "set_saved_indi_filter = {}\n",
    "for year in years:\n",
    "    set_saved_indi_filter[year] = set(wb_meta_indi['INDICATOR_NAME']) - set(list_deleted_indi[year])\n",
    "    print(year, len(set(list_deleted_indi[year])),len(set_saved_indi_filter[year]))"
   ]
  },
  {
   "cell_type": "code",
   "execution_count": 190,
   "metadata": {
    "scrolled": true
   },
   "outputs": [
    {
     "name": "stdout",
     "output_type": "stream",
     "text": [
      "(2408, 4)\n",
      "(2744, 4)\n",
      "(1512, 4)\n"
     ]
    }
   ],
   "source": [
    "# nan for entire set of classes for one category is not included in the new cleaned df\n",
    "df_test_clean = {}\n",
    "for year in years:\n",
    "    df_test_clean[year] = pd.DataFrame()\n",
    "    for indi in set_saved_indi_filter[year]:\n",
    "        df_temp = df_test[year][df_test[year]['Indicator Name'] == indi]\n",
    "        df_test_clean[year] = pd.concat([df_test_clean[year], df_temp], ignore_index = True, axis = 0)\n",
    "    print(df_test_clean[year].shape)\n"
   ]
  },
  {
   "cell_type": "code",
   "execution_count": 191,
   "metadata": {},
   "outputs": [],
   "source": [
    "# reshape the matrix feature\n",
    "\n",
    "ind = list(country_class_y['Country Name'])\n",
    "countries_len = len(country_class_y)\n",
    "Xtrain = pd.DataFrame()\n",
    "\n",
    "for year in years:    \n",
    "    col = list(set_saved_indi_filter[year])\n",
    " \n",
    "    features_len = len(set_saved_indi_filter[year])\n",
    "\n",
    "    Xyear = pd.DataFrame(np.zeros(shape = (countries_len , features_len)), columns = col, index = ind)\n",
    "    for country in country_class_y['Country Name']:\n",
    "        Xyear.loc[country] = df_test_clean[year][df_test_clean[year]['Country Name'] == country][year].values\n",
    "    \n",
    "    Xtrain = pd.concat([Xtrain, Xyear], ignore_index = True, axis = 1) \n"
   ]
  },
  {
   "cell_type": "code",
   "execution_count": 192,
   "metadata": {},
   "outputs": [
    {
     "data": {
      "text/plain": [
       "(56, 119)"
      ]
     },
     "execution_count": 192,
     "metadata": {},
     "output_type": "execute_result"
    }
   ],
   "source": [
    "Xtrain.shape"
   ]
  },
  {
   "cell_type": "code",
   "execution_count": 193,
   "metadata": {},
   "outputs": [
    {
     "data": {
      "text/plain": [
       "(56,)"
      ]
     },
     "execution_count": 193,
     "metadata": {},
     "output_type": "execute_result"
    }
   ],
   "source": [
    "ytrain = country_class_y['Label']\n",
    "ytrain.shape"
   ]
  },
  {
   "cell_type": "markdown",
   "metadata": {},
   "source": [
    "#  PCA"
   ]
  },
  {
   "cell_type": "code",
   "execution_count": 194,
   "metadata": {},
   "outputs": [
    {
     "data": {
      "image/png": "[encoded data removed]",
      "text/plain": [
       "<matplotlib.figure.Figure at 0x1b4e40a6908>"
      ]
     },
     "metadata": {},
     "output_type": "display_data"
    }
   ],
   "source": [
    "from sklearn.decomposition import PCA\n",
    "\n",
    "pca = PCA().fit(Xtrain)\n",
    "plt.plot(np.cumsum(pca.explained_variance_ratio_))\n",
    "plt.xlabel('number of components')\n",
    "plt.ylabel('cumulative explained variance');"
   ]
  },
  {
   "cell_type": "code",
   "execution_count": 160,
   "metadata": {},
   "outputs": [
    {
     "name": "stdout",
     "output_type": "stream",
     "text": [
      "(56, 566)\n",
      "(56, 10)\n"
     ]
    }
   ],
   "source": [
    "pca = PCA(10)\n",
    "projected = pca.fit_transform(Xtrain)\n",
    "print(Xtrain.shape)\n",
    "print(projected.shape)"
   ]
  },
  {
   "cell_type": "code",
   "execution_count": 167,
   "metadata": {},
   "outputs": [],
   "source": [
    "Xtrain = projected"
   ]
  },
  {
   "cell_type": "markdown",
   "metadata": {},
   "source": [
    "#  RF"
   ]
  },
  {
   "cell_type": "code",
   "execution_count": 195,
   "metadata": {},
   "outputs": [],
   "source": [
    "from sklearn.ensemble import RandomForestClassifier\n",
    "from sklearn.cross_validation import train_test_split\n",
    "import seaborn as sns; sns.set()\n",
    "\n",
    "from sklearn.grid_search import GridSearchCV\n",
    "\n",
    "Xrf_train, Xrf_test, yrf_train, yrf_test = train_test_split(Xtrain, ytrain, random_state=0, test_size=0.5)\n",
    "RF = RandomForestClassifier(random_state=0)\n"
   ]
  },
  {
   "cell_type": "code",
   "execution_count": 196,
   "metadata": {},
   "outputs": [
    {
     "data": {
      "text/plain": [
       "dict_keys(['bootstrap', 'class_weight', 'criterion', 'max_depth', 'max_features', 'max_leaf_nodes', 'min_impurity_split', 'min_samples_leaf', 'min_samples_split', 'min_weight_fraction_leaf', 'n_estimators', 'n_jobs', 'oob_score', 'random_state', 'verbose', 'warm_start'])"
      ]
     },
     "execution_count": 196,
     "metadata": {},
     "output_type": "execute_result"
    }
   ],
   "source": [
    "RF.get_params().keys()"
   ]
  },
  {
   "cell_type": "code",
   "execution_count": 199,
   "metadata": {
    "collapsed": true
   },
   "outputs": [],
   "source": [
    "param_grid_rf = {'n_estimators': [1, 10, 100, 1000, 2000, 10000]}\n",
    "grid_rf = GridSearchCV(RF, param_grid_rf)\n"
   ]
  },
  {
   "cell_type": "code",
   "execution_count": 200,
   "metadata": {},
   "outputs": [
    {
     "name": "stdout",
     "output_type": "stream",
     "text": [
      "Wall time: 9min 27s\n",
      "{'n_estimators': 10000}\n"
     ]
    }
   ],
   "source": [
    "%time grid_rf.fit(Xtrain, ytrain)\n",
    "print(grid_rf.best_params_)"
   ]
  },
  {
   "cell_type": "code",
   "execution_count": 202,
   "metadata": {
    "collapsed": true
   },
   "outputs": [],
   "source": [
    "RF = grid_rf.best_estimator_\n"
   ]
  },
  {
   "cell_type": "code",
   "execution_count": 203,
   "metadata": {
    "collapsed": true
   },
   "outputs": [],
   "source": [
    "RF.fit(Xrf_train, yrf_train)\n",
    "yrf_pred = RF.predict(Xrf_test)\n"
   ]
  },
  {
   "cell_type": "code",
   "execution_count": 204,
   "metadata": {},
   "outputs": [
    {
     "data": {
      "image/png": "[encoded data removed]",
      "text/plain": [
       "<matplotlib.figure.Figure at 0x1b4f2360eb8>"
      ]
     },
     "metadata": {},
     "output_type": "display_data"
    }
   ],
   "source": [
    "from sklearn.metrics import confusion_matrix\n",
    "mat = confusion_matrix(yrf_test, yrf_pred)\n",
    "sns.heatmap(mat.T, square=True, annot=True, fmt='d', cbar=False)\n",
    "plt.xlabel('true label')\n",
    "plt.ylabel('predicted label');"
   ]
  },
  {
   "cell_type": "code",
   "execution_count": 205,
   "metadata": {},
   "outputs": [
    {
     "name": "stdout",
     "output_type": "stream",
     "text": [
      "             precision    recall  f1-score   support\n",
      "\n",
      "        Bad       0.73      0.79      0.76        14\n",
      "       Good       0.67      1.00      0.80         4\n",
      "    Neutral       0.71      0.50      0.59        10\n",
      "\n",
      "avg / total       0.72      0.71      0.70        28\n",
      "\n"
     ]
    }
   ],
   "source": [
    "from sklearn import metrics\n",
    "print(metrics.classification_report(yrf_pred, yrf_test))"
   ]
  },
  {
   "cell_type": "code",
   "execution_count": 207,
   "metadata": {},
   "outputs": [
    {
     "data": {
      "text/plain": [
       "0.8004578754578755"
      ]
     },
     "execution_count": 207,
     "metadata": {},
     "output_type": "execute_result"
    }
   ],
   "source": [
    "from sklearn.cross_validation import cross_val_score\n",
    "cross_val_score(RF, Xtrain, ytrain, cv=4).mean()"
   ]
  },
  {
   "cell_type": "markdown",
   "metadata": {},
   "source": [
    "#  SVM"
   ]
  },
  {
   "cell_type": "code",
   "execution_count": 145,
   "metadata": {
    "collapsed": true
   },
   "outputs": [],
   "source": [
    "# apply the ML algorithm here\n",
    "from sklearn.svm import SVC\n",
    "svc = SVC(kernel='rbf', class_weight='balanced')"
   ]
  },
  {
   "cell_type": "code",
   "execution_count": 146,
   "metadata": {
    "scrolled": true
   },
   "outputs": [
    {
     "data": {
      "text/plain": [
       "dict_keys(['C', 'cache_size', 'class_weight', 'coef0', 'decision_function_shape', 'degree', 'gamma', 'kernel', 'max_iter', 'probability', 'random_state', 'shrinking', 'tol', 'verbose'])"
      ]
     },
     "execution_count": 146,
     "metadata": {},
     "output_type": "execute_result"
    }
   ],
   "source": [
    "svc.get_params().keys()"
   ]
  },
  {
   "cell_type": "code",
   "execution_count": 148,
   "metadata": {},
   "outputs": [
    {
     "name": "stdout",
     "output_type": "stream",
     "text": [
      "Wall time: 553 ms\n",
      "{'C': 50, 'gamma': 1e-20}\n"
     ]
    }
   ],
   "source": [
    "from sklearn.grid_search import GridSearchCV\n",
    "param_grid_svc = {'C': [0.05, 0.1, 0.5, 1, 5, 10, 50, 100], 'gamma': [1E-25, 1E-20 , 1E-15, 1E-12, 1E-10, 0.00001]}\n",
    "grid_svc = GridSearchCV(svc, param_grid_svc)\n",
    "\n",
    "%time grid_svc.fit(Xtrain, ytrain)\n",
    "print(grid_svc.best_params_)"
   ]
  },
  {
   "cell_type": "code",
   "execution_count": 149,
   "metadata": {
    "collapsed": true
   },
   "outputs": [],
   "source": [
    "svc = grid_svc.best_estimator_"
   ]
  },
  {
   "cell_type": "code",
   "execution_count": 150,
   "metadata": {},
   "outputs": [
    {
     "data": {
      "text/plain": [
       "array([ 0.46666667,  0.64285714,  0.5       ,  0.69230769])"
      ]
     },
     "execution_count": 150,
     "metadata": {},
     "output_type": "execute_result"
    }
   ],
   "source": [
    "from sklearn.cross_validation import cross_val_score\n",
    "cross_val_score(svc, Xtrain, ytrain, cv=4)"
   ]
  },
  {
   "cell_type": "code",
   "execution_count": 151,
   "metadata": {
    "scrolled": true
   },
   "outputs": [
    {
     "data": {
      "text/plain": [
       "dict_keys(['C', 'cache_size', 'class_weight', 'coef0', 'decision_function_shape', 'degree', 'gamma', 'kernel', 'max_iter', 'probability', 'random_state', 'shrinking', 'tol', 'verbose'])"
      ]
     },
     "execution_count": 151,
     "metadata": {},
     "output_type": "execute_result"
    }
   ],
   "source": [
    "# apply the ML algorithm here\n",
    "from sklearn.svm import SVC\n",
    "svc_sig = SVC(kernel='sigmoid')\n",
    "\n",
    "svc_sig.get_params().keys()"
   ]
  },
  {
   "cell_type": "code",
   "execution_count": 154,
   "metadata": {
    "collapsed": true
   },
   "outputs": [],
   "source": [
    "param_grid_svcsig = {'C': [0.05, 0.1, 0.5, 1, 5, 10, 50, 100], 'gamma': [1E-25, 1E-20 , 1E-15, 1E-12, 1E-10, 0.00001], 'coef0': [-10,-7, -5, -3, -2 , -1,  0, 1, 2]}"
   ]
  },
  {
   "cell_type": "code",
   "execution_count": 155,
   "metadata": {},
   "outputs": [
    {
     "name": "stdout",
     "output_type": "stream",
     "text": [
      "Wall time: 3.93 s\n",
      "{'C': 50, 'coef0': 1, 'gamma': 1e-20}\n"
     ]
    }
   ],
   "source": [
    "grid_svcsig = GridSearchCV(svc_sig, param_grid_svcsig)\n",
    "\n",
    "%time grid_svcsig.fit(Xtrain, ytrain)\n",
    "print(grid_svcsig.best_params_)"
   ]
  },
  {
   "cell_type": "code",
   "execution_count": 156,
   "metadata": {
    "collapsed": true
   },
   "outputs": [],
   "source": [
    "model_svcsig = grid_svcsig.best_estimator_"
   ]
  },
  {
   "cell_type": "code",
   "execution_count": 157,
   "metadata": {},
   "outputs": [
    {
     "data": {
      "text/plain": [
       "array([ 0.46666667,  0.64285714,  0.42857143,  0.30769231])"
      ]
     },
     "execution_count": 157,
     "metadata": {},
     "output_type": "execute_result"
    }
   ],
   "source": [
    "from sklearn.cross_validation import cross_val_score\n",
    "cross_val_score(model_svcsig, Xtrain, ytrain, cv=4)"
   ]
  }
 ],
 "metadata": {
  "kernelspec": {
   "display_name": "Python 3",
   "language": "python",
   "name": "python3"
  },
  "language_info": {
   "codemirror_mode": {
    "name": "ipython",
    "version": 3
   },
   "file_extension": ".py",
   "mimetype": "text/x-python",
   "name": "python",
   "nbconvert_exporter": "python",
   "pygments_lexer": "ipython3",
   "version": "3.6.1"
  }
 },
 "nbformat": 4,
 "nbformat_minor": 1
}
