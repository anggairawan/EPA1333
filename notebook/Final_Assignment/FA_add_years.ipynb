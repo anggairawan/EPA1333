{
 "cells": [
  {
   "cell_type": "markdown",
   "metadata": {},
   "source": [
    "# Can we make a change on climate change?\n",
    "#### EPA1333 Final Assignment\n",
    "### Introduction\n",
    "Regardless of the many debates over the impact of humans on climate change, global warming is an observable fact. According to NASA, highest 16 global temperatures have been recorded since 2001, the arctic ice shrank to a minimum in 2012, and carbon dioxide levels in the air are higher than ever!\n",
    "\n",
    "Data analysis can help us better understand how the climate has changed, why, to make predictions for the future years, and to evaluate measures on how to suppress these changes. In this assignment you receive climate change data from World Bank, and are expected to perform an original and non-trivial analysis using Python.\n",
    "\n",
    "### Data\n",
    "\n",
    "#### Climate change indicators\n",
    "The climate change data offered by World Bank contains a large set of indicators, such as for example CO2 emissions, population growth or renewable energy output. Values of these indicators are available per country and per year. You can download the data in *.csv format from https://data.worldbank.org/topic/climate-change."
   ]
  },
  {
   "cell_type": "code",
   "execution_count": 1,
   "metadata": {
    "collapsed": true
   },
   "outputs": [],
   "source": [
    "# import standard library\n",
    "%matplotlib inline\n",
    "import pandas as pd\n",
    "import numpy as np\n",
    "import matplotlib.pyplot as plt"
   ]
  },
  {
   "cell_type": "code",
   "execution_count": 2,
   "metadata": {},
   "outputs": [
    {
     "data": {
      "text/html": [
       "<div>\n",
       "<style>\n",
       "    .dataframe thead tr:only-child th {\n",
       "        text-align: right;\n",
       "    }\n",
       "\n",
       "    .dataframe thead th {\n",
       "        text-align: left;\n",
       "    }\n",
       "\n",
       "    .dataframe tbody tr th {\n",
       "        vertical-align: top;\n",
       "    }\n",
       "</style>\n",
       "<table border=\"1\" class=\"dataframe\">\n",
       "  <thead>\n",
       "    <tr style=\"text-align: right;\">\n",
       "      <th></th>\n",
       "      <th>Country Name</th>\n",
       "      <th>Country Code</th>\n",
       "      <th>Indicator Name</th>\n",
       "      <th>Indicator Code</th>\n",
       "      <th>1960</th>\n",
       "      <th>1961</th>\n",
       "      <th>1962</th>\n",
       "      <th>1963</th>\n",
       "      <th>1964</th>\n",
       "      <th>1965</th>\n",
       "      <th>...</th>\n",
       "      <th>2007</th>\n",
       "      <th>2008</th>\n",
       "      <th>2009</th>\n",
       "      <th>2010</th>\n",
       "      <th>2011</th>\n",
       "      <th>2012</th>\n",
       "      <th>2013</th>\n",
       "      <th>2014</th>\n",
       "      <th>2015</th>\n",
       "      <th>2016</th>\n",
       "    </tr>\n",
       "  </thead>\n",
       "  <tbody>\n",
       "    <tr>\n",
       "      <th>0</th>\n",
       "      <td>Aruba</td>\n",
       "      <td>ABW</td>\n",
       "      <td>Urban population (% of total)</td>\n",
       "      <td>SP.URB.TOTL.IN.ZS</td>\n",
       "      <td>50.776000</td>\n",
       "      <td>50.761000</td>\n",
       "      <td>50.746000</td>\n",
       "      <td>50.730000</td>\n",
       "      <td>50.715000</td>\n",
       "      <td>50.700000</td>\n",
       "      <td>...</td>\n",
       "      <td>44.147000</td>\n",
       "      <td>43.783000</td>\n",
       "      <td>43.421000</td>\n",
       "      <td>43.059000</td>\n",
       "      <td>42.698000</td>\n",
       "      <td>42.364000</td>\n",
       "      <td>42.058000</td>\n",
       "      <td>41.779000</td>\n",
       "      <td>41.528000</td>\n",
       "      <td>41.304000</td>\n",
       "    </tr>\n",
       "    <tr>\n",
       "      <th>1</th>\n",
       "      <td>Aruba</td>\n",
       "      <td>ABW</td>\n",
       "      <td>Urban population</td>\n",
       "      <td>SP.URB.TOTL</td>\n",
       "      <td>27526.000000</td>\n",
       "      <td>28141.000000</td>\n",
       "      <td>28532.000000</td>\n",
       "      <td>28761.000000</td>\n",
       "      <td>28924.000000</td>\n",
       "      <td>29082.000000</td>\n",
       "      <td>...</td>\n",
       "      <td>44686.000000</td>\n",
       "      <td>44375.000000</td>\n",
       "      <td>44052.000000</td>\n",
       "      <td>43778.000000</td>\n",
       "      <td>43575.000000</td>\n",
       "      <td>43456.000000</td>\n",
       "      <td>43398.000000</td>\n",
       "      <td>43365.000000</td>\n",
       "      <td>43331.000000</td>\n",
       "      <td>43296.000000</td>\n",
       "    </tr>\n",
       "    <tr>\n",
       "      <th>2</th>\n",
       "      <td>Aruba</td>\n",
       "      <td>ABW</td>\n",
       "      <td>Urban population growth (annual %)</td>\n",
       "      <td>SP.URB.GROW</td>\n",
       "      <td>3.117931</td>\n",
       "      <td>2.209658</td>\n",
       "      <td>1.379868</td>\n",
       "      <td>0.799404</td>\n",
       "      <td>0.565140</td>\n",
       "      <td>0.544773</td>\n",
       "      <td>...</td>\n",
       "      <td>-0.435429</td>\n",
       "      <td>-0.698401</td>\n",
       "      <td>-0.730549</td>\n",
       "      <td>-0.623935</td>\n",
       "      <td>-0.464782</td>\n",
       "      <td>-0.273466</td>\n",
       "      <td>-0.133557</td>\n",
       "      <td>-0.076069</td>\n",
       "      <td>-0.078435</td>\n",
       "      <td>-0.080806</td>\n",
       "    </tr>\n",
       "    <tr>\n",
       "      <th>3</th>\n",
       "      <td>Aruba</td>\n",
       "      <td>ABW</td>\n",
       "      <td>Population, total</td>\n",
       "      <td>SP.POP.TOTL</td>\n",
       "      <td>54211.000000</td>\n",
       "      <td>55438.000000</td>\n",
       "      <td>56225.000000</td>\n",
       "      <td>56695.000000</td>\n",
       "      <td>57032.000000</td>\n",
       "      <td>57360.000000</td>\n",
       "      <td>...</td>\n",
       "      <td>101220.000000</td>\n",
       "      <td>101353.000000</td>\n",
       "      <td>101453.000000</td>\n",
       "      <td>101669.000000</td>\n",
       "      <td>102053.000000</td>\n",
       "      <td>102577.000000</td>\n",
       "      <td>103187.000000</td>\n",
       "      <td>103795.000000</td>\n",
       "      <td>104341.000000</td>\n",
       "      <td>104822.000000</td>\n",
       "    </tr>\n",
       "    <tr>\n",
       "      <th>4</th>\n",
       "      <td>Aruba</td>\n",
       "      <td>ABW</td>\n",
       "      <td>Population growth (annual %)</td>\n",
       "      <td>SP.POP.GROW</td>\n",
       "      <td>3.148037</td>\n",
       "      <td>2.238144</td>\n",
       "      <td>1.409622</td>\n",
       "      <td>0.832453</td>\n",
       "      <td>0.592649</td>\n",
       "      <td>0.573468</td>\n",
       "      <td>...</td>\n",
       "      <td>0.384060</td>\n",
       "      <td>0.131311</td>\n",
       "      <td>0.098616</td>\n",
       "      <td>0.212680</td>\n",
       "      <td>0.376985</td>\n",
       "      <td>0.512145</td>\n",
       "      <td>0.592914</td>\n",
       "      <td>0.587492</td>\n",
       "      <td>0.524658</td>\n",
       "      <td>0.459929</td>\n",
       "    </tr>\n",
       "  </tbody>\n",
       "</table>\n",
       "<p>5 rows × 61 columns</p>\n",
       "</div>"
      ],
      "text/plain": [
       "  Country Name Country Code                      Indicator Name  \\\n",
       "0        Aruba          ABW       Urban population (% of total)   \n",
       "1        Aruba          ABW                    Urban population   \n",
       "2        Aruba          ABW  Urban population growth (annual %)   \n",
       "3        Aruba          ABW                   Population, total   \n",
       "4        Aruba          ABW        Population growth (annual %)   \n",
       "\n",
       "      Indicator Code          1960          1961          1962          1963  \\\n",
       "0  SP.URB.TOTL.IN.ZS     50.776000     50.761000     50.746000     50.730000   \n",
       "1        SP.URB.TOTL  27526.000000  28141.000000  28532.000000  28761.000000   \n",
       "2        SP.URB.GROW      3.117931      2.209658      1.379868      0.799404   \n",
       "3        SP.POP.TOTL  54211.000000  55438.000000  56225.000000  56695.000000   \n",
       "4        SP.POP.GROW      3.148037      2.238144      1.409622      0.832453   \n",
       "\n",
       "           1964          1965      ...                 2007           2008  \\\n",
       "0     50.715000     50.700000      ...            44.147000      43.783000   \n",
       "1  28924.000000  29082.000000      ...         44686.000000   44375.000000   \n",
       "2      0.565140      0.544773      ...            -0.435429      -0.698401   \n",
       "3  57032.000000  57360.000000      ...        101220.000000  101353.000000   \n",
       "4      0.592649      0.573468      ...             0.384060       0.131311   \n",
       "\n",
       "            2009           2010           2011           2012           2013  \\\n",
       "0      43.421000      43.059000      42.698000      42.364000      42.058000   \n",
       "1   44052.000000   43778.000000   43575.000000   43456.000000   43398.000000   \n",
       "2      -0.730549      -0.623935      -0.464782      -0.273466      -0.133557   \n",
       "3  101453.000000  101669.000000  102053.000000  102577.000000  103187.000000   \n",
       "4       0.098616       0.212680       0.376985       0.512145       0.592914   \n",
       "\n",
       "            2014           2015           2016  \n",
       "0      41.779000      41.528000      41.304000  \n",
       "1   43365.000000   43331.000000   43296.000000  \n",
       "2      -0.076069      -0.078435      -0.080806  \n",
       "3  103795.000000  104341.000000  104822.000000  \n",
       "4       0.587492       0.524658       0.459929  \n",
       "\n",
       "[5 rows x 61 columns]"
      ]
     },
     "execution_count": 2,
     "metadata": {},
     "output_type": "execute_result"
    }
   ],
   "source": [
    "# load world bank data\n",
    "# skip the unneeded header\n",
    "wb = pd.read_csv('world_bank/API_19_DS2_en_csv_v2.csv', sep=',', header=0, skiprows=3) \n",
    "\n",
    "# read_csv resulted in additional blank series at the last column -> drop the column\n",
    "wb = wb.drop(wb.columns[[61]], 1)\n",
    "\n",
    "# display the head of dataframe\n",
    "wb.head()\n"
   ]
  },
  {
   "cell_type": "code",
   "execution_count": 3,
   "metadata": {},
   "outputs": [
    {
     "data": {
      "text/html": [
       "<div>\n",
       "<style>\n",
       "    .dataframe thead tr:only-child th {\n",
       "        text-align: right;\n",
       "    }\n",
       "\n",
       "    .dataframe thead th {\n",
       "        text-align: left;\n",
       "    }\n",
       "\n",
       "    .dataframe tbody tr th {\n",
       "        vertical-align: top;\n",
       "    }\n",
       "</style>\n",
       "<table border=\"1\" class=\"dataframe\">\n",
       "  <thead>\n",
       "    <tr style=\"text-align: right;\">\n",
       "      <th></th>\n",
       "      <th>Country Code</th>\n",
       "      <th>Region</th>\n",
       "      <th>IncomeGroup</th>\n",
       "      <th>SpecialNotes</th>\n",
       "      <th>TableName</th>\n",
       "    </tr>\n",
       "  </thead>\n",
       "  <tbody>\n",
       "    <tr>\n",
       "      <th>0</th>\n",
       "      <td>ABW</td>\n",
       "      <td>Latin America &amp; Caribbean</td>\n",
       "      <td>High income</td>\n",
       "      <td>SNA data for 2000-2011 are updated from offici...</td>\n",
       "      <td>Aruba</td>\n",
       "    </tr>\n",
       "    <tr>\n",
       "      <th>1</th>\n",
       "      <td>AFG</td>\n",
       "      <td>South Asia</td>\n",
       "      <td>Low income</td>\n",
       "      <td>Fiscal year end: March 20; reporting period fo...</td>\n",
       "      <td>Afghanistan</td>\n",
       "    </tr>\n",
       "    <tr>\n",
       "      <th>2</th>\n",
       "      <td>AGO</td>\n",
       "      <td>Sub-Saharan Africa</td>\n",
       "      <td>Lower middle income</td>\n",
       "      <td>NaN</td>\n",
       "      <td>Angola</td>\n",
       "    </tr>\n",
       "    <tr>\n",
       "      <th>3</th>\n",
       "      <td>ALB</td>\n",
       "      <td>Europe &amp; Central Asia</td>\n",
       "      <td>Upper middle income</td>\n",
       "      <td>NaN</td>\n",
       "      <td>Albania</td>\n",
       "    </tr>\n",
       "    <tr>\n",
       "      <th>4</th>\n",
       "      <td>AND</td>\n",
       "      <td>Europe &amp; Central Asia</td>\n",
       "      <td>High income</td>\n",
       "      <td>WB-3 code changed from ADO to AND to align wit...</td>\n",
       "      <td>Andorra</td>\n",
       "    </tr>\n",
       "  </tbody>\n",
       "</table>\n",
       "</div>"
      ],
      "text/plain": [
       "  Country Code                     Region          IncomeGroup  \\\n",
       "0          ABW  Latin America & Caribbean          High income   \n",
       "1          AFG                 South Asia           Low income   \n",
       "2          AGO         Sub-Saharan Africa  Lower middle income   \n",
       "3          ALB      Europe & Central Asia  Upper middle income   \n",
       "4          AND      Europe & Central Asia          High income   \n",
       "\n",
       "                                        SpecialNotes    TableName  \n",
       "0  SNA data for 2000-2011 are updated from offici...        Aruba  \n",
       "1  Fiscal year end: March 20; reporting period fo...  Afghanistan  \n",
       "2                                                NaN       Angola  \n",
       "3                                                NaN      Albania  \n",
       "4  WB-3 code changed from ADO to AND to align wit...      Andorra  "
      ]
     },
     "execution_count": 3,
     "metadata": {},
     "output_type": "execute_result"
    }
   ],
   "source": [
    "#load country metadata\n",
    "wb_meta_country = pd.read_csv('world_bank/Metadata_Country_API_19_DS2_en_csv_v2.csv', sep=',', header=0) \n",
    "\n",
    "# read_csv resulted in additional blank series at the last column -> drop the column\n",
    "wb_meta_country = wb_meta_country.drop(wb_meta_country.columns[[5]], 1)\n",
    "\n",
    "# display the head of dataframe\n",
    "wb_meta_country.head()\n"
   ]
  },
  {
   "cell_type": "code",
   "execution_count": 4,
   "metadata": {},
   "outputs": [
    {
     "data": {
      "text/html": [
       "<div>\n",
       "<style>\n",
       "    .dataframe thead tr:only-child th {\n",
       "        text-align: right;\n",
       "    }\n",
       "\n",
       "    .dataframe thead th {\n",
       "        text-align: left;\n",
       "    }\n",
       "\n",
       "    .dataframe tbody tr th {\n",
       "        vertical-align: top;\n",
       "    }\n",
       "</style>\n",
       "<table border=\"1\" class=\"dataframe\">\n",
       "  <thead>\n",
       "    <tr style=\"text-align: right;\">\n",
       "      <th></th>\n",
       "      <th>INDICATOR_CODE</th>\n",
       "      <th>INDICATOR_NAME</th>\n",
       "      <th>SOURCE_NOTE</th>\n",
       "      <th>SOURCE_ORGANIZATION</th>\n",
       "    </tr>\n",
       "  </thead>\n",
       "  <tbody>\n",
       "    <tr>\n",
       "      <th>0</th>\n",
       "      <td>SP.URB.TOTL.IN.ZS</td>\n",
       "      <td>Urban population (% of total)</td>\n",
       "      <td>Urban population refers to people living in ur...</td>\n",
       "      <td>The United Nations Population Divisions World ...</td>\n",
       "    </tr>\n",
       "    <tr>\n",
       "      <th>1</th>\n",
       "      <td>SP.URB.TOTL</td>\n",
       "      <td>Urban population</td>\n",
       "      <td>Urban population refers to people living in ur...</td>\n",
       "      <td>World Bank Staff estimates based on United Nat...</td>\n",
       "    </tr>\n",
       "    <tr>\n",
       "      <th>2</th>\n",
       "      <td>SP.URB.GROW</td>\n",
       "      <td>Urban population growth (annual %)</td>\n",
       "      <td>Urban population refers to people living in ur...</td>\n",
       "      <td>World Bank Staff estimates based on United Nat...</td>\n",
       "    </tr>\n",
       "    <tr>\n",
       "      <th>3</th>\n",
       "      <td>SP.POP.TOTL</td>\n",
       "      <td>Population, total</td>\n",
       "      <td>Total population is based on the de facto defi...</td>\n",
       "      <td>(1) United Nations Population Division. World ...</td>\n",
       "    </tr>\n",
       "    <tr>\n",
       "      <th>4</th>\n",
       "      <td>SP.POP.GROW</td>\n",
       "      <td>Population growth (annual %)</td>\n",
       "      <td>Annual population growth rate for year t is th...</td>\n",
       "      <td>Derived from total population. Population sour...</td>\n",
       "    </tr>\n",
       "  </tbody>\n",
       "</table>\n",
       "</div>"
      ],
      "text/plain": [
       "      INDICATOR_CODE                      INDICATOR_NAME  \\\n",
       "0  SP.URB.TOTL.IN.ZS       Urban population (% of total)   \n",
       "1        SP.URB.TOTL                    Urban population   \n",
       "2        SP.URB.GROW  Urban population growth (annual %)   \n",
       "3        SP.POP.TOTL                   Population, total   \n",
       "4        SP.POP.GROW        Population growth (annual %)   \n",
       "\n",
       "                                         SOURCE_NOTE  \\\n",
       "0  Urban population refers to people living in ur...   \n",
       "1  Urban population refers to people living in ur...   \n",
       "2  Urban population refers to people living in ur...   \n",
       "3  Total population is based on the de facto defi...   \n",
       "4  Annual population growth rate for year t is th...   \n",
       "\n",
       "                                 SOURCE_ORGANIZATION  \n",
       "0  The United Nations Population Divisions World ...  \n",
       "1  World Bank Staff estimates based on United Nat...  \n",
       "2  World Bank Staff estimates based on United Nat...  \n",
       "3  (1) United Nations Population Division. World ...  \n",
       "4  Derived from total population. Population sour...  "
      ]
     },
     "execution_count": 4,
     "metadata": {},
     "output_type": "execute_result"
    }
   ],
   "source": [
    "#load indicator metadata\n",
    "wb_meta_indi = pd.read_csv('world_bank/Metadata_Indicator_API_19_DS2_en_csv_v2.csv', sep=',', header=0) \n",
    "\n",
    "# read_csv resulted in additional blank series at the last column -> drop the column\n",
    "wb_meta_indi = wb_meta_indi.drop(wb_meta_indi.columns[[4]], 1)\n",
    "\n",
    "# display the head of dataframe\n",
    "wb_meta_indi.head()\n"
   ]
  },
  {
   "cell_type": "markdown",
   "metadata": {},
   "source": [
    "#### Climate data API\n",
    "The Climate Data API provides programmatic access to most of the climate data used on the World Bank’s Climate Change Knowledge Portal. You can access this data directly from Python using requests. In addition to what was already downloadable as csv data, with this API you are able to access temperature, precipitation and basin level data. Read about it in more detail here: https://datahelpdesk.worldbank.org/knowledgebase/articles/902061-climate-data-api\n",
    "\n",
    "Below is an example of how to access yearly temperature historical data per country from Python. You can select a country using its ISO aplha3 code: https://unstats.un.org/unsd/methodology/m49/.\n"
   ]
  },
  {
   "cell_type": "code",
   "execution_count": 5,
   "metadata": {},
   "outputs": [
    {
     "data": {
      "text/plain": [
       "[{'data': 9.215595, 'year': 1901},\n",
       " {'data': 8.389345, 'year': 1902},\n",
       " {'data': 9.500536, 'year': 1903},\n",
       " {'data': 8.901487, 'year': 1904},\n",
       " {'data': 9.12619, 'year': 1905}]"
      ]
     },
     "execution_count": 5,
     "metadata": {},
     "output_type": "execute_result"
    }
   ],
   "source": [
    "import requests\n",
    "r = requests.get('http://climatedataapi.worldbank.org/climateweb/rest/v1/country/cru/tas/year/ROU')\n",
    "rou = r.json()\n",
    "rou[:5]"
   ]
  },
  {
   "cell_type": "markdown",
   "metadata": {},
   "source": [
    "As with most data sources, you might find that you data contains missing values. Please handle them appropriately, for example by using interpolation."
   ]
  },
  {
   "cell_type": "markdown",
   "metadata": {},
   "source": [
    "#### Other resources\n",
    "You are encouraged to find more data sources that will make your analysis more meaningful. Please make sure that you document everything carefully. Only use freely available datasets."
   ]
  },
  {
   "cell_type": "markdown",
   "metadata": {},
   "source": [
    "#### Assignment\n",
    "* Create a Jupyter Notebook that contains your explanations and analyses.\n",
    "* Start the notebook with a clear description of the type of analysis you are going to perform.\n",
    "* The conceptual contents of the Notebook should be roughly similar to a normal written report of 10-20 pages.\n",
    "* Some (minimum) properties of the Notebook and your analyses on which we will grade:\n",
    "    * Required: Combine different data from multiple sources in your analyses.\n",
    "    * Required: Use multiple types of visualizations of your results.\n",
    "    * Required: Make sure your Notebook does not generate errors!\n",
    "    * Required: You should use Python to answer your research questions. Your code should read, clean and format, process and visualize the data. There should be at least some non-trivial processing involved.\n",
    "    * Whenever possible, make your Notebook read the data directly from the web. This way, your notebook will always use the most up-to-date data available. If not, document carefully where the data was collected what to do when you want to use more up-to-date data.\n",
    "    * Demonstrate your skills in Python by using typical Python constructs and using the appropriate data structures (lists, dictionaries, tuples, arrays, dataframes, series, recursion, etc.)\n",
    "    * Write clear, understandable code:\n",
    "        * Document your code! Put comments when necessary.\n",
    "        * Use sensible variable names.\n",
    "        * Break up your code into parts. Use (fruitful) functions.\n",
    "    * Try to think of reusability of your code. How easy would it be to use your same code if we want to try to do a small variations of your analysis? Can we easily adapt/play around with your code?\n",
    "    * How difficult were your analyses?\n",
    "* Make your Notebook self-explanatory. So, it should contain text (with references) as well as your actual analysis code and results.\n",
    "* If you want to use other libraries for your analyses or visualizations, feel free to do so. However, only use free available and well-known libraries. The ones that come standard with Anaconda are fine. If you want to use something else, that you first need to install, check with us first.\n",
    "* Create a zip archive and upload it on Brightspace."
   ]
  },
  {
   "cell_type": "markdown",
   "metadata": {},
   "source": [
    "#### Example\n",
    "Here are some example questions you might ask to start the analysis. Please note that this is just an example and that you are expected to come up with your own questions and analyses.\n",
    "* The EU has the following goal in the Paris agreement: \"At least a 40% domestic reduction in greenhouse gases by 2030 compared to 1990 levels.” How is the EU doing at the moment? If they don’t change policy (i.e extrapolation of current trends) where will they end up? [source]\n",
    "* Can you classify in good/neutral/bad countries?\n",
    "* What is the trend per continent with respect to gas emissions? How do countries within the same continent behave? Is it fair to make statements over whole continents?\n",
    "* Where do you find the highest increase in temperatures compared to 1960?\n",
    "* Suppose that each country has a % growth or reduction of CO2, where do we end up?\n",
    "* What are the countries with most gas emissions? How does that change when you normalize by their size / population?\n",
    "* What is the country with the best trend in renewable energy over the last 10 years?"
   ]
  },
  {
   "cell_type": "code",
   "execution_count": 7,
   "metadata": {
    "scrolled": true
   },
   "outputs": [
    {
     "data": {
      "text/html": [
       "<div>\n",
       "<style>\n",
       "    .dataframe thead tr:only-child th {\n",
       "        text-align: right;\n",
       "    }\n",
       "\n",
       "    .dataframe thead th {\n",
       "        text-align: left;\n",
       "    }\n",
       "\n",
       "    .dataframe tbody tr th {\n",
       "        vertical-align: top;\n",
       "    }\n",
       "</style>\n",
       "<table border=\"1\" class=\"dataframe\">\n",
       "  <thead>\n",
       "    <tr style=\"text-align: right;\">\n",
       "      <th></th>\n",
       "      <th>Countries</th>\n",
       "      <th>Label</th>\n",
       "    </tr>\n",
       "  </thead>\n",
       "  <tbody>\n",
       "    <tr>\n",
       "      <th>0</th>\n",
       "      <td>France</td>\n",
       "      <td>Good</td>\n",
       "    </tr>\n",
       "    <tr>\n",
       "      <th>1</th>\n",
       "      <td>Sweden</td>\n",
       "      <td>Good</td>\n",
       "    </tr>\n",
       "    <tr>\n",
       "      <th>2</th>\n",
       "      <td>United Kingdom</td>\n",
       "      <td>Good</td>\n",
       "    </tr>\n",
       "    <tr>\n",
       "      <th>3</th>\n",
       "      <td>Cyprus</td>\n",
       "      <td>Good</td>\n",
       "    </tr>\n",
       "    <tr>\n",
       "      <th>4</th>\n",
       "      <td>Luxembourg</td>\n",
       "      <td>Good</td>\n",
       "    </tr>\n",
       "  </tbody>\n",
       "</table>\n",
       "</div>"
      ],
      "text/plain": [
       "        Countries Label\n",
       "0          France  Good\n",
       "1          Sweden  Good\n",
       "2  United Kingdom  Good\n",
       "3          Cyprus  Good\n",
       "4      Luxembourg  Good"
      ]
     },
     "execution_count": 7,
     "metadata": {},
     "output_type": "execute_result"
    }
   ],
   "source": [
    "# load world bank data\n",
    "country_class_y = pd.read_csv('world_bank/CCPI_2017.csv', sep=',', header=0) \n",
    "country_class_y.head()"
   ]
  },
  {
   "cell_type": "code",
   "execution_count": 8,
   "metadata": {},
   "outputs": [
    {
     "data": {
      "text/html": [
       "<div>\n",
       "<style>\n",
       "    .dataframe thead tr:only-child th {\n",
       "        text-align: right;\n",
       "    }\n",
       "\n",
       "    .dataframe thead th {\n",
       "        text-align: left;\n",
       "    }\n",
       "\n",
       "    .dataframe tbody tr th {\n",
       "        vertical-align: top;\n",
       "    }\n",
       "</style>\n",
       "<table border=\"1\" class=\"dataframe\">\n",
       "  <thead>\n",
       "    <tr style=\"text-align: right;\">\n",
       "      <th></th>\n",
       "      <th>Country Code</th>\n",
       "      <th>TableName</th>\n",
       "    </tr>\n",
       "  </thead>\n",
       "  <tbody>\n",
       "    <tr>\n",
       "      <th>0</th>\n",
       "      <td>ABW</td>\n",
       "      <td>Aruba</td>\n",
       "    </tr>\n",
       "    <tr>\n",
       "      <th>1</th>\n",
       "      <td>AFG</td>\n",
       "      <td>Afghanistan</td>\n",
       "    </tr>\n",
       "    <tr>\n",
       "      <th>2</th>\n",
       "      <td>AGO</td>\n",
       "      <td>Angola</td>\n",
       "    </tr>\n",
       "    <tr>\n",
       "      <th>3</th>\n",
       "      <td>ALB</td>\n",
       "      <td>Albania</td>\n",
       "    </tr>\n",
       "    <tr>\n",
       "      <th>4</th>\n",
       "      <td>AND</td>\n",
       "      <td>Andorra</td>\n",
       "    </tr>\n",
       "  </tbody>\n",
       "</table>\n",
       "</div>"
      ],
      "text/plain": [
       "  Country Code    TableName\n",
       "0          ABW        Aruba\n",
       "1          AFG  Afghanistan\n",
       "2          AGO       Angola\n",
       "3          ALB      Albania\n",
       "4          AND      Andorra"
      ]
     },
     "execution_count": 8,
     "metadata": {},
     "output_type": "execute_result"
    }
   ],
   "source": [
    "wb_meta_country[['Country Code', 'TableName']].head()"
   ]
  },
  {
   "cell_type": "code",
   "execution_count": 9,
   "metadata": {
    "collapsed": true
   },
   "outputs": [],
   "source": [
    "df = pd.DataFrame()\n",
    "for country in country_class_y['Countries']:\n",
    "    #print(country)\n",
    "    df1 = wb[wb['Country Name'] == country]\n",
    "    df = pd.concat( [df,df1], ignore_index=True, axis=0)\n",
    "        "
   ]
  },
  {
   "cell_type": "code",
   "execution_count": 12,
   "metadata": {},
   "outputs": [
    {
     "data": {
      "text/html": [
       "<div>\n",
       "<style>\n",
       "    .dataframe thead tr:only-child th {\n",
       "        text-align: right;\n",
       "    }\n",
       "\n",
       "    .dataframe thead th {\n",
       "        text-align: left;\n",
       "    }\n",
       "\n",
       "    .dataframe tbody tr th {\n",
       "        vertical-align: top;\n",
       "    }\n",
       "</style>\n",
       "<table border=\"1\" class=\"dataframe\">\n",
       "  <thead>\n",
       "    <tr style=\"text-align: right;\">\n",
       "      <th></th>\n",
       "      <th>Country Name</th>\n",
       "      <th>Country Code</th>\n",
       "      <th>Indicator Name</th>\n",
       "      <th>Indicator Code</th>\n",
       "      <th>1960</th>\n",
       "      <th>1961</th>\n",
       "      <th>1962</th>\n",
       "      <th>1963</th>\n",
       "      <th>1964</th>\n",
       "      <th>1965</th>\n",
       "      <th>...</th>\n",
       "      <th>2007</th>\n",
       "      <th>2008</th>\n",
       "      <th>2009</th>\n",
       "      <th>2010</th>\n",
       "      <th>2011</th>\n",
       "      <th>2012</th>\n",
       "      <th>2013</th>\n",
       "      <th>2014</th>\n",
       "      <th>2015</th>\n",
       "      <th>2016</th>\n",
       "    </tr>\n",
       "  </thead>\n",
       "  <tbody>\n",
       "    <tr>\n",
       "      <th>0</th>\n",
       "      <td>France</td>\n",
       "      <td>FRA</td>\n",
       "      <td>Urban population (% of total)</td>\n",
       "      <td>SP.URB.TOTL.IN.ZS</td>\n",
       "      <td>6.188000e+01</td>\n",
       "      <td>6.260700e+01</td>\n",
       "      <td>6.348900e+01</td>\n",
       "      <td>6.470200e+01</td>\n",
       "      <td>6.589800e+01</td>\n",
       "      <td>6.707100e+01</td>\n",
       "      <td>...</td>\n",
       "      <td>7.762100e+01</td>\n",
       "      <td>7.786400e+01</td>\n",
       "      <td>7.810600e+01</td>\n",
       "      <td>7.834500e+01</td>\n",
       "      <td>7.858400e+01</td>\n",
       "      <td>7.882000e+01</td>\n",
       "      <td>7.905500e+01</td>\n",
       "      <td>7.928900e+01</td>\n",
       "      <td>7.952000e+01</td>\n",
       "      <td>7.975000e+01</td>\n",
       "    </tr>\n",
       "    <tr>\n",
       "      <th>1</th>\n",
       "      <td>France</td>\n",
       "      <td>FRA</td>\n",
       "      <td>Urban population</td>\n",
       "      <td>SP.URB.TOTL</td>\n",
       "      <td>2.896865e+07</td>\n",
       "      <td>2.970374e+07</td>\n",
       "      <td>3.055068e+07</td>\n",
       "      <td>3.157696e+07</td>\n",
       "      <td>3.258617e+07</td>\n",
       "      <td>3.355144e+07</td>\n",
       "      <td>...</td>\n",
       "      <td>4.969004e+07</td>\n",
       "      <td>5.012494e+07</td>\n",
       "      <td>5.054008e+07</td>\n",
       "      <td>5.094580e+07</td>\n",
       "      <td>5.134897e+07</td>\n",
       "      <td>5.175305e+07</td>\n",
       "      <td>5.217517e+07</td>\n",
       "      <td>5.259394e+07</td>\n",
       "      <td>5.297946e+07</td>\n",
       "      <td>5.334965e+07</td>\n",
       "    </tr>\n",
       "    <tr>\n",
       "      <th>2</th>\n",
       "      <td>France</td>\n",
       "      <td>FRA</td>\n",
       "      <td>Urban population growth (annual %)</td>\n",
       "      <td>SP.URB.GROW</td>\n",
       "      <td>2.424503e+00</td>\n",
       "      <td>2.505858e+00</td>\n",
       "      <td>2.811428e+00</td>\n",
       "      <td>3.304057e+00</td>\n",
       "      <td>3.146026e+00</td>\n",
       "      <td>2.919203e+00</td>\n",
       "      <td>...</td>\n",
       "      <td>9.335545e-01</td>\n",
       "      <td>8.714278e-01</td>\n",
       "      <td>8.248035e-01</td>\n",
       "      <td>7.995637e-01</td>\n",
       "      <td>7.882418e-01</td>\n",
       "      <td>7.838471e-01</td>\n",
       "      <td>8.123421e-01</td>\n",
       "      <td>7.994288e-01</td>\n",
       "      <td>7.303273e-01</td>\n",
       "      <td>6.963089e-01</td>\n",
       "    </tr>\n",
       "    <tr>\n",
       "      <th>3</th>\n",
       "      <td>France</td>\n",
       "      <td>FRA</td>\n",
       "      <td>Population, total</td>\n",
       "      <td>SP.POP.TOTL</td>\n",
       "      <td>4.681424e+07</td>\n",
       "      <td>4.744475e+07</td>\n",
       "      <td>4.811965e+07</td>\n",
       "      <td>4.880368e+07</td>\n",
       "      <td>4.944940e+07</td>\n",
       "      <td>5.002377e+07</td>\n",
       "      <td>...</td>\n",
       "      <td>6.401623e+07</td>\n",
       "      <td>6.437499e+07</td>\n",
       "      <td>6.470704e+07</td>\n",
       "      <td>6.502751e+07</td>\n",
       "      <td>6.534278e+07</td>\n",
       "      <td>6.565979e+07</td>\n",
       "      <td>6.599857e+07</td>\n",
       "      <td>6.633196e+07</td>\n",
       "      <td>6.662407e+07</td>\n",
       "      <td>6.689611e+07</td>\n",
       "    </tr>\n",
       "    <tr>\n",
       "      <th>4</th>\n",
       "      <td>France</td>\n",
       "      <td>FRA</td>\n",
       "      <td>Population growth (annual %)</td>\n",
       "      <td>SP.POP.GROW</td>\n",
       "      <td>1.229610e+00</td>\n",
       "      <td>1.337853e+00</td>\n",
       "      <td>1.412470e+00</td>\n",
       "      <td>1.411512e+00</td>\n",
       "      <td>1.314427e+00</td>\n",
       "      <td>1.154839e+00</td>\n",
       "      <td>...</td>\n",
       "      <td>6.187115e-01</td>\n",
       "      <td>5.588574e-01</td>\n",
       "      <td>5.144864e-01</td>\n",
       "      <td>4.940375e-01</td>\n",
       "      <td>4.836449e-01</td>\n",
       "      <td>4.839823e-01</td>\n",
       "      <td>5.146361e-01</td>\n",
       "      <td>5.038712e-01</td>\n",
       "      <td>4.394107e-01</td>\n",
       "      <td>4.074910e-01</td>\n",
       "    </tr>\n",
       "  </tbody>\n",
       "</table>\n",
       "<p>5 rows × 61 columns</p>\n",
       "</div>"
      ],
      "text/plain": [
       "  Country Name Country Code                      Indicator Name  \\\n",
       "0       France          FRA       Urban population (% of total)   \n",
       "1       France          FRA                    Urban population   \n",
       "2       France          FRA  Urban population growth (annual %)   \n",
       "3       France          FRA                   Population, total   \n",
       "4       France          FRA        Population growth (annual %)   \n",
       "\n",
       "      Indicator Code          1960          1961          1962          1963  \\\n",
       "0  SP.URB.TOTL.IN.ZS  6.188000e+01  6.260700e+01  6.348900e+01  6.470200e+01   \n",
       "1        SP.URB.TOTL  2.896865e+07  2.970374e+07  3.055068e+07  3.157696e+07   \n",
       "2        SP.URB.GROW  2.424503e+00  2.505858e+00  2.811428e+00  3.304057e+00   \n",
       "3        SP.POP.TOTL  4.681424e+07  4.744475e+07  4.811965e+07  4.880368e+07   \n",
       "4        SP.POP.GROW  1.229610e+00  1.337853e+00  1.412470e+00  1.411512e+00   \n",
       "\n",
       "           1964          1965      ...               2007          2008  \\\n",
       "0  6.589800e+01  6.707100e+01      ...       7.762100e+01  7.786400e+01   \n",
       "1  3.258617e+07  3.355144e+07      ...       4.969004e+07  5.012494e+07   \n",
       "2  3.146026e+00  2.919203e+00      ...       9.335545e-01  8.714278e-01   \n",
       "3  4.944940e+07  5.002377e+07      ...       6.401623e+07  6.437499e+07   \n",
       "4  1.314427e+00  1.154839e+00      ...       6.187115e-01  5.588574e-01   \n",
       "\n",
       "           2009          2010          2011          2012          2013  \\\n",
       "0  7.810600e+01  7.834500e+01  7.858400e+01  7.882000e+01  7.905500e+01   \n",
       "1  5.054008e+07  5.094580e+07  5.134897e+07  5.175305e+07  5.217517e+07   \n",
       "2  8.248035e-01  7.995637e-01  7.882418e-01  7.838471e-01  8.123421e-01   \n",
       "3  6.470704e+07  6.502751e+07  6.534278e+07  6.565979e+07  6.599857e+07   \n",
       "4  5.144864e-01  4.940375e-01  4.836449e-01  4.839823e-01  5.146361e-01   \n",
       "\n",
       "           2014          2015          2016  \n",
       "0  7.928900e+01  7.952000e+01  7.975000e+01  \n",
       "1  5.259394e+07  5.297946e+07  5.334965e+07  \n",
       "2  7.994288e-01  7.303273e-01  6.963089e-01  \n",
       "3  6.633196e+07  6.662407e+07  6.689611e+07  \n",
       "4  5.038712e-01  4.394107e-01  4.074910e-01  \n",
       "\n",
       "[5 rows x 61 columns]"
      ]
     },
     "execution_count": 12,
     "metadata": {},
     "output_type": "execute_result"
    }
   ],
   "source": [
    "df.head()"
   ]
  },
  {
   "cell_type": "code",
   "execution_count": 13,
   "metadata": {},
   "outputs": [
    {
     "data": {
      "text/plain": [
       "(4480, 61)"
      ]
     },
     "execution_count": 13,
     "metadata": {},
     "output_type": "execute_result"
    }
   ],
   "source": [
    "df.shape"
   ]
  },
  {
   "cell_type": "code",
   "execution_count": 19,
   "metadata": {},
   "outputs": [
    {
     "data": {
      "text/html": [
       "<div>\n",
       "<style>\n",
       "    .dataframe thead tr:only-child th {\n",
       "        text-align: right;\n",
       "    }\n",
       "\n",
       "    .dataframe thead th {\n",
       "        text-align: left;\n",
       "    }\n",
       "\n",
       "    .dataframe tbody tr th {\n",
       "        vertical-align: top;\n",
       "    }\n",
       "</style>\n",
       "<table border=\"1\" class=\"dataframe\">\n",
       "  <thead>\n",
       "    <tr style=\"text-align: right;\">\n",
       "      <th></th>\n",
       "      <th>Country Name</th>\n",
       "      <th>Indicator Name</th>\n",
       "      <th>2005</th>\n",
       "    </tr>\n",
       "  </thead>\n",
       "  <tbody>\n",
       "    <tr>\n",
       "      <th>0</th>\n",
       "      <td>France</td>\n",
       "      <td>Urban population (% of total)</td>\n",
       "      <td>7.713000e+01</td>\n",
       "    </tr>\n",
       "    <tr>\n",
       "      <th>1</th>\n",
       "      <td>France</td>\n",
       "      <td>Urban population</td>\n",
       "      <td>4.873024e+07</td>\n",
       "    </tr>\n",
       "    <tr>\n",
       "      <th>2</th>\n",
       "      <td>France</td>\n",
       "      <td>Urban population growth (annual %)</td>\n",
       "      <td>1.074557e+00</td>\n",
       "    </tr>\n",
       "    <tr>\n",
       "      <th>3</th>\n",
       "      <td>France</td>\n",
       "      <td>Population, total</td>\n",
       "      <td>6.317936e+07</td>\n",
       "    </tr>\n",
       "    <tr>\n",
       "      <th>4</th>\n",
       "      <td>France</td>\n",
       "      <td>Population growth (annual %)</td>\n",
       "      <td>7.538056e-01</td>\n",
       "    </tr>\n",
       "  </tbody>\n",
       "</table>\n",
       "</div>"
      ],
      "text/plain": [
       "  Country Name                      Indicator Name          2005\n",
       "0       France       Urban population (% of total)  7.713000e+01\n",
       "1       France                    Urban population  4.873024e+07\n",
       "2       France  Urban population growth (annual %)  1.074557e+00\n",
       "3       France                   Population, total  6.317936e+07\n",
       "4       France        Population growth (annual %)  7.538056e-01"
      ]
     },
     "execution_count": 19,
     "metadata": {},
     "output_type": "execute_result"
    }
   ],
   "source": [
    "df_2000 = df.iloc[:, [0,2,49]]\n",
    "df_2000.head()"
   ]
  },
  {
   "cell_type": "code",
   "execution_count": null,
   "metadata": {},
   "outputs": [],
   "source": [
    "#df[['label']]\n",
    "country_class_y.columns = ['Country Name', 'Label']\n",
    "country_class_y.head()"
   ]
  },
  {
   "cell_type": "code",
   "execution_count": null,
   "metadata": {},
   "outputs": [],
   "source": [
    "df_2000_label = pd.merge(df_2000, country_class_y, on=\"Country Name\", how=\"outer\" )\n",
    "df_2000_label.head()\n",
    "df_2000_label.shape"
   ]
  },
  {
   "cell_type": "code",
   "execution_count": null,
   "metadata": {},
   "outputs": [],
   "source": [
    "# preprocessing data\n",
    "df_2000_label_good = df_2000_label[(df_2000_label['Indicator Name'] == 'Urban population (% of total)') & (df_2000_label['Label'] == 'Good')]\n",
    "\n",
    "df_2000_label_good"
   ]
  },
  {
   "cell_type": "code",
   "execution_count": null,
   "metadata": {},
   "outputs": [],
   "source": [
    "len(wb_meta_indi['INDICATOR_NAME'])"
   ]
  },
  {
   "cell_type": "code",
   "execution_count": null,
   "metadata": {},
   "outputs": [],
   "source": [
    "list_deleted_indi = []\n",
    "list_saved_indi = []\n",
    "df_test = pd.DataFrame()\n",
    "\n",
    "for label in country_class_y['Label'].unique():\n",
    "    for indicator in wb_meta_indi['INDICATOR_NAME']:\n",
    "        df_temp = pd.DataFrame()\n",
    "        df_temp = df_2000_label[(df_2000_label['Indicator Name'] == indicator) & (df_2000_label['Label'] == label)]\n",
    "        \n",
    "        # df_temp = df_temp.fillna(df_temp.mean())\n",
    "        df_temp.interpolate(method=’polynomial’, order=4)\n",
    "        print(df_temp)\n",
    "        \n",
    "        if(df_temp['2000'].isnull().values.all()):\n",
    "            list_deleted_indi.append(indicator) \n",
    "        else:\n",
    "            list_saved_indi.append(indicator) \n",
    "            \n",
    "        df_test = pd.concat([df_test,df_temp], ignore_index=True, axis=0)\n",
    "        \n",
    "print(list_deleted_indi)\n",
    "df_test"
   ]
  },
  {
   "cell_type": "code",
   "execution_count": null,
   "metadata": {},
   "outputs": [],
   "source": [
    "len(list_deleted_indi)"
   ]
  },
  {
   "cell_type": "code",
   "execution_count": null,
   "metadata": {},
   "outputs": [],
   "source": [
    "len(list_saved_indi)"
   ]
  },
  {
   "cell_type": "code",
   "execution_count": null,
   "metadata": {
    "collapsed": true
   },
   "outputs": [],
   "source": [
    "set_saved_indi_filter = set(wb_meta_indi['INDICATOR_NAME']) - set(list_deleted_indi)"
   ]
  },
  {
   "cell_type": "code",
   "execution_count": null,
   "metadata": {
    "scrolled": true
   },
   "outputs": [],
   "source": [
    "len(set_saved_indi_filter)"
   ]
  },
  {
   "cell_type": "code",
   "execution_count": null,
   "metadata": {},
   "outputs": [],
   "source": [
    "df_test.isnull().values.any()"
   ]
  },
  {
   "cell_type": "code",
   "execution_count": null,
   "metadata": {},
   "outputs": [],
   "source": [
    "df_test[df_test['Indicator Name'] == 'Urban population (% of total)']\n",
    "df_test.shape"
   ]
  },
  {
   "cell_type": "code",
   "execution_count": null,
   "metadata": {},
   "outputs": [],
   "source": [
    "df_test_clean = pd.DataFrame()\n",
    "for indi in set_saved_indi_filter:\n",
    "    df_temp = df_test[df_test['Indicator Name'] == indi]\n",
    "    df_test_clean = pd.concat([df_test_clean, df_temp], ignore_index = True, axis = 0)\n",
    "\n",
    "print(df_test_clean.shape)\n",
    "df_test_clean.head()"
   ]
  },
  {
   "cell_type": "code",
   "execution_count": null,
   "metadata": {},
   "outputs": [],
   "source": [
    "3584/56"
   ]
  },
  {
   "cell_type": "code",
   "execution_count": null,
   "metadata": {},
   "outputs": [],
   "source": [
    "# reshape the matrix feature\n",
    "col = list(set_saved_indi_filter)\n",
    "ind = list(country_class_y['Country Name'])\n",
    "\n",
    "Xtrain = pd.DataFrame(np.zeros(shape = (56, 64)), columns = col, index = ind)\n",
    "for country in country_class_y['Country Name']:\n",
    "    Xtrain.loc[country] = df_test_clean[df_test_clean['Country Name'] == country]['2000'].values\n",
    "Xtrain.shape"
   ]
  },
  {
   "cell_type": "code",
   "execution_count": null,
   "metadata": {},
   "outputs": [],
   "source": [
    "ytrain = country_class_y['Label']\n",
    "ytrain.head()"
   ]
  },
  {
   "cell_type": "code",
   "execution_count": null,
   "metadata": {
    "collapsed": true
   },
   "outputs": [],
   "source": [
    "from sklearn.svm import SVC\n",
    "svc = SVC(kernel='rbf', class_weight='balanced')"
   ]
  },
  {
   "cell_type": "code",
   "execution_count": null,
   "metadata": {},
   "outputs": [],
   "source": [
    "svc.get_params().keys()"
   ]
  },
  {
   "cell_type": "code",
   "execution_count": null,
   "metadata": {},
   "outputs": [],
   "source": [
    "from sklearn.grid_search import GridSearchCV\n",
    "param_grid = {'C': [0.05, 0.1, 0.5, 1, 5, 10, 50], 'gamma': [1E-20 , 1E-15, 1E-12, 1E-10, 0.00001]}\n",
    "grid = GridSearchCV(svc, param_grid)\n",
    "\n",
    "%time grid.fit(Xtrain, ytrain)\n",
    "print(grid.best_params_)"
   ]
  },
  {
   "cell_type": "code",
   "execution_count": null,
   "metadata": {
    "collapsed": true
   },
   "outputs": [],
   "source": [
    "model = grid.best_estimator_\n"
   ]
  },
  {
   "cell_type": "code",
   "execution_count": null,
   "metadata": {},
   "outputs": [],
   "source": [
    "wb_test = wb[['Country Name','Indicator Name','2000']]\n",
    "wb_test.head()"
   ]
  },
  {
   "cell_type": "code",
   "execution_count": null,
   "metadata": {},
   "outputs": [],
   "source": [
    "# Xtest\n",
    "\n",
    "df_test_set = pd.DataFrame()\n",
    "for indi in set_saved_indi_filter:\n",
    "    df_temp = wb_test[wb_test['Indicator Name'] == indi]\n",
    "    df_test_set = pd.concat([df_test_set, df_temp], ignore_index = True, axis = 0)\n",
    "\n",
    "print(df_test_set.shape)\n",
    "df_test_set.head()\n"
   ]
  },
  {
   "cell_type": "code",
   "execution_count": null,
   "metadata": {},
   "outputs": [],
   "source": [
    "len(wb['Country Name'].unique())"
   ]
  },
  {
   "cell_type": "code",
   "execution_count": null,
   "metadata": {
    "scrolled": true
   },
   "outputs": [],
   "source": [
    "16896/264"
   ]
  },
  {
   "cell_type": "code",
   "execution_count": null,
   "metadata": {
    "collapsed": true
   },
   "outputs": [],
   "source": [
    "set_test = set(wb['Country Name']) - set(country_class_y['Country Name'])\n",
    "\n",
    "df_test_set_country = pd.DataFrame()\n",
    "for country in set_test:\n",
    "    # print(country)\n",
    "    df_temp = df_test_set[df_test_set['Country Name'] == country]\n",
    "    df_test_set_country = pd.concat([df_test_set_country, df_temp], ignore_index = True, axis = 0)"
   ]
  },
  {
   "cell_type": "code",
   "execution_count": null,
   "metadata": {
    "scrolled": false
   },
   "outputs": [],
   "source": [
    "len(set_test)"
   ]
  },
  {
   "cell_type": "code",
   "execution_count": null,
   "metadata": {
    "scrolled": true
   },
   "outputs": [],
   "source": [
    "df_test_set_country.head()"
   ]
  },
  {
   "cell_type": "code",
   "execution_count": null,
   "metadata": {},
   "outputs": [],
   "source": [
    "# reshape the matrix feature\n",
    "col = list(set_saved_indi_filter)\n",
    "ind = list(country_class_y['Country Name'])\n",
    "\n",
    "for country in country_class_y['Country Name']:\n",
    "    Xtrain.loc[country] = df_test_clean[df_test_clean['Country Name'] == country]['2000'].values\n",
    "Xtrain.shape\n",
    "\n",
    "Xtrain = pd.DataFrame(np.zeros(shape = (56, 64)), columns = col, index = ind)\n",
    "for country in set_test:\n",
    "    df_test_country[]\n",
    "    "
   ]
  },
  {
   "cell_type": "code",
   "execution_count": null,
   "metadata": {
    "collapsed": true
   },
   "outputs": [],
   "source": [
    "df_vietnam = df_test_set_country[df_test_set_country['Country Name'] == 'Vietnam']\n",
    "df_vietnam = df_vietnam.fillna(0)"
   ]
  },
  {
   "cell_type": "code",
   "execution_count": null,
   "metadata": {},
   "outputs": [],
   "source": [
    "df_vietnam.isnull().sum()"
   ]
  },
  {
   "cell_type": "code",
   "execution_count": null,
   "metadata": {
    "collapsed": true
   },
   "outputs": [],
   "source": [
    "Xtest = pd.DataFrame(df_vietnam['2000'].values.reshape(1,64))"
   ]
  },
  {
   "cell_type": "code",
   "execution_count": null,
   "metadata": {},
   "outputs": [],
   "source": [
    "ytest = model.predict(Xtest)\n",
    "ytest"
   ]
  },
  {
   "cell_type": "code",
   "execution_count": null,
   "metadata": {},
   "outputs": [],
   "source": [
    "from sklearn.cross_validation import cross_val_score\n",
    "cross_val_score(model, Xtrain, ytrain, cv=4)"
   ]
  },
  {
   "cell_type": "code",
   "execution_count": null,
   "metadata": {},
   "outputs": [],
   "source": [
    "list_deleted_indi = []\n",
    "df_test = pd.DataFrame()\n",
    "\n",
    "for label in country_class_y['Label'].unique():\n",
    "    for indicator in wb_meta_indi['INDICATOR_NAME']:\n",
    "        df_temp = pd.DataFrame()\n",
    "        df_temp = df_2000[(df_2000['Indicator Name'] == indicator) & (df_2000_label['Label'] == label)]\n",
    "        print(df_temp)\n",
    "        #df_temp = df_temp.fillna(df_temp.mean())\n",
    "        \n",
    "        if(df_temp['2000'].isnull().values.all()):\n",
    "            #print(df_temp)\n",
    "            list_deleted_indi.append(indicator) \n",
    "        \n",
    "        if((not df_temp['2000'].isnull().values.all()) & df_temp.isnull().values.any()):\n",
    "            df_temp = df_temp.fillna(df_temp.mean())\n",
    "            df_test = pd.concat( [df_test,df_temp], ignore_index=True, axis=0)\n",
    "            print(df_temp)\n",
    "            break\n",
    "        \n",
    "        df_test = pd.concat( [df_test,df_temp], ignore_index=True, axis=0)\n",
    "        \n",
    "    if((not df_temp['2000'].isnull().values.all()) & df_temp.isnull().values.any()):\n",
    "        break\n",
    "\n",
    "print(list_deleted_indi)\n",
    "df_test"
   ]
  }
 ],
 "metadata": {
  "kernelspec": {
   "display_name": "Python 3",
   "language": "python",
   "name": "python3"
  },
  "language_info": {
   "codemirror_mode": {
    "name": "ipython",
    "version": 3
   },
   "file_extension": ".py",
   "mimetype": "text/x-python",
   "name": "python",
   "nbconvert_exporter": "python",
   "pygments_lexer": "ipython3",
   "version": "3.6.1"
  }
 },
 "nbformat": 4,
 "nbformat_minor": 1
}
