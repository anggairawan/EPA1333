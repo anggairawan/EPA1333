{
 "cells": [
  {
   "cell_type": "markdown",
   "metadata": {
    "collapsed": true
   },
   "source": [
    "## Assignment Week 5\n",
    "\n",
    "This week we are using numpy and matplotlib"
   ]
  },
  {
   "cell_type": "code",
   "execution_count": 1,
   "metadata": {
    "collapsed": true
   },
   "outputs": [],
   "source": [
    "# Start by loading the relevant libraries\n",
    "import numpy as np"
   ]
  },
  {
   "cell_type": "markdown",
   "metadata": {
    "collapsed": true
   },
   "source": [
    "### Numpy: Magic Square\n",
    "\n",
    "A <A HREF=\"https://en.wikipedia.org/wiki/Magic_square\">magic square</A> is a matrix in which the sum of all rows, columns and diagonals are the same.\n",
    "You can verify this fact for the matrix below by:\n",
    "  * calculating an array containing the sums of all rows\n",
    "  * calculate the minimum and maximum of this array\n",
    "  * calculating an array containing the sum of all columns\n",
    "  * calculate the minimum and maximum of this array\n",
    "  * calculating the sum of both diagonals\n",
    "  * check that both minimums and maximums and diagonals are the same value.\n",
    "\n",
    "```python\n",
    "msquare = np.array([\n",
    "    [17, 24,  1,  8, 15],\n",
    "    [23,  5,  7, 14, 16],\n",
    "    [ 4,  6, 13, 20, 22],\n",
    "    [10, 12, 19, 21,  3],\n",
    "    [11, 18, 25,  2,  9]])\n",
    "```\n",
    "\n",
    "**Assignment 5.1**\n",
    "\n",
    "Write a function **is_magic_square()** that takes a matrix as input and returns **True** if the matrix is a magic square and **False** otherwise. Use the matrix above to test your function.\n",
    "\n",
    "*Hint*: Use np.diag and np.fliplr to get the diagonals of a matrix.\n"
   ]
  },
  {
   "cell_type": "code",
   "execution_count": 2,
   "metadata": {
    "collapsed": true
   },
   "outputs": [],
   "source": [
    "# Start by defining the test matrix\n",
    "msquare = np.array([\n",
    "    [17, 24,  1,  8, 15],\n",
    "    [23,  5,  7, 14, 16],\n",
    "    [ 4,  6, 13, 20, 22],\n",
    "    [10, 12, 19, 21,  3],\n",
    "    [11, 18, 25,  2,  9]])"
   ]
  },
  {
   "cell_type": "code",
   "execution_count": 3,
   "metadata": {},
   "outputs": [
    {
     "name": "stdout",
     "output_type": "stream",
     "text": [
      "Sum per column = [65 65 65 65 65]\n",
      "Sum per row = [65 65 65 65 65]\n",
      "Max of the sum per column = 65\n",
      "Min of the sum per column = 65\n",
      "The diagonal = [17  5 13 21  9]\n",
      "The sum of the diagnal = 65\n",
      "The second diagonal = [15 14 13 12 11]\n",
      "The sum of the second diagonal = 65\n"
     ]
    }
   ],
   "source": [
    "# Recall that we can calculate the sum of the rows and coloums using\n",
    "print(\"Sum per column =\", msquare.sum(axis=0)) \n",
    "print(\"Sum per row =\", msquare.sum(axis=1))\n",
    "\n",
    "# We can use this to check the max and the min \n",
    "print(\"Max of the sum per column =\", msquare.sum(axis=0).max())\n",
    "print(\"Min of the sum per column =\", msquare.sum(axis=0).min())\n",
    "\n",
    "# We can use the np.diag function to find the diagonal of the matrix\n",
    "print(\"The diagonal =\", np.diag(msquare))\n",
    "# Finding the sum is then easy\n",
    "print(\"The sum of the diagnal =\", np.diag(msquare).sum())\n",
    "\n",
    "# By flipping the matrix we find the second diagonal\n",
    "print(\"The second diagonal =\", np.diag(np.fliplr(msquare)))\n",
    "\n",
    "# And again print the sum\n",
    "print(\"The sum of the second diagonal =\", np.diag(np.fliplr(msquare)).sum())\n",
    "\n"
   ]
  },
  {
   "cell_type": "code",
   "execution_count": 5,
   "metadata": {},
   "outputs": [
    {
     "data": {
      "text/plain": [
       "True"
      ]
     },
     "execution_count": 5,
     "metadata": {},
     "output_type": "execute_result"
    }
   ],
   "source": [
    "# Finally we can write the asked function\n",
    "def is_magic_square(m):\n",
    "    \"\"\"Check if a matrix is magic square by calculating the sum of each row, column and diagonal and \\\n",
    "    checking if they are all the same\"\"\"\n",
    "    if ( m.sum(axis=0).max() == m.sum(axis=0).min() ) & \\\n",
    "       ( m.sum(axis=1).max() == m.sum(axis=1).min() ) & \\\n",
    "       ( m.sum(axis=0).max() == np.diag(m).sum() ) & \\\n",
    "       ( m.sum(axis=0).max() == np.diag(np.fliplr(m)).sum() ):  \n",
    "            return True                                               \n",
    "    return False                                                      \n",
    "\n",
    "is_magic_square(msquare)"
   ]
  },
  {
   "cell_type": "markdown",
   "metadata": {},
   "source": [
    "### Generating Magic Squares\n",
    "\n",
    "The above function can be used in a (crude) method to generate magic squares\n",
    "\n",
    "**Assignment 5.2**\n",
    "\n",
    "Write a function **generateMagicSquare()** that generates a 3x3 magic square (containing numbers 1...9). \n",
    "\n",
    "Use the following algorithm:\n",
    "\n",
    "  * Use the function **is_magic_square()** from the previous question to check if a matrix is a valid magic square or not.\n",
    "  * Generate random 3x3 squares filled with the exact numbers 1..9 in some order and check if that matrix is a magic square. If so, print the magic square.\n",
    "  \n",
    "  * You may need to generate 100,000 matrices to find one that is a magic square (by chance).\n",
    "  \n",
    "*Hint*: Use np.random.permutation to generate a random permutation of an array."
   ]
  },
  {
   "cell_type": "code",
   "execution_count": 6,
   "metadata": {},
   "outputs": [
    {
     "data": {
      "text/plain": [
       "array([[5, 2, 8],\n",
       "       [4, 9, 6],\n",
       "       [7, 3, 1]])"
      ]
     },
     "execution_count": 6,
     "metadata": {},
     "output_type": "execute_result"
    }
   ],
   "source": [
    "# We can generate a random 3 by matrix using\n",
    "# Note: we first generate a flat array, permutate that and then reshape\n",
    "#       can you think why? What happens if we first reshape and then permutate?\n",
    "maybe_msquare = (np.arange(9) + 1) \n",
    "maybe_square = np.random.permutation(maybe_msquare)\n",
    "maybe_square.reshape((3,3))"
   ]
  },
  {
   "cell_type": "code",
   "execution_count": 7,
   "metadata": {},
   "outputs": [
    {
     "name": "stdout",
     "output_type": "stream",
     "text": [
      "No solution found!\n",
      "The following magic square has been found:\n",
      "[[8 3 4]\n",
      " [1 5 9]\n",
      " [6 7 2]]\n"
     ]
    }
   ],
   "source": [
    "# We can use the above method to generate permutations in the asked function.\n",
    "# Note that we use an argument that limits the number of iterations\n",
    "def generateMagicSquare(num):\n",
    "    maybe_msquare = (np.arange(9) + 1)                # First generate a array with the correct values\n",
    "    for i in range(num):                              # then start permutating and checking in for loop\n",
    "        maybe_square = np.random.permutation(maybe_msquare).reshape((3,3))\n",
    "        if is_magic_square(maybe_square):\n",
    "            print(\"The following magic square has been found:\")\n",
    "            print(maybe_square)\n",
    "            break\n",
    "        if i == (num - 1):\n",
    "            print(\"No solution found!\")\n",
    "            \n",
    "generateMagicSquare(10)\n",
    "generateMagicSquare(100000)\n",
    "\n",
    "        "
   ]
  },
  {
   "cell_type": "code",
   "execution_count": 8,
   "metadata": {},
   "outputs": [
    {
     "name": "stdout",
     "output_type": "stream",
     "text": [
      "The following magic square has been found:\n",
      "[[8 3 4]\n",
      " [1 5 9]\n",
      " [6 7 2]]\n",
      "It took 71966 iterations to find this magic square\n"
     ]
    }
   ],
   "source": [
    "# An alternative solution without the number of itterations as argument (be careful!)\n",
    "def generateMagicSquareToo():\n",
    "    maybe_msquare = (np.arange(9) + 1)\n",
    "    count = 1\n",
    "    while True:\n",
    "        maybe_square = np.random.permutation(maybe_msquare).reshape((3,3))\n",
    "        if is_magic_square(maybe_square):\n",
    "            print(\"The following magic square has been found:\")\n",
    "            print(maybe_square)\n",
    "            print(\"It took %i iterations to find this magic square\" % count)\n",
    "            break\n",
    "        count += 1\n",
    "\n",
    "generateMagicSquareToo()"
   ]
  },
  {
   "cell_type": "markdown",
   "metadata": {},
   "source": [
    "### Matplotlib: Functions"
   ]
  },
  {
   "cell_type": "code",
   "execution_count": 11,
   "metadata": {
    "collapsed": true
   },
   "outputs": [],
   "source": [
    "# Also make sure that you have the correct libraries loaded here\n",
    "\n",
    "%matplotlib inline\n",
    "\n",
    "import matplotlib.pyplot as plt"
   ]
  },
  {
   "cell_type": "markdown",
   "metadata": {},
   "source": [
    "### More grading\n",
    "\n",
    "This question continues from the exercise made in class (see file 'Week5_numpy_class.ipynb' and 'Week5_numpy_class-s.ipynb'). We quickly recreate the dataset here, see the aforementioned files for details.\n",
    "\n"
   ]
  },
  {
   "cell_type": "code",
   "execution_count": 12,
   "metadata": {},
   "outputs": [
    {
     "data": {
      "text/plain": [
       "masked_array(data = [7.487899795747729 8.284329293007918 7.776006943293143 7.936047639242565\n",
       " 7.83629935166438 7.925469624976372 7.638069591050232 8.012506763219093],\n",
       "             mask = [False False False False False False False False],\n",
       "       fill_value = 1e+20)"
      ]
     },
     "execution_count": 12,
     "metadata": {},
     "output_type": "execute_result"
    }
   ],
   "source": [
    "# create students and grades arrays, using random grades\n",
    "students = np.array(['Anne', 'Bob', 'Mary', 'John', 'Julia', 'Mike', 'Susan', 'Zach'])\n",
    "grades = np.random.rand( 8,20 )* 6 + 4\n",
    "\n",
    "# create an array with the average grades per student \n",
    "avg_grades = grades.mean(axis=1)\n",
    "\n",
    "# create a masked array where we mask away all grades below 5.8\n",
    "masked_grades = np.ma.masked_array( grades, grades < 5.8 )\n",
    "\n",
    "# calculate the averages per student\n",
    "avg_grades = masked_grades.mean( axis = 1 ) \n",
    "\n",
    "# print the array to see what we have\n",
    "avg_grades"
   ]
  },
  {
   "cell_type": "markdown",
   "metadata": {},
   "source": [
    " **Assignment 5.3**\n",
    "\n",
    "Using the above data, do the following:\n",
    "\n",
    "  1. Plot the avarage grade per student in a bar chart, set the axis and labels accordingly.\n",
    "  2. Plot the average grades for each of the 20 assignments.\n",
    "  3. Try to fit a line to this line and try to predict the average grades for the next assignment. Plot the result.\n",
    "     \n",
    "     *Hint* Use np.polyfit() to find a fitting function. Use np.polyval() to evaluate a polynomial. How does the degree of the polynomial effect the fitting?"
   ]
  },
  {
   "cell_type": "code",
   "execution_count": 13,
   "metadata": {},
   "outputs": [
    {
     "data": {
      "image/png": "[encoded data removed]",
      "text/plain": [
       "<matplotlib.figure.Figure at 0x1169c1d68>"
      ]
     },
     "metadata": {},
     "output_type": "display_data"
    }
   ],
   "source": [
    "# 5.3.1 plot the averages of each student in a bar chart\n",
    "plt.bar( np.arange( avg_grades.shape[0]), avg_grades, align='center', color='red' )\n",
    "\n",
    "# Nice labels on the x-axis\n",
    "plt.xticks( np.arange( len(students) ), students)\n",
    "\n",
    "# Give the bar a title\n",
    "plt.title(\"Average grade per student\")\n",
    "\n",
    "# Label the axis\n",
    "plt.xlabel(\"Student\")\n",
    "plt.ylabel(\"Grade\")\n",
    "\n",
    "# Put the actual grade on top of the bars, for clarity\n",
    "for (i, grade) in enumerate( avg_grades ):\n",
    "    plt.text( i - 0.25, grade + 0.25, \"%.2f\" % (grade) )"
   ]
  },
  {
   "cell_type": "code",
   "execution_count": 14,
   "metadata": {},
   "outputs": [
    {
     "data": {
      "text/plain": [
       "<matplotlib.text.Text at 0x11b8f0550>"
      ]
     },
     "execution_count": 14,
     "metadata": {},
     "output_type": "execute_result"
    },
    {
     "data": {
      "image/png": "[encoded data removed]",
      "text/plain": [
       "<matplotlib.figure.Figure at 0x1169c1320>"
      ]
     },
     "metadata": {},
     "output_type": "display_data"
    }
   ],
   "source": [
    "# 5.3.2 plot the average grade of each of the assigments\n",
    "\n",
    "# get the average grade per assignment. Use axis=0, so average over all rows, column-by-column.\n",
    "avg_grades = grades.mean(axis = 0)\n",
    "\n",
    "# Plot the result\n",
    "plt.plot( np.arange(20), avg_grades )\n",
    "\n",
    "plt.title(\"Average grades per assignment\")\n",
    "plt.xlabel(\"Assignment ID\")\n",
    "plt.ylabel(\"Avg. grade\")"
   ]
  },
  {
   "cell_type": "code",
   "execution_count": 15,
   "metadata": {},
   "outputs": [
    {
     "name": "stdout",
     "output_type": "stream",
     "text": [
      "The predicted average grade of the next assignment is 7.78\n"
     ]
    },
    {
     "data": {
      "image/png": "[encoded data removed]",
      "text/plain": [
       "<matplotlib.figure.Figure at 0x11b90a438>"
      ]
     },
     "metadata": {},
     "output_type": "display_data"
    }
   ],
   "source": [
    "# 5.3.3 Try to fit a line to this line and \n",
    "# try to predict the average grades for the next assignment. \n",
    "# Plot the result\n",
    "\n",
    "# the degree of the fitting polynomial\n",
    "ndeg = 4\n",
    "nassignments = len(avg_grades)\n",
    "\n",
    "# Use polyfit to find a fitting polynomial, i.e. with degree 3 or 4 (for my random data)\n",
    "# Poly will contain the coefficients of the found polynomial\n",
    "poly = np.polyfit( np.arange(nassignments), avg_grades, ndeg)\n",
    "\n",
    "# x-values and y-values of the polyfit. The prediction looks one assignment further.\n",
    "# Use polyval to use the found coefficients in the polynomial\n",
    "x_pred = np.arange(nassignments + 1)\n",
    "y_pred = np.polyval(poly, x_pred)\n",
    "\n",
    "# Plot both the orginal and the fitting function, including prediction\n",
    "plt.plot( np.arange(nassignments) , avg_grades, color='Blue', label='Mean grade')\n",
    "plt.plot( x_pred, y_pred, color='Green', label='Fitted grade')\n",
    "\n",
    "plt.title('Average grades per assignment')\n",
    "plt.xlabel('Assignment')\n",
    "plt.ylabel('Grade')\n",
    "\n",
    "# Put a legend\n",
    "plt.legend( loc=(1.02, 0.7) )\n",
    "\n",
    "print(\"The predicted average grade of the next assignment is %.2f\" % y_pred[nassignments])\n",
    "\n",
    "# Note: with random grades a prediction does not make much sense :-)"
   ]
  }
 ],
 "metadata": {
  "kernelspec": {
   "display_name": "Python 3",
   "language": "python",
   "name": "python3"
  },
  "language_info": {
   "codemirror_mode": {
    "name": "ipython",
    "version": 3
   },
   "file_extension": ".py",
   "mimetype": "text/x-python",
   "name": "python",
   "nbconvert_exporter": "python",
   "pygments_lexer": "ipython3",
   "version": "3.6.1"
  }
 },
 "nbformat": 4,
 "nbformat_minor": 2
}
