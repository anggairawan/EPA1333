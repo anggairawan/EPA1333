{
 "cells": [
  {
   "cell_type": "markdown",
   "metadata": {},
   "source": [
    "## Assignment Week 4\n",
    "\n",
    "This week we are going to write a program that guesses passwords.\n",
    "\n",
    "Two files are provided: \n",
    "  * ```words.txt``` - this file contains a list of English words, one word per line\n",
    "  * ```passwordfile.txt``` - this file contais a list of username:passwordhash combinations, one per line. \n",
    "\n",
    "\n",
    "\n",
    "### The password file\n",
    "\n",
    "A well-known way to authenticate users is through the use of a username and password. If the user can provide the correct password, the user is granted access. \n",
    "\n",
    "To check the password, the system uses a *password file*, in which known username, password (both strings) combinations are stored, one combination per line. However, for security reasons, passwords are not stored in plain-text, but an encrypted version (called a *hash*) of the password string is stored instead. Hashes are computed using the function ```encrypt_password()```, which is provided below. This way, if the password file is stolen, the passwords are not immediately visible.\n",
    "\n",
    "For example, if username \"John\" has password \"secret\", then instead of:\n",
    "\n",
    "```\n",
    "John:secret\n",
    "```\n",
    "the following is stored in the password file (see also below):\n",
    "```\n",
    "John:2bb80d537b1da3e38bd30361aa855686bde0eacd7162fef6a25fe97bf527a25b\n",
    "```\n",
    "\n",
    "When John wants to login into the system, then John provides his username and plaintext password. Then the system uses the ```encrypt_password()``` function to compute the hash of the provided password and compares the result to what it finds in the password file for the user John. If both strings match each other, John is granted access, otherwise not. \n"
   ]
  },
  {
   "cell_type": "code",
   "execution_count": 1,
   "metadata": {
    "collapsed": true
   },
   "outputs": [],
   "source": [
    "##\n",
    "## The encrypt_password function.\n",
    "## You can use this function in your answer.\n",
    "##\n",
    "\n",
    "import hashlib\n",
    "\n",
    "def encrypt_password( passwd ):\n",
    "    \"\"\"Encrypt a plaintext password (a string). It returns the result.\n",
    "    This encryption is one-way only, meaning it is not easy (impossible) to decrypt\n",
    "    the encrypted password to find out the original plaintext password again.\"\"\"\n",
    "    return hashlib.sha256( passwd.encode() ).hexdigest()"
   ]
  },
  {
   "cell_type": "code",
   "execution_count": 2,
   "metadata": {},
   "outputs": [
    {
     "data": {
      "text/plain": [
       "'2bb80d537b1da3e38bd30361aa855686bde0eacd7162fef6a25fe97bf527a25b'"
      ]
     },
     "execution_count": 2,
     "metadata": {},
     "output_type": "execute_result"
    }
   ],
   "source": [
    "## Some examples of using the encrypt_password function\n",
    "encrypt_password(\"secret\")"
   ]
  },
  {
   "cell_type": "code",
   "execution_count": 3,
   "metadata": {},
   "outputs": [
    {
     "data": {
      "text/plain": [
       "'ce7a7c10b0dfd96808cca64c88cf5c5e13b7775283bdc924767887bfa32c8fa1'"
      ]
     },
     "execution_count": 3,
     "metadata": {},
     "output_type": "execute_result"
    }
   ],
   "source": [
    "encrypt_password(\"assignment\")"
   ]
  },
  {
   "cell_type": "code",
   "execution_count": 4,
   "metadata": {},
   "outputs": [
    {
     "data": {
      "text/plain": [
       "'b46352779bececb48e5a8d31e58684e8da139a944715bd44f0b930f3ac46bbca'"
      ]
     },
     "execution_count": 4,
     "metadata": {},
     "output_type": "execute_result"
    }
   ],
   "source": [
    "encrypt_password(\"#@SS1GNMENT!\")"
   ]
  },
  {
   "cell_type": "markdown",
   "metadata": {},
   "source": [
    "### Hacking (finding) the passwords \n",
    "\n",
    "Unfortunately, some users use passwords that are simply existing words or simple variations on them. A simple variations on words are to:\n",
    "  * replace each instance of the letters i and I (small and capital i) with the number 1 (one)\n",
    "  * replace each instance of the letters a and A (small and capital a) with the character @\n",
    "  * add a hash sign (#) at the beginning of the word\n",
    "  * add an exclamation mark (!) at the end of the word\n",
    "  * capitalize all letters\n",
    "  \n",
    "For example, a user might use the password \"#@SS1GNMENT!\" which is a variation on the word \"assignment\".\n",
    "\n",
    "You are going to write a program that uses a file containing a long list of possible passwords to try to find the plaintext passwords of users given a password file with encrypted passwords.\n",
    "\n",
    "*Hint*: Make sure to break up your code in smaller parts (functions) and to first think about the solution (use paper!) before you start coding!\n",
    "\n",
    "*Hint*: You may assume that a user either uses a word unaltered from the words file as a password or uses *all* 5 ways to alter an existing word from the file simultaneously as a password (so either \"assignment\" or \"#@SS1GNMENT!\").\n",
    "\n",
    "*Hint*: You can use the provided The *encrypt_password()* function in your answer."
   ]
  },
  {
   "cell_type": "markdown",
   "metadata": {},
   "source": [
    "**Assignment 4.1**\n",
    "\n",
    "Write a function that takes as argument a string and returns a new string in which\n",
    "the argument string has been altered using the 5 mentioned alterations. For example,\n",
    "\"assignment\" should be changed into \"#@SS1GNMENT!\".\n",
    "\n",
    "Hint: You migth want to use the <A HREF=\"https://docs.python.org/2/library/string.html#string.replace\">string.replace()</A> method in your answer."
   ]
  },
  {
   "cell_type": "code",
   "execution_count": null,
   "metadata": {
    "collapsed": true
   },
   "outputs": [],
   "source": [
    "# your code goes here"
   ]
  },
  {
   "cell_type": "markdown",
   "metadata": {},
   "source": [
    "**Assignment 4.2**\n",
    "\n",
    "Write a program that reads the file ```words.txt``` and that prompts a user for an encrypted (hashed) password and that finds and prints the plaintext password (if it can be found) of the encrypted password. For example:\n",
    "```\n",
    "Input encrypted password: b46352779bececb48e5a8d31e58684e8da139a944715bd44f0b930f3ac46bbca\n",
    "Plaintext password is: #@SS1GNMENT!\n",
    "```\n",
    "Another example is:\n",
    "```\n",
    "Input encrypted password: ce7a7c10b0dfd96808cca64c88cf5c5e13b7775283bdc924767887bfa32c8fa1\n",
    "Plaintext password is: assignment\n",
    "```\n",
    "\n",
    "**Note:** make sure to use a dictionary data-type in your solution"
   ]
  },
  {
   "cell_type": "code",
   "execution_count": null,
   "metadata": {
    "collapsed": true
   },
   "outputs": [],
   "source": [
    "#Your code goes here"
   ]
  },
  {
   "cell_type": "markdown",
   "metadata": {},
   "source": [
    "**Assignment 4.3**\n",
    "\n",
    "Write a program that reads the password file ```passwordfile.txt``` and the word list ```words.txt```  and for each line in the password file prints out the name and corresponding plaintext password, if you can find it (if not, print something appropriately).\n",
    "For example, the output could be:\n",
    "```\n",
    "John   secret\n",
    "Mary   #@SS1GNMENT!\n",
    "Bob    Cannot find password, too complex!\n",
    "Jane   python\n",
    "Peter  #PYTHON!\n",
    "...\n",
    "```"
   ]
  },
  {
   "cell_type": "code",
   "execution_count": null,
   "metadata": {
    "collapsed": true
   },
   "outputs": [],
   "source": [
    "# Your code goes here"
   ]
  }
 ],
 "metadata": {
  "kernelspec": {
   "display_name": "Python 3",
   "language": "python",
   "name": "python3"
  },
  "language_info": {
   "codemirror_mode": {
    "name": "ipython",
    "version": 3
   },
   "file_extension": ".py",
   "mimetype": "text/x-python",
   "name": "python",
   "nbconvert_exporter": "python",
   "pygments_lexer": "ipython3",
   "version": "3.6.1"
  }
 },
 "nbformat": 4,
 "nbformat_minor": 2
}
