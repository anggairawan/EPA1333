{
 "cells": [
  {
   "cell_type": "markdown",
   "metadata": {},
   "source": [
    "## Assignment Week 4\n",
    "\n",
    "This week we are going to write a program that guesses passwords.\n",
    "\n",
    "Two files are provided: \n",
    "  * ```words.txt``` - this file contains a list of English words, one word per line\n",
    "  * ```passwordfile.txt``` - this file contais a list of username:passwordhash combinations, one per line. \n",
    "\n",
    "\n",
    "\n",
    "### The password file\n",
    "\n",
    "A well-known way to authenticate users is through the use of a username and password. If the user can provide the correct password, the user is granted access. \n",
    "\n",
    "To check the password, the system uses a *password file*, in which known username, password (both strings) combinations are stored, one combination per line. However, for security reasons, passwords are not stored in plain-text, but an encrypted version (called a *hash*) of the password string is stored instead. Hashes are computed using the function ```encrypt_password()```, which is provided below. This way, if the password file is stolen, the passwords are not immediately visible.\n",
    "\n",
    "For example, if username \"John\" has password \"secret\", then instead of:\n",
    "\n",
    "```\n",
    "John:secret\n",
    "```\n",
    "the following is stored in the password file (see also below):\n",
    "```\n",
    "John:2bb80d537b1da3e38bd30361aa855686bde0eacd7162fef6a25fe97bf527a25b\n",
    "```\n",
    "\n",
    "When John wants to login into the system, then John provides his username and plaintext password. Then the system uses the ```encrypt_password()``` function to compute the hash of the provided password and compares the result to what it finds in the password file for the user John. If both strings match each other, John is granted access, otherwise not. \n"
   ]
  },
  {
   "cell_type": "code",
   "execution_count": 1,
   "metadata": {
    "collapsed": true
   },
   "outputs": [],
   "source": [
    "##\n",
    "## The encrypt_password function.\n",
    "## You can use this function in your answer.\n",
    "##\n",
    "\n",
    "import hashlib\n",
    "\n",
    "def encrypt_password( passwd ):\n",
    "    \"\"\"Encrypt a plaintext password (a string). It returns the result.\n",
    "    This encryption is one-way only, meaning it is not easy (impossible) to decrypt\n",
    "    the encrypted password to find out the original plaintext password again.\"\"\"\n",
    "    return hashlib.sha256( passwd.encode() ).hexdigest()"
   ]
  },
  {
   "cell_type": "code",
   "execution_count": 2,
   "metadata": {},
   "outputs": [
    {
     "data": {
      "text/plain": [
       "'2bb80d537b1da3e38bd30361aa855686bde0eacd7162fef6a25fe97bf527a25b'"
      ]
     },
     "execution_count": 2,
     "metadata": {},
     "output_type": "execute_result"
    }
   ],
   "source": [
    "## Some examples of using the encrypt_password function\n",
    "encrypt_password(\"secret\")"
   ]
  },
  {
   "cell_type": "code",
   "execution_count": 3,
   "metadata": {},
   "outputs": [
    {
     "data": {
      "text/plain": [
       "'ce7a7c10b0dfd96808cca64c88cf5c5e13b7775283bdc924767887bfa32c8fa1'"
      ]
     },
     "execution_count": 3,
     "metadata": {},
     "output_type": "execute_result"
    }
   ],
   "source": [
    "encrypt_password(\"assignment\")"
   ]
  },
  {
   "cell_type": "code",
   "execution_count": 4,
   "metadata": {},
   "outputs": [
    {
     "data": {
      "text/plain": [
       "'b46352779bececb48e5a8d31e58684e8da139a944715bd44f0b930f3ac46bbca'"
      ]
     },
     "execution_count": 4,
     "metadata": {},
     "output_type": "execute_result"
    }
   ],
   "source": [
    "encrypt_password(\"#@SS1GNMENT!\")"
   ]
  },
  {
   "cell_type": "markdown",
   "metadata": {},
   "source": [
    "### Hacking (finding) the passwords \n",
    "\n",
    "Unfortunately, some users use passwords that are simply existing words or simple variations on them. A simple variations on words are to:\n",
    "  * replace each instance of the letters i and I (small and capital i) with the number 1 (one)\n",
    "  * replace each instance of the letters a and A (small and capital a) with the character @\n",
    "  * add a hash sign (#) at the beginning of the word\n",
    "  * add an exclamation mark (!) at the end of the word\n",
    "  * capitalize all letters\n",
    "  \n",
    "For example, a user might use the password \"#@SS1GNMENT!\" which is a variation on the word \"assignment\".\n",
    "\n",
    "You are going to write a program that uses a file containing a long list of possible passwords to try to find the plaintext passwords of users given a password file with encrypted passwords.\n",
    "\n",
    "*Hint*: Make sure to break up your code in smaller parts (functions) and to first think about the solution (use paper!) before you start coding!\n",
    "\n",
    "*Hint*: You may assume that a user either uses a word unaltered from the words file as a password or uses *all* 5 ways to alter an existing word from the file simultaneously as a password (so either \"assignment\" or \"#@SS1GNMENT!\").\n",
    "\n",
    "*Hint*: You can use the provided The *encrypt_password()* function in your answer."
   ]
  },
  {
   "cell_type": "markdown",
   "metadata": {},
   "source": [
    "**Assignment 4.1**\n",
    "\n",
    "Write a function that takes as argument a string and returns a new string in which\n",
    "the argument string has been altered using the 5 mentioned alterations. For example,\n",
    "\"assignment\" should be changed into \"#@SS1GNMENT!\".\n",
    "\n",
    "Hint: You migth want to use the <A HREF=\"https://docs.python.org/2/library/string.html#string.replace\">string.replace()</A> method in your answer."
   ]
  },
  {
   "cell_type": "code",
   "execution_count": 5,
   "metadata": {},
   "outputs": [
    {
     "data": {
      "text/plain": [
       "'#@SS1GNMENT!'"
      ]
     },
     "execution_count": 5,
     "metadata": {},
     "output_type": "execute_result"
    }
   ],
   "source": [
    "def alter_word( w ):\n",
    "    \"\"\"Alters the argument w by replacing i and I with 1, replacing a and A with @, prepending #, \n",
    "    appending ! and capitalizing all letters. Returns the altered word.\"\"\"\n",
    "    w = w.upper()\n",
    "    w = w.replace(\"I\",\"1\").replace(\"A\",\"@\")\n",
    "    w = \"#\" + w + \"!\"\n",
    "    return w\n",
    "\n",
    "alter_word(\"assignment\")"
   ]
  },
  {
   "cell_type": "code",
   "execution_count": 6,
   "metadata": {},
   "outputs": [
    {
     "data": {
      "text/plain": [
       "'cdc7283def7099d7b1a1479b14bb0b4f4c1dafa5e0d7ca2f971e103c5ca2cf91'"
      ]
     },
     "execution_count": 6,
     "metadata": {},
     "output_type": "execute_result"
    }
   ],
   "source": [
    "encrypt_password(alter_word(\"fledgling\"))"
   ]
  },
  {
   "cell_type": "markdown",
   "metadata": {},
   "source": [
    "**Assignment 4.2**\n",
    "\n",
    "Write a program that reads the file ```words.txt``` and that prompts a user for an encrypted (hashed) password and that finds and prints the plaintext password (if it can be found) of the encrypted password. For example:\n",
    "```\n",
    "Input encrypted password: b46352779bececb48e5a8d31e58684e8da139a944715bd44f0b930f3ac46bbca\n",
    "Plaintext password is: #@SS1GNMENT!\n",
    "```\n",
    "Another example is:\n",
    "```\n",
    "Input encrypted password: ce7a7c10b0dfd96808cca64c88cf5c5e13b7775283bdc924767887bfa32c8fa1\n",
    "Plaintext password is: assignment\n",
    "```\n",
    "\n",
    "**Note:** make sure to use a dictionary data-type in your solution"
   ]
  },
  {
   "cell_type": "code",
   "execution_count": 7,
   "metadata": {},
   "outputs": [
    {
     "data": {
      "text/plain": [
       "113809"
      ]
     },
     "execution_count": 7,
     "metadata": {},
     "output_type": "execute_result"
    }
   ],
   "source": [
    "# Start by reading the words file and create a set of those words\n",
    "lines = open( \"words.txt\" ).readlines()\n",
    "words = { w.strip() for w in lines }\n",
    "\n",
    "len(words)"
   ]
  },
  {
   "cell_type": "code",
   "execution_count": 8,
   "metadata": {},
   "outputs": [
    {
     "name": "stdout",
     "output_type": "stream",
     "text": [
      "assignment\n",
      "assignment\n",
      "#@SS1GNMENT!\n",
      "Cannot find password\n"
     ]
    }
   ],
   "source": [
    "# Next, write the function to find a password from the word-list\n",
    "# We do this by building a dictionary with a mapping from encrypted_passwords to original word (or altered word)\n",
    "\n",
    "# First, built a set of altered words\n",
    "altered_words = { alter_word( w ) for w in words }\n",
    "\n",
    "# Now use the union (operator '|') of the sets words and altered_words and create the dictionary\n",
    "passwd_map = { encrypt_password( w ) : w   for w in  (words | altered_words) }\n",
    "\n",
    "# Then write a function that returns the password if it is found and otherwise an \n",
    "def find_passwd(hash): \n",
    "    if hash in passwd_map:\n",
    "        return passwd_map [ hash]\n",
    "    else: \n",
    "        return 'Cannot find password'\n",
    "\n",
    "# Test the fucntion\n",
    "print(find_passwd(encrypt_password(\"assignment\"))) # or\n",
    "print(find_passwd('ce7a7c10b0dfd96808cca64c88cf5c5e13b7775283bdc924767887bfa32c8fa1'))\n",
    "\n",
    "print(find_passwd(encrypt_password(alter_word(\"assignment\"))))\n",
    "print(find_passwd(''))\n",
    "\n",
    "    "
   ]
  },
  {
   "cell_type": "code",
   "execution_count": 11,
   "metadata": {},
   "outputs": [
    {
     "name": "stdout",
     "output_type": "stream",
     "text": [
      "Give encrypted password: ce7a7c10b0dfd96808cca64c88cf5c5e13b7775283bdc924767887bfa32c8fa1\n",
      "Plaintext password is: assignment\n"
     ]
    }
   ],
   "source": [
    "# Finally we can write the asked program that reads from input and prints\n",
    "passwd = input(\"Give encrypted password: \")\n",
    "print(\"Plaintext password is:\", find_passwd( passwd) )"
   ]
  },
  {
   "cell_type": "markdown",
   "metadata": {},
   "source": [
    "**Assignment 4.3**\n",
    "\n",
    "Write a program that reads the password file ```passwordfile.txt``` and the word list ```words.txt```  and for each line in the password file prints out the name and corresponding plaintext password, if you can find it (if not, print something appropriately).\n",
    "For example, the output could be:\n",
    "```\n",
    "John   secret\n",
    "Mary   #@SS1GNMENT!\n",
    "Bob    Cannot find password, too complex!\n",
    "Jane   python\n",
    "Peter  #PYTHON!\n",
    "...\n",
    "```"
   ]
  },
  {
   "cell_type": "code",
   "execution_count": null,
   "metadata": {},
   "outputs": [],
   "source": [
    "# Start by reading the password file and find passwords\n",
    "lines = open( \"passwordfile.txt\", \"r\" ).readlines()\n",
    "\n",
    "# Do not forget to strip() the newline at the end of each line.\n",
    "pf = [ l.strip().split(\":\") for l in lines ]\n",
    "pf\n"
   ]
  },
  {
   "cell_type": "code",
   "execution_count": null,
   "metadata": {},
   "outputs": [],
   "source": [
    "# Now, find the passwords for each user and print them nicely on screen\n",
    "print(\"Hacking passwords\")\n",
    "for ( u, p ) in pf:\n",
    "    print(\"%s\\t%s\" % (u, find_passwd(p) ))"
   ]
  },
  {
   "cell_type": "code",
   "execution_count": null,
   "metadata": {
    "collapsed": true
   },
   "outputs": [],
   "source": []
  }
 ],
 "metadata": {
  "kernelspec": {
   "display_name": "Python 3",
   "language": "python",
   "name": "python3"
  },
  "language_info": {
   "codemirror_mode": {
    "name": "ipython",
    "version": 3
   },
   "file_extension": ".py",
   "mimetype": "text/x-python",
   "name": "python",
   "nbconvert_exporter": "python",
   "pygments_lexer": "ipython3",
   "version": "3.6.1"
  }
 },
 "nbformat": 4,
 "nbformat_minor": 2
}
