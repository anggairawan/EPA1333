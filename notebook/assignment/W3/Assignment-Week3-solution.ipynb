{
 "cells": [
  {
   "cell_type": "markdown",
   "metadata": {},
   "source": [
    "## Assignment Week 3\n",
    "\n",
    "This week we are looking at exercises with lists, have a look at Chapter 10 of the book for more information on lists."
   ]
  },
  {
   "cell_type": "markdown",
   "metadata": {},
   "source": [
    "**Assignment 3.1**\n",
    "\n",
    "Write a function **removeConsecutiveElements** that takes a list as input and returns a list where all consecutive elements are reduced to a single element, so **removeConsecutiveElements([1, 2, 2, 2, 3])** returns the list **[1, 2, 3]**.    "
   ]
  },
  {
   "cell_type": "code",
   "execution_count": 100,
   "metadata": {},
   "outputs": [
    {
     "data": {
      "text/plain": [
       "[1, 2, 3, 4, 5]"
      ]
     },
     "execution_count": 100,
     "metadata": {},
     "output_type": "execute_result"
    }
   ],
   "source": [
    "#Assignment 3.1\n",
    "def removeConsecutiveElements(l):\n",
    "    rl = [] # we build up a new list that is returned as the outcome of the function\n",
    "    for i in range(len(l) - 1): \n",
    "        if l[i] != l[i+1]:    # if two consecutive elements are _not_ the same, we just add the first element\n",
    "            rl.append(l[i])   # to the list, which means that if they _are_ the same, the first consecutive element\n",
    "                              # is not added to new list (rl) that we are building           \n",
    "\n",
    "    if (l != []):             # don't forget to add the last element to the list, and check that the orginal list (l)\n",
    "        rl.append(l[-1])      # is not the empty list [] -- see what happens if you remove the if statement and give \n",
    "                              # the empty list as argument.\n",
    "    return rl\n",
    "\n",
    "# for testing\n",
    "removeConsecutiveElements([1,2,2,2,3,4,5,5,5,5])\n",
    "#removeConsecutiveElements([1])\n",
    "#removeConsecutiveElements([])"
   ]
  },
  {
   "cell_type": "markdown",
   "metadata": {},
   "source": [
    "**Assignment 3.2**\n",
    "\n",
    "Write a function **front_x** that takes a list of strings as input and returns a list with the strings in sorted order, except group all the strings that begin with 'x' first, so **front_x(['mix', 'xyz', 'apple', 'xanadu', 'aardvark'])** returns **['xanadu', 'xyz', 'aardvark', 'apple', 'mix']**.                                                                                                                                                    "
   ]
  },
  {
   "cell_type": "code",
   "execution_count": 122,
   "metadata": {},
   "outputs": [
    {
     "data": {
      "text/plain": [
       "['xanadu', 'xyz', 'aardvark', 'apple', 'mix']"
      ]
     },
     "execution_count": 122,
     "metadata": {},
     "output_type": "execute_result"
    }
   ],
   "source": [
    "def front_x(l):\n",
    "    xl = []  # the trick here is to create two lists, one for words starting with 'x' and the other for all \n",
    "    ol = []  # other words\n",
    "    for i in range(len(l)):\n",
    "        if first_letter_x(l[i]): # we use a helper function to test if the first letter of a word is and 'x' character,\n",
    "            xl.append(l[i])      # and make a list with all words starting with 'x'\n",
    "        else:\n",
    "            ol.append(l[i])      # and a list with all other words\n",
    "    xl.sort()                    # then we sort both lists\n",
    "    ol.sort()\n",
    "    return xl + ol               # and return the lists together, first the one with the words starting with 'x' and \n",
    "                                 # then the others\n",
    "\n",
    "def first_letter_x(s):           # a simple helper function that checks if the first letter of a string is an 'x'\n",
    "    if s[0] == 'x':\n",
    "        return True\n",
    "    else:\n",
    "        return False\n",
    "\n",
    "#for testing\n",
    "front_x(['mix', 'xyz', 'apple', 'xanadu', 'aardvark'])\n"
   ]
  },
  {
   "cell_type": "markdown",
   "metadata": {},
   "source": [
    "**Assignment 3.3**\n",
    "\n",
    "Write a function **zipper** that takes two lists as input, and return a list with the elements of both lists interchanged (like a zipper). For example, **zipper(['a1','a2','a3','a4'],['b1','b2',' '])** should return **['a1', 'b1', 'a2', 'b2', 'a3', ' ', 'a3']**. \n",
    "\n",
    "Make sure in your solution that the function accepts lists of different lenghts as input and that either of the input lists can be the empty list."
   ]
  },
  {
   "cell_type": "code",
   "execution_count": 148,
   "metadata": {},
   "outputs": [
    {
     "data": {
      "text/plain": [
       "['a1', 'b1', 'a2', 'b2', 'a3', ' ', 'a3']"
      ]
     },
     "execution_count": 148,
     "metadata": {},
     "output_type": "execute_result"
    }
   ],
   "source": [
    "def zipper(l1,l2):\n",
    "    if l1 == []:     # first check if either list is the empty list\n",
    "        return l2\n",
    "    elif l2 == []:\n",
    "        return l1\n",
    "    rl = []          # otherwise we build up a new list\n",
    "    if len(l1) <= len(l2):         # check which list is longer, in case the first list is the smallest list...\n",
    "        for i in range(len(l1)):   # we iterate over the length of shortest list and \n",
    "            rl.append(l1[i])       # add the elements one after another to the list (zipping) and\n",
    "            rl.append(l2[i])\n",
    "        rl += l2[i:-1]             # we add the remainder of longer list to the result (list rl)\n",
    "    else: \n",
    "        for i in range(len(l2)):   # swap everything if list l2 is the shortest list\n",
    "            rl.append(l1[i])\n",
    "            rl.append(l2[i])\n",
    "        rl += l1[i:-1]\n",
    "    return rl                       # and return the result\n",
    "\n",
    "\n",
    "# for testing\n",
    "#zipper([],[])\n",
    "#zipper(['a1','a2','a3','a4'],[])\n",
    "#zipper(['a','b','c','a','d','f'],['a','e','d'])\n",
    "zipper(['a1','a2','a3','a4'],['b1','b2',' '])\n"
   ]
  },
  {
   "cell_type": "code",
   "execution_count": null,
   "metadata": {
    "collapsed": true
   },
   "outputs": [],
   "source": []
  }
 ],
 "metadata": {
  "kernelspec": {
   "display_name": "Python 3",
   "language": "python",
   "name": "python3"
  },
  "language_info": {
   "codemirror_mode": {
    "name": "ipython",
    "version": 3
   },
   "file_extension": ".py",
   "mimetype": "text/x-python",
   "name": "python",
   "nbconvert_exporter": "python",
   "pygments_lexer": "ipython3",
   "version": "3.6.1"
  }
 },
 "nbformat": 4,
 "nbformat_minor": 2
}
