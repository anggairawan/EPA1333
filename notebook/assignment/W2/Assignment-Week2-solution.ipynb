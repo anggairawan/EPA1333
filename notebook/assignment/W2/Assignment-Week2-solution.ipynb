{
 "cells": [
  {
   "cell_type": "markdown",
   "metadata": {},
   "source": [
    "## Assignment Week 2\n",
    "\n",
    "For this week you need to write a function that determines if a number is a <A HREF=\"https://en.wikipedia.org/wiki/Harshad_number\">Harshad number</A> and then uses this function to write another function that determines the *ith* Harshad number. "
   ]
  },
  {
   "cell_type": "markdown",
   "metadata": {},
   "source": [
    "A Harshad number is an integer that is divisible by the sum of its digits. For example, 81 is a Harshad number, because 8+1 = 9 and 81/9 = 9. The first Harshad number is 1.\n",
    "\n",
    "**Assignment 2.1**\n",
    "\n",
    "Write a function **isHarshad** that takes as input an integer and that has as output **True**, if the integer is a Harshad number, and **False** if it is not.<BR>\n",
    "For example, **isHarshad(81)** should have ouput **True**.\n",
    "\n",
    "Hint: Use **str** to convert the input to a string, see Chapter 8 of the Think Python book. "
   ]
  },
  {
   "cell_type": "code",
   "execution_count": 1,
   "metadata": {},
   "outputs": [
    {
     "data": {
      "text/plain": [
       "True"
      ]
     },
     "execution_count": 1,
     "metadata": {},
     "output_type": "execute_result"
    }
   ],
   "source": [
    "# Isharshad gives True if the input number devided by the sum of the digits is exactly 0.\n",
    "def isHarshad(input):\n",
    "    inputstr = str(input) # make a string from the input (an integer)\n",
    "    sumdigits = 0\n",
    "    # iterate over all characters in the string, convert these back to an integer and calculate the sum of the digits \n",
    "    for i in inputstr: \n",
    "        sumdigits = sumdigits + int(i)\n",
    "    # We return false if the input is zero, and  \n",
    "    # we do this check here so we don't devide by zero in the next statement, \n",
    "    if input == 0: \n",
    "        return False\n",
    "    # If the number is exactly dividable by the sum of it's digits, it's a Hazard number and we return True  \n",
    "    elif input % sumdigits == 0: \n",
    "        return True\n",
    "    # In all other cases we return False\n",
    "    else: return False\n",
    "\n",
    "isHarshad(81)\n"
   ]
  },
  {
   "cell_type": "markdown",
   "metadata": {},
   "source": [
    "**Assignment 2.3**\n",
    "\n",
    "Write a function **ithHarshad** that takes as input an integer *i* and prints the *ith* Harshad number on screen. Make that function has no output, i.e., write a **void** function.<BR>\n",
    "For example, **ithHarshad(25)** should give as answer **60**.\n",
    "\n",
    "Hint: use the **isHarshad** function above"
   ]
  },
  {
   "cell_type": "code",
   "execution_count": 34,
   "metadata": {},
   "outputs": [
    {
     "name": "stdout",
     "output_type": "stream",
     "text": [
      "60\n"
     ]
    }
   ],
   "source": [
    "# Assignment 2.3\n",
    "def ithHarshad(input):\n",
    "    i = 0 # counter from 0 to test if a number is a Hashard number\n",
    "    j = 0 # counter for all found Hashard numbers\n",
    "    while True:          # we iterate until we find a solution\n",
    "        if isHarshad(i): # if we find a Harshad number\n",
    "         j=j+1           # we increment the counter for all found Harshad numbers\n",
    "         if j == input : # when we find the number we want we print it on screen and stop iterating\n",
    "            print(i)\n",
    "            break\n",
    "        i = i + 1        # otherwise we'll continue the iteration and search for the next Harshad number\n",
    "            \n",
    "ithHarshad(25)\n",
    "    \n",
    "        "
   ]
  }
 ],
 "metadata": {
  "kernelspec": {
   "display_name": "Python 3",
   "language": "python",
   "name": "python3"
  },
  "language_info": {
   "codemirror_mode": {
    "name": "ipython",
    "version": 3
   },
   "file_extension": ".py",
   "mimetype": "text/x-python",
   "name": "python",
   "nbconvert_exporter": "python",
   "pygments_lexer": "ipython3",
   "version": "3.6.1"
  }
 },
 "nbformat": 4,
 "nbformat_minor": 2
}
