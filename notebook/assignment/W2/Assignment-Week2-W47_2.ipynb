{
 "cells": [
  {
   "cell_type": "markdown",
   "metadata": {},
   "source": [
    "## Assignment Week 2\n",
    "\n",
    "For this week you need to write a function that determines if a number is a <A HREF=\"https://en.wikipedia.org/wiki/Harshad_number\">Harshad number</A> and then uses this function to write another function that determines the *ith* Harshad number. "
   ]
  },
  {
   "cell_type": "markdown",
   "metadata": {},
   "source": [
    "A Harshad number is an integer that is divisible by the sum of its digits. For example, 81 is a Harshad number, because 8+1 = 9 and 81/9 = 9. The first Harshad number is 1.\n",
    "\n",
    "**Assignment 2.1**\n",
    "\n",
    "Write a function **isHarshad** that takes as input an integer and that has as output **True**, if the integer is a Harshad number, and **False** if it is not.<BR>\n",
    "For example, **isHarshad(81)** should have ouput **True**.\n",
    "\n",
    "Hint: Use **str** to convert the input to a string, see Chapter 8 of the Think Python book. "
   ]
  },
  {
   "cell_type": "code",
   "execution_count": 1,
   "metadata": {},
   "outputs": [
    {
     "name": "stdout",
     "output_type": "stream",
     "text": [
      "i should be a positive integer number\n",
      "False\n"
     ]
    }
   ],
   "source": [
    "# Your code goes here\n",
    "\n",
    "def isHarshad(i):\n",
    "    \"\"\"\n",
    "    Determine whether positive integer number i (zero is included) is divisible by the sum of its digit.\n",
    "    \"\"\"\n",
    "    # non-positive integre number cases\n",
    "    if i == 0 or i < 0 or type(i) != int:\n",
    "        print(\"i should be a positive integer number\")\n",
    "        return False\n",
    "    # positive number cases\n",
    "    d = i // 10\n",
    "    m = i % 10\n",
    "    h = d + m \n",
    "    if i % h == 0:\n",
    "        return True\n",
    "    else:\n",
    "        return False\n",
    "\n",
    "print(isHarshad(-2.5))"
   ]
  },
  {
   "cell_type": "markdown",
   "metadata": {},
   "source": [
    "**Assignment 2.3**\n",
    "\n",
    "Write a function **ithHarshad** that takes as input an integer *i* and prints the *ith* Harshad number on screen. Make that function has no output, i.e., write a **void** function.<BR>\n",
    "For example, **ithHarshad(25)** should give as answer **60**.\n",
    "\n",
    "Hint: use the **isHarshad** function above"
   ]
  },
  {
   "cell_type": "code",
   "execution_count": 10,
   "metadata": {},
   "outputs": [
    {
     "name": "stdout",
     "output_type": "stream",
     "text": [
      "i should be a positive integer number\n"
     ]
    }
   ],
   "source": [
    "# Your code goes here\n",
    "\n",
    "def ithHarshad(i):\n",
    "    \"\"\"\n",
    "    Return the i-th Harshad number.\n",
    "    i should be a positive integer.\n",
    "    \"\"\"\n",
    "    \n",
    "    # non-positive integer number cases\n",
    "    if i == 0 or i < 0 or type(i) != int:\n",
    "        print(\"i should be a positive integer number\")\n",
    "        return None\n",
    "    # positive number cases\n",
    "    j = 0\n",
    "    count = 0\n",
    "    while count != i:\n",
    "        j += 1\n",
    "        if isHarshad(j):\n",
    "            count += 1\n",
    "    print(j)\n",
    "    \n",
    "ithHarshad(0)"
   ]
  }
 ],
 "metadata": {
  "kernelspec": {
   "display_name": "Python 3",
   "language": "python",
   "name": "python3"
  },
  "language_info": {
   "codemirror_mode": {
    "name": "ipython",
    "version": 3
   },
   "file_extension": ".py",
   "mimetype": "text/x-python",
   "name": "python",
   "nbconvert_exporter": "python",
   "pygments_lexer": "ipython3",
   "version": "3.6.1"
  }
 },
 "nbformat": 4,
 "nbformat_minor": 2
}
