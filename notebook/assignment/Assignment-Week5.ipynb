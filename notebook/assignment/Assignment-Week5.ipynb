{
 "cells": [
  {
   "cell_type": "markdown",
   "metadata": {
    "collapsed": true
   },
   "source": [
    "## Assignment Week 5\n",
    "\n",
    "This week we are using numpy and matplotlib"
   ]
  },
  {
   "cell_type": "code",
   "execution_count": null,
   "metadata": {
    "collapsed": true
   },
   "outputs": [],
   "source": [
    "# Start by loading the relevant libraries\n",
    "import numpy as np"
   ]
  },
  {
   "cell_type": "markdown",
   "metadata": {
    "collapsed": true
   },
   "source": [
    "### Numpy: Magic Square\n",
    "\n",
    "A <A HREF=\"https://en.wikipedia.org/wiki/Magic_square\">magic square</A> is a matrix in which the sum of all rows, columns and diagonals are the same.\n",
    "You can verify this fact for the matrix below by:\n",
    "  * calculating an array containing the sums of all rows\n",
    "  * calculate the minimum and maximum of this array\n",
    "  * calculating an array containing the sum of all columns\n",
    "  * calculate the minimum and maximum of this array\n",
    "  * calculating the sum of both diagonals\n",
    "  * check that both minimums and maximums and diagonals are the same value.\n",
    "\n",
    "```python\n",
    "msquare = np.array([\n",
    "    [17, 24,  1,  8, 15],\n",
    "    [23,  5,  7, 14, 16],\n",
    "    [ 4,  6, 13, 20, 22],\n",
    "    [10, 12, 19, 21,  3],\n",
    "    [11, 18, 25,  2,  9]])\n",
    "```\n",
    "\n",
    "**Assignment 5.1**\n",
    "\n",
    "Write a function **is_magic_square()** that takes a matrix as input and returns **True** if the matrix is a magic square and **False** otherwise. Use the matrix above to test your function.\n",
    "\n",
    "*Hint*: Use np.diag and np.fliplr to get the diagonals of a matrix.\n"
   ]
  },
  {
   "cell_type": "code",
   "execution_count": null,
   "metadata": {
    "collapsed": true
   },
   "outputs": [],
   "source": [
    "# Your code goes here"
   ]
  },
  {
   "cell_type": "markdown",
   "metadata": {},
   "source": [
    "### Generating Magic Squares\n",
    "\n",
    "The above function can be used in a (crude) method to generate magic squares\n",
    "\n",
    "**Assignment 5.2**\n",
    "\n",
    "Write a function **generateMagicSquare()** that generates a 3x3 magic square (containing numbers 1...9). \n",
    "\n",
    "Use the following algorithm:\n",
    "\n",
    "  * Use the function **is_magic_square()** from the previous question to check if a matrix is a valid magic square or not.\n",
    "  * Generate random 3x3 squares filled with the exact numbers 1..9 in some order and check if that matrix is a magic square. If so, print the magic square.\n",
    "  \n",
    "  * You may need to generate 100,000 matrices to find one that is a magic square (by chance).\n",
    "  \n",
    "*Hint*: Use np.random.permutation to generate a random permutation of an array."
   ]
  },
  {
   "cell_type": "code",
   "execution_count": null,
   "metadata": {
    "collapsed": true
   },
   "outputs": [],
   "source": [
    "# Your code goes here"
   ]
  },
  {
   "cell_type": "markdown",
   "metadata": {},
   "source": [
    "### Matplotlib: Functions"
   ]
  },
  {
   "cell_type": "code",
   "execution_count": null,
   "metadata": {
    "collapsed": true
   },
   "outputs": [],
   "source": [
    "# Also make sure that you have the correct libraries loaded here\n",
    "\n",
    "%matplotlib inline\n",
    "\n",
    "import matplotlib.pyplot as plt"
   ]
  },
  {
   "cell_type": "markdown",
   "metadata": {},
   "source": [
    "### More grading\n",
    "\n",
    "This question continues from the exercise made in class (see file 'Week5_numpy_class.ipynb' and 'Week5_numpy_class-s.ipynb'). We quickly recreate the dataset here, see the aforementioned files for details.\n",
    "\n"
   ]
  },
  {
   "cell_type": "code",
   "execution_count": null,
   "metadata": {},
   "outputs": [],
   "source": [
    "# create students and grades arrays, using random grades\n",
    "students = np.array(['Anne', 'Bob', 'Mary', 'John', 'Julia', 'Mike', 'Susan', 'Zach'])\n",
    "grades = np.random.rand( 8,20 )* 6 + 4\n",
    "\n",
    "# create an array with the average grades per student \n",
    "avg_grades = grades.mean(axis=1)\n",
    "\n",
    "# create a masked array where we mask away all grades below 5.8\n",
    "masked_grades = np.ma.masked_array( grades, grades < 5.8 )\n",
    "\n",
    "# calculate the averages per student\n",
    "avg_grades = masked_grades.mean( axis = 1 ) \n",
    "\n",
    "# print the array to see what we have\n",
    "avg_grades"
   ]
  },
  {
   "cell_type": "markdown",
   "metadata": {},
   "source": [
    " **Assignment 5.3**\n",
    "\n",
    "Using the above data, do the following:\n",
    "\n",
    "  1. Plot the avarage grade per student in a bar chart, set the axis and labels accordingly.\n",
    "  2. Plot the average grades for each of the 20 assignments.\n",
    "  3. Try to fit a line to this line and try to predict the average grades for the next assignment. Plot the result.\n",
    "     \n",
    "     *Hint* Use np.polyfit() to find a fitting function. Use np.polyval() to evaluate a polynomial. How does the degree of the polynomial effect the fitting?"
   ]
  },
  {
   "cell_type": "code",
   "execution_count": null,
   "metadata": {
    "collapsed": true
   },
   "outputs": [],
   "source": [
    "# Your code goes here"
   ]
  }
 ],
 "metadata": {
  "kernelspec": {
   "display_name": "Python 3",
   "language": "python",
   "name": "python3"
  },
  "language_info": {
   "codemirror_mode": {
    "name": "ipython",
    "version": 3
   },
   "file_extension": ".py",
   "mimetype": "text/x-python",
   "name": "python",
   "nbconvert_exporter": "python",
   "pygments_lexer": "ipython3",
   "version": "3.6.1"
  }
 },
 "nbformat": 4,
 "nbformat_minor": 2
}
