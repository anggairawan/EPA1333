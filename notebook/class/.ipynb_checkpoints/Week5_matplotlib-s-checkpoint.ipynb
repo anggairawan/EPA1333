{
 "cells": [
  {
   "cell_type": "markdown",
   "metadata": {},
   "source": [
    "# EPA1333 - Computer Engineering for Scientific Computing\n",
    "## Week 5 - Oct 5, 2016"
   ]
  },
  {
   "cell_type": "markdown",
   "metadata": {},
   "source": [
    "**Python Data Science Handbook**\n",
    "\n",
    "*Jake VanderPlas*"
   ]
  },
  {
   "cell_type": "code",
   "execution_count": null,
   "metadata": {
    "collapsed": true
   },
   "outputs": [],
   "source": [
    "from IPython.core.display import Image\n",
    "Image('https://covers.oreillystatic.com/images/0636920034919/lrg.jpg')"
   ]
  },
  {
   "cell_type": "markdown",
   "metadata": {},
   "source": [
    "## Matplotlib \n",
    "\n",
    "Drawing plots, barchart. Some interaction is possible too.\n",
    "\n",
    "Documentation: \n",
    "  * http://matplotlib.org/\n",
    "  * [Beginners Guide](http://matplotlib.org/users/beginner.html)\n",
    "  * [Examples](http://matplotlib.org/users/screenshots.html)\n",
    "  * [scipy-lectures](http://www.scipy-lectures.org/intro/matplotlib/matplotlib.html)\n",
    " \n",
    " \n",
    "  "
   ]
  },
  {
   "cell_type": "code",
   "execution_count": 18,
   "metadata": {
    "collapsed": true
   },
   "outputs": [],
   "source": [
    "%matplotlib inline\n",
    "\n",
    "import matplotlib.pyplot as plt\n",
    "import numpy as np\n",
    "\n",
    "# Optional, use a nice style of graphs\n",
    "plt.style.use('ggplot')\n"
   ]
  },
  {
   "cell_type": "code",
   "execution_count": null,
   "metadata": {
    "collapsed": true
   },
   "outputs": [],
   "source": [
    "# plt.plot is the basic command\n",
    "# plt.plot( X-axis, Y-axis, options... )\n",
    "\n",
    "x = np.arange(-10,11)\n",
    "y = x * x\n",
    "\n",
    "plt.plot( x, y )"
   ]
  },
  {
   "cell_type": "code",
   "execution_count": null,
   "metadata": {
    "collapsed": true
   },
   "outputs": [],
   "source": [
    "# Plotting multiple graphs in one plot\n",
    "\n",
    "x = np.arange(-3,3,0.0001)\n",
    "\n",
    "ya = np.sin(x-2*np.sin(x))+1\n",
    "\n",
    "yb1 = np.sin(x)\n",
    "yb2 = np.cos(x*x)\n",
    "\n",
    "yc = np.cos(np.abs(x))\n",
    "\n",
    "# Plot multiple graphs\n",
    "plt.plot( x, ya, color='blue', linestyle='-', label='Solid')\n",
    "plt.plot( x, yb1, color='red', linestyle=':', label ='Dotted')\n",
    "plt.plot( x, yb2, color='green', linestyle='-.', label='Dashdot')\n",
    "plt.plot( x, yc, color='grey', linestyle='--', label='Dashed')\n",
    "\n",
    "# Show a legend\n",
    "plt.legend()\n",
    "\n",
    "# Plot labels for X and Y axis\n",
    "plt.xlabel('X-Axis')\n",
    "plt.ylabel('Y-Axis')\n",
    "\n",
    "# Plot a title\n",
    "plt.title(\"Plot with multiple graphs.\")"
   ]
  },
  {
   "cell_type": "markdown",
   "metadata": {},
   "source": [
    "### Generic view of matplotlib\n",
    "\n",
    "A plot in matplotlib looks like this:\n",
    "\n",
    "![matplotlib](matplotlib-figure.png)\n"
   ]
  },
  {
   "cell_type": "code",
   "execution_count": null,
   "metadata": {
    "collapsed": true,
    "scrolled": true
   },
   "outputs": [],
   "source": [
    "# Creating 2 plots side by side: subplots.\n",
    "\n",
    "# Create a figure and 2 axes (each will contain a plot)\n",
    "# The plots will be placed in a 1x2 grid (next to each other)\n",
    "fig, (ax1, ax2) = plt.subplots( 1, 2 )\n",
    "\n",
    "\n",
    "x=list(range(1,10))\n",
    "y1 = [ 2*y for y in x ]\n",
    "y2 = [ 1/y for y in x ]\n",
    "\n",
    "# Plot each graph. The final argument is a short-cut for color, linestyle and markers.\n",
    "ax1.plot( x, y1, \"b-o\")\n",
    "ax2.plot( x, y2, \"r-o\")\n",
    "\n",
    "# In Jupyter Notebook with matplotlib inline, plt.show() is not necessary\n",
    "plt.show()"
   ]
  },
  {
   "cell_type": "markdown",
   "metadata": {
    "collapsed": true
   },
   "source": [
    "## Example: Hares, Lynx, Carrot\n",
    "\n",
    "The file *population.txt* contains the populations over the years of\n",
    "hares, lynxes and carrots.\n",
    "\n",
    "  * What is the mean of the populations over the years?\n",
    "  * In which year was the highest population for each species?\n",
    "  * Which years have a population > 50,000 for any species?\n",
    " "
   ]
  },
  {
   "cell_type": "code",
   "execution_count": null,
   "metadata": {
    "collapsed": true
   },
   "outputs": [],
   "source": [
    "# A quick look into the file\n",
    "# !type data\\populations.txt # use for Winfows\n",
    "!cat data/populations.txt    # use for Mac/Linux"
   ]
  },
  {
   "cell_type": "code",
   "execution_count": null,
   "metadata": {
    "collapsed": true
   },
   "outputs": [],
   "source": [
    "# Read the file into an array using np.loadtxt()\n",
    "population = np.loadtxt('data/populations.txt')\n",
    "population"
   ]
  },
  {
   "cell_type": "code",
   "execution_count": null,
   "metadata": {
    "collapsed": true
   },
   "outputs": [],
   "source": [
    "# Get the transposition of the matrix, to get each column separately.\n",
    "years, hares, lynxes, carrots = population.T\n",
    "print( years )\n",
    "print( hares )"
   ]
  },
  {
   "cell_type": "code",
   "execution_count": null,
   "metadata": {
    "collapsed": true
   },
   "outputs": [],
   "source": [
    "# Quickly plot them\n",
    "plt.plot( years, hares, color='green', label='Hares')\n",
    "plt.plot( years, lynxes, color='red', label='Lynxes')\n",
    "plt.plot( years, carrots, color='orange', label='Carrots')\n",
    "\n",
    "plt.legend(loc=((1.05,0.72)))"
   ]
  },
  {
   "cell_type": "code",
   "execution_count": null,
   "metadata": {
    "collapsed": true
   },
   "outputs": [],
   "source": [
    "# Print the mean of the species, over the years\n",
    "# Skip the first column (years)\n",
    "population[:,1:].mean(axis=0)"
   ]
  },
  {
   "cell_type": "code",
   "execution_count": null,
   "metadata": {
    "collapsed": true,
    "scrolled": true
   },
   "outputs": [],
   "source": [
    "# Find the year in which the species was highest.\n",
    "year_highest_species = population.argmax(axis=0)\n",
    "year_highest_species"
   ]
  },
  {
   "cell_type": "code",
   "execution_count": null,
   "metadata": {
    "collapsed": true
   },
   "outputs": [],
   "source": [
    "print(\"Highest Hare \", years[year_highest_species[1]], hares[year_highest_species[1]])\n",
    "print(\"Highest Lynx \", years[year_highest_species[2]], lynxes[year_highest_species[2]])\n",
    "print(\"Highest Carrot \", years[year_highest_species[3]], carrots[year_highest_species[3]])"
   ]
  },
  {
   "cell_type": "code",
   "execution_count": null,
   "metadata": {
    "collapsed": true
   },
   "outputs": [],
   "source": [
    "above50000 = np.any(population[:,1:] > 50000, axis=1)\n",
    "print(years[above50000])\n",
    "population[above50000]\n"
   ]
  },
  {
   "cell_type": "markdown",
   "metadata": {},
   "source": [
    "### Interactive plots\n",
    "\n",
    "We can make a variable interactive which we can use to make graphs interactive too."
   ]
  },
  {
   "cell_type": "code",
   "execution_count": null,
   "metadata": {
    "collapsed": true
   },
   "outputs": [],
   "source": [
    "from ipywidgets import interact"
   ]
  },
  {
   "cell_type": "code",
   "execution_count": null,
   "metadata": {
    "collapsed": true
   },
   "outputs": [],
   "source": [
    "# You can make a function's argument interactive like this\n",
    "\n",
    "def f(x):\n",
    "    return x\n",
    "    \n",
    "interact(f, x=10)"
   ]
  },
  {
   "cell_type": "code",
   "execution_count": null,
   "metadata": {
    "collapsed": true
   },
   "outputs": [],
   "source": [
    "# Another way is to use the @ sign.\n",
    "\n",
    "@interact(x=10)\n",
    "def f(x):\n",
    "    return x"
   ]
  },
  {
   "cell_type": "code",
   "execution_count": null,
   "metadata": {
    "collapsed": true
   },
   "outputs": [],
   "source": [
    "# Let's use this to make a plot interactive\n",
    "\n",
    "@interact(a=(-10.0,10.0,0.5))\n",
    "def h(a):\n",
    "    l = [ x*x*a - a*x for x in range(-20,20)]\n",
    "    plt.plot( l )"
   ]
  },
  {
   "cell_type": "code",
   "execution_count": null,
   "metadata": {
    "collapsed": true,
    "scrolled": true
   },
   "outputs": [],
   "source": [
    "@interact(x=10, y=20)\n",
    "def h( x, y ):\n",
    "    plt.axis( [-x,x,-y,y] )   # Set the limits of the axis\n",
    "    plt.plot( [i for i in range(-10,10)],[ i*i for i in range(-10,10)])"
   ]
  },
  {
   "cell_type": "code",
   "execution_count": null,
   "metadata": {
    "collapsed": true
   },
   "outputs": [],
   "source": [
    "## Another example, showing many options of matplotlib\n",
    "\n",
    "import numpy as np\n",
    "import matplotlib.pyplot as plt\n",
    "\n",
    "# Create a figure of size 8x6 inches, 80 dots per inch\n",
    "plt.figure(figsize=(8, 6), dpi=80)\n",
    "\n",
    "# Create a new subplot from a grid of 1x1\n",
    "plt.subplot(1, 1, 1)\n",
    "\n",
    "X = np.linspace(-np.pi, np.pi, 256, endpoint=True)\n",
    "C, S = np.cos(X), np.sin(X)\n",
    "\n",
    "# Plot cosine with a blue continuous line of width 1 (pixels)\n",
    "plt.plot(X, C, color=\"blue\", linewidth=1.0, linestyle=\"-\")\n",
    "\n",
    "# Plot sine with a green continuous line of width 1 (pixels)\n",
    "plt.plot(X, S, color=\"green\", linewidth=1.0, linestyle=\"-\")\n",
    "\n",
    "# Set x limits\n",
    "plt.xlim(-4.0, 4.0)\n",
    "\n",
    "# Set x ticks\n",
    "plt.xticks(np.linspace(-4, 4, 9, endpoint=True))\n",
    "\n",
    "# Set y limits\n",
    "plt.ylim(-1.0, 1.0)\n",
    "\n",
    "# Set y ticks\n",
    "plt.yticks(np.linspace(-1, 1, 5, endpoint=True))\n",
    "\n",
    "# Save figure using 72 dots per inch\n",
    "# plt.savefig(\"exercice_2.png\", dpi=72)\n",
    "\n",
    "# Show result on screen\n",
    "plt.show()"
   ]
  },
  {
   "cell_type": "markdown",
   "metadata": {},
   "source": [
    "The [matplotlib gallery](http://matplotlib.org/gallery.html) is also incredibly useful when you search how to render a given graphic. Each example comes with its source.\n"
   ]
  },
  {
   "cell_type": "code",
   "execution_count": null,
   "metadata": {
    "collapsed": true
   },
   "outputs": [],
   "source": [
    "l = np.random.random(1000) * 100 \n",
    "\n",
    "# Figure, size in inches\n",
    "plt.figure( figsize=(10,6))\n",
    "\n",
    "(n, bins, patches) = plt.hist( l, 100, cumulative=True, color='r', orientation='horizontal' )\n",
    "plt.title('Histogram', fontsize=16)\n",
    "plt.xlabel('X-Axis',fontsize=16)\n",
    "plt.ylabel('Y-Axis',fontsize=16)\n",
    "plt.text(860, 40.025, r'$\\mu=100,\\ \\sigma=15$', fontsize=14, color='blue')\n",
    "plt.axis([0, 1260, 0, 110.03])\n",
    "plt.annotate('Half-way point', fontsize=16, xy=(530,50), xytext=(800,60), arrowprops={'arrowstyle':'simple'})\n"
   ]
  },
  {
   "cell_type": "code",
   "execution_count": null,
   "metadata": {
    "collapsed": true,
    "scrolled": false
   },
   "outputs": [],
   "source": [
    "# Log scale axis\n",
    "l = 2**np.arange(10)\n",
    "\n",
    "plt.plot(l, label='2**x')\n",
    "#plt.yscale('log')\n",
    "plt.legend()\n",
    "                         "
   ]
  },
  {
   "cell_type": "code",
   "execution_count": null,
   "metadata": {
    "collapsed": true,
    "scrolled": true
   },
   "outputs": [],
   "source": [
    "# %load scatter_demo.py\n",
    "\"\"\"\n",
    "Simple demo of a scatter plot.\n",
    "\"\"\"\n",
    "import numpy as np\n",
    "import matplotlib.pyplot as plt\n",
    "\n",
    "\n",
    "N = 50\n",
    "x = np.random.rand(N)\n",
    "y = np.random.rand(N)\n",
    "colors = np.random.rand(N)\n",
    "area = np.pi * (15 * np.random.rand(N))**2  # 0 to 15 point radiuses\n",
    "\n",
    "plt.scatter(x, y, s=area, c=colors, alpha=0.5)\n",
    "plt.show()\n",
    "#print(x)\n",
    "#print(y)\n",
    "#print(area)\n",
    "#print(colors)\n"
   ]
  },
  {
   "cell_type": "markdown",
   "metadata": {},
   "source": [
    "## Example: Worldpopulation over the years\n",
    "\n",
    "Source: ourworldindata.org\n",
    "\n",
    "Data on the world population from 10000 BC - 2015 AC"
   ]
  },
  {
   "cell_type": "code",
   "execution_count": null,
   "metadata": {
    "collapsed": true
   },
   "outputs": [],
   "source": [
    "# !head data/WorldPopulationAnnual12000years_interpolated_HYDEandUNto2015.csv\n",
    "# Read in the data from the file\n",
    "# Note, specify the delimiter and skip the first row... \n",
    "# arrays can only hold one type of data at a type. No strings.\n",
    "data = np.loadtxt('data/WorldPopulationAnnual12000years_interpolated_HYDEandUNto2015.csv',\n",
    "                 delimiter=',', skiprows=1)"
   ]
  },
  {
   "cell_type": "code",
   "execution_count": null,
   "metadata": {
    "collapsed": true
   },
   "outputs": [],
   "source": [
    "# Let's check\n",
    "data[:10]"
   ]
  },
  {
   "cell_type": "code",
   "execution_count": null,
   "metadata": {
    "collapsed": true
   },
   "outputs": [],
   "source": [
    "# Get the columns separately\n",
    "years, population = data.T"
   ]
  },
  {
   "cell_type": "code",
   "execution_count": null,
   "metadata": {
    "collapsed": true
   },
   "outputs": [],
   "source": [
    "years[:5]"
   ]
  },
  {
   "cell_type": "code",
   "execution_count": null,
   "metadata": {
    "collapsed": true
   },
   "outputs": [],
   "source": [
    "population[:5]"
   ]
  },
  {
   "cell_type": "code",
   "execution_count": null,
   "metadata": {
    "collapsed": true
   },
   "outputs": [],
   "source": [
    "# Let's plot\n",
    "plt.plot(years, population)"
   ]
  },
  {
   "cell_type": "code",
   "execution_count": null,
   "metadata": {
    "collapsed": true
   },
   "outputs": [],
   "source": [
    "# Ok, zoom in on the last 2 centuries\n",
    "plt.plot( years[-200:], population[-200:])"
   ]
  },
  {
   "cell_type": "code",
   "execution_count": null,
   "metadata": {
    "collapsed": true
   },
   "outputs": [],
   "source": [
    "# Make it interactive\n",
    "\n",
    "@interact(start=(-10000,2000,50), end=(-9000,2000,50))\n",
    "def show_pop( start=-10000, end=2015 ):\n",
    "    plt.plot( years[start+10000:end+10000], population[start+10000:end+10000] )"
   ]
  },
  {
   "cell_type": "code",
   "execution_count": null,
   "metadata": {
    "collapsed": true
   },
   "outputs": [],
   "source": [
    "# Let's look at the relative growth per year\n",
    "\n",
    "growth = population[1:] - population[:-1]\n",
    "growth[:10]"
   ]
  },
  {
   "cell_type": "code",
   "execution_count": null,
   "metadata": {
    "collapsed": true
   },
   "outputs": [],
   "source": [
    "# Calculate the percentage growth\n",
    "perc = (growth / population[:-1]) * 100\n",
    "perc[:10]"
   ]
  },
  {
   "cell_type": "code",
   "execution_count": null,
   "metadata": {
    "collapsed": true
   },
   "outputs": [],
   "source": [
    "# Now plot it\n",
    "plt.plot( years[:-1], perc )"
   ]
  },
  {
   "cell_type": "code",
   "execution_count": null,
   "metadata": {
    "collapsed": true
   },
   "outputs": [],
   "source": [
    "plt.plot( years[-200:-1], perc[-199:])"
   ]
  },
  {
   "cell_type": "code",
   "execution_count": null,
   "metadata": {
    "collapsed": true
   },
   "outputs": [],
   "source": [
    "# So the average growth in the last 200 and 100 years was\n",
    "print(\"Avg growth last 200 years\", perc[-200:].mean())\n",
    "print(\"Avg growth last 100 years\", perc[-100:].mean())"
   ]
  },
  {
   "cell_type": "markdown",
   "metadata": {
    "collapsed": true
   },
   "source": [
    "## Exercise - plotting functions"
   ]
  },
  {
   "cell_type": "markdown",
   "metadata": {},
   "source": [
    "Plot the following three functions:\n",
    "\n",
    "$f(x) = sin(x)$\n",
    "\n",
    "$g(x) = (1 / e^x -70 ) /55$\n",
    "\n",
    "$h(x) = sin (\\frac{tan(x)}{x})$\n",
    "\n",
    "Use for each function a different color and line (dashed, dotted, etc.) and add appropiate labels "
   ]
  },
  {
   "cell_type": "code",
   "execution_count": 19,
   "metadata": {},
   "outputs": [
    {
     "data": {
      "image/png": "[encoded data removed]",
      "text/plain": [
       "<matplotlib.figure.Figure at 0x110579c50>"
      ]
     },
     "metadata": {},
     "output_type": "display_data"
    }
   ],
   "source": [
    "from numpy import exp, sin, tan  # avoid np. prefix in f(x), g(x) and h(x)\n",
    "\n",
    "def f(x):\n",
    "    return sin (x)\n",
    "\n",
    "def g(x):\n",
    "    return (1 / exp(x) - 70) / 55\n",
    "\n",
    "def h(x):\n",
    "    return sin ((tan(x))/x)\n",
    "\n",
    "x = np.linspace(-5, 5, 500)\n",
    "plt.figure()\n",
    "plt.plot(x, f(x), 'r--', x, g(x), 'k:', x, h(x), 'g-')\n",
    "plt.xlabel('$x$'); plt.ylabel('$f(x)$')\n",
    "plt.title('Functions')\n",
    "plt.legend(['f', 'g', 'h'])\n",
    "plt.savefig('functions.pdf')\n",
    "#plt.show()"
   ]
  },
  {
   "cell_type": "code",
   "execution_count": null,
   "metadata": {
    "collapsed": true
   },
   "outputs": [],
   "source": []
  }
 ],
 "metadata": {
  "kernelspec": {
   "display_name": "Python 3",
   "language": "python",
   "name": "python3"
  },
  "language_info": {
   "codemirror_mode": {
    "name": "ipython",
    "version": 3
   },
   "file_extension": ".py",
   "mimetype": "text/x-python",
   "name": "python",
   "nbconvert_exporter": "python",
   "pygments_lexer": "ipython3",
   "version": "3.6.2"
  },
  "widgets": {
   "state": {
    "1f3c8866be444f01a6c26a33633f942f": {
     "views": [
      {
       "cell_index": 153
      }
     ]
    },
    "55f1c98984fe471b9a84c3f00b3c0125": {
     "views": [
      {
       "cell_index": 136
      }
     ]
    },
    "96ed3306c7124456b3fd14d3f9fb3874": {
     "views": [
      {
       "cell_index": 135
      }
     ]
    },
    "9718facd923342d8a5b29ae73650a637": {
     "views": [
      {
       "cell_index": 137
      }
     ]
    },
    "b0c1e26dc8244d3db380fbb96cfaf59e": {
     "views": [
      {
       "cell_index": 138
      }
     ]
    }
   },
   "version": "1.2.0"
  }
 },
 "nbformat": 4,
 "nbformat_minor": 1
}
