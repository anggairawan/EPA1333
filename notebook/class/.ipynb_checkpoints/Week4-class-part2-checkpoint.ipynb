{
 "cells": [
  {
   "cell_type": "markdown",
   "metadata": {},
   "source": [
    "# EPA1333 - Computer Engineering for Scientific Computing\n",
    "## Week 4 - Sept 28, 2017"
   ]
  },
  {
   "cell_type": "markdown",
   "metadata": {},
   "source": [
    "**Think  Python** -\n",
    "**How to Think Like a Computer Scientist**\n",
    "\n",
    "*Allen B. Downey*\n"
   ]
  },
  {
   "cell_type": "markdown",
   "metadata": {},
   "source": [
    "## Ch 14: Files\n",
    "\n",
    "Reading, writing, creating, renaming and deleting files.\n",
    "\n",
    "Before we can read/write from/to a file, it must be opened.\n",
    "\n",
    "```python\n",
    "f = open( filename, mode )\n",
    "\n",
    "f.readline()     # Read a single line\n",
    "f.readlines()    # Returns a list of all lines\n",
    "f.write( \"text\" )\n",
    "\n",
    "f.close()\n",
    "```\n",
    "\n",
    "mode indicates how we want to use the file, use a *combination* of:\n",
    "  * 'r' - open the file for reading (default)\n",
    "  * 'w' - open the file for writing, truncate the file!\n",
    "  * 'a' - open the file for writing, append to the end.\n",
    "  * 'x' - create the file and open file for writing.\n",
    "  \n",
    "  \n",
    "  * 't' - open the file in text mode (recognizes newlines) (default)\n",
    "  * 'b' - open the file in binary mode (interpret all characters as-is)\n"
   ]
  },
  {
   "cell_type": "code",
   "execution_count": null,
   "metadata": {},
   "outputs": [],
   "source": [
    "# List files in directory\n",
    "import os\n",
    "\n",
    "os.listdir()"
   ]
  },
  {
   "cell_type": "code",
   "execution_count": null,
   "metadata": {
    "collapsed": true
   },
   "outputs": [],
   "source": [
    "# Create a file for writing\n",
    "f = open('NEW_FILE.TXT', 'x')"
   ]
  },
  {
   "cell_type": "code",
   "execution_count": null,
   "metadata": {},
   "outputs": [],
   "source": [
    "os.listdir()"
   ]
  },
  {
   "cell_type": "code",
   "execution_count": null,
   "metadata": {
    "collapsed": true
   },
   "outputs": [],
   "source": [
    "text = \"\"\"Lorem ipsum dolor sit amet, consectetur adipiscing elit.\n",
    "Aenean vel magna scelerisque libero tempor consequat eu \n",
    "sit amet tellus. Donec sit amet ipsum id magna semper eleifend. \n",
    "Nam vehicula augue eget est pretium, quis accumsan est rutrum. \n",
    "Donec elit lorem, pretium ac semper gravida, accumsan sed mauris. \n",
    "Quisque quis enim eget tortor maximus fringilla quis sed libero. \n",
    "Proin ut gravida lectus. Mauris suscipit tempor lacus sed ultrices. \n",
    "Maecenas accumsan pretium posuere. Etiam facilisis ligula diam, \n",
    "ac ultrices ligula posuere id.\"\"\""
   ]
  },
  {
   "cell_type": "code",
   "execution_count": null,
   "metadata": {
    "collapsed": true
   },
   "outputs": [],
   "source": [
    "# Write something to the file... explicitly write a newline.\n",
    "f.write( 'This is a line of text.\\n' )\n",
    "\n",
    "\n",
    "f.write( text )\n",
    "f.flush()         # flush the file, necessary in case of buffering.\n",
    "f.close()         # close the file, which also forces a flush()"
   ]
  },
  {
   "cell_type": "code",
   "execution_count": null,
   "metadata": {},
   "outputs": [],
   "source": [
    "# check file with os type command / repleace type with cat for linux / unix\n",
    "!type NEW_FILE.TXT\n"
   ]
  },
  {
   "cell_type": "code",
   "execution_count": null,
   "metadata": {},
   "outputs": [],
   "source": [
    "# Now open the file again for reading.\n",
    "\n",
    "f = open( 'NEW_FILE.TXT', 'r')\n",
    "\n",
    "for line in f.readlines():\n",
    "    print('Read line:', line, end='' )\n",
    "    \n",
    "f.close()"
   ]
  },
  {
   "cell_type": "code",
   "execution_count": null,
   "metadata": {
    "collapsed": true
   },
   "outputs": [],
   "source": [
    "# Append a line to the end\n",
    "f = open('NEW_FILE.TXT', 'a')\n",
    "\n",
    "f.write('\\nA last line at the end\\n')\n",
    "\n",
    "f.close()"
   ]
  },
  {
   "cell_type": "code",
   "execution_count": null,
   "metadata": {},
   "outputs": [],
   "source": [
    "!type NEW_FILE.TXT"
   ]
  },
  {
   "cell_type": "markdown",
   "metadata": {},
   "source": [
    "<div class=\"alert alert-success\">\n",
    "<h3>Exercise 1</h3>\n",
    "Write a Python program that counts the number of lines in a file.\n",
    "</div>"
   ]
  },
  {
   "cell_type": "markdown",
   "metadata": {},
   "source": [
    "#### Renaming and deleting files\n",
    "\n",
    "We can rename and delete files with the following commands.\n",
    "\n",
    "```python\n",
    "import os\n",
    "\n",
    "os.rename( file1, file2)  # Rename file1 to file2\n",
    "os.remove( file )         # Delete a file\n",
    "```"
   ]
  },
  {
   "cell_type": "code",
   "execution_count": null,
   "metadata": {},
   "outputs": [],
   "source": [
    "os.rename( 'NEW_FILE.TXT', 'RENAMED_FILE.TXT')\n",
    "\n",
    "os.listdir()"
   ]
  },
  {
   "cell_type": "code",
   "execution_count": null,
   "metadata": {},
   "outputs": [],
   "source": [
    "os.remove( 'RENAMED_FILE.TXT' )\n",
    "\n",
    "os.listdir()"
   ]
  },
  {
   "cell_type": "markdown",
   "metadata": {},
   "source": [
    "#### Creating, deleting directories / folders\n",
    "\n",
    "Python can also manipulate directories / folders.\n",
    "\n",
    "```python\n",
    "os.getcwd()     # get current directory\n",
    "os.chdir( dir ) # change current directory ('..' is the parent directory)\n",
    "\n",
    "os.mkdir( dir ) # create a new directory in the current directory\n",
    "os.rmdir( dir ) # remove a directory\n",
    "```\n"
   ]
  },
  {
   "cell_type": "markdown",
   "metadata": {},
   "source": [
    "<div class=\"alert alert-success\">\n",
    "<h3>Exercise 2</h3>\n",
    "Write a Python program that takes a directory as input and \"walks\" through it, printing the file names and calling itself recurively for the inner directories. You might want to check os.path.isfile(). Use \\\\\\ instead of \\ in the path string.\n",
    "</div>"
   ]
  },
  {
   "cell_type": "markdown",
   "metadata": {},
   "source": [
    "### Storing data persistently\n",
    "\n",
    "If you want to store (intermediate) results persistently, you have to save the result on persistent storage, such as a file or a persistent database.\n",
    "\n",
    "Internal python datastructures such as lists, dictionaries, tuples, etc. are all lost as soon as python quits.\n",
    "\n",
    "There are two things you have to do:\n",
    "  1. Choose a persistent storage medium (file, database, etc).\n",
    "  2. Choose a *suitable format* in which you want to store your data (data representation format)   "
   ]
  },
  {
   "cell_type": "markdown",
   "metadata": {},
   "source": [
    "#### Suitable format\n",
    "\n",
    "Not all datastructures in Python cannot be immediately written to a file/database.\n",
    "The binary data often difficult to represent in a file/database.\n",
    "  * simple types such as integers, floats, strings are *usually* ok.\n",
    "  * binary files can only be read/edited by the 'same program', usually not human readable.\n",
    "\n",
    "**Solutions:**\n",
    "  1. Choose a standard representation form, such as CSV or JSON or pickling or ...\n",
    "  2. Choose your own custom format (document it!), \n",
    "  > e.g. a list is represented by a number N (nr of elements in the list) followed by\n",
    "  N lines each containing a string representation of the elements.\n",
    "  \n",
    "  [ 1, 2, 3 ] is represented as\n",
    "  \n",
    "        3<br>\n",
    "        1<br>\n",
    "        2<br>\n",
    "        3<br>\n",
    "         \n",
    "\n",
    "         "
   ]
  },
  {
   "cell_type": "markdown",
   "metadata": {},
   "source": [
    "### Pickling\n",
    "\n",
    "Writing data usually uses strings. How do you write a list or dictionary to a file?\n",
    "\n",
    "First we have to *encode* the list/directory into a string-friendly format. This is\n",
    "called *pickling* or *serializing*. Then we can write the list to a file.\n",
    "\n",
    "When reading a pickled object from file, the reverse must be done to turn it into a \n",
    "list/dictionary that python understands.\n",
    "\n",
    "```python\n",
    "import pickle\n",
    " \n",
    "l = [1,2,3]\n",
    "pickled_l = pickle.dumps(l)   # serialize the list (dump string-version of the list)\n",
    "\n",
    "new_l = pickle.loads( pickled_l )  # deserialize the list (load string-version)\n",
    "\n",
    "``` \n",
    " \n",
    " "
   ]
  },
  {
   "cell_type": "code",
   "execution_count": null,
   "metadata": {},
   "outputs": [],
   "source": [
    "# Example of serializing a list\n",
    "import pickle\n",
    "\n",
    "l=[1,2,3]\n",
    "\n",
    "pickled_l = pickle.dumps(l)\n",
    "\n",
    "print(pickled_l)       # Unreadable, but understandable for python."
   ]
  },
  {
   "cell_type": "code",
   "execution_count": null,
   "metadata": {},
   "outputs": [],
   "source": [
    "# Example of deserializing a serialized list\n",
    "pickle.loads( pickled_l )"
   ]
  },
  {
   "cell_type": "code",
   "execution_count": null,
   "metadata": {
    "collapsed": true
   },
   "outputs": [],
   "source": [
    "import os\n",
    "l = [ 1,2,3 ]\n",
    "\n",
    "# Open the file in binary mode!!!\n",
    "f = open('STORAGE.TXT', 'xb')\n",
    "\n",
    "# This will not work, cannot write a list directly.\n",
    "#f.write( l )     \n",
    "\n",
    "f.write( pickle.dumps( l ))\n",
    "f.close()"
   ]
  },
  {
   "cell_type": "code",
   "execution_count": null,
   "metadata": {},
   "outputs": [],
   "source": [
    "# File is not human readable unfortunately...\n",
    "!type STORAGE.TXT"
   ]
  },
  {
   "cell_type": "code",
   "execution_count": null,
   "metadata": {},
   "outputs": [],
   "source": [
    "# Open the file in binary mode!\n",
    "f = open('STORAGE.TXT', 'rb')\n",
    "\n",
    "s = f.readline()\n",
    "f.close()\n",
    "\n",
    "print(type(s))\n",
    "print(s)\n",
    "\n",
    "l = pickle.loads(s)\n",
    "l"
   ]
  },
  {
   "cell_type": "code",
   "execution_count": null,
   "metadata": {
    "collapsed": true
   },
   "outputs": [],
   "source": [
    "os.remove('STORAGE.TXT')"
   ]
  },
  {
   "cell_type": "markdown",
   "metadata": {},
   "source": [
    "## Formatting strings / alignment / precision\n",
    "\n",
    "If you output results, you may want to have control of the format of the output.\n",
    "The string-format can be used for that.\n",
    "\n",
    "\n",
    "    \"%d %f %e %s\" % ( decimal, float, scientificfloat, string )\n",
    "    \n",
    "### How to align fields\n",
    "  * Use tabs (\\t) in your format string (%d\\t%d)\n",
    "  * Use padding and preciesion in format string ( %10.2f )\n",
    "  * Use rjust(x), ljust(x), center(), zfill() methods of a string\n",
    "  \n",
    "  "
   ]
  },
  {
   "cell_type": "code",
   "execution_count": null,
   "metadata": {},
   "outputs": [],
   "source": [
    "import random\n",
    "\n",
    "M = [ [ random.random() * 20 for i in range(3) ] for i in range(3) ] \n",
    "M"
   ]
  },
  {
   "cell_type": "code",
   "execution_count": null,
   "metadata": {
    "scrolled": true
   },
   "outputs": [],
   "source": [
    "# Write a table\n",
    "\n",
    "for r in M:\n",
    "    print( \"%f %f %f\" % (r[0],r[1],r[2]))\n",
    "    "
   ]
  },
  {
   "cell_type": "code",
   "execution_count": null,
   "metadata": {
    "scrolled": true
   },
   "outputs": [],
   "source": [
    "# Write a table, use tabs\n",
    "for r in M:\n",
    "    print( \"%f\\t%f\\t%f\" % (r[0],r[1],r[2]))\n",
    "    "
   ]
  },
  {
   "cell_type": "code",
   "execution_count": null,
   "metadata": {
    "scrolled": true
   },
   "outputs": [],
   "source": [
    "# Write a table, using formating <size>.<precision>\n",
    "for r in M:\n",
    "    print( \"%10.3f %10.3f %10.3f\" % (r[0],r[1],r[2]))\n",
    "    "
   ]
  },
  {
   "cell_type": "code",
   "execution_count": null,
   "metadata": {
    "scrolled": true
   },
   "outputs": [],
   "source": [
    "# Write a table, using formating <size>.<precision>, 0 padding\n",
    "for r in M:\n",
    "    print( \"%015.3f %015.3f %015.3f\" % (r[0],r[1],r[2]))\n",
    "    "
   ]
  },
  {
   "cell_type": "code",
   "execution_count": null,
   "metadata": {
    "scrolled": false
   },
   "outputs": [],
   "source": [
    "# Similar for strings\n",
    "# Create a matrix of words.\n",
    "\n",
    "M = [ [w for w in text.split()[i:i+3] ] for i in range(0,9,3)]\n",
    "\n",
    "M"
   ]
  },
  {
   "cell_type": "code",
   "execution_count": null,
   "metadata": {
    "scrolled": true
   },
   "outputs": [],
   "source": [
    "# Write a table, using size parameters\n",
    "for r in M:\n",
    "    print( \"%15s %15s %15s\" % (r[0], r[1], r[2]) )\n",
    "    "
   ]
  },
  {
   "cell_type": "code",
   "execution_count": null,
   "metadata": {
    "scrolled": true
   },
   "outputs": [],
   "source": [
    "# Write a table, using formating rjust() (or ljust)\n",
    "for r in M:\n",
    "    print( \"%s %s %s\" % (r[0].rjust(15), r[1].rjust(15), r[2].rjust(15)))\n",
    "    "
   ]
  },
  {
   "cell_type": "code",
   "execution_count": null,
   "metadata": {
    "scrolled": true
   },
   "outputs": [],
   "source": [
    "# Write a table, using formating center()\n",
    "for r in M:\n",
    "    print( \"%s %s %s\" % (r[0].center(15), r[1].center(15), r[2].center(15)))\n",
    "    "
   ]
  },
  {
   "cell_type": "markdown",
   "metadata": {},
   "source": [
    "<div class=\"alert alert-success\">\n",
    "<h3>Exercise 3</h3>\n",
    "Write a Python program that writes a dictionary to a file. Check correctness by loading the dictionary from the file and comparing it to the initial one.\n",
    "</div>"
   ]
  },
  {
   "cell_type": "code",
   "execution_count": null,
   "metadata": {
    "scrolled": true
   },
   "outputs": [],
   "source": [
    "# use the following dictionary as input\n",
    "\n",
    "d = {'Bill Gates': '555-987654',\n",
    " 'Bill Hewlett': '555-555555',\n",
    " 'Dave Packard': '555-888444',\n",
    " 'Michael Dell': '555-101010',\n",
    " 'Steve Jobs': '555-123456'}\n"
   ]
  },
  {
   "cell_type": "markdown",
   "metadata": {},
   "source": [
    "<div class=\"alert alert-success\">\n",
    "<h3>Exercise 4</h3>\n",
    "Print a table that contain numbers from 1 to 10 on the first column, their squares on the second column, their cubes on the third column and their square root on the fourth. Make sure they are veritically aligned.\n",
    "</div>"
   ]
  }
 ],
 "metadata": {
  "kernelspec": {
   "display_name": "Python 3",
   "language": "python",
   "name": "python3"
  },
  "language_info": {
   "codemirror_mode": {
    "name": "ipython",
    "version": 3
   },
   "file_extension": ".py",
   "mimetype": "text/x-python",
   "name": "python",
   "nbconvert_exporter": "python",
   "pygments_lexer": "ipython3",
   "version": "3.6.1"
  }
 },
 "nbformat": 4,
 "nbformat_minor": 1
}
