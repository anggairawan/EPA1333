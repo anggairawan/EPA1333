{
 "cells": [
  {
   "cell_type": "markdown",
   "metadata": {},
   "source": [
    "# EPA1333 - Computer Engineering for Scientific Computing\n",
    "## Week 6 - Oct 13, 2016"
   ]
  },
  {
   "cell_type": "markdown",
   "metadata": {},
   "source": [
    "**Python for Data Analysis**\n",
    "\n",
    "*Wes McKinney*\n"
   ]
  },
  {
   "cell_type": "code",
   "execution_count": 1,
   "metadata": {
    "collapsed": true,
    "scrolled": true
   },
   "outputs": [],
   "source": [
    "%matplotlib inline\n",
    "import pandas as pd\n",
    "import numpy as np\n",
    "import matplotlib.pyplot as plt"
   ]
  },
  {
   "cell_type": "markdown",
   "metadata": {},
   "source": [
    "# Pandas exercises"
   ]
  },
  {
   "cell_type": "markdown",
   "metadata": {},
   "source": [
    "## Exercise 2: 3-1-1 service requests from NYC Open Data.\n",
    "\n",
    "Based on an exercise on [Pandas Cookbook](https://github.com/jvns/pandas-cookbook).\n",
    "\n",
    "[3-1-1](http://www1.nyc.gov/311/index.page) is the phone number in New York City to access non-emergency services of the city. You can access information on the requests made over the internet.\n",
    "\n"
   ]
  },
  {
   "cell_type": "markdown",
   "metadata": {},
   "source": [
    "### Import data\n",
    "\n",
    "Import 3-1-1 service requests from the following file, which should have come along with this notebook\n",
    "\n",
    "```\n",
    "    311-service-requests.csv\n",
    "```"
   ]
  },
  {
   "cell_type": "markdown",
   "metadata": {},
   "source": [
    "#### Q1: Read the data into a DataFrame."
   ]
  },
  {
   "cell_type": "code",
   "execution_count": 2,
   "metadata": {},
   "outputs": [
    {
     "name": "stderr",
     "output_type": "stream",
     "text": [
      "C:\\Users\\Gebruiker\\Anaconda3\\lib\\site-packages\\IPython\\core\\interactiveshell.py:2717: DtypeWarning: Columns (8) have mixed types. Specify dtype option on import or set low_memory=False.\n",
      "  interactivity=interactivity, compiler=compiler, result=result)\n"
     ]
    }
   ],
   "source": [
    "nypbook = pd.read_csv('311-service-requests.csv')"
   ]
  },
  {
   "cell_type": "markdown",
   "metadata": {},
   "source": [
    "You probably received an error when importing it. Something like: \n",
    "    DtypeWarning: Columns (8) have mixed types. Specify dtype option on import or set low_memory=False.\n",
    "\n",
    "This indicates the data in the csv file is not completely as it should be. Python could not correctly deduce\n",
    "the correct type for Column 8 ('Incident Zip'). It probably contains erroneous data. We will try to fix it below."
   ]
  },
  {
   "cell_type": "markdown",
   "metadata": {},
   "source": [
    "#### Q2:  Show the first 10 lines. Check if the rest of your import worked."
   ]
  },
  {
   "cell_type": "code",
   "execution_count": 223,
   "metadata": {},
   "outputs": [
    {
     "data": {
      "text/html": [
       "<div>\n",
       "<style>\n",
       "    .dataframe thead tr:only-child th {\n",
       "        text-align: right;\n",
       "    }\n",
       "\n",
       "    .dataframe thead th {\n",
       "        text-align: left;\n",
       "    }\n",
       "\n",
       "    .dataframe tbody tr th {\n",
       "        vertical-align: top;\n",
       "    }\n",
       "</style>\n",
       "<table border=\"1\" class=\"dataframe\">\n",
       "  <thead>\n",
       "    <tr style=\"text-align: right;\">\n",
       "      <th></th>\n",
       "      <th>Unique Key</th>\n",
       "      <th>Created Date</th>\n",
       "      <th>Closed Date</th>\n",
       "      <th>Agency</th>\n",
       "      <th>Agency Name</th>\n",
       "      <th>Complaint Type</th>\n",
       "      <th>Descriptor</th>\n",
       "      <th>Location Type</th>\n",
       "      <th>Incident Zip</th>\n",
       "      <th>Incident Address</th>\n",
       "      <th>...</th>\n",
       "      <th>Bridge Highway Name</th>\n",
       "      <th>Bridge Highway Direction</th>\n",
       "      <th>Road Ramp</th>\n",
       "      <th>Bridge Highway Segment</th>\n",
       "      <th>Garage Lot Name</th>\n",
       "      <th>Ferry Direction</th>\n",
       "      <th>Ferry Terminal Name</th>\n",
       "      <th>Latitude</th>\n",
       "      <th>Longitude</th>\n",
       "      <th>Location</th>\n",
       "    </tr>\n",
       "  </thead>\n",
       "  <tbody>\n",
       "    <tr>\n",
       "      <th>0</th>\n",
       "      <td>26589651</td>\n",
       "      <td>10/31/2013 02:08:41 AM</td>\n",
       "      <td>NaN</td>\n",
       "      <td>NYPD</td>\n",
       "      <td>New York City Police Department</td>\n",
       "      <td>Noise - Street/Sidewalk</td>\n",
       "      <td>Loud Talking</td>\n",
       "      <td>Street/Sidewalk</td>\n",
       "      <td>11432</td>\n",
       "      <td>90-03 169 STREET</td>\n",
       "      <td>...</td>\n",
       "      <td>NaN</td>\n",
       "      <td>NaN</td>\n",
       "      <td>NaN</td>\n",
       "      <td>NaN</td>\n",
       "      <td>NaN</td>\n",
       "      <td>NaN</td>\n",
       "      <td>NaN</td>\n",
       "      <td>40.708275</td>\n",
       "      <td>-73.791604</td>\n",
       "      <td>(40.70827532593202, -73.79160395779721)</td>\n",
       "    </tr>\n",
       "    <tr>\n",
       "      <th>1</th>\n",
       "      <td>26593698</td>\n",
       "      <td>10/31/2013 02:01:04 AM</td>\n",
       "      <td>NaN</td>\n",
       "      <td>NYPD</td>\n",
       "      <td>New York City Police Department</td>\n",
       "      <td>Illegal Parking</td>\n",
       "      <td>Commercial Overnight Parking</td>\n",
       "      <td>Street/Sidewalk</td>\n",
       "      <td>11378</td>\n",
       "      <td>58 AVENUE</td>\n",
       "      <td>...</td>\n",
       "      <td>NaN</td>\n",
       "      <td>NaN</td>\n",
       "      <td>NaN</td>\n",
       "      <td>NaN</td>\n",
       "      <td>NaN</td>\n",
       "      <td>NaN</td>\n",
       "      <td>NaN</td>\n",
       "      <td>40.721041</td>\n",
       "      <td>-73.909453</td>\n",
       "      <td>(40.721040535628305, -73.90945306791765)</td>\n",
       "    </tr>\n",
       "    <tr>\n",
       "      <th>2</th>\n",
       "      <td>26594139</td>\n",
       "      <td>10/31/2013 02:00:24 AM</td>\n",
       "      <td>10/31/2013 02:40:32 AM</td>\n",
       "      <td>NYPD</td>\n",
       "      <td>New York City Police Department</td>\n",
       "      <td>Noise - Commercial</td>\n",
       "      <td>Loud Music/Party</td>\n",
       "      <td>Club/Bar/Restaurant</td>\n",
       "      <td>10032</td>\n",
       "      <td>4060 BROADWAY</td>\n",
       "      <td>...</td>\n",
       "      <td>NaN</td>\n",
       "      <td>NaN</td>\n",
       "      <td>NaN</td>\n",
       "      <td>NaN</td>\n",
       "      <td>NaN</td>\n",
       "      <td>NaN</td>\n",
       "      <td>NaN</td>\n",
       "      <td>40.843330</td>\n",
       "      <td>-73.939144</td>\n",
       "      <td>(40.84332975466513, -73.93914371913482)</td>\n",
       "    </tr>\n",
       "    <tr>\n",
       "      <th>3</th>\n",
       "      <td>26595721</td>\n",
       "      <td>10/31/2013 01:56:23 AM</td>\n",
       "      <td>10/31/2013 02:21:48 AM</td>\n",
       "      <td>NYPD</td>\n",
       "      <td>New York City Police Department</td>\n",
       "      <td>Noise - Vehicle</td>\n",
       "      <td>Car/Truck Horn</td>\n",
       "      <td>Street/Sidewalk</td>\n",
       "      <td>10023</td>\n",
       "      <td>WEST 72 STREET</td>\n",
       "      <td>...</td>\n",
       "      <td>NaN</td>\n",
       "      <td>NaN</td>\n",
       "      <td>NaN</td>\n",
       "      <td>NaN</td>\n",
       "      <td>NaN</td>\n",
       "      <td>NaN</td>\n",
       "      <td>NaN</td>\n",
       "      <td>40.778009</td>\n",
       "      <td>-73.980213</td>\n",
       "      <td>(40.7780087446372, -73.98021349023975)</td>\n",
       "    </tr>\n",
       "    <tr>\n",
       "      <th>4</th>\n",
       "      <td>26590930</td>\n",
       "      <td>10/31/2013 01:53:44 AM</td>\n",
       "      <td>NaN</td>\n",
       "      <td>DOHMH</td>\n",
       "      <td>Department of Health and Mental Hygiene</td>\n",
       "      <td>Rodent</td>\n",
       "      <td>Condition Attracting Rodents</td>\n",
       "      <td>Vacant Lot</td>\n",
       "      <td>10027</td>\n",
       "      <td>WEST 124 STREET</td>\n",
       "      <td>...</td>\n",
       "      <td>NaN</td>\n",
       "      <td>NaN</td>\n",
       "      <td>NaN</td>\n",
       "      <td>NaN</td>\n",
       "      <td>NaN</td>\n",
       "      <td>NaN</td>\n",
       "      <td>NaN</td>\n",
       "      <td>40.807691</td>\n",
       "      <td>-73.947387</td>\n",
       "      <td>(40.80769092704951, -73.94738703491433)</td>\n",
       "    </tr>\n",
       "    <tr>\n",
       "      <th>5</th>\n",
       "      <td>26592370</td>\n",
       "      <td>10/31/2013 01:46:52 AM</td>\n",
       "      <td>NaN</td>\n",
       "      <td>NYPD</td>\n",
       "      <td>New York City Police Department</td>\n",
       "      <td>Noise - Commercial</td>\n",
       "      <td>Banging/Pounding</td>\n",
       "      <td>Club/Bar/Restaurant</td>\n",
       "      <td>11372</td>\n",
       "      <td>37 AVENUE</td>\n",
       "      <td>...</td>\n",
       "      <td>NaN</td>\n",
       "      <td>NaN</td>\n",
       "      <td>NaN</td>\n",
       "      <td>NaN</td>\n",
       "      <td>NaN</td>\n",
       "      <td>NaN</td>\n",
       "      <td>NaN</td>\n",
       "      <td>40.749989</td>\n",
       "      <td>-73.881988</td>\n",
       "      <td>(40.7499893014072, -73.88198770727831)</td>\n",
       "    </tr>\n",
       "    <tr>\n",
       "      <th>6</th>\n",
       "      <td>26595682</td>\n",
       "      <td>10/31/2013 01:46:40 AM</td>\n",
       "      <td>NaN</td>\n",
       "      <td>NYPD</td>\n",
       "      <td>New York City Police Department</td>\n",
       "      <td>Blocked Driveway</td>\n",
       "      <td>No Access</td>\n",
       "      <td>Street/Sidewalk</td>\n",
       "      <td>11419</td>\n",
       "      <td>107-50 109 STREET</td>\n",
       "      <td>...</td>\n",
       "      <td>NaN</td>\n",
       "      <td>NaN</td>\n",
       "      <td>NaN</td>\n",
       "      <td>NaN</td>\n",
       "      <td>NaN</td>\n",
       "      <td>NaN</td>\n",
       "      <td>NaN</td>\n",
       "      <td>40.681533</td>\n",
       "      <td>-73.831737</td>\n",
       "      <td>(40.68153278675525, -73.83173699701601)</td>\n",
       "    </tr>\n",
       "    <tr>\n",
       "      <th>7</th>\n",
       "      <td>26595195</td>\n",
       "      <td>10/31/2013 01:44:19 AM</td>\n",
       "      <td>10/31/2013 01:58:49 AM</td>\n",
       "      <td>NYPD</td>\n",
       "      <td>New York City Police Department</td>\n",
       "      <td>Noise - Commercial</td>\n",
       "      <td>Loud Music/Party</td>\n",
       "      <td>Club/Bar/Restaurant</td>\n",
       "      <td>11417</td>\n",
       "      <td>137-09 CROSSBAY BOULEVARD</td>\n",
       "      <td>...</td>\n",
       "      <td>NaN</td>\n",
       "      <td>NaN</td>\n",
       "      <td>NaN</td>\n",
       "      <td>NaN</td>\n",
       "      <td>NaN</td>\n",
       "      <td>NaN</td>\n",
       "      <td>NaN</td>\n",
       "      <td>40.671816</td>\n",
       "      <td>-73.843092</td>\n",
       "      <td>(40.67181584567338, -73.84309181950769)</td>\n",
       "    </tr>\n",
       "    <tr>\n",
       "      <th>8</th>\n",
       "      <td>26590540</td>\n",
       "      <td>10/31/2013 01:44:14 AM</td>\n",
       "      <td>10/31/2013 02:28:04 AM</td>\n",
       "      <td>NYPD</td>\n",
       "      <td>New York City Police Department</td>\n",
       "      <td>Noise - Commercial</td>\n",
       "      <td>Loud Talking</td>\n",
       "      <td>Club/Bar/Restaurant</td>\n",
       "      <td>10011</td>\n",
       "      <td>258 WEST 15 STREET</td>\n",
       "      <td>...</td>\n",
       "      <td>NaN</td>\n",
       "      <td>NaN</td>\n",
       "      <td>NaN</td>\n",
       "      <td>NaN</td>\n",
       "      <td>NaN</td>\n",
       "      <td>NaN</td>\n",
       "      <td>NaN</td>\n",
       "      <td>40.739913</td>\n",
       "      <td>-74.000790</td>\n",
       "      <td>(40.73991339303542, -74.00079028612932)</td>\n",
       "    </tr>\n",
       "    <tr>\n",
       "      <th>9</th>\n",
       "      <td>26594392</td>\n",
       "      <td>10/31/2013 01:34:41 AM</td>\n",
       "      <td>10/31/2013 02:23:51 AM</td>\n",
       "      <td>NYPD</td>\n",
       "      <td>New York City Police Department</td>\n",
       "      <td>Noise - Commercial</td>\n",
       "      <td>Loud Music/Party</td>\n",
       "      <td>Club/Bar/Restaurant</td>\n",
       "      <td>11225</td>\n",
       "      <td>835 NOSTRAND AVENUE</td>\n",
       "      <td>...</td>\n",
       "      <td>NaN</td>\n",
       "      <td>NaN</td>\n",
       "      <td>NaN</td>\n",
       "      <td>NaN</td>\n",
       "      <td>NaN</td>\n",
       "      <td>NaN</td>\n",
       "      <td>NaN</td>\n",
       "      <td>40.668204</td>\n",
       "      <td>-73.950648</td>\n",
       "      <td>(40.66820406598287, -73.95064760056546)</td>\n",
       "    </tr>\n",
       "  </tbody>\n",
       "</table>\n",
       "<p>10 rows × 52 columns</p>\n",
       "</div>"
      ],
      "text/plain": [
       "   Unique Key            Created Date             Closed Date Agency  \\\n",
       "0    26589651  10/31/2013 02:08:41 AM                     NaN   NYPD   \n",
       "1    26593698  10/31/2013 02:01:04 AM                     NaN   NYPD   \n",
       "2    26594139  10/31/2013 02:00:24 AM  10/31/2013 02:40:32 AM   NYPD   \n",
       "3    26595721  10/31/2013 01:56:23 AM  10/31/2013 02:21:48 AM   NYPD   \n",
       "4    26590930  10/31/2013 01:53:44 AM                     NaN  DOHMH   \n",
       "5    26592370  10/31/2013 01:46:52 AM                     NaN   NYPD   \n",
       "6    26595682  10/31/2013 01:46:40 AM                     NaN   NYPD   \n",
       "7    26595195  10/31/2013 01:44:19 AM  10/31/2013 01:58:49 AM   NYPD   \n",
       "8    26590540  10/31/2013 01:44:14 AM  10/31/2013 02:28:04 AM   NYPD   \n",
       "9    26594392  10/31/2013 01:34:41 AM  10/31/2013 02:23:51 AM   NYPD   \n",
       "\n",
       "                               Agency Name           Complaint Type  \\\n",
       "0          New York City Police Department  Noise - Street/Sidewalk   \n",
       "1          New York City Police Department          Illegal Parking   \n",
       "2          New York City Police Department       Noise - Commercial   \n",
       "3          New York City Police Department          Noise - Vehicle   \n",
       "4  Department of Health and Mental Hygiene                   Rodent   \n",
       "5          New York City Police Department       Noise - Commercial   \n",
       "6          New York City Police Department         Blocked Driveway   \n",
       "7          New York City Police Department       Noise - Commercial   \n",
       "8          New York City Police Department       Noise - Commercial   \n",
       "9          New York City Police Department       Noise - Commercial   \n",
       "\n",
       "                     Descriptor        Location Type Incident Zip  \\\n",
       "0                  Loud Talking      Street/Sidewalk        11432   \n",
       "1  Commercial Overnight Parking      Street/Sidewalk        11378   \n",
       "2              Loud Music/Party  Club/Bar/Restaurant        10032   \n",
       "3                Car/Truck Horn      Street/Sidewalk        10023   \n",
       "4  Condition Attracting Rodents           Vacant Lot        10027   \n",
       "5              Banging/Pounding  Club/Bar/Restaurant        11372   \n",
       "6                     No Access      Street/Sidewalk        11419   \n",
       "7              Loud Music/Party  Club/Bar/Restaurant        11417   \n",
       "8                  Loud Talking  Club/Bar/Restaurant        10011   \n",
       "9              Loud Music/Party  Club/Bar/Restaurant        11225   \n",
       "\n",
       "            Incident Address                    ...                     \\\n",
       "0           90-03 169 STREET                    ...                      \n",
       "1                  58 AVENUE                    ...                      \n",
       "2              4060 BROADWAY                    ...                      \n",
       "3             WEST 72 STREET                    ...                      \n",
       "4            WEST 124 STREET                    ...                      \n",
       "5                  37 AVENUE                    ...                      \n",
       "6          107-50 109 STREET                    ...                      \n",
       "7  137-09 CROSSBAY BOULEVARD                    ...                      \n",
       "8         258 WEST 15 STREET                    ...                      \n",
       "9        835 NOSTRAND AVENUE                    ...                      \n",
       "\n",
       "  Bridge Highway Name Bridge Highway Direction Road Ramp  \\\n",
       "0                 NaN                      NaN       NaN   \n",
       "1                 NaN                      NaN       NaN   \n",
       "2                 NaN                      NaN       NaN   \n",
       "3                 NaN                      NaN       NaN   \n",
       "4                 NaN                      NaN       NaN   \n",
       "5                 NaN                      NaN       NaN   \n",
       "6                 NaN                      NaN       NaN   \n",
       "7                 NaN                      NaN       NaN   \n",
       "8                 NaN                      NaN       NaN   \n",
       "9                 NaN                      NaN       NaN   \n",
       "\n",
       "  Bridge Highway Segment Garage Lot Name Ferry Direction Ferry Terminal Name  \\\n",
       "0                    NaN             NaN             NaN                 NaN   \n",
       "1                    NaN             NaN             NaN                 NaN   \n",
       "2                    NaN             NaN             NaN                 NaN   \n",
       "3                    NaN             NaN             NaN                 NaN   \n",
       "4                    NaN             NaN             NaN                 NaN   \n",
       "5                    NaN             NaN             NaN                 NaN   \n",
       "6                    NaN             NaN             NaN                 NaN   \n",
       "7                    NaN             NaN             NaN                 NaN   \n",
       "8                    NaN             NaN             NaN                 NaN   \n",
       "9                    NaN             NaN             NaN                 NaN   \n",
       "\n",
       "    Latitude  Longitude                                  Location  \n",
       "0  40.708275 -73.791604   (40.70827532593202, -73.79160395779721)  \n",
       "1  40.721041 -73.909453  (40.721040535628305, -73.90945306791765)  \n",
       "2  40.843330 -73.939144   (40.84332975466513, -73.93914371913482)  \n",
       "3  40.778009 -73.980213    (40.7780087446372, -73.98021349023975)  \n",
       "4  40.807691 -73.947387   (40.80769092704951, -73.94738703491433)  \n",
       "5  40.749989 -73.881988    (40.7499893014072, -73.88198770727831)  \n",
       "6  40.681533 -73.831737   (40.68153278675525, -73.83173699701601)  \n",
       "7  40.671816 -73.843092   (40.67181584567338, -73.84309181950769)  \n",
       "8  40.739913 -74.000790   (40.73991339303542, -74.00079028612932)  \n",
       "9  40.668204 -73.950648   (40.66820406598287, -73.95064760056546)  \n",
       "\n",
       "[10 rows x 52 columns]"
      ]
     },
     "execution_count": 223,
     "metadata": {},
     "output_type": "execute_result"
    }
   ],
   "source": [
    "nypbook[:10]"
   ]
  },
  {
   "cell_type": "markdown",
   "metadata": {},
   "source": [
    "#### Q3: List all the unique values of column 8 (Incident Zip)\n",
    "\n",
    "To find out what is wrong with the data, look at the values in the column.\n",
    "What types of data do you see?"
   ]
  },
  {
   "cell_type": "code",
   "execution_count": 224,
   "metadata": {},
   "outputs": [
    {
     "data": {
      "text/plain": [
       "array([11432.0, 11378.0, 10032.0, 10023.0, 10027.0, 11372.0, 11419.0,\n",
       "       11417.0, 10011.0, 11225.0, 11218.0, 10003.0, 10029.0, 10466.0,\n",
       "       11219.0, 10025.0, 10310.0, 11236.0, nan, 10033.0, 11216.0, 10016.0,\n",
       "       10305.0, 10312.0, 10026.0, 10309.0, 10036.0, 11433.0, 11235.0,\n",
       "       11213.0, 11379.0, 11101.0, 10014.0, 11231.0, 11234.0, 10457.0,\n",
       "       10459.0, 10465.0, 11207.0, 10002.0, 10034.0, 11233.0, 10453.0,\n",
       "       10456.0, 10469.0, 11374.0, 11221.0, 11421.0, 11215.0, 10007.0,\n",
       "       10019.0, 11205.0, 11418.0, 11369.0, 11249.0, 10005.0, 10009.0,\n",
       "       11211.0, 11412.0, 10458.0, 11229.0, 10065.0, 10030.0, 11222.0,\n",
       "       10024.0, 10013.0, 11420.0, 11365.0, 10012.0, 11214.0, 11212.0,\n",
       "       10022.0, 11232.0, 11040.0, 11226.0, 10281.0, 11102.0, 11208.0,\n",
       "       10001.0, 10472.0, 11414.0, 11223.0, 10040.0, 11220.0, 11373.0,\n",
       "       11203.0, 11691.0, 11356.0, 10017.0, 10452.0, 10280.0, 11217.0,\n",
       "       10031.0, 11201.0, 11358.0, 10128.0, 11423.0, 10039.0, 10010.0,\n",
       "       11209.0, 10021.0, 10037.0, 11413.0, 11375.0, 11238.0, 10473.0,\n",
       "       11103.0, 11354.0, 11361.0, 11106.0, 11385.0, 10463.0, 10467.0,\n",
       "       11204.0, 11237.0, 11377.0, 11364.0, 11434.0, 11435.0, 11210.0,\n",
       "       11228.0, 11368.0, 11694.0, 10464.0, 11415.0, 10314.0, 10301.0,\n",
       "       10018.0, 10038.0, 11105.0, 11230.0, 10468.0, 11104.0, 10471.0,\n",
       "       11416.0, 10075.0, 11422.0, 11355.0, 10028.0, 10462.0, 10306.0,\n",
       "       10461.0, 11224.0, 11429.0, 10035.0, 11366.0, 11362.0, 11206.0,\n",
       "       10460.0, 10304.0, 11360.0, 11411.0, 10455.0, 10475.0, 10069.0,\n",
       "       10303.0, 10308.0, 10302.0, 11357.0, 10470.0, 11367.0, 11370.0,\n",
       "       10454.0, 10451.0, 11436.0, 11426.0, 10153.0, 11004.0, 11428.0,\n",
       "       11427.0, 11001.0, 11363.0, 10004.0, 10474.0, 11430.0, 10000.0,\n",
       "       10307.0, 11239.0, 10119.0, 10006.0, 10048.0, 11697.0, 11692.0,\n",
       "       11693.0, 10573.0, 83.0, 11559.0, 10020.0, 77056.0, 11776.0, 70711.0,\n",
       "       10282.0, 11109.0, 10044.0, '10452', '11233', '10468', '10310',\n",
       "       '11105', '10462', '10029', '10301', '10457', '10467', '10469',\n",
       "       '11225', '10035', '10031', '11226', '10454', '11221', '10025',\n",
       "       '11229', '11235', '11422', '10472', '11208', '11102', '10032',\n",
       "       '11216', '10473', '10463', '11213', '10040', '10302', '11231',\n",
       "       '10470', '11204', '11104', '11212', '10466', '11416', '11214',\n",
       "       '10009', '11692', '11385', '11423', '11201', '10024', '11435',\n",
       "       '10312', '10030', '11106', '10033', '10303', '11215', '11222',\n",
       "       '11354', '10016', '10034', '11420', '10304', '10019', '11237',\n",
       "       '11249', '11230', '11372', '11207', '11378', '11419', '11361',\n",
       "       '10011', '11357', '10012', '11358', '10003', '10002', '11374',\n",
       "       '10007', '11234', '10065', '11369', '11434', '11205', '11206',\n",
       "       '11415', '11236', '11218', '11413', '10458', '11101', '10306',\n",
       "       '11355', '10023', '11368', '10314', '11421', '10010', '10018',\n",
       "       '11223', '10455', '11377', '11433', '11375', '10037', '11209',\n",
       "       '10459', '10128', '10014', '10282', '11373', '10451', '11238',\n",
       "       '11211', '10038', '11694', '11203', '11691', '11232', '10305',\n",
       "       '10021', '11228', '10036', '10001', '10017', '11217', '11219',\n",
       "       '10308', '10465', '11379', '11414', '10460', '11417', '11220',\n",
       "       '11366', '10027', '11370', '10309', '11412', '11356', '10456',\n",
       "       '11432', '10022', '10013', '11367', '11040', '10026', '10475',\n",
       "       '11210', '11364', '11426', '10471', '10119', '11224', '11418',\n",
       "       '11429', '11365', '10461', '11239', '10039', '00083', '11411',\n",
       "       '10075', '11004', '11360', '10453', '10028', '11430', '10307',\n",
       "       '11103', '10004', '10069', '10005', '10474', '11428', '11436',\n",
       "       '10020', '11001', '11362', '11693', '10464', '11427', '10044',\n",
       "       '11363', '10006', '10000', '02061', '77092-2016', '10280', '11109',\n",
       "       '14225', '55164-0737', '19711', '07306', '000000', 'NO CLUE',\n",
       "       '90010', '10281', '11747', '23541', '11776', '11697', '11788',\n",
       "       '07604', 10112.0, 11788.0, 11563.0, 11580.0, 7087.0, 11042.0,\n",
       "       7093.0, 11501.0, 92123.0, 0.0, 11575.0, 7109.0, 11797.0, '10803',\n",
       "       '11716', '11722', '11549-3650', '10162', '92123', '23502', '11518',\n",
       "       '07020', '08807', '11577', '07114', '11003', '07201', '11563',\n",
       "       '61702', '10103', '29616-0759', '35209-3114', '11520', '11735',\n",
       "       '10129', '11005', '41042', '11590', 6901.0, 7208.0, 11530.0,\n",
       "       13221.0, 10954.0, 11735.0, 10103.0, 7114.0, 11111.0, 10107.0], dtype=object)"
      ]
     },
     "execution_count": 224,
     "metadata": {},
     "output_type": "execute_result"
    }
   ],
   "source": [
    "nypbook['Incident Zip'].unique()"
   ]
  },
  {
   "cell_type": "markdown",
   "metadata": {},
   "source": [
    "We see normal zip-codes but also:\n",
    "  - strings and floats\n",
    "  - NaN\n",
    "  - NO CLUE\n",
    "  - zip codes with '-' (dash)\n",
    "  - zip code 0\n",
    "  \n",
    "We will deal with those in turn."
   ]
  },
  {
   "cell_type": "markdown",
   "metadata": {},
   "source": [
    "#### Q4: Import the data again, but now use the arguments of read_csv \n",
    " 1. to force column 'Incident Zip' to be read as strings (not floats)\n",
    " 2. to force NO CLUE to be set to \"NaN\"\n",
    " "
   ]
  },
  {
   "cell_type": "code",
   "execution_count": 225,
   "metadata": {},
   "outputs": [
    {
     "data": {
      "text/plain": [
       "array(['11432', '11378', '10032', '10023', '10027', '11372', '11419',\n",
       "       '11417', '10011', '11225', '11218', '10003', '10029', '10466',\n",
       "       '11219', '10025', '10310', '11236', nan, '10033', '11216', '10016',\n",
       "       '10305', '10312', '10026', '10309', '10036', '11433', '11235',\n",
       "       '11213', '11379', '11101', '10014', '11231', '11234', '10457',\n",
       "       '10459', '10465', '11207', '10002', '10034', '11233', '10453',\n",
       "       '10456', '10469', '11374', '11221', '11421', '11215', '10007',\n",
       "       '10019', '11205', '11418', '11369', '11249', '10005', '10009',\n",
       "       '11211', '11412', '10458', '11229', '10065', '10030', '11222',\n",
       "       '10024', '10013', '11420', '11365', '10012', '11214', '11212',\n",
       "       '10022', '11232', '11040', '11226', '10281', '11102', '11208',\n",
       "       '10001', '10472', '11414', '11223', '10040', '11220', '11373',\n",
       "       '11203', '11691', '11356', '10017', '10452', '10280', '11217',\n",
       "       '10031', '11201', '11358', '10128', '11423', '10039', '10010',\n",
       "       '11209', '10021', '10037', '11413', '11375', '11238', '10473',\n",
       "       '11103', '11354', '11361', '11106', '11385', '10463', '10467',\n",
       "       '11204', '11237', '11377', '11364', '11434', '11435', '11210',\n",
       "       '11228', '11368', '11694', '10464', '11415', '10314', '10301',\n",
       "       '10018', '10038', '11105', '11230', '10468', '11104', '10471',\n",
       "       '11416', '10075', '11422', '11355', '10028', '10462', '10306',\n",
       "       '10461', '11224', '11429', '10035', '11366', '11362', '11206',\n",
       "       '10460', '10304', '11360', '11411', '10455', '10475', '10069',\n",
       "       '10303', '10308', '10302', '11357', '10470', '11367', '11370',\n",
       "       '10454', '10451', '11436', '11426', '10153', '11004', '11428',\n",
       "       '11427', '11001', '11363', '10004', '10474', '11430', '10000',\n",
       "       '10307', '11239', '10119', '10006', '10048', '11697', '11692',\n",
       "       '11693', '10573', '00083', '11559', '10020', '77056', '11776',\n",
       "       '70711', '10282', '11109', '10044', '02061', '77092-2016', '14225',\n",
       "       '55164-0737', '19711', '07306', '000000', '90010', '11747', '23541',\n",
       "       '11788', '07604', '10112', '11563', '11580', '07087', '11042',\n",
       "       '07093', '11501', '92123', '00000', '11575', '07109', '11797',\n",
       "       '10803', '11716', '11722', '11549-3650', '10162', '23502', '11518',\n",
       "       '07020', '08807', '11577', '07114', '11003', '07201', '61702',\n",
       "       '10103', '29616-0759', '35209-3114', '11520', '11735', '10129',\n",
       "       '11005', '41042', '11590', '06901', '07208', '11530', '13221',\n",
       "       '10954', '11111', '10107'], dtype=object)"
      ]
     },
     "execution_count": 225,
     "metadata": {},
     "output_type": "execute_result"
    }
   ],
   "source": [
    "nypbook = pd.read_csv('311-service-requests.csv', dtype={'Incident Zip':np.str}, na_values='NO CLUE')\n",
    "nypbook['Incident Zip'].unique() # check\n"
   ]
  },
  {
   "cell_type": "markdown",
   "metadata": {},
   "source": [
    "#### Q5: Count the number of Incident Zip codes with a dash (-) in it.\n",
    "\n",
    "*Hint*: You can use use 'str' on a column of a dataframe to get access to string methods.\n",
    "*Hint*: Use fillna() to replace NaN values with another value."
   ]
  },
  {
   "cell_type": "code",
   "execution_count": 226,
   "metadata": {},
   "outputs": [
    {
     "data": {
      "text/plain": [
       "5"
      ]
     },
     "execution_count": 226,
     "metadata": {},
     "output_type": "execute_result"
    }
   ],
   "source": [
    "# first fill the NaN values with the string '00000'\n",
    "nypbook['Incident Zip'] = nypbook['Incident Zip'].fillna('00000')\n",
    "\n",
    "# then find all strings with a '-' and count them\n",
    "nypbook[nypbook['Incident Zip'].str.contains('-')]['Incident Zip'].count()\n"
   ]
  },
  {
   "cell_type": "markdown",
   "metadata": {},
   "source": [
    "#### Q6: Truncate the zip codes with a dash to only the part before the dash. Store the result back into the dataframe."
   ]
  },
  {
   "cell_type": "code",
   "execution_count": 227,
   "metadata": {},
   "outputs": [
    {
     "data": {
      "text/plain": [
       "0"
      ]
     },
     "execution_count": 227,
     "metadata": {},
     "output_type": "execute_result"
    }
   ],
   "source": [
    "# Split on '-', select first part \n",
    "nypbook['Incident Zip'] = nypbook['Incident Zip'].str.split('-').str[0] # altrenative (shorter) code\n",
    "# Check if it worked\n",
    "nypbook[nypbook['Incident Zip'].str.contains('-')]['Incident Zip'].count()"
   ]
  },
  {
   "cell_type": "code",
   "execution_count": 228,
   "metadata": {},
   "outputs": [
    {
     "data": {
      "text/plain": [
       "False"
      ]
     },
     "execution_count": 228,
     "metadata": {},
     "output_type": "execute_result"
    }
   ],
   "source": [
    "any(nypbook['Incident Zip'].isnull())"
   ]
  },
  {
   "cell_type": "markdown",
   "metadata": {},
   "source": [
    "#### Q7: a) Drop the entries with 00000 and 000000 as zip code.\n",
    "#### b) Show the unique Incident Zip's again, but this time sorted\n",
    "\n",
    "*Hint*: use `astype()` to get the values of a column in a certain type.\n"
   ]
  },
  {
   "cell_type": "code",
   "execution_count": 245,
   "metadata": {},
   "outputs": [
    {
     "data": {
      "text/plain": [
       "(False, False)"
      ]
     },
     "execution_count": 245,
     "metadata": {},
     "output_type": "execute_result"
    }
   ],
   "source": [
    "# 7a\n",
    "# Only add lines that are not equal to '00000' or '000000', \n",
    "# thereby dropping the entries with 00000 and 000000 as zip code.\n",
    "nypbook = nypbook[nypbook['Incident Zip'] != '00000']\n",
    "nypbook = nypbook[nypbook['Incident Zip'] != '000000']\n",
    "\n",
    "# Check\n",
    "'00000' in nypbook['Incident Zip'].values, '000000' in nypbook['Incident Zip'].values"
   ]
  },
  {
   "cell_type": "code",
   "execution_count": 246,
   "metadata": {},
   "outputs": [
    {
     "data": {
      "text/plain": [
       "False"
      ]
     },
     "execution_count": 246,
     "metadata": {},
     "output_type": "execute_result"
    }
   ],
   "source": [
    "# Make sure there are no NaN values\n",
    "any(nypbook['Incident Zip'].isnull())"
   ]
  },
  {
   "cell_type": "code",
   "execution_count": 247,
   "metadata": {},
   "outputs": [
    {
     "data": {
      "text/plain": [
       "array(['00083', '02061', '06901', '07020', '07087', '07093', '07109',\n",
       "       '07114', '07201', '07208', '07306', '07604', '08807', '10000',\n",
       "       '10001', '10002', '10003', '10004', '10005', '10006', '10007',\n",
       "       '10009', '10010', '10011', '10012', '10013', '10014', '10016',\n",
       "       '10017', '10018', '10019', '10020', '10021', '10022', '10023',\n",
       "       '10024', '10025', '10026', '10027', '10028', '10029', '10030',\n",
       "       '10031', '10032', '10033', '10034', '10035', '10036', '10037',\n",
       "       '10038', '10039', '10040', '10044', '10048', '10065', '10069',\n",
       "       '10075', '10103', '10107', '10112', '10119', '10128', '10129',\n",
       "       '10153', '10162', '10280', '10281', '10282', '10301', '10302',\n",
       "       '10303', '10304', '10305', '10306', '10307', '10308', '10309',\n",
       "       '10310', '10312', '10314', '10451', '10452', '10453', '10454',\n",
       "       '10455', '10456', '10457', '10458', '10459', '10460', '10461',\n",
       "       '10462', '10463', '10464', '10465', '10466', '10467', '10468',\n",
       "       '10469', '10470', '10471', '10472', '10473', '10474', '10475',\n",
       "       '10573', '10803', '10954', '11001', '11003', '11004', '11005',\n",
       "       '11040', '11042', '11101', '11102', '11103', '11104', '11105',\n",
       "       '11106', '11109', '11111', '11201', '11203', '11204', '11205',\n",
       "       '11206', '11207', '11208', '11209', '11210', '11211', '11212',\n",
       "       '11213', '11214', '11215', '11216', '11217', '11218', '11219',\n",
       "       '11220', '11221', '11222', '11223', '11224', '11225', '11226',\n",
       "       '11228', '11229', '11230', '11231', '11232', '11233', '11234',\n",
       "       '11235', '11236', '11237', '11238', '11239', '11249', '11354',\n",
       "       '11355', '11356', '11357', '11358', '11360', '11361', '11362',\n",
       "       '11363', '11364', '11365', '11366', '11367', '11368', '11369',\n",
       "       '11370', '11372', '11373', '11374', '11375', '11377', '11378',\n",
       "       '11379', '11385', '11411', '11412', '11413', '11414', '11415',\n",
       "       '11416', '11417', '11418', '11419', '11420', '11421', '11422',\n",
       "       '11423', '11426', '11427', '11428', '11429', '11430', '11432',\n",
       "       '11433', '11434', '11435', '11436', '11501', '11518', '11520',\n",
       "       '11530', '11549', '11559', '11563', '11575', '11577', '11580',\n",
       "       '11590', '11691', '11692', '11693', '11694', '11697', '11716',\n",
       "       '11722', '11735', '11747', '11776', '11788', '11797', '13221',\n",
       "       '14225', '19711', '23502', '23541', '29616', '35209', '41042',\n",
       "       '55164', '61702', '70711', '77056', '77092', '90010', '92123'], dtype=object)"
      ]
     },
     "execution_count": 247,
     "metadata": {},
     "output_type": "execute_result"
    }
   ],
   "source": [
    "# 7b\n",
    "nypbook.sort_values( by='Incident Zip', ascending=True )['Incident Zip'].unique()"
   ]
  },
  {
   "cell_type": "markdown",
   "metadata": {},
   "source": [
    "#### Q8: Count the number of NaNs in the Incident Zip column"
   ]
  },
  {
   "cell_type": "code",
   "execution_count": 248,
   "metadata": {},
   "outputs": [
    {
     "data": {
      "text/plain": [
       "0"
      ]
     },
     "execution_count": 248,
     "metadata": {},
     "output_type": "execute_result"
    }
   ],
   "source": [
    "# Confirm all NaN values have been removed and deduce there are 0 NaN values\n",
    "any(nypbook['Incident Zip'].isnull())\n",
    "# Or just count the NaN Values \n",
    "nypbook['Incident Zip'].isnull().sum()"
   ]
  },
  {
   "cell_type": "markdown",
   "metadata": {},
   "source": [
    "#### Q9: Give an overview of the number of incidents per city.\n",
    "\n",
    "*Hint*: Note, cities are written both in lower and upper case versions. How do you count them\n",
    "as the same?"
   ]
  },
  {
   "cell_type": "code",
   "execution_count": 249,
   "metadata": {},
   "outputs": [
    {
     "data": {
      "text/plain": [
       "Index(['Unique Key', 'Created Date', 'Closed Date', 'Agency', 'Agency Name',\n",
       "       'Complaint Type', 'Descriptor', 'Location Type', 'Incident Zip',\n",
       "       'Incident Address', 'Street Name', 'Cross Street 1', 'Cross Street 2',\n",
       "       'Intersection Street 1', 'Intersection Street 2', 'Address Type',\n",
       "       'City', 'Landmark', 'Facility Type', 'Status', 'Due Date',\n",
       "       'Resolution Action Updated Date', 'Community Board', 'Borough',\n",
       "       'X Coordinate (State Plane)', 'Y Coordinate (State Plane)',\n",
       "       'Park Facility Name', 'Park Borough', 'School Name', 'School Number',\n",
       "       'School Region', 'School Code', 'School Phone Number', 'School Address',\n",
       "       'School City', 'School State', 'School Zip', 'School Not Found',\n",
       "       'School or Citywide Complaint', 'Vehicle Type', 'Taxi Company Borough',\n",
       "       'Taxi Pick Up Location', 'Bridge Highway Name',\n",
       "       'Bridge Highway Direction', 'Road Ramp', 'Bridge Highway Segment',\n",
       "       'Garage Lot Name', 'Ferry Direction', 'Ferry Terminal Name', 'Latitude',\n",
       "       'Longitude', 'Location'],\n",
       "      dtype='object')"
      ]
     },
     "execution_count": 249,
     "metadata": {},
     "output_type": "execute_result"
    }
   ],
   "source": [
    "# first check column names\n",
    "nypbook.columns\n"
   ]
  },
  {
   "cell_type": "code",
   "execution_count": 141,
   "metadata": {},
   "outputs": [
    {
     "data": {
      "text/plain": [
       "0                     JAMAICA\n",
       "1                     MASPETH\n",
       "2                    NEW YORK\n",
       "3                    NEW YORK\n",
       "4                    NEW YORK\n",
       "5             JACKSON HEIGHTS\n",
       "6         SOUTH RICHMOND HILL\n",
       "7                  OZONE PARK\n",
       "8                    NEW YORK\n",
       "9                    BROOKLYN\n",
       "10                   BROOKLYN\n",
       "11                   NEW YORK\n",
       "12                   NEW YORK\n",
       "13                      BRONX\n",
       "14                   BROOKLYN\n",
       "15                   NEW YORK\n",
       "16              STATEN ISLAND\n",
       "17                   BROOKLYN\n",
       "19                   NEW YORK\n",
       "20                   BROOKLYN\n",
       "21                   NEW YORK\n",
       "22        SOUTH RICHMOND HILL\n",
       "23                   BROOKLYN\n",
       "24              STATEN ISLAND\n",
       "25              STATEN ISLAND\n",
       "27                   NEW YORK\n",
       "28                   NEW YORK\n",
       "29              STATEN ISLAND\n",
       "30              STATEN ISLAND\n",
       "31                   BROOKLYN\n",
       "                 ...         \n",
       "111039               NEW YORK\n",
       "111040               NEW YORK\n",
       "111041               BROOKLYN\n",
       "111042               NEW YORK\n",
       "111043               BROOKLYN\n",
       "111044               NEW YORK\n",
       "111045               NEW YORK\n",
       "111046               BROOKLYN\n",
       "111047                JAMAICA\n",
       "111048               NEW YORK\n",
       "111049               BROOKLYN\n",
       "111050               NEW YORK\n",
       "111051               NEW YORK\n",
       "111052               NEW YORK\n",
       "111053    Springfield Gardens\n",
       "111054               BROOKLYN\n",
       "111055               BROOKLYN\n",
       "111056                MASPETH\n",
       "111057               NEW YORK\n",
       "111058               BROOKLYN\n",
       "111059               NEW YORK\n",
       "111060               NEW YORK\n",
       "111061                ASTORIA\n",
       "111062               NEW YORK\n",
       "111063               NEW YORK\n",
       "111064               BROOKLYN\n",
       "111065                JAMAICA\n",
       "111066               NEW YORK\n",
       "111067               BROOKLYN\n",
       "111068               BROOKLYN\n",
       "Name: City, Length: 98804, dtype: object"
      ]
     },
     "execution_count": 141,
     "metadata": {},
     "output_type": "execute_result"
    }
   ],
   "source": [
    "# We found a colum called city, lets check its values\n",
    "nypbook.City"
   ]
  },
  {
   "cell_type": "code",
   "execution_count": 250,
   "metadata": {},
   "outputs": [
    {
     "data": {
      "text/plain": [
       "142"
      ]
     },
     "execution_count": 250,
     "metadata": {},
     "output_type": "execute_result"
    }
   ],
   "source": [
    "# How many values are unique?\n",
    "len(nypbook.City.unique())"
   ]
  },
  {
   "cell_type": "code",
   "execution_count": 251,
   "metadata": {},
   "outputs": [
    {
     "data": {
      "text/plain": [
       "100"
      ]
     },
     "execution_count": 251,
     "metadata": {},
     "output_type": "execute_result"
    }
   ],
   "source": [
    "# Let's change everything to uppercase and count again\n",
    "nypbook.City = nypbook.City.str.upper()\n",
    "# and check if it helped\n",
    "len(nypbook.City.unique())"
   ]
  },
  {
   "cell_type": "code",
   "execution_count": 252,
   "metadata": {},
   "outputs": [
    {
     "data": {
      "text/plain": [
       "array(['JAMAICA', 'MASPETH', 'NEW YORK', 'JACKSON HEIGHTS',\n",
       "       'SOUTH RICHMOND HILL', 'OZONE PARK', 'BROOKLYN', 'BRONX',\n",
       "       'STATEN ISLAND', 'MIDDLE VILLAGE', 'LONG ISLAND CITY', 'REGO PARK',\n",
       "       'WOODHAVEN', 'RICHMOND HILL', 'EAST ELMHURST', 'SAINT ALBANS',\n",
       "       'SOUTH OZONE PARK', 'FRESH MEADOWS', 'NEW HYDE PARK', 'ASTORIA',\n",
       "       'HOWARD BEACH', 'ELMHURST', 'FAR ROCKAWAY', 'COLLEGE POINT',\n",
       "       'FLUSHING', 'HOLLIS', 'SPRINGFIELD GARDENS', 'FOREST HILLS',\n",
       "       'BAYSIDE', 'RIDGEWOOD', 'WOODSIDE', 'OAKLAND GARDENS', 'CORONA',\n",
       "       'ROCKAWAY PARK', 'KEW GARDENS', 'SUNNYSIDE', 'ROSEDALE',\n",
       "       'QUEENS VILLAGE', 'LITTLE NECK', 'CAMBRIA HEIGHTS', 'WHITESTONE',\n",
       "       'BELLEROSE', 'GLEN OAKS', 'FLORAL PARK', 'QUEENS', 'BREEZY POINT',\n",
       "       'ARVERNE', 'RYEBROOK', 'CENTRAL PARK', 'LAWRENCE', 'HOUSTON',\n",
       "       'PORT JEFFERSON STATION', 'CLIFTON', 'NORWELL', 'BRIARWOOD',\n",
       "       'CHEEKTOWAGA', 'ST. PAUL', 'NEWARK', 'JERSEY CITY', nan,\n",
       "       'LOS ANGELES', 'MELVILLE', 'NORFOLK', 'HAUPPAUGE',\n",
       "       'HASBROCK HEIGHTS', 'LYNBROOK', 'VALLEY STREAM', 'UNION CITY',\n",
       "       'LAKE SUCCESS', 'WEST NEW YORK', 'MINEOLA', 'SAN DIEGO', 'ROSELYN',\n",
       "       'BELLEVILLE', 'WOODBURY', 'BOHIEMA', 'CENTRAL ISLIP', 'HEMSTEAD',\n",
       "       'EAST ROCKAWAY', 'EDGEWATER', 'BRIDGE  WATER', 'ROSLYN', 'NJ',\n",
       "       'ELMONT', 'LONG ISLAND', 'BLOOMIGTON', 'GREENVILLE', 'BIRMINGHAM',\n",
       "       'FREEPORT', 'GARDEN CITY', 'FLORENCE', 'COL.ANVURES', 'STAMFORD',\n",
       "       'ELIZABETH', 'NEW YORK CITY', 'SYRACUSE', 'NANUET', 'FARMINGDALE',\n",
       "       'NEW YOR', 'NEWARK AIRPORT'], dtype=object)"
      ]
     },
     "execution_count": 252,
     "metadata": {},
     "output_type": "execute_result"
    }
   ],
   "source": [
    "# Let's check the remaining uniques values\n",
    "nypbook.City.unique()"
   ]
  },
  {
   "cell_type": "code",
   "execution_count": 253,
   "metadata": {},
   "outputs": [
    {
     "data": {
      "text/plain": [
       "True"
      ]
     },
     "execution_count": 253,
     "metadata": {},
     "output_type": "execute_result"
    }
   ],
   "source": [
    "# You should notice that there are NaN values. Let's try to get rid of those\n",
    "\n",
    "# This does not work\n",
    "nypbook.City = nypbook.City.dropna()\n",
    "any(nypbook.City.isnull())"
   ]
  },
  {
   "cell_type": "code",
   "execution_count": 254,
   "metadata": {},
   "outputs": [
    {
     "data": {
      "text/plain": [
       "False"
      ]
     },
     "execution_count": 254,
     "metadata": {},
     "output_type": "execute_result"
    }
   ],
   "source": [
    "# Why not? Let's test the following\n",
    "any(nypbook.City.dropna().isnull())\n",
    "# So this drops the NaN values, so why are there still NaN values in the resulting DataFrame?\n",
    "\n",
    "#.. Because they are _reintroduced_ when you add them back to the dataframe"
   ]
  },
  {
   "cell_type": "code",
   "execution_count": 255,
   "metadata": {},
   "outputs": [
    {
     "data": {
      "text/plain": [
       "False"
      ]
     },
     "execution_count": 255,
     "metadata": {},
     "output_type": "execute_result"
    }
   ],
   "source": [
    "# So let's replace the NaN values by something appropiate\n",
    "nypbook.City.replace(np.nan, 'UNKNOWN' , inplace = True)\n",
    "\n",
    "# Check that all NaN values are now removed\n",
    "any(nypbook.City.isnull())"
   ]
  },
  {
   "cell_type": "code",
   "execution_count": 256,
   "metadata": {},
   "outputs": [
    {
     "data": {
      "text/plain": [
       "array(['ARVERNE', 'ASTORIA', 'BAYSIDE', 'BELLEROSE', 'BELLEVILLE',\n",
       "       'BIRMINGHAM', 'BLOOMIGTON', 'BOHIEMA', 'BREEZY POINT', 'BRIARWOOD',\n",
       "       'BRIDGE  WATER', 'BRONX', 'BROOKLYN', 'CAMBRIA HEIGHTS',\n",
       "       'CENTRAL ISLIP', 'CENTRAL PARK', 'CHEEKTOWAGA', 'CLIFTON',\n",
       "       'COL.ANVURES', 'COLLEGE POINT', 'CORONA', 'EAST ELMHURST',\n",
       "       'EAST ROCKAWAY', 'EDGEWATER', 'ELIZABETH', 'ELMHURST', 'ELMONT',\n",
       "       'FAR ROCKAWAY', 'FARMINGDALE', 'FLORAL PARK', 'FLORENCE',\n",
       "       'FLUSHING', 'FOREST HILLS', 'FREEPORT', 'FRESH MEADOWS',\n",
       "       'GARDEN CITY', 'GLEN OAKS', 'GREENVILLE', 'HASBROCK HEIGHTS',\n",
       "       'HAUPPAUGE', 'HEMSTEAD', 'HOLLIS', 'HOUSTON', 'HOWARD BEACH',\n",
       "       'JACKSON HEIGHTS', 'JAMAICA', 'JERSEY CITY', 'KEW GARDENS',\n",
       "       'LAKE SUCCESS', 'LAWRENCE', 'LITTLE NECK', 'LONG ISLAND',\n",
       "       'LONG ISLAND CITY', 'LOS ANGELES', 'LYNBROOK', 'MASPETH',\n",
       "       'MELVILLE', 'MIDDLE VILLAGE', 'MINEOLA', 'NANUET', 'NEW HYDE PARK',\n",
       "       'NEW YOR', 'NEW YORK', 'NEW YORK CITY', 'NEWARK', 'NEWARK AIRPORT',\n",
       "       'NJ', 'NORFOLK', 'NORWELL', 'OAKLAND GARDENS', 'OZONE PARK',\n",
       "       'PORT JEFFERSON STATION', 'QUEENS', 'QUEENS VILLAGE', 'REGO PARK',\n",
       "       'RICHMOND HILL', 'RIDGEWOOD', 'ROCKAWAY PARK', 'ROSEDALE',\n",
       "       'ROSELYN', 'ROSLYN', 'RYEBROOK', 'SAINT ALBANS', 'SAN DIEGO',\n",
       "       'SOUTH OZONE PARK', 'SOUTH RICHMOND HILL', 'SPRINGFIELD GARDENS',\n",
       "       'ST. PAUL', 'STAMFORD', 'STATEN ISLAND', 'SUNNYSIDE', 'SYRACUSE',\n",
       "       'UNION CITY', 'UNKNOWN', 'VALLEY STREAM', 'WEST NEW YORK',\n",
       "       'WHITESTONE', 'WOODBURY', 'WOODHAVEN', 'WOODSIDE'], dtype=object)"
      ]
     },
     "execution_count": 256,
     "metadata": {},
     "output_type": "execute_result"
    }
   ],
   "source": [
    "# Check the result, sort first and then look at unique values\n",
    "(nypbook.City.sort_values()).unique()\n",
    "\n",
    "# We see three different values for New York: 'NEW YOR', 'NEW YORK', 'NEW YORK CITY'\n",
    "# And two for Roselyn: 'ROSELYN', 'ROSLYN'"
   ]
  },
  {
   "cell_type": "code",
   "execution_count": 257,
   "metadata": {},
   "outputs": [
    {
     "data": {
      "text/plain": [
       "97"
      ]
     },
     "execution_count": 257,
     "metadata": {},
     "output_type": "execute_result"
    }
   ],
   "source": [
    "# Let's replace these (notice the order, this is important!)\n",
    "nypbook.City = nypbook.City.str.replace('NEW YORK CITY','NEW YOR')\n",
    "nypbook.City = nypbook.City.str.replace('NEW YORK','NEW YOR')\n",
    "nypbook.City = nypbook.City.str.replace('NEW YOR','NEW YORK')\n",
    "nypbook.City = nypbook.City.str.replace('NEW YORK','NEW YORK CITY')\n",
    "nypbook.City = nypbook.City.str.replace('ROSLYN','ROSELYN')\n",
    "# Let's check again\n",
    "len((nypbook.City.sort_values()).unique())"
   ]
  },
  {
   "cell_type": "code",
   "execution_count": 258,
   "metadata": {},
   "outputs": [
    {
     "data": {
      "text/plain": [
       "BROOKLYN               31648\n",
       "NEW YORK CITY          22652\n",
       "BRONX                  18435\n",
       "STATEN ISLAND           4761\n",
       "JAMAICA                 2246\n",
       "FLUSHING                1803\n",
       "ASTORIA                 1568\n",
       "RIDGEWOOD               1073\n",
       "CORONA                   707\n",
       "OZONE PARK               693\n",
       "LONG ISLAND CITY         678\n",
       "FAR ROCKAWAY             652\n",
       "ELMHURST                 647\n",
       "WOODSIDE                 609\n",
       "EAST ELMHURST            562\n",
       "QUEENS VILLAGE           549\n",
       "FOREST HILLS             541\n",
       "JACKSON HEIGHTS          541\n",
       "SOUTH RICHMOND HILL      521\n",
       "MASPETH                  473\n",
       "WOODHAVEN                464\n",
       "FRESH MEADOWS            435\n",
       "SPRINGFIELD GARDENS      434\n",
       "BAYSIDE                  411\n",
       "SOUTH OZONE PARK         410\n",
       "RICHMOND HILL            404\n",
       "REGO PARK                402\n",
       "MIDDLE VILLAGE           396\n",
       "SAINT ALBANS             387\n",
       "WHITESTONE               348\n",
       "                       ...  \n",
       "BRIARWOOD                  1\n",
       "BELLEVILLE                 1\n",
       "CENTRAL ISLIP              1\n",
       "MINEOLA                    1\n",
       "GREENVILLE                 1\n",
       "STAMFORD                   1\n",
       "LAWRENCE                   1\n",
       "MELVILLE                   1\n",
       "ST. PAUL                   1\n",
       "RYEBROOK                   1\n",
       "CHEEKTOWAGA                1\n",
       "NEWARK AIRPORT             1\n",
       "WOODBURY                   1\n",
       "HASBROCK HEIGHTS           1\n",
       "HEMSTEAD                   1\n",
       "NJ                         1\n",
       "FARMINGDALE                1\n",
       "COL.ANVURES                1\n",
       "BRIDGE  WATER              1\n",
       "WEST NEW YORK CITY         1\n",
       "LYNBROOK                   1\n",
       "JERSEY CITY                1\n",
       "BIRMINGHAM                 1\n",
       "UNION CITY                 1\n",
       "ELIZABETH                  1\n",
       "CLIFTON                    1\n",
       "EDGEWATER                  1\n",
       "FLORENCE                   1\n",
       "NORWELL                    1\n",
       "VALLEY STREAM              1\n",
       "Name: City, Length: 97, dtype: int64"
      ]
     },
     "execution_count": 258,
     "metadata": {},
     "output_type": "execute_result"
    }
   ],
   "source": [
    "# Now we are ready to check the number of incidents per city.nypbook['Complaint Type'].value_counts()[:15].plot( kind='bar', title=\"Number of Complaints per Type\" )\n",
    "nypbook['City'].value_counts()"
   ]
  },
  {
   "cell_type": "code",
   "execution_count": 259,
   "metadata": {},
   "outputs": [
    {
     "data": {
      "text/plain": [
       "<matplotlib.axes._subplots.AxesSubplot at 0x16ddad780>"
      ]
     },
     "execution_count": 259,
     "metadata": {},
     "output_type": "execute_result"
    },
    {
     "data": {
      "image/png": "[encoded data removed]",
      "text/plain": [
       "<matplotlib.figure.Figure at 0x167508908>"
      ]
     },
     "metadata": {},
     "output_type": "display_data"
    }
   ],
   "source": [
    "# Or if we plot in a bar chart\n",
    "nypbook['City'].value_counts()[:15].plot( kind='bar', title=\"Number of Incidents per City\" )"
   ]
  },
  {
   "cell_type": "markdown",
   "metadata": {},
   "source": [
    "#### Q10: Plot a bar chart with the top 15 most common complaint types."
   ]
  },
  {
   "cell_type": "code",
   "execution_count": 260,
   "metadata": {},
   "outputs": [
    {
     "data": {
      "text/plain": [
       "<matplotlib.axes._subplots.AxesSubplot at 0x16de99d30>"
      ]
     },
     "execution_count": 260,
     "metadata": {},
     "output_type": "execute_result"
    },
    {
     "data": {
      "image/png": "[encoded data removed]",
      "text/plain": [
       "<matplotlib.figure.Figure at 0x16e0a2748>"
      ]
     },
     "metadata": {},
     "output_type": "display_data"
    }
   ],
   "source": [
    "# Count the values and plot them\n",
    "nypbook['Complaint Type'].value_counts()[:15].plot( kind='bar', title=\"Number of Complaints per Type\" )"
   ]
  }
 ],
 "metadata": {
  "kernelspec": {
   "display_name": "Python 3",
   "language": "python",
   "name": "python3"
  },
  "language_info": {
   "codemirror_mode": {
    "name": "ipython",
    "version": 3
   },
   "file_extension": ".py",
   "mimetype": "text/x-python",
   "name": "python",
   "nbconvert_exporter": "python",
   "pygments_lexer": "ipython3",
   "version": "3.6.1"
  },
  "widgets": {
   "state": {
    "83a844a11b5a4ca6911fa25d36906a7f": {
     "views": [
      {
       "cell_index": 139
      }
     ]
    },
    "8cffa790f0714815946c29367e42e230": {
     "views": [
      {
       "cell_index": 137
      }
     ]
    },
    "94741281244943cc8ffbf13fcba6ac1c": {
     "views": [
      {
       "cell_index": 154
      }
     ]
    },
    "a1e204ba6ab94ae7aed42db3875ce305": {
     "views": [
      {
       "cell_index": 136
      }
     ]
    },
    "ecd8d83bbf794ea188ddc68f00a59c89": {
     "views": [
      {
       "cell_index": 138
      }
     ]
    }
   },
   "version": "1.2.0"
  }
 },
 "nbformat": 4,
 "nbformat_minor": 1
}
