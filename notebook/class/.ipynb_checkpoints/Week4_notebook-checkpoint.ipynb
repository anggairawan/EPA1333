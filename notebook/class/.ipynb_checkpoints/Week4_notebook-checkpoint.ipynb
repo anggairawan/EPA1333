{
 "cells": [
  {
   "cell_type": "markdown",
   "metadata": {},
   "source": [
    "# EPA1333 - Computer Engineering for Scientific Computing\n",
    "## Week 4 - Sept 26, 2017"
   ]
  },
  {
   "cell_type": "markdown",
   "metadata": {},
   "source": [
    "**Think  Python** -\n",
    "**How to Think Like a Computer Scientist**\n",
    "\n",
    "*Allen B. Downey*\n"
   ]
  },
  {
   "cell_type": "markdown",
   "metadata": {},
   "source": [
    "## A 2-dimensional Matrix\n",
    "\n",
    "A two dimensional matrix can be represented by a list of lists.\n",
    "```\n",
    "M = [ \n",
    "      [1,2,3], \n",
    "      [4,5,6], \n",
    "      [7,8,9]\n",
    "    ]\n",
    "```\n",
    "\n",
    "Elements can be accessed using: M[x][y]\n",
    "\n",
    "Note M[1,2] does **not** work with standard Python lists.\n"
   ]
  },
  {
   "cell_type": "code",
   "execution_count": 1,
   "metadata": {},
   "outputs": [
    {
     "name": "stdout",
     "output_type": "stream",
     "text": [
      "[[1, 2, 3], [4, 5, 6], [7, 8, 9]]\n"
     ]
    }
   ],
   "source": [
    "# Initialize Matrix\n",
    "M = [ \n",
    "      [1,2,3], \n",
    "      [4,5,6], \n",
    "      [7,8,9] \n",
    "    ]\n",
    "\n",
    "print(M)"
   ]
  },
  {
   "cell_type": "code",
   "execution_count": 2,
   "metadata": {},
   "outputs": [
    {
     "data": {
      "text/plain": [
       "8"
      ]
     },
     "execution_count": 2,
     "metadata": {},
     "output_type": "execute_result"
    }
   ],
   "source": [
    "# Select element\n",
    "\n",
    "M[2][1]       # Remember indices start at 0!"
   ]
  },
  {
   "cell_type": "code",
   "execution_count": 3,
   "metadata": {},
   "outputs": [
    {
     "data": {
      "text/plain": [
       "[[1, 2, 3], [4, 5, 6], [17, 8, 9]]"
      ]
     },
     "execution_count": 3,
     "metadata": {},
     "output_type": "execute_result"
    }
   ],
   "source": [
    "# Manipulating elements\n",
    "M[2][0] += 10\n",
    "M"
   ]
  },
  {
   "cell_type": "code",
   "execution_count": 4,
   "metadata": {
    "collapsed": true
   },
   "outputs": [],
   "source": [
    "# Let's write a function to add 2 matrices together, elementwise.\n",
    "# M + M does not work!\n",
    "# M + M will concatenate 2 lists, ending up in a bigger matrix (twice as many rows).\n",
    "\n",
    "\n",
    "def add_matrix( M, N ):\n",
    "    \"\"\"Add two matrices elementwise. Both matrices must have the samen dimensions!\n",
    "    Return a new matrix.\"\"\"\n",
    "    \n",
    "    result = []\n",
    "    for i in range( len(M) ):        # amount of rows in matrix\n",
    "        new_row = []\n",
    "        for j in range( len(M[0] )):    # amount of columns in matrix ( nr of elements in a row)\n",
    "            new_row.append( M[i][j] + N[i][j] )\n",
    "        result.append(new_row)\n",
    "\n",
    "    return result"
   ]
  },
  {
   "cell_type": "code",
   "execution_count": 5,
   "metadata": {},
   "outputs": [
    {
     "data": {
      "text/plain": [
       "[[2, 4, 6], [8, 10, 12], [34, 16, 18]]"
      ]
     },
     "execution_count": 5,
     "metadata": {},
     "output_type": "execute_result"
    }
   ],
   "source": [
    "add_matrix(M,M)"
   ]
  },
  {
   "cell_type": "code",
   "execution_count": 6,
   "metadata": {},
   "outputs": [
    {
     "data": {
      "text/plain": [
       "[[]]"
      ]
     },
     "execution_count": 6,
     "metadata": {},
     "output_type": "execute_result"
    }
   ],
   "source": [
    "# Check adding empty Matrix\n",
    "add_matrix([[]],[[]])"
   ]
  },
  {
   "cell_type": "markdown",
   "metadata": {},
   "source": [
    "However, using lists for multi-dimenstional matrices is a bit awkward.\n",
    "Selecting rows is possible, but selecting columns is not straightforward.\n",
    "Slicing also does not work as expected.\n"
   ]
  },
  {
   "cell_type": "code",
   "execution_count": 7,
   "metadata": {},
   "outputs": [
    {
     "name": "stdout",
     "output_type": "stream",
     "text": [
      "[[1, 2, 3], [4, 5, 6], [17, 8, 9]]\n"
     ]
    },
    {
     "data": {
      "text/plain": [
       "[[1, 2, 3]]"
      ]
     },
     "execution_count": 7,
     "metadata": {},
     "output_type": "execute_result"
    }
   ],
   "source": [
    "# Select first fow as a slice \n",
    "print(M)\n",
    "M[:1]"
   ]
  },
  {
   "cell_type": "code",
   "execution_count": 8,
   "metadata": {},
   "outputs": [
    {
     "data": {
      "text/plain": [
       "[[1, 2, 3]]"
      ]
     },
     "execution_count": 8,
     "metadata": {},
     "output_type": "execute_result"
    }
   ],
   "source": [
    "# Now, what if we want the first column of that first row... Nope...\n",
    "M[:1][:1]"
   ]
  },
  {
   "cell_type": "code",
   "execution_count": 9,
   "metadata": {},
   "outputs": [
    {
     "data": {
      "text/plain": [
       "[]"
      ]
     },
     "execution_count": 9,
     "metadata": {},
     "output_type": "execute_result"
    }
   ],
   "source": [
    "# Or what if we want to select the last few columns ... Nope...\n",
    "M[:1][1:]"
   ]
  },
  {
   "cell_type": "markdown",
   "metadata": {},
   "source": [
    "Later on we will see how NumPy will provide a more suitable n-dimensional array."
   ]
  },
  {
   "cell_type": "markdown",
   "metadata": {},
   "source": [
    "### Exercise: Transposition and Multiplication of matrices\n",
    "\n",
    "The transposition of a (m x n) matrix is a (n x m) matrix where the rows and columns have been switched.\n",
    "\n",
    "The multiplication of a (m x n) matrix and a (n x p) matrix is a new (m x p) matrix."
   ]
  },
  {
   "cell_type": "markdown",
   "metadata": {},
   "source": [
    "<div class=\"alert alert-success\">\n",
    "<h2>Exercises</h2>\n",
    "Write a function transpose that takes a matrix (list of lists) and returns a new matrix that is the transposition of that matrix.\n",
    "\n",
    "Write a function that returns the matrix-multiplication of two matrices. Check if the multiplication is\n",
    "defined or not (nr of columns of the one matrix, matches the nr of row of the other matrix).\n",
    "</div>"
   ]
  },
  {
   "cell_type": "markdown",
   "metadata": {},
   "source": [
    "## Ch 11: Dictionaries\n",
    "\n",
    "A dictionary is a very versatile data structure. It consists of *(key, value)* pairs.\n",
    "\n",
    "```python\n",
    "d = dict()\n",
    "\n",
    "d = { 'k1' : 'v1', 'k2' : 'v2' }\n",
    "\n",
    "d['k3'] = 'v3'\n",
    "```\n",
    "  \n",
    "You can only ask values based on key. There is no 'order', you cannot ask\n",
    "for the first, second, etc. \n",
    "\n",
    "To traverse a dictionary you can get a (sorted) list of keys, a list of values or\n",
    "a list of key, value pairs."
   ]
  },
  {
   "cell_type": "code",
   "execution_count": 10,
   "metadata": {
    "scrolled": true
   },
   "outputs": [
    {
     "name": "stdout",
     "output_type": "stream",
     "text": [
      "<class 'dict'>\n"
     ]
    }
   ],
   "source": [
    "# Example 1: dictionaries are a type\n",
    "\n",
    "d = {}  # empty dictionary\n",
    "\n",
    "print( type(d ) )\n",
    " "
   ]
  },
  {
   "cell_type": "code",
   "execution_count": 12,
   "metadata": {},
   "outputs": [
    {
     "name": "stdout",
     "output_type": "stream",
     "text": [
      "{1: 'one', 2: 'two', 3: 'three'}\n",
      "{'b': {1: 'one', 2: 'two', 3: 'three'}, 'a': [1, 2, 3]}\n"
     ]
    }
   ],
   "source": [
    "# initializing dictionaries\n",
    "\n",
    "a = { 1 : 'one', 2 : 'two' , 3 : 'three' }\n",
    "\n",
    "# values can be anything, including lists and dictionaries\n",
    "b = { 'a' : [1,2,3], 'b' : a }\n",
    "\n",
    "print(a)\n",
    "print(b)"
   ]
  },
  {
   "cell_type": "code",
   "execution_count": 13,
   "metadata": {},
   "outputs": [
    {
     "name": "stdout",
     "output_type": "stream",
     "text": [
      "Dictionary is {1: 'one', 2: 'two', 3: 'three'}\n",
      "Key 1 has value one\n",
      "Key 3 has value three\n",
      "\n",
      "Dictionary is {'b': {1: 'one', 2: 'two', 3: 'three'}, 'a': [1, 2, 3]}\n",
      "Key a has value [1, 2, 3]\n"
     ]
    }
   ],
   "source": [
    "# Accessing elements of a dictionary\n",
    "a = { 1 : 'one', 2 : 'two' , 3 : 'three' }\n",
    "\n",
    "print('Dictionary is', a)                # You can print a dictionary\n",
    "print('Key 1 has value', a[1] )\n",
    "print('Key 3 has value', a[3] )\n",
    "print()\n",
    "\n",
    "print('Dictionary is', b)\n",
    "print('Key a has value', b['a'])"
   ]
  },
  {
   "cell_type": "code",
   "execution_count": 14,
   "metadata": {},
   "outputs": [
    {
     "name": "stdout",
     "output_type": "stream",
     "text": [
      "{1: 'one', 2: 'two', 3: 'three'}\n",
      "{1: 'one', 2: 'two', 3: 'Something else'}\n"
     ]
    }
   ],
   "source": [
    "# Dictionaries are mutable\n",
    "print(a)\n",
    "\n",
    "a[3] = 'Something else'\n",
    "print(a)"
   ]
  },
  {
   "cell_type": "code",
   "execution_count": 15,
   "metadata": {},
   "outputs": [
    {
     "name": "stdout",
     "output_type": "stream",
     "text": [
      "True\n",
      "True\n",
      "False\n"
     ]
    }
   ],
   "source": [
    "# Dicts are comparable\n",
    "print( { 1 : 'a', 2 : 'b'} == { 1: 'a', 2: 'b'})  # the same dictionaries\n",
    "\n",
    "print( { 1 : 'a', 2 : 'b'} == { 2: 'b', 1: 'a'})  # order of keys does not matter\n",
    "\n",
    "print( {1:1, 2:2} == {2:2, 1:1, 3:3} )            # size of dictionary does matter\n"
   ]
  },
  {
   "cell_type": "code",
   "execution_count": 16,
   "metadata": {},
   "outputs": [
    {
     "ename": "TypeError",
     "evalue": "unsupported operand type(s) for +: 'dict' and 'dict'",
     "output_type": "error",
     "traceback": [
      "\u001b[1;31m---------------------------------------------------------------------------\u001b[0m",
      "\u001b[1;31mTypeError\u001b[0m                                 Traceback (most recent call last)",
      "\u001b[1;32m<ipython-input-16-f5e480116e6c>\u001b[0m in \u001b[0;36m<module>\u001b[1;34m()\u001b[0m\n\u001b[0;32m      1\u001b[0m \u001b[1;31m# But no + and * operands...\u001b[0m\u001b[1;33m\u001b[0m\u001b[1;33m\u001b[0m\u001b[0m\n\u001b[1;32m----> 2\u001b[1;33m \u001b[1;33m{\u001b[0m \u001b[1;34m'a'\u001b[0m \u001b[1;33m:\u001b[0m \u001b[1;36m1\u001b[0m \u001b[1;33m}\u001b[0m \u001b[1;33m+\u001b[0m \u001b[1;33m{\u001b[0m \u001b[1;34m'b'\u001b[0m \u001b[1;33m:\u001b[0m \u001b[1;36m2\u001b[0m \u001b[1;33m}\u001b[0m\u001b[1;33m\u001b[0m\u001b[0m\n\u001b[0m",
      "\u001b[1;31mTypeError\u001b[0m: unsupported operand type(s) for +: 'dict' and 'dict'"
     ]
    }
   ],
   "source": [
    "# But no + and * operands...\n",
    "{ 'a' : 1 } + { 'b' : 2 }"
   ]
  },
  {
   "cell_type": "code",
   "execution_count": 17,
   "metadata": {},
   "outputs": [
    {
     "name": "stdout",
     "output_type": "stream",
     "text": [
      "{'c': 300, 'b': 20, 'a': 1}\n"
     ]
    }
   ],
   "source": [
    "# Adding values to a dictionary\n",
    "\n",
    "# Just assign a value to it\n",
    "a = { 'a' : 1, 'b' : 20}\n",
    "\n",
    "a['c'] = 300\n",
    "\n",
    "print(a)           # Note the order of keys is not sorted\n"
   ]
  },
  {
   "cell_type": "code",
   "execution_count": 19,
   "metadata": {},
   "outputs": [
    {
     "name": "stdout",
     "output_type": "stream",
     "text": [
      "True\n",
      "False\n"
     ]
    }
   ],
   "source": [
    "# The in operator is defined for keys\n",
    "print( 'c'  in a )\n",
    "\n",
    "print( 1 in a )"
   ]
  },
  {
   "cell_type": "code",
   "execution_count": 20,
   "metadata": {},
   "outputs": [
    {
     "name": "stdout",
     "output_type": "stream",
     "text": [
      "c 300\n",
      "b 20\n",
      "a 1\n"
     ]
    }
   ],
   "source": [
    "# Traversing a dictionary\n",
    "\n",
    "for key in a:\n",
    "    print(key, a[key] )"
   ]
  },
  {
   "cell_type": "code",
   "execution_count": 21,
   "metadata": {},
   "outputs": [
    {
     "name": "stdout",
     "output_type": "stream",
     "text": [
      "a 1\n",
      "b 20\n",
      "c 300\n"
     ]
    }
   ],
   "source": [
    "# Traversing a dictionary in order\n",
    "\n",
    "for key in sorted(a):\n",
    "    print( key, a[key])"
   ]
  },
  {
   "cell_type": "code",
   "execution_count": 22,
   "metadata": {},
   "outputs": [
    {
     "name": "stdout",
     "output_type": "stream",
     "text": [
      "300\n",
      "20\n",
      "1\n"
     ]
    }
   ],
   "source": [
    "# Traversing the values\n",
    "\n",
    "for value in a.values():\n",
    "    print( value )"
   ]
  },
  {
   "cell_type": "code",
   "execution_count": 23,
   "metadata": {},
   "outputs": [
    {
     "name": "stdout",
     "output_type": "stream",
     "text": [
      "('c', 300)\n",
      "('b', 20)\n",
      "('a', 1)\n"
     ]
    }
   ],
   "source": [
    "# Traversing key, value pairs\n",
    "\n",
    "for item in a.items():\n",
    "    print(item)"
   ]
  },
  {
   "cell_type": "code",
   "execution_count": 24,
   "metadata": {},
   "outputs": [
    {
     "name": "stdout",
     "output_type": "stream",
     "text": [
      "c 300\n",
      "b 20\n",
      "a 1\n"
     ]
    }
   ],
   "source": [
    "# Traversing key, value pairs, using tuple assignment (see later)\n",
    "\n",
    "for key, value in a.items():\n",
    "    print(key, value)"
   ]
  },
  {
   "cell_type": "code",
   "execution_count": 25,
   "metadata": {},
   "outputs": [
    {
     "data": {
      "text/plain": [
       "{'b': 20, 'c': 300}"
      ]
     },
     "execution_count": 25,
     "metadata": {},
     "output_type": "execute_result"
    }
   ],
   "source": [
    "# Deleting values from a dictionary\n",
    "\n",
    "del a['a']\n",
    "a"
   ]
  },
  {
   "cell_type": "markdown",
   "metadata": {},
   "source": [
    "### Using dictionaries: counting / histogram\n",
    "\n",
    "Typical uses for dictionaries is to count occurrences."
   ]
  },
  {
   "cell_type": "code",
   "execution_count": 26,
   "metadata": {
    "collapsed": true
   },
   "outputs": [],
   "source": [
    "# Counting letters in a word\n",
    "\n",
    "def letter_histogram( text ):\n",
    "    \"\"\"Create a histogram of the letters in the given text. The result is a dictionary.\"\"\"\n",
    "    \n",
    "    d = {}    # Create an empty dictionary\n",
    "    \n",
    "    for letter in text:\n",
    "        \n",
    "        # Only count alphanumeric (letters/numbers), not punctuation, etc.\n",
    "        if not letter.isalnum(): \n",
    "            continue            # Continue immediately starts the next iteration, \n",
    "                                # skipping the rest of the body.\n",
    "                                # It is similar to 'break', but break immediately \n",
    "                                # jumps out of the loop,\n",
    "                                        \n",
    "        if letter in d:         # Check if the key exists in dictionary already. \n",
    "                                # We can code this more efficiently (see later)\n",
    "            d[letter] += 1  \n",
    "        else:                \n",
    "            d[letter] = 1\n",
    "    \n",
    "    return d"
   ]
  },
  {
   "cell_type": "code",
   "execution_count": 27,
   "metadata": {},
   "outputs": [
    {
     "data": {
      "text/plain": [
       "{'T': 1,\n",
       " 'a': 1,\n",
       " 'b': 1,\n",
       " 'c': 1,\n",
       " 'd': 1,\n",
       " 'e': 3,\n",
       " 'f': 1,\n",
       " 'g': 1,\n",
       " 'h': 2,\n",
       " 'i': 1,\n",
       " 'j': 1,\n",
       " 'k': 1,\n",
       " 'l': 1,\n",
       " 'm': 1,\n",
       " 'n': 1,\n",
       " 'o': 4,\n",
       " 'p': 1,\n",
       " 'q': 1,\n",
       " 'r': 2,\n",
       " 's': 1,\n",
       " 't': 1,\n",
       " 'u': 2,\n",
       " 'v': 1,\n",
       " 'w': 1,\n",
       " 'x': 1,\n",
       " 'y': 1,\n",
       " 'z': 1}"
      ]
     },
     "execution_count": 27,
     "metadata": {},
     "output_type": "execute_result"
    }
   ],
   "source": [
    "letter_histogram(\"The quick brown fox jumps over the lazy dog.\")"
   ]
  },
  {
   "cell_type": "markdown",
   "metadata": {},
   "source": [
    "Checking if a key is in the dictionary and if not using a default value is a very common action. There is an easy way for that: \n",
    "\n",
    "    d.get(key, default-value) => Returns d[key] if key exists, otherwise default-value"
   ]
  },
  {
   "cell_type": "code",
   "execution_count": 28,
   "metadata": {
    "collapsed": true
   },
   "outputs": [],
   "source": [
    "def increment( d, k ):\n",
    "    \"\"\"Increment the value for key k in the dictionary d by 1. Start at 0 if not present yet.\"\"\"\n",
    "    d[k] = d.get(k, 0) + 1\n",
    "    return d\n",
    "    "
   ]
  },
  {
   "cell_type": "code",
   "execution_count": 31,
   "metadata": {},
   "outputs": [
    {
     "data": {
      "text/plain": [
       "{'k': 1}"
      ]
     },
     "execution_count": 31,
     "metadata": {},
     "output_type": "execute_result"
    }
   ],
   "source": [
    "# Now you can increment any value in a dictionary even if the key does not exist.\n",
    "\n",
    "increment({}, 'k')"
   ]
  },
  {
   "cell_type": "markdown",
   "metadata": {},
   "source": [
    "<div class=\"alert alert-success\">\n",
    "<h2>Exercises</h2>\n",
    "Try Exercises 10.4 - 10.6.\n",
    "</div>"
   ]
  },
  {
   "cell_type": "markdown",
   "metadata": {},
   "source": [
    "## Ch 12: Tuples\n",
    "\n",
    "Tuples are unmutable sequence of values, similar to unmutable lists. Values can be of any type.\n",
    "\n",
    "```python\n",
    "  t = ( 1, 2, 3)\n",
    "  \n",
    "  t[2]\n",
    "  t[1:3]\n",
    "  ```"
   ]
  },
  {
   "cell_type": "code",
   "execution_count": 32,
   "metadata": {},
   "outputs": [
    {
     "data": {
      "text/plain": [
       "(1, 2, 3)"
      ]
     },
     "execution_count": 32,
     "metadata": {},
     "output_type": "execute_result"
    }
   ],
   "source": [
    "# Initialization of a tuple\n",
    "\n",
    "t = (1, 2, 3)\n",
    "\n",
    "t"
   ]
  },
  {
   "cell_type": "code",
   "execution_count": 33,
   "metadata": {},
   "outputs": [
    {
     "data": {
      "text/plain": [
       "tuple"
      ]
     },
     "execution_count": 33,
     "metadata": {},
     "output_type": "execute_result"
    }
   ],
   "source": [
    "# Tuples are a separate type\n",
    "type(t)"
   ]
  },
  {
   "cell_type": "code",
   "execution_count": 34,
   "metadata": {},
   "outputs": [
    {
     "name": "stdout",
     "output_type": "stream",
     "text": [
      "(10,)\n",
      "<class 'tuple'>\n"
     ]
    }
   ],
   "source": [
    "# Creating a singleton tuple (1 element) requires special syntax\n",
    "\n",
    "singleton = ( 10, )      # Note the trailing comma\n",
    "\n",
    "print(singleton)\n",
    "\n",
    "print(type(singleton))"
   ]
  },
  {
   "cell_type": "code",
   "execution_count": 35,
   "metadata": {},
   "outputs": [
    {
     "name": "stdout",
     "output_type": "stream",
     "text": [
      "True\n"
     ]
    }
   ],
   "source": [
    "# Creating an empty tuple\n",
    "t1 = ()     \n",
    "t2 = tuple()\n",
    "\n",
    "print( t1 == t2)"
   ]
  },
  {
   "cell_type": "code",
   "execution_count": 36,
   "metadata": {},
   "outputs": [
    {
     "name": "stdout",
     "output_type": "stream",
     "text": [
      "t\t\t (0, 1, 2, 3, 4, 5, 6, 7, 8, 9)\n",
      "t[1]\t\t 1\n",
      "t[1:4]\t\t (1, 2, 3)\n",
      "t[:3]\t\t (0, 1, 2)\n",
      "t[7:]\t\t (7, 8, 9)\n",
      "t[-1]\t\t 9\n",
      "t[-3:-1]\t (7, 8)\n"
     ]
    }
   ],
   "source": [
    "# Slicing and tuples\n",
    "\n",
    "t = tuple( range(10) )\n",
    "\n",
    "print( 't\\t\\t', t )\n",
    "print( 't[1]\\t\\t', t[1] )\n",
    "print( 't[1:4]\\t\\t', t[1:4] )\n",
    "print( 't[:3]\\t\\t', t[:3])\n",
    "print( 't[7:]\\t\\t', t[7:])\n",
    "print( 't[-1]\\t\\t', t[-1] )\n",
    "print( 't[-3:-1]\\t', t[-3:-1])\n"
   ]
  },
  {
   "cell_type": "code",
   "execution_count": 37,
   "metadata": {},
   "outputs": [
    {
     "ename": "TypeError",
     "evalue": "'tuple' object does not support item assignment",
     "output_type": "error",
     "traceback": [
      "\u001b[1;31m---------------------------------------------------------------------------\u001b[0m",
      "\u001b[1;31mTypeError\u001b[0m                                 Traceback (most recent call last)",
      "\u001b[1;32m<ipython-input-37-1740b1103142>\u001b[0m in \u001b[0;36m<module>\u001b[1;34m()\u001b[0m\n\u001b[0;32m      1\u001b[0m \u001b[1;31m# But tuple element assignment does not work\u001b[0m\u001b[1;33m\u001b[0m\u001b[1;33m\u001b[0m\u001b[0m\n\u001b[0;32m      2\u001b[0m \u001b[1;33m\u001b[0m\u001b[0m\n\u001b[1;32m----> 3\u001b[1;33m \u001b[0mt\u001b[0m\u001b[1;33m[\u001b[0m\u001b[1;36m3\u001b[0m\u001b[1;33m]\u001b[0m \u001b[1;33m=\u001b[0m \u001b[1;36m10\u001b[0m\u001b[1;33m\u001b[0m\u001b[0m\n\u001b[0m",
      "\u001b[1;31mTypeError\u001b[0m: 'tuple' object does not support item assignment"
     ]
    }
   ],
   "source": [
    "# But tuple element assignment does not work\n",
    "\n",
    "t[3] = 10"
   ]
  },
  {
   "cell_type": "code",
   "execution_count": 38,
   "metadata": {},
   "outputs": [
    {
     "name": "stdout",
     "output_type": "stream",
     "text": [
      "True\n",
      "True\n",
      "True\n"
     ]
    }
   ],
   "source": [
    "# Tuples can be compared, elementwise. Comparison stops at the first element that is different between the tuples.\n",
    "\n",
    "print((1, 2) < ( 1, 3 ))\n",
    "print((1, 2, 3) < ( 2, 0, 0))\n",
    "print( (1,2) < (2,) )"
   ]
  },
  {
   "cell_type": "code",
   "execution_count": 39,
   "metadata": {},
   "outputs": [
    {
     "name": "stdout",
     "output_type": "stream",
     "text": [
      "Sorted tuple [2, 4, 10, 29, 38, 132, 3821]\n",
      "Reverse sorted tuple [3821, 132, 38, 29, 10, 4, 2]\n"
     ]
    }
   ],
   "source": [
    "# sorting and reverse sorting\n",
    "# Works for any sequence (lists, strings)\n",
    "\n",
    "t = ( 132, 2, 4, 3821, 10, 29, 38  )\n",
    "\n",
    "print('Sorted tuple', sorted(t))\n",
    "print('Reverse sorted tuple', sorted(t, reverse=True))\n"
   ]
  },
  {
   "cell_type": "markdown",
   "metadata": {},
   "source": [
    "### Typical uses for tuples\n",
    "\n",
    "* multiple return values of functions\n",
    "* swapping of values\n",
    "* as 'keys' for dictionaries"
   ]
  },
  {
   "cell_type": "code",
   "execution_count": 40,
   "metadata": {
    "collapsed": true
   },
   "outputs": [],
   "source": [
    "# Split a name into first and last name\n",
    "\n",
    "def splitName( name ):\n",
    "    nameparts = name.split()\n",
    "    \n",
    "    return (nameparts[0],  nameparts[1] )\n",
    "    "
   ]
  },
  {
   "cell_type": "code",
   "execution_count": 41,
   "metadata": {},
   "outputs": [
    {
     "name": "stdout",
     "output_type": "stream",
     "text": [
      "Firstname: Steve\n",
      "Lastname: Jobs\n"
     ]
    }
   ],
   "source": [
    "# Use multiple return values\n",
    "\n",
    "first, last = splitName( 'Steve Jobs' )\n",
    "\n",
    "print('Firstname:', first)\n",
    "print('Lastname:', last)"
   ]
  },
  {
   "cell_type": "code",
   "execution_count": null,
   "metadata": {
    "collapsed": true
   },
   "outputs": [],
   "source": [
    "# Swapping variables\n",
    "\n",
    "a = 10\n",
    "b = 'John'\n",
    "\n",
    "print('a is', a)\n",
    "print('b is', b)\n",
    "\n",
    "print('Swapping...\\n')\n",
    "b, a = a, b\n",
    "\n",
    "print('a is', a)\n",
    "print('b is', b)\n"
   ]
  },
  {
   "cell_type": "code",
   "execution_count": 42,
   "metadata": {
    "collapsed": true
   },
   "outputs": [],
   "source": [
    "# Keys in dictionaries must be immutable, so no lists, but tuples are ok.\n",
    "\n",
    "# Telephone book: { (first, lastname) : phonenumber }\n",
    "tbook = dict()\n",
    "\n",
    "def add( name, number ):\n",
    "    ( first, last ) = splitName( name )\n",
    "    \n",
    "    tbook[( first, last )] = number"
   ]
  },
  {
   "cell_type": "code",
   "execution_count": 43,
   "metadata": {},
   "outputs": [
    {
     "name": "stdout",
     "output_type": "stream",
     "text": [
      "{('Steve', 'Jobs'): '555-123456', ('Bill', 'Gates'): '555-987654', ('Michael', 'Dell'): '555-101010', ('Bill', 'Hewlett'): '555-555555', ('Dave', 'Packard'): '555-888444'}\n"
     ]
    }
   ],
   "source": [
    "# Put some names in the telephone book\n",
    "add( 'Steve Jobs', '555-123456')\n",
    "add( 'Bill Gates', '555-987654')\n",
    "add( 'Michael Dell', '555-101010')\n",
    "add( 'Bill Hewlett', '555-555555')\n",
    "add( 'Dave Packard', '555-888444')\n",
    "\n",
    "print(tbook)"
   ]
  },
  {
   "cell_type": "markdown",
   "metadata": {},
   "source": [
    "### Exercise\n",
    "\n",
    "Sort a list of words based on their length. Biggest words first.\n",
    "\n",
    "Hint 1: Useful code to 'strip' texts from whitespace and punctuation.\n",
    "\n",
    "```python\n",
    "import string\n",
    "\n",
    "string.whitespace = ' \\t\\n\\r\\x0b\\x0c'\n",
    "string.punctuation = '!\"#$%&\\'()*+,-./:;<=>?@[\\\\]^_`{|}~'\n",
    "\n",
    "\"text\".strip( chars )  # Strip leading and trailing characters listed in 'chars' \n",
    "```\n",
    "\n",
    "Hint 2: Sorting sequences (e.q. lists and tuples)\n",
    "\n",
    "```python\n",
    "sorted( [ 10, 3, 8, 5] => [ 3, 5, 8, 10 ]\n",
    "sorted( [ 10, 3, 8, 5], reverse=True) => [ 10, 8, 5, 3]\n",
    "```"
   ]
  },
  {
   "cell_type": "code",
   "execution_count": 45,
   "metadata": {
    "collapsed": true
   },
   "outputs": [],
   "source": [
    "text = \"\"\"Lorem ipsum dolor sit amet, consectetur adipiscing elit.\n",
    "Aenean vel magna scelerisque libero tempor consequat eu \n",
    "sit amet tellus. Donec sit amet ipsum id magna semper eleifend. \n",
    "Nam vehicula augue eget est pretium, quis accumsan est rutrum. \n",
    "Donec elit lorem, pretium ac semper gravida, accumsan sed mauris. \n",
    "Quisque quis enim eget tortor maximus fringilla quis sed libero. \n",
    "Proin ut gravida lectus. Mauris suscipit tempor lacus sed ultrices. \n",
    "Maecenas accumsan pretium posuere. Etiam facilisis ligula diam, \n",
    "ac ultrices ligula posuere id.\"\"\""
   ]
  },
  {
   "cell_type": "code",
   "execution_count": 46,
   "metadata": {},
   "outputs": [],
   "source": [
    "import string\n",
    "\n",
    "# Split string into words, and use lower-case only\n",
    "words = text.lower().split()"
   ]
  },
  {
   "cell_type": "code",
   "execution_count": 47,
   "metadata": {},
   "outputs": [
    {
     "data": {
      "text/plain": [
       "['lorem', 'ipsum', 'dolor', 'sit', 'amet,', 'consectetur']"
      ]
     },
     "execution_count": 47,
     "metadata": {},
     "output_type": "execute_result"
    }
   ],
   "source": [
    "# Let's check what we have...\n",
    "words[:6]"
   ]
  },
  {
   "cell_type": "code",
   "execution_count": 48,
   "metadata": {
    "collapsed": true
   },
   "outputs": [],
   "source": [
    "# Create a list of tuples with (length, word) pairs\n",
    "l = []\n",
    "for w in words:    \n",
    "    # Cleanup word, remove punctuation and whitespace\n",
    "    cleaned = w.strip( string.punctuation + string.whitespace )  \n",
    "  \n",
    "    l.append( (len(cleaned), cleaned) )"
   ]
  },
  {
   "cell_type": "code",
   "execution_count": 49,
   "metadata": {},
   "outputs": [
    {
     "data": {
      "text/plain": [
       "[(5, 'lorem'),\n",
       " (5, 'ipsum'),\n",
       " (5, 'dolor'),\n",
       " (3, 'sit'),\n",
       " (4, 'amet'),\n",
       " (11, 'consectetur')]"
      ]
     },
     "execution_count": 49,
     "metadata": {},
     "output_type": "execute_result"
    }
   ],
   "source": [
    "# Again, let's check what we have...\n",
    "l[:6]"
   ]
  },
  {
   "cell_type": "code",
   "execution_count": 50,
   "metadata": {},
   "outputs": [
    {
     "name": "stdout",
     "output_type": "stream",
     "text": [
      "11 : scelerisque\n",
      "11 : consectetur\n",
      "10 : adipiscing\n",
      "9 : fringilla\n",
      "9 : facilisis\n",
      "9 : consequat\n",
      "8 : vehicula\n",
      "8 : ultrices\n",
      "8 : ultrices\n",
      "8 : suscipit\n",
      "8 : maecenas\n",
      "8 : eleifend\n",
      "8 : accumsan\n",
      "8 : accumsan\n",
      "8 : accumsan\n",
      "7 : quisque\n",
      "7 : pretium\n",
      "7 : pretium\n",
      "7 : pretium\n",
      "7 : posuere\n",
      "7 : posuere\n",
      "7 : maximus\n",
      "7 : gravida\n",
      "7 : gravida\n",
      "6 : tortor\n",
      "6 : tempor\n",
      "6 : tempor\n",
      "6 : tellus\n",
      "6 : semper\n",
      "6 : semper\n",
      "6 : rutrum\n",
      "6 : mauris\n",
      "6 : mauris\n",
      "6 : ligula\n",
      "6 : ligula\n",
      "6 : libero\n",
      "6 : libero\n",
      "6 : lectus\n",
      "6 : aenean\n",
      "5 : proin\n",
      "5 : magna\n",
      "5 : magna\n",
      "5 : lorem\n",
      "5 : lorem\n",
      "5 : lacus\n",
      "5 : ipsum\n",
      "5 : ipsum\n",
      "5 : etiam\n",
      "5 : donec\n",
      "5 : donec\n",
      "5 : dolor\n",
      "5 : augue\n",
      "4 : quis\n",
      "4 : quis\n",
      "4 : quis\n",
      "4 : enim\n",
      "4 : elit\n",
      "4 : elit\n",
      "4 : eget\n",
      "4 : eget\n",
      "4 : diam\n",
      "4 : amet\n",
      "4 : amet\n",
      "4 : amet\n",
      "3 : vel\n",
      "3 : sit\n",
      "3 : sit\n",
      "3 : sit\n",
      "3 : sed\n",
      "3 : sed\n",
      "3 : sed\n",
      "3 : nam\n",
      "3 : est\n",
      "3 : est\n",
      "2 : ut\n",
      "2 : id\n",
      "2 : id\n",
      "2 : eu\n",
      "2 : ac\n",
      "2 : ac\n"
     ]
    }
   ],
   "source": [
    "# Finally, sort the list of tuples in reverse order and print it.\n",
    "for (size, w) in sorted( l, reverse=True ):\n",
    "    print(\"%d : %s\" %(size, w) )"
   ]
  },
  {
   "cell_type": "code",
   "execution_count": 51,
   "metadata": {},
   "outputs": [
    {
     "name": "stdout",
     "output_type": "stream",
     "text": [
      "11 : scelerisque\n",
      "11 : consectetur\n",
      "10 : adipiscing\n",
      "9 : fringilla\n",
      "9 : facilisis\n",
      "9 : consequat\n",
      "8 : vehicula\n",
      "8 : ultrices\n",
      "8 : suscipit\n",
      "8 : maecenas\n",
      "8 : eleifend\n",
      "8 : accumsan\n",
      "7 : quisque\n",
      "7 : pretium\n",
      "7 : posuere\n",
      "7 : maximus\n",
      "7 : gravida\n",
      "6 : tortor\n",
      "6 : tempor\n",
      "6 : tellus\n",
      "6 : semper\n",
      "6 : rutrum\n",
      "6 : mauris\n",
      "6 : ligula\n",
      "6 : libero\n",
      "6 : lectus\n",
      "6 : aenean\n",
      "5 : proin\n",
      "5 : magna\n",
      "5 : lorem\n",
      "5 : lacus\n",
      "5 : ipsum\n",
      "5 : etiam\n",
      "5 : donec\n",
      "5 : dolor\n",
      "5 : augue\n",
      "4 : quis\n",
      "4 : enim\n",
      "4 : elit\n",
      "4 : eget\n",
      "4 : diam\n",
      "4 : amet\n",
      "3 : vel\n",
      "3 : sit\n",
      "3 : sed\n",
      "3 : nam\n",
      "3 : est\n",
      "2 : ut\n",
      "2 : id\n",
      "2 : eu\n",
      "2 : ac\n"
     ]
    }
   ],
   "source": [
    "# Try to remove the double values\n",
    "# Use a dictionary, or better yet a set!\n",
    "# A set cannot contain double elements and has no order.\n",
    "\n",
    "wordset = set()\n",
    "for w in words:\n",
    "    cleaned = w.strip( string.punctuation + string.whitespace ) # Cleanup word\n",
    "    \n",
    "    # Add tuple (length, word) into a set, which will be unique\n",
    "    wordset.add( (len(cleaned), cleaned) )    \n",
    "    \n",
    "    \n",
    "# Now print it in sorted order\n",
    "for (size, word) in sorted(wordset, reverse=True) :\n",
    "    print(\"%d : %s\" % (size, word) )\n"
   ]
  },
  {
   "cell_type": "markdown",
   "metadata": {},
   "source": [
    "### Set (Ch 19)\n",
    "\n",
    "A set is a mutable collection of values. There is no order and elements can only be in the set once.\n",
    "Indexing and slicing does not work, as there is no order.\n",
    "\n",
    "```python\n",
    "s = set()\n",
    "s = {}\n",
    "\n",
    "s.add(1)\n",
    "s.add(2)\n",
    "\n",
    "for x in s:\n",
    "   print(x)\n",
    "   \n",
    "   \n",
    "s[0] does not work\n",
    "```\n"
   ]
  },
  {
   "cell_type": "code",
   "execution_count": 53,
   "metadata": {},
   "outputs": [
    {
     "name": "stdout",
     "output_type": "stream",
     "text": [
      "Set is {0, 1, 2, 3, 4} size: 5\n",
      "Set is {0, 1, 2, 3, 4} size: 5\n"
     ]
    }
   ],
   "source": [
    "# Example sets\n",
    "s = set()\n",
    "\n",
    "for i in range(5):\n",
    "    s.add(i)\n",
    "    \n",
    "print('Set is', s, 'size:', len(s))\n",
    "\n",
    "s.add(3)   # does nothing, 3 is already in the set\n",
    "\n",
    "print('Set is', s, 'size:', len(s))\n"
   ]
  },
  {
   "cell_type": "markdown",
   "metadata": {},
   "source": [
    "<div class=\"alert alert-success\">\n",
    "<h2>Exercises</h2>\n",
    "Try Exercises 12.1 - 12.4.\n",
    "</div>"
   ]
  },
  {
   "cell_type": "markdown",
   "metadata": {
    "collapsed": true
   },
   "source": [
    "### List comprehensions (Ch 19)\n",
    "\n",
    "There is a nice shortcut for creating lists (and tuples, sets and dictionaries).\n",
    "\n",
    "Typical python style: compact and reads as math (e.g. { x | x >= 2 } )\n",
    "\n",
    "```python\n",
    " l = [ x for x in range(5) ] => [ 0, 1, 2, 3, 4 ]\n",
    " l = [ x*x for x in range(5) ] => [ 0, 1, 4, 9, 16 ]\n",
    " \n",
    " l = [ math.sqrt(x) for x in range(5) if ( x%3 == 0) ] => [ 0.0, 1.73205... ]\n",
    "\n",
    " l = [ ( len(word), word ) for word in text if word.isalnum() ]\n",
    "\n",
    " l = [ ... for ... in ... if ... ]\n",
    "```\n",
    "\n"
   ]
  },
  {
   "cell_type": "code",
   "execution_count": 54,
   "metadata": {
    "scrolled": true
   },
   "outputs": [
    {
     "name": "stdout",
     "output_type": "stream",
     "text": [
      "[0, 1, 2, 3, 4]\n"
     ]
    }
   ],
   "source": [
    "# Example without list comprehension\n",
    "l = []\n",
    "for i in range(5):\n",
    "    l.append(i)\n",
    "    \n",
    "print(l)"
   ]
  },
  {
   "cell_type": "code",
   "execution_count": 55,
   "metadata": {},
   "outputs": [
    {
     "name": "stdout",
     "output_type": "stream",
     "text": [
      "[0, 1, 2, 3, 4]\n"
     ]
    }
   ],
   "source": [
    "# Example with list comprehension\n",
    "l = [ i for i in range(5) ]\n",
    "print(l)"
   ]
  },
  {
   "cell_type": "code",
   "execution_count": 56,
   "metadata": {
    "scrolled": false
   },
   "outputs": [
    {
     "data": {
      "text/plain": [
       "[0.0, 1.7320508075688772]"
      ]
     },
     "execution_count": 56,
     "metadata": {},
     "output_type": "execute_result"
    }
   ],
   "source": [
    "import math\n",
    "[ math.sqrt(x) for x in range(5) if ( x%3 == 0) ]\n"
   ]
  },
  {
   "cell_type": "code",
   "execution_count": 60,
   "metadata": {},
   "outputs": [
    {
     "data": {
      "text/plain": [
       "[(5, 'hello'), (4, 'this'), (2, 'is'), (1, 'a')]"
      ]
     },
     "execution_count": 60,
     "metadata": {},
     "output_type": "execute_result"
    }
   ],
   "source": [
    "# A more complex example\n",
    "text = \"Hello this is a test.\"\n",
    "[ ( len(word), word.lower() ) for word in text.split() if word.isalnum() ]\n"
   ]
  },
  {
   "cell_type": "code",
   "execution_count": 61,
   "metadata": {
    "scrolled": true
   },
   "outputs": [
    {
     "data": {
      "text/plain": [
       "{0: 'Hello', 1: 'this', 2: 'is', 3: 'a', 4: 'test.'}"
      ]
     },
     "execution_count": 61,
     "metadata": {},
     "output_type": "execute_result"
    }
   ],
   "source": [
    "# A dictionary example\n",
    "\n",
    "d = { k : v for k, v in enumerate( text.split() )}\n",
    "d"
   ]
  },
  {
   "cell_type": "code",
   "execution_count": 62,
   "metadata": {
    "scrolled": true
   },
   "outputs": [
    {
     "name": "stdout",
     "output_type": "stream",
     "text": [
      "5 : hello\n",
      "4 : this\n",
      "4 : test\n",
      "2 : is\n",
      "1 : a\n"
     ]
    }
   ],
   "source": [
    "# A shorter version of our text exercise\n",
    "# using a set and list comprehension notation.\n",
    "\n",
    "# Create a clean set of (unique) words\n",
    "wordset = { w.strip( string.punctuation + string.whitespace ) for w in text.lower().split() }\n",
    "\n",
    "# Create a set of (length, word) tuples of cleanedup words in text.\n",
    "tupleset = { ( len(w), w ) for w in wordset }\n",
    "\n",
    "# Or in a one-liner ...\n",
    "#tupleset = { ( len(w), w ) for w in \n",
    "#              [ x.strip(string.punctuation + string.whitespace) for x in text.lower().split() ]\n",
    "#          }\n",
    "\n",
    "# Now sort and print the tuples.\n",
    "for t in sorted(tupleset, reverse=True):\n",
    "    print(\"%d : %s\" % t)"
   ]
  },
  {
   "cell_type": "markdown",
   "metadata": {},
   "source": [
    "## Ch: 13 Case study: data structure selection\n",
    "\n",
    "Some examples on how to use datastructures to solve problems in python.\n",
    "\n",
    "  * histograms\n",
    "  * random numbers\n",
    "  "
   ]
  },
  {
   "cell_type": "code",
   "execution_count": 63,
   "metadata": {},
   "outputs": [
    {
     "name": "stdout",
     "output_type": "stream",
     "text": [
      "0.4149059649499386\n",
      "0.04405580555914146\n",
      "0.6458302014918825\n",
      "0.23721253367545114\n",
      "0.8305512197443271\n"
     ]
    }
   ],
   "source": [
    "# Random numbers\n",
    "# random.random returns a float between [0, 1]\n",
    "import random\n",
    "\n",
    "for i in range(5):\n",
    "    print(random.random())"
   ]
  },
  {
   "cell_type": "code",
   "execution_count": 64,
   "metadata": {},
   "outputs": [
    {
     "name": "stdout",
     "output_type": "stream",
     "text": [
      "12\n",
      "11\n",
      "19\n",
      "13\n",
      "14\n"
     ]
    }
   ],
   "source": [
    "# random.randint( min, max) returns an integer between [ min, max ]\n",
    "for i in range(5):\n",
    "    print(random.randint( 10, 20 ))"
   ]
  },
  {
   "cell_type": "code",
   "execution_count": 65,
   "metadata": {},
   "outputs": [
    {
     "name": "stdout",
     "output_type": "stream",
     "text": [
      "Matthew\n",
      "Sarah\n",
      "Matthew\n"
     ]
    }
   ],
   "source": [
    "# random.choice( list ) picks a random element from a sequence\n",
    "\n",
    "l = ['John', 'Matthew', 'Liz', 'Sarah', 'Bob', 'Alison']\n",
    "for i in range(3):\n",
    "    print( random.choice(l) )\n"
   ]
  },
  {
   "cell_type": "code",
   "execution_count": 66,
   "metadata": {
    "scrolled": true
   },
   "outputs": [
    {
     "name": "stdout",
     "output_type": "stream",
     "text": [
      "0.5811521325045647\n",
      "0.1947544955341367\n",
      "0.9652511070611112\n",
      "0.9239764016767943\n",
      "0.46713867819697397\n"
     ]
    }
   ],
   "source": [
    "# the seed value determines the 'pseudorandom' numbers.\n",
    "# Useful if you want 'deterministic' behavior (e.g. for debugging)\n",
    "\n",
    "# Set the random seed. Normally not set to get \"random\" behavior each time.\n",
    "random.seed(101)          # without argument: use 'currentTime' as seed\n",
    "\n",
    "# If seed is the same, this will lead to the same numbers.\n",
    "for i in range(5):\n",
    "    print(random.random())"
   ]
  },
  {
   "cell_type": "markdown",
   "metadata": {},
   "source": [
    "<div class=\"alert alert-success\">\n",
    "<h2>Exercises</h2>\n",
    "Try Exercise 13.8: Markov Analysis.\n",
    "\n",
    "Feel free to try any of the other exercises in Ch 13.\n",
    "</div>"
   ]
  },
  {
   "cell_type": "markdown",
   "metadata": {},
   "source": [
    "## Ch 14: Files\n",
    "\n",
    "Reading, writing, creating, renaming and deleting files.\n",
    "\n",
    "Before we can read/write from/to a file, it must be opened.\n",
    "\n",
    "```python\n",
    "f = open( filename, mode )\n",
    "\n",
    "f.readline()     # Read a single line\n",
    "f.readlines()    # Returns a list of all lines\n",
    "f.write( \"text\" )\n",
    "\n",
    "f.close()\n",
    "```\n",
    "\n",
    "mode indicates how we want to use the file, use a *combination* of:\n",
    "  * 'r' - open the file for reading (default)\n",
    "  * 'w' - open the file for writing, truncate the file!\n",
    "  * 'a' - open the file for writing, append to the end.\n",
    "  * 'x' - create the file and open file for writing.\n",
    "  \n",
    "  \n",
    "  * 't' - open the file in text mode (recognizes newlines) (default)\n",
    "  * 'b' - open the file in binary mode (interpret all characters as-is)\n"
   ]
  },
  {
   "cell_type": "code",
   "execution_count": 131,
   "metadata": {},
   "outputs": [
    {
     "data": {
      "text/plain": [
       "['.ipynb_checkpoints',\n",
       " 'Untitled.ipynb',\n",
       " 'Week4-Assignments.pdf',\n",
       " 'Week4.ipynb']"
      ]
     },
     "execution_count": 131,
     "metadata": {},
     "output_type": "execute_result"
    }
   ],
   "source": [
    "# List files in directory\n",
    "import os\n",
    "\n",
    "os.listdir()"
   ]
  },
  {
   "cell_type": "code",
   "execution_count": 132,
   "metadata": {},
   "outputs": [],
   "source": [
    "# Create a file for writing\n",
    "f = open('NEW_FILE.TXT', 'x')"
   ]
  },
  {
   "cell_type": "code",
   "execution_count": 133,
   "metadata": {},
   "outputs": [
    {
     "data": {
      "text/plain": [
       "['.ipynb_checkpoints',\n",
       " 'NEW_FILE.TXT',\n",
       " 'Untitled.ipynb',\n",
       " 'Week4-Assignments.pdf',\n",
       " 'Week4.ipynb']"
      ]
     },
     "execution_count": 133,
     "metadata": {},
     "output_type": "execute_result"
    }
   ],
   "source": [
    "os.listdir()"
   ]
  },
  {
   "cell_type": "code",
   "execution_count": 134,
   "metadata": {},
   "outputs": [],
   "source": [
    "# Write something to the file... explicitly write a newline.\n",
    "f.write( 'This is a line of text.\\n' )\n",
    "\n",
    "\n",
    "f.write( text )\n",
    "f.flush()         # flush the file, necessary in case of buffering.\n",
    "f.close()         # close the file, which also forces a flush()"
   ]
  },
  {
   "cell_type": "code",
   "execution_count": 137,
   "metadata": {},
   "outputs": [
    {
     "name": "stdout",
     "output_type": "stream",
     "text": [
      "This is a line of text.\n",
      "Hello this is a test.\n"
     ]
    }
   ],
   "source": [
    "# check\n",
    "!type NEW_FILE.TXT\n"
   ]
  },
  {
   "cell_type": "code",
   "execution_count": 136,
   "metadata": {},
   "outputs": [
    {
     "name": "stdout",
     "output_type": "stream",
     "text": [
      "Read line: This is a line of text.\n",
      "Read line: Hello this is a test."
     ]
    }
   ],
   "source": [
    "# Now open the file again for reading.\n",
    "\n",
    "f = open( 'NEW_FILE.TXT', 'r')\n",
    "\n",
    "for line in f.readlines():\n",
    "    print('Read line:', line, end='' )\n",
    "    \n",
    "f.close()"
   ]
  },
  {
   "cell_type": "code",
   "execution_count": 138,
   "metadata": {
    "collapsed": true
   },
   "outputs": [],
   "source": [
    "# Append a line to the end\n",
    "f = open('NEW_FILE.TXT', 'a')\n",
    "\n",
    "f.write('\\nA last line at the end\\n')\n",
    "\n",
    "f.close()"
   ]
  },
  {
   "cell_type": "code",
   "execution_count": 141,
   "metadata": {},
   "outputs": [
    {
     "name": "stdout",
     "output_type": "stream",
     "text": [
      "This is a line of text.\n",
      "Hello this is a test.\n",
      "A last line at the end\n"
     ]
    }
   ],
   "source": [
    "!type NEW_FILE.TXT"
   ]
  },
  {
   "cell_type": "markdown",
   "metadata": {},
   "source": [
    "#### Renaming and deleting files\n",
    "\n",
    "We can rename and delete files with the following commands.\n",
    "\n",
    "```python\n",
    "import os\n",
    "\n",
    "os.rename( file1, file2)  # Rename file1 to file2\n",
    "os.remove( file )         # Delete a file\n",
    "```"
   ]
  },
  {
   "cell_type": "code",
   "execution_count": 142,
   "metadata": {},
   "outputs": [
    {
     "data": {
      "text/plain": [
       "['.ipynb_checkpoints',\n",
       " 'RENAMED_FILE.TXT',\n",
       " 'Untitled.ipynb',\n",
       " 'Week4-Assignments.pdf',\n",
       " 'Week4.ipynb']"
      ]
     },
     "execution_count": 142,
     "metadata": {},
     "output_type": "execute_result"
    }
   ],
   "source": [
    "os.rename( 'NEW_FILE.TXT', 'RENAMED_FILE.TXT')\n",
    "\n",
    "os.listdir()"
   ]
  },
  {
   "cell_type": "code",
   "execution_count": 143,
   "metadata": {},
   "outputs": [
    {
     "data": {
      "text/plain": [
       "['.ipynb_checkpoints',\n",
       " 'Untitled.ipynb',\n",
       " 'Week4-Assignments.pdf',\n",
       " 'Week4.ipynb']"
      ]
     },
     "execution_count": 143,
     "metadata": {},
     "output_type": "execute_result"
    }
   ],
   "source": [
    "os.remove( 'RENAMED_FILE.TXT' )\n",
    "\n",
    "os.listdir()"
   ]
  },
  {
   "cell_type": "markdown",
   "metadata": {},
   "source": [
    "#### Creating, deleting directories / folders\n",
    "\n",
    "Python can also manipulate directories / folders.\n",
    "\n",
    "```python\n",
    "os.getcwd()     # get current directory\n",
    "os.chdir( dir ) # change current directory ('..' is the parent directory)\n",
    "\n",
    "os.mkdir( dir ) # create a new directory in the current directory\n",
    "os.rmdir( dir ) # remove a directory\n",
    "```\n"
   ]
  },
  {
   "cell_type": "markdown",
   "metadata": {},
   "source": [
    "### Storing data persistently\n",
    "\n",
    "If you want to store (intermediate) results persistently, you have to save the result on persistent storage, such as a file or a persistent database.\n",
    "\n",
    "Internal python datastructures such as lists, dictionaries, tuples, etc. are all lost as soon as python quits.\n",
    "\n",
    "There are two things you have to do:\n",
    "  1. Choose a persistent storage medium (file, database, etc).\n",
    "  2. Choose a *suitable format* in which you want to store your data (data representation format)   "
   ]
  },
  {
   "cell_type": "markdown",
   "metadata": {},
   "source": [
    "#### Suitable format\n",
    "\n",
    "Not all datastructures in Python cannot be immediately written to a file/database.\n",
    "The binary data often difficult to represent in a file/database.\n",
    "  * simple types such as integers, floats, strings are *usually* ok.\n",
    "  * binary files can only be read/edited by the 'same program', usually not human readable.\n",
    "\n",
    "**Solutions:**\n",
    "  1. Choose a standard representation form, such as CSV or JSON or pickling or ...\n",
    "  2. Choose your own custom format (document it!), \n",
    "  > e.g. a list is represented by a number N (nr of elements in the list) followed by\n",
    "  N lines each containing a string representation of the elements.\n",
    "  \n",
    "  [ 1, 2, 3 ] is represented as\n",
    "  \n",
    "        3<br>\n",
    "        1<br>\n",
    "        2<br>\n",
    "        3<br>\n",
    "         \n",
    "\n",
    "         "
   ]
  },
  {
   "cell_type": "markdown",
   "metadata": {},
   "source": [
    "### Pickling\n",
    "\n",
    "Writing data usually uses strings. How do you write a list or dictionary to a file?\n",
    "\n",
    "First we have to *encode* the list/directory into a string-friendly format. This is\n",
    "called *pickling* or *serializing*. Then we can write the list to a file.\n",
    "\n",
    "When reading a pickled object from file, the reverse must be done to turn it into a \n",
    "list/dictionary that python understands.\n",
    "\n",
    "```python\n",
    "import pickle\n",
    " \n",
    "l = [1,2,3]\n",
    "pickled_l = pickle.dumps(l)   # serialize the list (dump string-version of the list)\n",
    "\n",
    "new_l = pickle.loads( pickled_l )  # deserialize the list (load string-version)\n",
    "\n",
    "``` \n",
    " \n",
    " "
   ]
  },
  {
   "cell_type": "code",
   "execution_count": 144,
   "metadata": {},
   "outputs": [
    {
     "name": "stdout",
     "output_type": "stream",
     "text": [
      "b'\\x80\\x03]q\\x00(K\\x01K\\x02K\\x03e.'\n"
     ]
    }
   ],
   "source": [
    "# Example of serializing a list\n",
    "import pickle\n",
    "\n",
    "l=[1,2,3]\n",
    "\n",
    "pickled_l = pickle.dumps(l)\n",
    "\n",
    "print(pickled_l)       # Unreadable, but understandable for python."
   ]
  },
  {
   "cell_type": "code",
   "execution_count": 145,
   "metadata": {},
   "outputs": [
    {
     "data": {
      "text/plain": [
       "[1, 2, 3]"
      ]
     },
     "execution_count": 145,
     "metadata": {},
     "output_type": "execute_result"
    }
   ],
   "source": [
    "# Example of deserializing a serialized list\n",
    "pickle.loads( pickled_l )"
   ]
  },
  {
   "cell_type": "code",
   "execution_count": 146,
   "metadata": {
    "collapsed": true
   },
   "outputs": [],
   "source": [
    "import os\n",
    "l = [ 1,2,3 ]\n",
    "\n",
    "# Open the file in binary mode!!!\n",
    "f = open('STORAGE.TXT', 'xb')\n",
    "\n",
    "# This will not work, cannot write a list directly.\n",
    "#f.write( l )     \n",
    "\n",
    "f.write( pickle.dumps( l ))\n",
    "f.close()"
   ]
  },
  {
   "cell_type": "code",
   "execution_count": 147,
   "metadata": {},
   "outputs": [
    {
     "name": "stdout",
     "output_type": "stream",
     "text": [
      "€\u0003]q\u0000(K\u0001K\u0002K\u0003e.\n"
     ]
    }
   ],
   "source": [
    "# File is not human readable unfortunately...\n",
    "!type STORAGE.TXT"
   ]
  },
  {
   "cell_type": "code",
   "execution_count": 148,
   "metadata": {},
   "outputs": [
    {
     "name": "stdout",
     "output_type": "stream",
     "text": [
      "<class 'bytes'>\n",
      "b'\\x80\\x03]q\\x00(K\\x01K\\x02K\\x03e.'\n"
     ]
    },
    {
     "data": {
      "text/plain": [
       "[1, 2, 3]"
      ]
     },
     "execution_count": 148,
     "metadata": {},
     "output_type": "execute_result"
    }
   ],
   "source": [
    "# Open the file in binary mode!\n",
    "f = open('STORAGE.TXT', 'rb')\n",
    "\n",
    "s = f.readline()\n",
    "f.close()\n",
    "\n",
    "print(type(s))\n",
    "print(s)\n",
    "\n",
    "l = pickle.loads(s)\n",
    "l"
   ]
  },
  {
   "cell_type": "code",
   "execution_count": 149,
   "metadata": {
    "collapsed": true
   },
   "outputs": [],
   "source": [
    "os.remove('STORAGE.TXT')"
   ]
  },
  {
   "cell_type": "markdown",
   "metadata": {
    "collapsed": true
   },
   "source": [
    "### Shelves\n",
    "\n",
    "There is module *shelve* that is persistent dictionary and does *pickling* for you.\n",
    "The only restriction is: the *keys* must be *strings*.\n",
    "\n",
    "```python\n",
    "import shelve\n",
    "\n",
    "d = shelve.open( filename )\n",
    "\n",
    "d[key] = [1,2,3]\n",
    "data = d[key]\n",
    "\n",
    "for k in d.keys()\n",
    "```"
   ]
  },
  {
   "cell_type": "code",
   "execution_count": 157,
   "metadata": {},
   "outputs": [
    {
     "name": "stdout",
     "output_type": "stream",
     "text": [
      "Read from DB: key1: [1, 2, 3]\n"
     ]
    }
   ],
   "source": [
    "# Example shelve. Performance is not always the best.\n",
    "import shelve\n",
    "\n",
    "d = shelve.open('SHELVE_DB')\n",
    "\n",
    "d['key1'] = [1,2,3]\n",
    "\n",
    "print('Read from DB: key1:', d['key1'])\n",
    "\n",
    "d.close()"
   ]
  },
  {
   "cell_type": "code",
   "execution_count": 159,
   "metadata": {},
   "outputs": [],
   "source": [
    "os.remove('SHELVE_DB.dat')"
   ]
  },
  {
   "cell_type": "markdown",
   "metadata": {},
   "source": [
    "## Formatting strings / alignment / precision\n",
    "\n",
    "If you output results, you may want to have control of the format of the output.\n",
    "The string-format can be used for that.\n",
    "\n",
    "\n",
    "    \"%d %f %e %s\" % ( decimal, float, scientificfloat, string )\n",
    "    \n",
    "### How to align fields\n",
    "  * Use tabs (\\t) in your format string (%d\\t%d)\n",
    "  * Use padding and preciesion in format string ( %10.2f )\n",
    "  * Use rjust(x), ljust(x), center(), zfill() methods of a string\n",
    "  \n",
    "  "
   ]
  },
  {
   "cell_type": "code",
   "execution_count": 160,
   "metadata": {},
   "outputs": [
    {
     "data": {
      "text/plain": [
       "[[13.269412890601211, 4.290459394759361, 4.4339249905248135],\n",
       " [5.770448667625123, 13.84845491990635, 4.247535367166622],\n",
       " [19.422119027075475, 1.4071096860232846, 3.8657325746218207]]"
      ]
     },
     "execution_count": 160,
     "metadata": {},
     "output_type": "execute_result"
    }
   ],
   "source": [
    "M = [ [ random.random() * 20 for i in range(3) ] for i in range(3) ] \n",
    "M"
   ]
  },
  {
   "cell_type": "code",
   "execution_count": 161,
   "metadata": {
    "scrolled": true
   },
   "outputs": [
    {
     "name": "stdout",
     "output_type": "stream",
     "text": [
      "13.269413 4.290459 4.433925\n",
      "5.770449 13.848455 4.247535\n",
      "19.422119 1.407110 3.865733\n"
     ]
    }
   ],
   "source": [
    "# Write a table\n",
    "for r in M:\n",
    "    print( \"%f %f %f\" % (r[0],r[1],r[2]))\n",
    "    "
   ]
  },
  {
   "cell_type": "code",
   "execution_count": 162,
   "metadata": {
    "scrolled": true
   },
   "outputs": [
    {
     "name": "stdout",
     "output_type": "stream",
     "text": [
      "13.269413\t4.290459\t4.433925\n",
      "5.770449\t13.848455\t4.247535\n",
      "19.422119\t1.407110\t3.865733\n"
     ]
    }
   ],
   "source": [
    "# Write a table, use tabs\n",
    "for r in M:\n",
    "    print( \"%f\\t%f\\t%f\" % (r[0],r[1],r[2]))\n",
    "    "
   ]
  },
  {
   "cell_type": "code",
   "execution_count": 163,
   "metadata": {
    "scrolled": true
   },
   "outputs": [
    {
     "name": "stdout",
     "output_type": "stream",
     "text": [
      "    13.269      4.290      4.434\n",
      "     5.770     13.848      4.248\n",
      "    19.422      1.407      3.866\n"
     ]
    }
   ],
   "source": [
    "# Write a table, using formating <size>.<precision>\n",
    "for r in M:\n",
    "    print( \"%10.3f %10.3f %10.3f\" % (r[0],r[1],r[2]))\n",
    "    "
   ]
  },
  {
   "cell_type": "code",
   "execution_count": 164,
   "metadata": {
    "scrolled": true
   },
   "outputs": [
    {
     "name": "stdout",
     "output_type": "stream",
     "text": [
      "00000000013.269 00000000004.290 00000000004.434\n",
      "00000000005.770 00000000013.848 00000000004.248\n",
      "00000000019.422 00000000001.407 00000000003.866\n"
     ]
    }
   ],
   "source": [
    "# Write a table, using formating <size>.<precision>, 0 padding\n",
    "for r in M:\n",
    "    print( \"%015.3f %015.3f %015.3f\" % (r[0],r[1],r[2]))\n",
    "    "
   ]
  },
  {
   "cell_type": "code",
   "execution_count": 165,
   "metadata": {
    "scrolled": false
   },
   "outputs": [
    {
     "data": {
      "text/plain": [
       "[['Hello', 'this', 'is'], ['a', 'test.'], []]"
      ]
     },
     "execution_count": 165,
     "metadata": {},
     "output_type": "execute_result"
    }
   ],
   "source": [
    "# Similar for strings\n",
    "# Create a matrix of words.\n",
    "\n",
    "M = [ [w for w in text.split()[i:i+3] ] for i in range(0,9,3)]\n",
    "\n",
    "M"
   ]
  },
  {
   "cell_type": "code",
   "execution_count": null,
   "metadata": {
    "collapsed": true,
    "scrolled": true
   },
   "outputs": [],
   "source": [
    "# Write a table, using size parameters\n",
    "for r in M:\n",
    "    print( \"%15s %15s %15s\" % (r[0], r[1], r[2]) )\n",
    "    "
   ]
  },
  {
   "cell_type": "code",
   "execution_count": null,
   "metadata": {
    "collapsed": true,
    "scrolled": true
   },
   "outputs": [],
   "source": [
    "# Write a table, using formating rjust() (or ljust)\n",
    "for r in M:\n",
    "    print( \"%s %s %s\" % (r[0].rjust(15), r[1].rjust(15), r[2].rjust(15)))\n",
    "    "
   ]
  },
  {
   "cell_type": "code",
   "execution_count": null,
   "metadata": {
    "collapsed": true,
    "scrolled": true
   },
   "outputs": [],
   "source": [
    "# Write a table, using formating center()\n",
    "for r in M:\n",
    "    print( \"%s %s %s\" % (r[0].center(15), r[1].center(15), r[2].center(15)))\n",
    "    "
   ]
  },
  {
   "cell_type": "markdown",
   "metadata": {
    "collapsed": true
   },
   "source": [
    "### Zip, enumerate, tuples, lists, and dictionaries (Ch 12)\n",
    "\n",
    "Some useful functions and idioms to create and traverse lists/dictionaries.\n"
   ]
  },
  {
   "cell_type": "code",
   "execution_count": 166,
   "metadata": {},
   "outputs": [
    {
     "name": "stdout",
     "output_type": "stream",
     "text": [
      "a is (0, 1, 2, 3, 4, 5, 6, 7, 8, 9)\n",
      "b is ['a', 'b', 'c', 'd', 'e', 'f', 'g', 'h', 'i']\n"
     ]
    },
    {
     "data": {
      "text/plain": [
       "[(0, 'a'),\n",
       " (1, 'b'),\n",
       " (2, 'c'),\n",
       " (3, 'd'),\n",
       " (4, 'e'),\n",
       " (5, 'f'),\n",
       " (6, 'g'),\n",
       " (7, 'h'),\n",
       " (8, 'i')]"
      ]
     },
     "execution_count": 166,
     "metadata": {},
     "output_type": "execute_result"
    }
   ],
   "source": [
    "# zip is a function that merges multiple sequences into tuples\n",
    "\n",
    "a = tuple( range(10) )\n",
    "b = list( 'abcdefghi' ) \n",
    "\n",
    "print('a is', a)\n",
    "print('b is', b)\n",
    "\n",
    "list( zip( a, b) )"
   ]
  },
  {
   "cell_type": "code",
   "execution_count": 167,
   "metadata": {},
   "outputs": [
    {
     "name": "stdout",
     "output_type": "stream",
     "text": [
      "[('Bill Gates', '555-987654'), ('Bill Hewlett', '555-555555'), ('Dave Packard', '555-888444'), ('Michael Dell', '555-101010'), ('Steve Jobs', '555-123456')]\n"
     ]
    }
   ],
   "source": [
    "# Let's pretend we want to make a telephone book, given 2 lists: names and numbers.\n",
    "\n",
    "names = ['Bill Gates', 'Bill Hewlett', 'Dave Packard', 'Michael Dell', 'Steve Jobs']\n",
    "phonenrs = ['555-987654', '555-555555', '555-888444', '555-101010', '555-123456']\n",
    "\n",
    "# Create a list of (key, value) pairs\n",
    "pairs = list(zip(names, phonenrs))\n",
    "print(pairs)"
   ]
  },
  {
   "cell_type": "code",
   "execution_count": 168,
   "metadata": {},
   "outputs": [
    {
     "name": "stdout",
     "output_type": "stream",
     "text": [
      "{'Dave Packard': '555-888444', 'Bill Hewlett': '555-555555', 'Bill Gates': '555-987654', 'Steve Jobs': '555-123456', 'Michael Dell': '555-101010'}\n"
     ]
    }
   ],
   "source": [
    "# Now create a dictionary from these (key, value) pairs.\n",
    "phonebook = dict( pairs )\n",
    "\n",
    "print(phonebook)"
   ]
  },
  {
   "cell_type": "code",
   "execution_count": 169,
   "metadata": {},
   "outputs": [
    {
     "name": "stdout",
     "output_type": "stream",
     "text": [
      "{'Dave Packard': '555-888444', 'Bill Hewlett': '555-555555', 'Bill Gates': '555-987654', 'Steve Jobs': '555-123456', 'Michael Dell': '555-101010'}\n"
     ]
    }
   ],
   "source": [
    "# Or more efficiently without the intermediate step (building the list)\n",
    "\n",
    "phonebook = dict( zip(names, phonenrs) )\n",
    "print(phonebook)"
   ]
  },
  {
   "cell_type": "code",
   "execution_count": 170,
   "metadata": {
    "collapsed": true
   },
   "outputs": [],
   "source": [
    "# zip can also be used to \"unzip\" a list of tuples into lists of the separate elements.\n",
    "\n",
    "a = ( 1, 2, 3 )\n",
    "b = tuple('abc')\n",
    "c = ('John', 'Mary', 'Bob')"
   ]
  },
  {
   "cell_type": "code",
   "execution_count": 171,
   "metadata": {},
   "outputs": [
    {
     "name": "stdout",
     "output_type": "stream",
     "text": [
      "[(1, 'a', 'John'), (2, 'b', 'Mary'), (3, 'c', 'Bob')]\n"
     ]
    }
   ],
   "source": [
    "l = list( zip( a, b, c ) )\n",
    "\n",
    "print(l)"
   ]
  },
  {
   "cell_type": "code",
   "execution_count": 173,
   "metadata": {},
   "outputs": [
    {
     "name": "stdout",
     "output_type": "stream",
     "text": [
      "[1, 2, 3]\n",
      "1 2 3\n",
      "1 2 3\n"
     ]
    }
   ],
   "source": [
    "# The '*' indicates that a sequence (list) should be used separately (unpack) in a function call\n",
    "# Only available in the parameter list when calling a function\n",
    "\n",
    "a = [1, 2, 3]\n",
    "\n",
    "print( a )     # a is used as it is: a list\n",
    "print( *a )    # a is used as its separate entities: equivalent to print( a[0], a[1], a[2])\n",
    "print( a[0], a[1], a[2] )"
   ]
  },
  {
   "cell_type": "code",
   "execution_count": 174,
   "metadata": {
    "scrolled": true
   },
   "outputs": [
    {
     "name": "stdout",
     "output_type": "stream",
     "text": [
      "(1, 2, 3)\n",
      "('a', 'b', 'c')\n",
      "('John', 'Mary', 'Bob')\n"
     ]
    }
   ],
   "source": [
    "# Now try to implement the reverse of the zip.   \n",
    "\n",
    "x, y, z = zip( *l )    # The '*' forces the list to be 'unpacked'  \n",
    "\n",
    "print(x)\n",
    "print(y)\n",
    "print(z)"
   ]
  },
  {
   "cell_type": "code",
   "execution_count": 175,
   "metadata": {},
   "outputs": [
    {
     "name": "stdout",
     "output_type": "stream",
     "text": [
      "Name 0 is Bill Gates\n",
      "Name 1 is Bill Hewlett\n",
      "Name 2 is Dave Packard\n",
      "Name 3 is Michael Dell\n",
      "Name 4 is Steve Jobs\n"
     ]
    }
   ],
   "source": [
    "# The use of enumerate in a for loop\n",
    "# If you want to traverse a list but also want to keep track of the index in the list\n",
    "\n",
    "for i in range(len( names ) ):\n",
    "    print('Name %d is %s' % ( i, names[i] ))\n"
   ]
  },
  {
   "cell_type": "code",
   "execution_count": 176,
   "metadata": {},
   "outputs": [
    {
     "name": "stdout",
     "output_type": "stream",
     "text": [
      "Name 0 is Bill Gates\n",
      "Name 1 is Bill Hewlett\n",
      "Name 2 is Dave Packard\n",
      "Name 3 is Michael Dell\n",
      "Name 4 is Steve Jobs\n"
     ]
    }
   ],
   "source": [
    "# More elegant using enumerate which returns a tuple (index, value)\n",
    "for i, name in enumerate( names ):\n",
    "    print('Name %d is %s' % ( i, name ))\n"
   ]
  },
  {
   "cell_type": "markdown",
   "metadata": {},
   "source": [
    "### Ch 15-17: Classes (not discussed)\n",
    "\n",
    "Python supports object-oriented programming. You can create your own classes\n",
    "to represent data-objects and define your own methods on them. Keeping the interface\n",
    "to your objects clear (*separation of concerns*).\n",
    "\n",
    "Unfortunately, there is no time for us to discuss them in this course. Luckily, you will probably not need them for relatively easy analysis tasks. However, for more complex analyses,\n",
    "defining your own classes may be useful. For now, know they exist and you can read up on them\n",
    "at a later time."
   ]
  }
 ],
 "metadata": {
  "kernelspec": {
   "display_name": "Python 3",
   "language": "python",
   "name": "python3"
  },
  "language_info": {
   "codemirror_mode": {
    "name": "ipython",
    "version": 3
   },
   "file_extension": ".py",
   "mimetype": "text/x-python",
   "name": "python",
   "nbconvert_exporter": "python",
   "pygments_lexer": "ipython3",
   "version": "3.6.1"
  }
 },
 "nbformat": 4,
 "nbformat_minor": 1
}
