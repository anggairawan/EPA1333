{
 "cells": [
  {
   "cell_type": "markdown",
   "metadata": {
    "slideshow": {
     "slide_type": "-"
    }
   },
   "source": [
    "# EPA1333 - Computer Engineering for Scientific Computing\n",
    "## Week 2 - Sept 12, 2017"
   ]
  },
  {
   "cell_type": "markdown",
   "metadata": {
    "slideshow": {
     "slide_type": "-"
    }
   },
   "source": [
    "**Think  Python** -\n",
    "**How to Think Like a Computer Scientist**\n",
    "\n",
    "*Allen B. Downey*\n"
   ]
  },
  {
   "cell_type": "markdown",
   "metadata": {
    "slideshow": {
     "slide_type": "slide"
    }
   },
   "source": [
    "## Clarification: Variable Scope\n",
    "\n",
    "The **Scope** of a variable is the range where the variable is **visible**.\n",
    "\n",
    "Roughly speaking (details left out):\n",
    "\n",
    "* The whole program forms one scope.\n",
    "* A function definition creates a new (nested) scope.\n",
    "* Variables inside a nested scope are not visible in the outer scope.\n",
    "* Variables from the outside scope are visible in the inner nested scope,\n",
    "  **but** you cannot (re)-assign a value to them (read-only) **unless**\n",
    "  they are declared **global**\n"
   ]
  },
  {
   "cell_type": "code",
   "execution_count": 1,
   "metadata": {
    "slideshow": {
     "slide_type": "subslide"
    }
   },
   "outputs": [
    {
     "name": "stdout",
     "output_type": "stream",
     "text": [
      "Inside scope1: Scope1\n",
      "Inside Scope2: Scope1\n",
      "Inside Scope2: Scope2\n"
     ]
    }
   ],
   "source": [
    "# Example 1:\n",
    "\n",
    "x = 'Scope1'        # x is visible in the \"program's\" scope.\n",
    "print('Inside scope1:', x)            # This works, because x is within the scope.\n",
    "\n",
    "def f():            # This function defines a new nested scope\n",
    "    y = 'Scope2'    # y is only visible inside the scope of function f()\n",
    "    print('Inside Scope2:', x)        # but x is visible, as is in the encompassing scope.\n",
    "    print('Inside Scope2:', y)        # y is in the scope, because we are still in function f()\n",
    "    \n",
    "f()"
   ]
  },
  {
   "cell_type": "code",
   "execution_count": 2,
   "metadata": {
    "scrolled": true,
    "slideshow": {
     "slide_type": "subslide"
    }
   },
   "outputs": [
    {
     "name": "stdout",
     "output_type": "stream",
     "text": [
      "Scope1\n"
     ]
    },
    {
     "ename": "NameError",
     "evalue": "name 'y' is not defined",
     "output_type": "error",
     "traceback": [
      "\u001b[1;31m---------------------------------------------------------------------------\u001b[0m",
      "\u001b[1;31mNameError\u001b[0m                                 Traceback (most recent call last)",
      "\u001b[1;32m<ipython-input-2-de9eda9c1189>\u001b[0m in \u001b[0;36m<module>\u001b[1;34m()\u001b[0m\n\u001b[0;32m      2\u001b[0m \u001b[0mprint\u001b[0m\u001b[1;33m(\u001b[0m\u001b[0mx\u001b[0m\u001b[1;33m)\u001b[0m     \u001b[1;31m# A new cell, but x is still inside the program's scope.\u001b[0m\u001b[1;33m\u001b[0m\u001b[0m\n\u001b[0;32m      3\u001b[0m \u001b[1;33m\u001b[0m\u001b[0m\n\u001b[1;32m----> 4\u001b[1;33m \u001b[0mprint\u001b[0m\u001b[1;33m(\u001b[0m\u001b[0my\u001b[0m\u001b[1;33m)\u001b[0m     \u001b[1;31m# But, y is outside scope, because it was only visible inside f()\u001b[0m\u001b[1;33m\u001b[0m\u001b[0m\n\u001b[0m",
      "\u001b[1;31mNameError\u001b[0m: name 'y' is not defined"
     ]
    }
   ],
   "source": [
    "# But if we want to print y here, it will fail\n",
    "print(x)     # A new cell, but x is still inside the program's scope.\n",
    "\n",
    "print(y)     # But, y is outside scope, because it was only visible inside f()\n"
   ]
  },
  {
   "cell_type": "code",
   "execution_count": 4,
   "metadata": {
    "collapsed": true,
    "slideshow": {
     "slide_type": "subslide"
    }
   },
   "outputs": [],
   "source": [
    "# Example 2: More complicated, nested function scopes\n",
    "x = 'Scope1'\n",
    "\n",
    "def f():          # Defines a new scope\n",
    "    y = 'Scope2'\n",
    "    \n",
    "    def g():      # Defines yet another scope \n",
    "        z = 'Scope3'  # Only visible in scope of g()\n",
    "        print(x)  # Inside scope g() we can see all outside scopes.\n",
    "        print(y)\n",
    "        print(z)\n",
    "      \n",
    "    g()         # Inside f(), call g()\n",
    "#    print(z)    # z is not inside scope of f(), will fail\n",
    "        "
   ]
  },
  {
   "cell_type": "code",
   "execution_count": 5,
   "metadata": {},
   "outputs": [
    {
     "name": "stdout",
     "output_type": "stream",
     "text": [
      "Scope1\n",
      "Scope2\n",
      "Scope3\n"
     ]
    }
   ],
   "source": [
    "# Now we can call f()\n",
    "f()"
   ]
  },
  {
   "cell_type": "markdown",
   "metadata": {},
   "source": [
    "Scoping rules also apply for function visibility"
   ]
  },
  {
   "cell_type": "code",
   "execution_count": 6,
   "metadata": {},
   "outputs": [
    {
     "ename": "NameError",
     "evalue": "name 'g' is not defined",
     "output_type": "error",
     "traceback": [
      "\u001b[1;31m---------------------------------------------------------------------------\u001b[0m",
      "\u001b[1;31mNameError\u001b[0m                                 Traceback (most recent call last)",
      "\u001b[1;32m<ipython-input-6-4f08b94065b6>\u001b[0m in \u001b[0;36m<module>\u001b[1;34m()\u001b[0m\n\u001b[0;32m      1\u001b[0m \u001b[1;31m# Calling g() will not work, as g() is only visible inside f()\u001b[0m\u001b[1;33m\u001b[0m\u001b[1;33m\u001b[0m\u001b[0m\n\u001b[1;32m----> 2\u001b[1;33m \u001b[0mg\u001b[0m\u001b[1;33m(\u001b[0m\u001b[1;33m)\u001b[0m\u001b[1;33m\u001b[0m\u001b[0m\n\u001b[0m",
      "\u001b[1;31mNameError\u001b[0m: name 'g' is not defined"
     ]
    }
   ],
   "source": [
    "# Calling g() will not work, as g() is only visible inside f()\n",
    "g()"
   ]
  },
  {
   "cell_type": "markdown",
   "metadata": {},
   "source": [
    "### Hiding variables\n",
    "\n",
    "If in a new scope a variable is *created* that already existed in an outer scope, the new variable will **hide** the outer variable. "
   ]
  },
  {
   "cell_type": "code",
   "execution_count": 7,
   "metadata": {},
   "outputs": [
    {
     "name": "stdout",
     "output_type": "stream",
     "text": [
      "Before calling function x = Scope1\n",
      "During calling function x = Scope2\n",
      "After calling funcion x = Scope1\n"
     ]
    }
   ],
   "source": [
    "# Example 3: hiding variable\n",
    "\n",
    "x = 'Scope1'\n",
    "\n",
    "def hide():        # Defines a new scope\n",
    "    x = 'Scope2'   # new creation of variable x, hides the outer x  \n",
    "    print('During calling function x =', x)\n",
    "    \n",
    "print('Before calling function x =', x)\n",
    "hide()\n",
    "print('After calling funcion x =', x)\n",
    "    "
   ]
  },
  {
   "cell_type": "markdown",
   "metadata": {},
   "source": [
    "The inner 'x' has *nothing* to do with the outer 'x'. They could have been named 'john' and 'mary', but they just happen to have the same name here.\n",
    "\n",
    "The fact that you name them the same, does mean it *hides* the outer 'x', so you cannot use the value of the outer 'x' inside the function anymore."
   ]
  },
  {
   "cell_type": "markdown",
   "metadata": {},
   "source": [
    "### Scope of function arguments\n",
    "\n",
    "Arguments of a function declaration are also only visible inside the function."
   ]
  },
  {
   "cell_type": "code",
   "execution_count": 8,
   "metadata": {
    "scrolled": true
   },
   "outputs": [
    {
     "name": "stdout",
     "output_type": "stream",
     "text": [
      "Scope1\n",
      "Some Value\n"
     ]
    }
   ],
   "source": [
    "# Example 5: Scope of function arguments \n",
    "x = 'Scope1'\n",
    "\n",
    "def f( a ):       # New function, variable a only exists inside f()\n",
    "    print(x)\n",
    "    print(a)      # We can only use 'a' inside the body of f.\n",
    "\n",
    "f('Some Value')\n",
    "\n",
    "#print(a)     # Will fail, because 'a' does not exist inside this scope."
   ]
  },
  {
   "cell_type": "code",
   "execution_count": 9,
   "metadata": {
    "collapsed": true
   },
   "outputs": [],
   "source": [
    "# Example 6: Nested function scopes\n",
    "x = 'Scope1'\n",
    "\n",
    "def f( a ):          # Defines a new scope, plus variable a\n",
    "    y = 'Scope2'\n",
    "    \n",
    "    def g( b ):      # Defines yet another scope, plus variable b\n",
    "        z = 'Scope3'  # Only visible in scope of g()\n",
    "        print(x,y,z)  # Inside scope g() we can see all outside scopes.\n",
    "        print(a,b)\n",
    "      \n",
    "    g( 'ValueB' )         # Inside f(), call g()\n",
    "\n",
    "        "
   ]
  },
  {
   "cell_type": "code",
   "execution_count": 10,
   "metadata": {},
   "outputs": [
    {
     "name": "stdout",
     "output_type": "stream",
     "text": [
      "Scope1 Scope2 Scope3\n",
      "ValueA ValueB\n"
     ]
    }
   ],
   "source": [
    "f('ValueA')"
   ]
  },
  {
   "cell_type": "code",
   "execution_count": null,
   "metadata": {
    "collapsed": true
   },
   "outputs": [],
   "source": [
    "# Example 7: Function arguments hiding variables.\n",
    "\n",
    "t = 'turtleT'\n",
    "b = 'turtleB'\n",
    "\n",
    "def drawCircle( t ):   # new scope, t hides the existing t.\n",
    "    print(t)           # Refers to t of function, not outer scope t.\n",
    "    \n",
    "drawCircle(b)          # will print?\n",
    "#drawCircle(t) "
   ]
  },
  {
   "cell_type": "markdown",
   "metadata": {},
   "source": [
    "### Global: assigning to variables in outer scope\n",
    "\n",
    "Inside a function you can read the value of variables declared outside the function, but you cannot assign to them (change their value). If you do want to, use **global** keyword.\n"
   ]
  },
  {
   "cell_type": "code",
   "execution_count": 12,
   "metadata": {
    "scrolled": true
   },
   "outputs": [
    {
     "name": "stdout",
     "output_type": "stream",
     "text": [
      "10\n",
      "5\n",
      "5\n"
     ]
    }
   ],
   "source": [
    "# Example 8: assigning to variables from outer scope \n",
    "x = 10\n",
    "def change():\n",
    "    global x  # Without global, this will not work\n",
    "    x = 5    # Without global this will create a new variable and hide x\n",
    "    print(x)\n",
    "\n",
    "print(x)\n",
    "change()\n",
    "print(x)"
   ]
  },
  {
   "cell_type": "code",
   "execution_count": 14,
   "metadata": {},
   "outputs": [
    {
     "name": "stdout",
     "output_type": "stream",
     "text": [
      "10\n",
      "15\n",
      "15\n"
     ]
    }
   ],
   "source": [
    "# Example 9: use of the global keyword.\n",
    "x = 10\n",
    "def add():\n",
    "    global x  # This says that x is not a new variable, but the existing one\n",
    "    x = x + 5  # Without global this will give an error, x referenced before assignment\n",
    "    print(x)\n",
    "\n",
    "print(x)\n",
    "add()\n",
    "print(x)"
   ]
  },
  {
   "cell_type": "markdown",
   "metadata": {},
   "source": [
    "## Functions: positional, optional, keyword arguments\n",
    "\n",
    "Functions can take arguments. When you call a function you need to provide the\n",
    "corresponding arguments, but you can leave out optional arguments and provide arguments by name.\n"
   ]
  },
  {
   "cell_type": "code",
   "execution_count": 15,
   "metadata": {},
   "outputs": [
    {
     "name": "stdout",
     "output_type": "stream",
     "text": [
      "first second\n"
     ]
    }
   ],
   "source": [
    "# Positional arguments\n",
    "# Arguments are matched based on their position.\n",
    "\n",
    "def f( a, b ):\n",
    "    \"\"\"This function takes exactly two arguments. When calling this function,\n",
    "    you mus provide the arguments in the correct order\"\"\"\n",
    "    print( a, b )\n",
    "    \n",
    "f('first', 'second')\n",
    "    "
   ]
  },
  {
   "cell_type": "code",
   "execution_count": 16,
   "metadata": {},
   "outputs": [
    {
     "name": "stdout",
     "output_type": "stream",
     "text": [
      "first second Car Monkey\n",
      "first second Car Fourth\n",
      "first second Third Fourth\n"
     ]
    }
   ],
   "source": [
    "# Optional arguments\n",
    "# When left out, the default value is used\n",
    "# Note, optional arguments come AFTER the normal positional arguments\n",
    "\n",
    "def f( a, b, c='Third', d='Fourth' ):\n",
    "    \"\"\"Two optional arguments, c and d. If not provided, default values are used.\"\"\"\n",
    "    print(a, b, c, d)\n",
    "\n",
    "f( 'first', 'second', 'Car', 'Monkey')\n",
    "f( 'first', 'second', 'Car' )\n",
    "f( 'first', 'second' )"
   ]
  },
  {
   "cell_type": "code",
   "execution_count": 17,
   "metadata": {},
   "outputs": [
    {
     "name": "stdout",
     "output_type": "stream",
     "text": [
      "Area of 8 by 5 is 40\n",
      "Area of 8 by 5 is 40\n",
      "Area of 8 by 5 is 40\n"
     ]
    }
   ],
   "source": [
    "# Keyword arguments\n",
    "# Providing arguments by name\n",
    "\n",
    "def rectangle_area( length, width ):\n",
    "    \"\"\"When calling the function, you can provide arguments by name in any order\"\"\"\n",
    "    print('Area of', length, 'by', width, 'is', length * width)\n",
    "    \n",
    "rectangle_area( 8, 5 )\n",
    "rectangle_area( length=8, width=5 )\n",
    "rectangle_area( width=5, length=8 )"
   ]
  },
  {
   "cell_type": "code",
   "execution_count": 18,
   "metadata": {},
   "outputs": [
    {
     "name": "stdout",
     "output_type": "stream",
     "text": [
      "Area of 10 by 3 is 30\n",
      "Area of 10 by 8 is 80\n",
      "Area of 20 by 3 is 60\n"
     ]
    }
   ],
   "source": [
    "# Keyword and optional arguments\n",
    "# Combination\n",
    "\n",
    "def rectangle_area( length=10, width=3):\n",
    "    \"\"\"Calling the function with arguments by name and using default values\"\"\"\n",
    "    print('Area of', length, 'by', width, 'is', length * width)\n",
    "\n",
    "    \n",
    "rectangle_area()\n",
    "rectangle_area( width = 8 )\n",
    "rectangle_area( length = 20 )\n"
   ]
  },
  {
   "cell_type": "markdown",
   "metadata": {},
   "source": [
    "## Ch 5: Conditions and Recursion (continued)\n"
   ]
  },
  {
   "cell_type": "markdown",
   "metadata": {},
   "source": [
    "### Recursion\n",
    "\n",
    "Functions can call themselves! This is called recursion.\n"
   ]
  },
  {
   "cell_type": "code",
   "execution_count": 19,
   "metadata": {},
   "outputs": [
    {
     "name": "stdout",
     "output_type": "stream",
     "text": [
      "3\n",
      "2\n",
      "1\n",
      "Blastoff!\n"
     ]
    }
   ],
   "source": [
    "def countdown( n ):\n",
    "    \"\"\"Count down from n to 0\"\"\"\n",
    "    if n == 0:\n",
    "        print(\"Blastoff!\")\n",
    "    else:\n",
    "        print(n) \n",
    "        countdown( n - 1 )\n",
    "        \n",
    "countdown(3)"
   ]
  },
  {
   "cell_type": "markdown",
   "metadata": {},
   "source": [
    "Recursive functions always have:\n",
    "\n",
    "* A **stop** condition. \n",
    "* A step that does something useful, usually to get the problem closer to the stop condition\n",
    "* Do the recursive call with parameters that changed (bring it closer to the stop condition).\n",
    "\n",
    "In the above example, the stop condition is\n",
    "\n",
    "    n == 0\n",
    "    \n",
    "At each step, the argument is decreased (until it reaches the stop condition)."
   ]
  },
  {
   "cell_type": "markdown",
   "metadata": {},
   "source": [
    "### Visualising recursion\n",
    "\n",
    "We can look at the execution in http://pythontutor.com"
   ]
  },
  {
   "cell_type": "markdown",
   "metadata": {},
   "source": [
    "<div class=\"alert alert-success\">\n",
    "<h2>Exercises</h2>\n",
    "Try Exercises 5.4.\n",
    "</div>"
   ]
  },
  {
   "cell_type": "code",
   "execution_count": 23,
   "metadata": {},
   "outputs": [
    {
     "ename": "RecursionError",
     "evalue": "maximum recursion depth exceeded in comparison",
     "output_type": "error",
     "traceback": [
      "\u001b[1;31m---------------------------------------------------------------------------\u001b[0m",
      "\u001b[1;31mRecursionError\u001b[0m                            Traceback (most recent call last)",
      "\u001b[1;32m<ipython-input-23-ab535ed97370>\u001b[0m in \u001b[0;36m<module>\u001b[1;34m()\u001b[0m\n\u001b[0;32m      8\u001b[0m         \u001b[0mrecurse\u001b[0m\u001b[1;33m(\u001b[0m\u001b[0mn\u001b[0m\u001b[1;33m-\u001b[0m\u001b[1;36m1\u001b[0m\u001b[1;33m,\u001b[0m \u001b[0mn\u001b[0m\u001b[1;33m+\u001b[0m\u001b[0ms\u001b[0m\u001b[1;33m)\u001b[0m\u001b[1;33m\u001b[0m\u001b[0m\n\u001b[0;32m      9\u001b[0m \u001b[1;31m#recurse(3, 0)\u001b[0m\u001b[1;33m\u001b[0m\u001b[1;33m\u001b[0m\u001b[0m\n\u001b[1;32m---> 10\u001b[1;33m \u001b[0mrecurse\u001b[0m\u001b[1;33m(\u001b[0m\u001b[1;33m-\u001b[0m\u001b[1;36m1\u001b[0m\u001b[1;33m,\u001b[0m\u001b[1;36m0\u001b[0m\u001b[1;33m)\u001b[0m\u001b[1;33m\u001b[0m\u001b[0m\n\u001b[0m",
      "\u001b[1;32m<ipython-input-23-ab535ed97370>\u001b[0m in \u001b[0;36mrecurse\u001b[1;34m(n, s)\u001b[0m\n\u001b[0;32m      6\u001b[0m         \u001b[0mprint\u001b[0m\u001b[1;33m(\u001b[0m\u001b[0ms\u001b[0m\u001b[1;33m)\u001b[0m\u001b[1;33m\u001b[0m\u001b[0m\n\u001b[0;32m      7\u001b[0m     \u001b[1;32melse\u001b[0m\u001b[1;33m:\u001b[0m\u001b[1;33m\u001b[0m\u001b[0m\n\u001b[1;32m----> 8\u001b[1;33m         \u001b[0mrecurse\u001b[0m\u001b[1;33m(\u001b[0m\u001b[0mn\u001b[0m\u001b[1;33m-\u001b[0m\u001b[1;36m1\u001b[0m\u001b[1;33m,\u001b[0m \u001b[0mn\u001b[0m\u001b[1;33m+\u001b[0m\u001b[0ms\u001b[0m\u001b[1;33m)\u001b[0m\u001b[1;33m\u001b[0m\u001b[0m\n\u001b[0m\u001b[0;32m      9\u001b[0m \u001b[1;31m#recurse(3, 0)\u001b[0m\u001b[1;33m\u001b[0m\u001b[1;33m\u001b[0m\u001b[0m\n\u001b[0;32m     10\u001b[0m \u001b[0mrecurse\u001b[0m\u001b[1;33m(\u001b[0m\u001b[1;33m-\u001b[0m\u001b[1;36m1\u001b[0m\u001b[1;33m,\u001b[0m\u001b[1;36m0\u001b[0m\u001b[1;33m)\u001b[0m\u001b[1;33m\u001b[0m\u001b[0m\n",
      "... last 1 frames repeated, from the frame below ...\n",
      "\u001b[1;32m<ipython-input-23-ab535ed97370>\u001b[0m in \u001b[0;36mrecurse\u001b[1;34m(n, s)\u001b[0m\n\u001b[0;32m      6\u001b[0m         \u001b[0mprint\u001b[0m\u001b[1;33m(\u001b[0m\u001b[0ms\u001b[0m\u001b[1;33m)\u001b[0m\u001b[1;33m\u001b[0m\u001b[0m\n\u001b[0;32m      7\u001b[0m     \u001b[1;32melse\u001b[0m\u001b[1;33m:\u001b[0m\u001b[1;33m\u001b[0m\u001b[0m\n\u001b[1;32m----> 8\u001b[1;33m         \u001b[0mrecurse\u001b[0m\u001b[1;33m(\u001b[0m\u001b[0mn\u001b[0m\u001b[1;33m-\u001b[0m\u001b[1;36m1\u001b[0m\u001b[1;33m,\u001b[0m \u001b[0mn\u001b[0m\u001b[1;33m+\u001b[0m\u001b[0ms\u001b[0m\u001b[1;33m)\u001b[0m\u001b[1;33m\u001b[0m\u001b[0m\n\u001b[0m\u001b[0;32m      9\u001b[0m \u001b[1;31m#recurse(3, 0)\u001b[0m\u001b[1;33m\u001b[0m\u001b[1;33m\u001b[0m\u001b[0m\n\u001b[0;32m     10\u001b[0m \u001b[0mrecurse\u001b[0m\u001b[1;33m(\u001b[0m\u001b[1;33m-\u001b[0m\u001b[1;36m1\u001b[0m\u001b[1;33m,\u001b[0m\u001b[1;36m0\u001b[0m\u001b[1;33m)\u001b[0m\u001b[1;33m\u001b[0m\u001b[0m\n",
      "\u001b[1;31mRecursionError\u001b[0m: maximum recursion depth exceeded in comparison"
     ]
    }
   ],
   "source": [
    "def recurse(n, s):\n",
    "    \"\"\"\n",
    "    n should be positive number\n",
    "    \"\"\"\n",
    "    if n == 0:\n",
    "        print(s)\n",
    "    else:\n",
    "        recurse(n-1, n+s)\n",
    "#recurse(3, 0)\n",
    "recurse(-1,0)"
   ]
  },
  {
   "cell_type": "markdown",
   "metadata": {},
   "source": [
    "## Ch 6: Fruitful functions\n",
    "\n",
    "Until now functions performed some actions, but never _returned_ a value. \n",
    "\n",
    "Here we learn how to write functions that return a value.\n",
    "\n",
    "    return <expression>\n",
    "   "
   ]
  },
  {
   "cell_type": "code",
   "execution_count": 24,
   "metadata": {
    "collapsed": true
   },
   "outputs": [],
   "source": [
    "# Function that calculates the area of a circle (again)\n",
    "import math\n",
    "\n",
    "def circle_area( radius ):\n",
    "    \"\"\"Return the surface area of a circle with given radius.\"\"\"\n",
    "    area = math.pi * radius * radius\n",
    "    return area"
   ]
  },
  {
   "cell_type": "code",
   "execution_count": 25,
   "metadata": {},
   "outputs": [
    {
     "name": "stdout",
     "output_type": "stream",
     "text": [
      "314.1592653589793\n"
     ]
    }
   ],
   "source": [
    "# Now we can call the function and get the result.\n",
    "\n",
    "circle_area(10)\n",
    "\n",
    "print(circle_area( 10 ))"
   ]
  },
  {
   "cell_type": "markdown",
   "metadata": {},
   "source": [
    "### Return and assignment of multiple values\n",
    "\n",
    "You can return (and assign) multiple values in one statement (tuples, see later)"
   ]
  },
  {
   "cell_type": "code",
   "execution_count": 26,
   "metadata": {},
   "outputs": [
    {
     "data": {
      "text/plain": [
       "(4, 2)"
      ]
     },
     "execution_count": 26,
     "metadata": {},
     "output_type": "execute_result"
    }
   ],
   "source": [
    "# Returning more than one value\n",
    "def division_and_mod( a, b ):\n",
    "    \"\"\"Return a // b and a % b\"\"\"\n",
    "    return a // b , a % b\n",
    "\n",
    "division_and_mod( 18, 4 )"
   ]
  },
  {
   "cell_type": "code",
   "execution_count": 27,
   "metadata": {
    "scrolled": true
   },
   "outputs": [
    {
     "name": "stdout",
     "output_type": "stream",
     "text": [
      "18 divided by 4 is 4 with remainder 2\n"
     ]
    }
   ],
   "source": [
    "# You can immediately assign them to separate values\n",
    "a, b = 18, 4      # another form of multiple value assignment\n",
    "\n",
    "d, m = division_and_mod( a, b )\n",
    "\n",
    "print(a , \"divided by\", b, \"is\", d, \"with remainder\", m)"
   ]
  },
  {
   "cell_type": "markdown",
   "metadata": {},
   "source": [
    "### More recursion\n",
    "\n",
    "Sum all the integers from [ 0 - 100 ] using recursion, not using\n",
    "\n",
    "    for i in range(101):\n",
    "    \n",
    "    "
   ]
  },
  {
   "cell_type": "code",
   "execution_count": 47,
   "metadata": {},
   "outputs": [
    {
     "name": "stdout",
     "output_type": "stream",
     "text": [
      "5050\n"
     ]
    }
   ],
   "source": [
    "# Sum integers in a recursive way\n",
    "def sum_recursively( n ):\n",
    "    global tot\n",
    "    if n == 1:\n",
    "        # What to do here?\n",
    "        return 1\n",
    "    else:\n",
    "        # do something\n",
    "        # Then call myself again, recursively\n",
    "        return n + sum_recursively(n-1)\n",
    "    \n",
    "print(sum_recursively( 100 ))"
   ]
  },
  {
   "cell_type": "markdown",
   "metadata": {},
   "source": [
    "### Factorial\n",
    "\n",
    "n factorial is defined as:\n",
    "\n",
    "    n! = n * (n-1) * (n-2) * ... * 1\n",
    "    \n",
    "Or also:\n",
    "\n",
    "    n! = n * (n-1)!\n",
    "    0! = 1\n",
    "    \n",
    "Write a function fac() that calculates n! in a recursive way and returns the result.\n"
   ]
  },
  {
   "cell_type": "code",
   "execution_count": 48,
   "metadata": {},
   "outputs": [
    {
     "name": "stdout",
     "output_type": "stream",
     "text": [
      "24\n"
     ]
    }
   ],
   "source": [
    "def fac(n):\n",
    "    \"\"\"Return factorial n\"\"\"\n",
    "    # more brilliant coding...\n",
    "    tot = 1\n",
    "    if n == 0:\n",
    "        return 1\n",
    "    else:\n",
    "        return n*fac(n-1)\n",
    "\n",
    "print(fac(4))\n",
    "    "
   ]
  },
  {
   "cell_type": "markdown",
   "metadata": {},
   "source": [
    "### Fibonacci\n",
    "\n",
    "Based on number of breeding rabbits.\n",
    "\n",
    "    1, 1, 2, 3, 5, 8, 13, 21, ...\n",
    "    \n",
    "Or put in a more formal way:\n",
    "\n",
    "$$ a_0 = 1 $$\n",
    "$$ a_1 = 1 $$\n",
    "$$ a_n = a_{n-1} + a_{n-2} $$\n",
    "\n",
    "Write a recursive function to calculate the n-th fibonaci number.\n"
   ]
  },
  {
   "cell_type": "code",
   "execution_count": 49,
   "metadata": {},
   "outputs": [
    {
     "name": "stdout",
     "output_type": "stream",
     "text": [
      "The 5 th fibonacci number is 8\n"
     ]
    }
   ],
   "source": [
    "def fibonacci(n):\n",
    "    \"\"\"return n-th value of fibonacci\"\"\"\n",
    "    if ( n == 0 or n == 1):\n",
    "        return 1\n",
    "    else:\n",
    "        return fibonacci(n-1) + fibonacci(n-2)\n",
    "    \n",
    "n = 5\n",
    "print( 'The', n, 'th', 'fibonacci number is', fibonacci( n) )\n"
   ]
  },
  {
   "cell_type": "markdown",
   "metadata": {},
   "source": [
    "### String formatting\n",
    "\n",
    "You can format a string with the % operator.\n",
    "\n",
    "    \"The %d-nth fibonacci number is %d\" % ( n, fibonacci(n) )\n",
    "    \n",
    "The format string can contain special characters:\n",
    "\n",
    "    %d - decimal\n",
    "    %s - string\n",
    "    \\t - tab\n",
    "    \\n - newline\n",
    "    \n",
    "Each % argument (%s, %d) will be substituted by the corresponding value behind the % operator (a tuple).\n",
    "    "
   ]
  },
  {
   "cell_type": "code",
   "execution_count": 50,
   "metadata": {},
   "outputs": [
    {
     "name": "stdout",
     "output_type": "stream",
     "text": [
      "The 6-nth fibonacci number is 13\n"
     ]
    }
   ],
   "source": [
    "n=6\n",
    "print( \"The %d-nth fibonacci number is %d\" % (n, fibonacci(n)) )\n"
   ]
  },
  {
   "cell_type": "markdown",
   "metadata": {},
   "source": [
    "### Recursion vs. Loops\n",
    "\n",
    "Any recursion can be written as a loop and vice versa. But, sometimes\n",
    "one solution is more readable than the other. \n",
    "\n",
    "*Tail-recursion* is a special case of recursion, where the recursion call is at the end of the function.\n",
    "This type of recursion can always be rewritten into a loop relatively easily.\n",
    "\n",
    "```python\n",
    "    def f( n ):\n",
    "        if (some_stop_condition):\n",
    "            # stop\n",
    "        else:\n",
    "            # do something\n",
    "            ...\n",
    "            # finally do recursion with f()\n",
    "```\n",
    "\n",
    "into\n",
    "\n",
    "```python\n",
    "    def f(n):\n",
    "        while not some_stop_condition:\n",
    "            # do something\n",
    "            ...\n",
    "```\n",
    "\n",
    "Note the use of *pseudo-code*\n"
   ]
  },
  {
   "cell_type": "markdown",
   "metadata": {},
   "source": [
    "### Pseudo-code\n",
    "\n",
    "Pseudo-code is some mixture of programming language constructs with natural language. There is no\n",
    "official standard, but there are some guidelines. \n",
    "\n",
    "Constructs are:\n",
    "\n",
    "* if-then-else\n",
    "* loops (for / while)\n",
    "* sequence \n",
    "\n",
    "Why use pseudo-code?\n",
    "\n",
    "* Design the outline of a program / algorithm without the details. Focus on structure!\n",
    "* Using programming constructs allows for (relatively) easy translation to real code\n",
    "* Language independent\n",
    "* Can iteratively work out pseudo-code into more detail\n",
    "\n",
    "\n",
    "Use pseudo-code when writing more complex code. Hiding details away into function calls\n",
    "with logical units of work also helps. Leave the implementation of the functions to later,\n",
    "so that you can focus on the overall structure of the solution first."
   ]
  },
  {
   "cell_type": "markdown",
   "metadata": {},
   "source": [
    "### Example pseudo-code (simple)\n",
    "\n",
    "\n",
    "**Problem:** Let a turtle draw a square\n",
    "\n",
    "**Approach:** In pseudo-code\n",
    "\n",
    "```python\n",
    "create and initialize turtle\n",
    "\n",
    "while not drawn-square\n",
    "    move turtle forward\n",
    "    turn turtle 90 degrees to the left\n",
    "end\n",
    "```\n",
    "    \n"
   ]
  },
  {
   "cell_type": "markdown",
   "metadata": {},
   "source": [
    "<div class=\"alert alert-success\">\n",
    "<h2>Exercises</h2>\n",
    "Try Exercises 6.1 - 6.5.\n",
    "</div>"
   ]
  },
  {
   "cell_type": "markdown",
   "metadata": {},
   "source": [
    "## Ch 7: Iteration\n",
    "\n",
    "Iteration is used to repeat a section of code multiple times.\n",
    "Two ways are:\n",
    "\n",
    "    for i in ...:\n",
    "        do_something\n",
    "        \n",
    "    while condition:\n",
    "        do_something\n",
    "        \n",
    "Watch the indentation again! \n",
    "\n",
    "The block of code in the body of the while-loop will be executed repeatedly, as long as the condition is `True`. In other words, it will be\n",
    "repeated until the condition evaluates to `False`. \n",
    "\n"
   ]
  },
  {
   "cell_type": "code",
   "execution_count": 51,
   "metadata": {},
   "outputs": [
    {
     "name": "stdout",
     "output_type": "stream",
     "text": [
      "5\n",
      "4\n",
      "3\n",
      "2\n",
      "1\n",
      "Blastoff!\n"
     ]
    }
   ],
   "source": [
    "# Example of a simple while-loop\n",
    "a = 5             # initialize a value\n",
    "while a > 0:      # as long as a > 0\n",
    "    print( a )    # print a\n",
    "    a = a - 1     # decrement a, so that the loop ends at some point.\n",
    "print('Blastoff!') # outside the while-loop, note the indentation."
   ]
  },
  {
   "cell_type": "code",
   "execution_count": 52,
   "metadata": {},
   "outputs": [
    {
     "name": "stdout",
     "output_type": "stream",
     "text": [
      "5.0\n",
      "4.0\n",
      "3.0\n",
      "2.0\n",
      "1.0\n",
      "Blastoff\n"
     ]
    }
   ],
   "source": [
    "# Note: the condition does not have to be a boolean. Python\n",
    "# will interprete a non-zero value as True and zero as False\n",
    "# But, making it explicit is often more readable.\n",
    "a = 5.0\n",
    "while a:\n",
    "    print(a)\n",
    "    a -= 1\n",
    "print('Blastoff')"
   ]
  },
  {
   "cell_type": "code",
   "execution_count": 53,
   "metadata": {},
   "outputs": [
    {
     "name": "stdout",
     "output_type": "stream",
     "text": [
      "120\n"
     ]
    }
   ],
   "source": [
    "# Non recursive Factorial - while-loop\n",
    "def fac2( n ):\n",
    "    result = 1\n",
    "    while n > 0:\n",
    "        result *= n\n",
    "        n -= 1\n",
    "    return result\n",
    "        \n",
    "print(fac2(5))"
   ]
  },
  {
   "cell_type": "code",
   "execution_count": 54,
   "metadata": {},
   "outputs": [
    {
     "name": "stdout",
     "output_type": "stream",
     "text": [
      "120\n"
     ]
    }
   ],
   "source": [
    "# Non recursive Factorial - for-loop\n",
    "def fac3( n ):\n",
    "    result = 1\n",
    "    for i in range(1,n+1):\n",
    "        result *= i\n",
    "    return result\n",
    "\n",
    "print(fac3(5))"
   ]
  },
  {
   "cell_type": "markdown",
   "metadata": {},
   "source": [
    "### The Break statement\n",
    "\n",
    "The `break` statement can be used to break out of a loop.\n"
   ]
  },
  {
   "cell_type": "code",
   "execution_count": null,
   "metadata": {
    "collapsed": true
   },
   "outputs": [],
   "source": [
    "# Break out of an infinite loop\n",
    "while True:\n",
    "    s = input('> ')\n",
    "    if (s == 'stop'):\n",
    "        print('stopping')\n",
    "        break\n",
    "    print('You typed:', s)\n",
    "    "
   ]
  },
  {
   "cell_type": "code",
   "execution_count": 5,
   "metadata": {},
   "outputs": [
    {
     "name": "stdout",
     "output_type": "stream",
     "text": [
      "Outerloop iteration 0\n",
      "   Innerloop iteration 100\n",
      "   Innerloop iteration 101\n",
      "   Innerloop iteration 102\n"
     ]
    }
   ],
   "source": [
    "# If you have nested loops, break will break out of the nearest loop only.\n",
    "for i in range(0,3):\n",
    "    print('Outerloop iteration', i)\n",
    "    for j in range(100, 103):\n",
    "        print('   Innerloop iteration', j)\n",
    "    if ( i + j == 102):\n",
    "        break\n",
    "\n"
   ]
  },
  {
   "cell_type": "markdown",
   "metadata": {},
   "source": [
    "<div class=\"alert alert-success\">\n",
    "<h2>Exercises</h2>\n",
    "Try Exercises 7.1 - 7.3.\n",
    "</div>"
   ]
  },
  {
   "cell_type": "markdown",
   "metadata": {},
   "source": [
    "## Ch 8: Strings\n",
    "\n",
    "strings are *immutable, sequences* of characters.\n",
    "\n",
    "*sequence* is an ordered collection of values.\n",
    "\n",
    "*immutable* means that you cannot change the content of the string. You can however create a *new string* that is a modified version of the original string.\n",
    "\n",
    "Accessing characters of a string through their **index**\n",
    "\n",
    "    s = \"Hello\"\n",
    "    s[0] -> 'H'\n",
    "    \n",
    "    len(s) -> 5"
   ]
  },
  {
   "cell_type": "code",
   "execution_count": 35,
   "metadata": {},
   "outputs": [
    {
     "data": {
      "text/plain": [
       "'H'"
      ]
     },
     "execution_count": 35,
     "metadata": {},
     "output_type": "execute_result"
    }
   ],
   "source": [
    "# Index into a string\n",
    "# Note: the first letter is at index 0!\n",
    "s = \"Hello\"\n",
    "s[0]"
   ]
  },
  {
   "cell_type": "code",
   "execution_count": 36,
   "metadata": {},
   "outputs": [
    {
     "data": {
      "text/plain": [
       "'e'"
      ]
     },
     "execution_count": 36,
     "metadata": {},
     "output_type": "execute_result"
    }
   ],
   "source": [
    "s[1]"
   ]
  },
  {
   "cell_type": "code",
   "execution_count": 37,
   "metadata": {},
   "outputs": [
    {
     "data": {
      "text/plain": [
       "5"
      ]
     },
     "execution_count": 37,
     "metadata": {},
     "output_type": "execute_result"
    }
   ],
   "source": [
    "# The length of a string\n",
    "len(s)"
   ]
  },
  {
   "cell_type": "code",
   "execution_count": 38,
   "metadata": {},
   "outputs": [
    {
     "data": {
      "text/plain": [
       "'o'"
      ]
     },
     "execution_count": 38,
     "metadata": {},
     "output_type": "execute_result"
    }
   ],
   "source": [
    "# The last letter is at index len(s) - 1!\n",
    "s[len(s) - 1]"
   ]
  },
  {
   "cell_type": "code",
   "execution_count": 7,
   "metadata": {},
   "outputs": [
    {
     "name": "stdout",
     "output_type": "stream",
     "text": [
      "s[0] =\t\t\t\t H\n",
      "s[len(s) - 1] =\t\t\t o\n",
      "s[-1] =\t\t\t\t o\n",
      "s[int(math.sqrt(math.pi)+2)] =\t l\n"
     ]
    }
   ],
   "source": [
    "# indexing\n",
    "import math\n",
    "print('s[0] =\\t\\t\\t\\t', s[0])\n",
    "print('s[len(s) - 1] =\\t\\t\\t', s[len(s) - 1])\n",
    "print('s[-1] =\\t\\t\\t\\t', s[-1])\n",
    "print('s[int(math.sqrt(math.pi)+2)] =\\t', s[int(math.sqrt(math.pi)+2)])\n"
   ]
  },
  {
   "cell_type": "code",
   "execution_count": 8,
   "metadata": {},
   "outputs": [
    {
     "ename": "IndexError",
     "evalue": "string index out of range",
     "output_type": "error",
     "traceback": [
      "\u001b[1;31m---------------------------------------------------------------------------\u001b[0m",
      "\u001b[1;31mIndexError\u001b[0m                                Traceback (most recent call last)",
      "\u001b[1;32m<ipython-input-8-67228c830216>\u001b[0m in \u001b[0;36m<module>\u001b[1;34m()\u001b[0m\n\u001b[0;32m      1\u001b[0m \u001b[1;31m# if you ask for a non-existing index, you get an error!\u001b[0m\u001b[1;33m\u001b[0m\u001b[1;33m\u001b[0m\u001b[0m\n\u001b[1;32m----> 2\u001b[1;33m \u001b[0ms\u001b[0m\u001b[1;33m[\u001b[0m\u001b[0mlen\u001b[0m\u001b[1;33m(\u001b[0m\u001b[0ms\u001b[0m\u001b[1;33m)\u001b[0m\u001b[1;33m]\u001b[0m\u001b[1;33m\u001b[0m\u001b[0m\n\u001b[0m",
      "\u001b[1;31mIndexError\u001b[0m: string index out of range"
     ]
    }
   ],
   "source": [
    "# if you ask for a non-existing index, you get an error!\n",
    "s[len(s)]"
   ]
  },
  {
   "cell_type": "code",
   "execution_count": 9,
   "metadata": {
    "scrolled": true
   },
   "outputs": [
    {
     "ename": "TypeError",
     "evalue": "'str' object does not support item assignment",
     "output_type": "error",
     "traceback": [
      "\u001b[1;31m---------------------------------------------------------------------------\u001b[0m",
      "\u001b[1;31mTypeError\u001b[0m                                 Traceback (most recent call last)",
      "\u001b[1;32m<ipython-input-9-5430d39635fe>\u001b[0m in \u001b[0;36m<module>\u001b[1;34m()\u001b[0m\n\u001b[0;32m      1\u001b[0m \u001b[1;31m# Strings are immutable\u001b[0m\u001b[1;33m\u001b[0m\u001b[1;33m\u001b[0m\u001b[0m\n\u001b[1;32m----> 2\u001b[1;33m \u001b[0ms\u001b[0m\u001b[1;33m[\u001b[0m\u001b[1;36m1\u001b[0m\u001b[1;33m]\u001b[0m \u001b[1;33m=\u001b[0m \u001b[1;34m'X'\u001b[0m\u001b[1;33m\u001b[0m\u001b[0m\n\u001b[0m",
      "\u001b[1;31mTypeError\u001b[0m: 'str' object does not support item assignment"
     ]
    }
   ],
   "source": [
    "# Strings are immutable\n",
    "s[1] = 'X'"
   ]
  },
  {
   "cell_type": "code",
   "execution_count": 10,
   "metadata": {},
   "outputs": [
    {
     "name": "stdout",
     "output_type": "stream",
     "text": [
      "The 0-th letter is H\n",
      "The 1-th letter is e\n",
      "The 2-th letter is l\n",
      "The 3-th letter is l\n",
      "The 4-th letter is o\n"
     ]
    }
   ],
   "source": [
    "# print each letter with a for-loop\n",
    "for i in range( len(s) ):\n",
    "    print(\"The %d-th letter is %c\" % (i, s[i]))"
   ]
  },
  {
   "cell_type": "code",
   "execution_count": 11,
   "metadata": {},
   "outputs": [
    {
     "name": "stdout",
     "output_type": "stream",
     "text": [
      "H e l l o "
     ]
    }
   ],
   "source": [
    "# Or even easier: just iterate over the sequence itself\n",
    "# print each letter with a for-loop\n",
    "for i in s:\n",
    "    print(i, end = ' ')    # named parameter 'end' to print(): \n",
    "                         # How to end the line, default newline."
   ]
  },
  {
   "cell_type": "markdown",
   "metadata": {},
   "source": [
    "## Slicing\n",
    "\n",
    "slices can select a segment of a string.\n",
    "\n",
    "General syntax is:\n",
    "\n",
    "    s[from:to]\n",
    "    \n",
    "    from - starting index (starts at 0)\n",
    "    to - ending index, but letter is not included!\n",
    "    \n",
    "or even more extended:\n",
    "\n",
    "    s[from:to:step]\n"
   ]
  },
  {
   "cell_type": "code",
   "execution_count": 40,
   "metadata": {},
   "outputs": [
    {
     "name": "stdout",
     "output_type": "stream",
     "text": [
      "Time\n"
     ]
    }
   ],
   "source": [
    "# Slicing\n",
    "s = 'Time flies like an arrow, fruit flies like bananas'\n",
    "print( s[0:4] )    # Remember indexes start at 0. \n",
    "                   # s[4] is character not included, only s[0] - s[3]\n"
   ]
  },
  {
   "cell_type": "code",
   "execution_count": 41,
   "metadata": {},
   "outputs": [
    {
     "name": "stdout",
     "output_type": "stream",
     "text": [
      "flies\n"
     ]
    }
   ],
   "source": [
    "print( s[5:10] )"
   ]
  },
  {
   "cell_type": "code",
   "execution_count": 42,
   "metadata": {},
   "outputs": [
    {
     "name": "stdout",
     "output_type": "stream",
     "text": [
      "\n"
     ]
    }
   ],
   "source": [
    "# What will this do?\n",
    "print( s[3:3] )"
   ]
  },
  {
   "cell_type": "code",
   "execution_count": 43,
   "metadata": {},
   "outputs": [
    {
     "name": "stdout",
     "output_type": "stream",
     "text": [
      "Time flies like an arrow\n",
      "fruit flies like bananas\n"
     ]
    }
   ],
   "source": [
    "# You can omit the from and/or to index.\n",
    "# That indicates the beginning / end of the string\n",
    "print( s[:24] )\n",
    "print( s[26:] )"
   ]
  },
  {
   "cell_type": "code",
   "execution_count": 45,
   "metadata": {},
   "outputs": [
    {
     "name": "stdout",
     "output_type": "stream",
     "text": [
      "Time flies like an arrow, fruit flies like bananas\n",
      "Time flies like an arrow fruit flies like bananas\n",
      "lies\n"
     ]
    }
   ],
   "source": [
    "# What will this do?\n",
    "print( s[:] )\n",
    "\n",
    "# and this?\n",
    "print( s[:24] + s[25:])\n",
    "\n",
    "# and this?\n",
    "print( s[25:][8:12] )"
   ]
  },
  {
   "cell_type": "code",
   "execution_count": 17,
   "metadata": {},
   "outputs": [
    {
     "name": "stdout",
     "output_type": "stream",
     "text": [
      "banana\n"
     ]
    }
   ],
   "source": [
    "# Negative indexes count from the back.\n",
    "print( s[-7:-1] )          # Where is the final 's'?"
   ]
  },
  {
   "cell_type": "code",
   "execution_count": 18,
   "metadata": {},
   "outputs": [
    {
     "name": "stdout",
     "output_type": "stream",
     "text": [
      "bananas\n"
     ]
    }
   ],
   "source": [
    "print( s[-7:])"
   ]
  },
  {
   "cell_type": "markdown",
   "metadata": {},
   "source": [
    "### Searching and Counting\n",
    "\n",
    "Searching and counting are two important activities that are often performed in computing."
   ]
  },
  {
   "cell_type": "code",
   "execution_count": 2,
   "metadata": {
    "collapsed": true
   },
   "outputs": [],
   "source": [
    "# Search a letter in a word. Return its index.\n",
    "\n",
    "def find_letter( word, letter ):\n",
    "    \"\"\"Find the first occurrence of the letter in the word.\n",
    "    Returns two values:\n",
    "        if letter is found: True and its index\n",
    "        if letter is not found: False and -1\"\"\"\n",
    "    \n",
    "    for i in range(len(word)): # exclude the last one\n",
    "        if word[i] == letter: # iterate the letter on string compare it with the letter from function\n",
    "            return True, i # return a tuple of boolean and index of the letter in word\n",
    "    return False, -1 # if there is no letter return False and -1"
   ]
  },
  {
   "cell_type": "code",
   "execution_count": 4,
   "metadata": {},
   "outputs": [
    {
     "name": "stdout",
     "output_type": "stream",
     "text": [
      "Found letter l at index 2 in string Hello\n"
     ]
    }
   ],
   "source": [
    "s = 'Hello'\n",
    "l = 'l'\n",
    "# l = 'x'\n",
    "found, index = find_letter(s, l)\n",
    "if found:\n",
    "    print('Found letter', l, 'at index', index, 'in string', s)\n",
    "else:\n",
    "    print('Did not find letter', l, 'in string', s)"
   ]
  },
  {
   "cell_type": "code",
   "execution_count": 26,
   "metadata": {
    "collapsed": true
   },
   "outputs": [],
   "source": [
    "# Counting letters\n",
    "\n",
    "def count_letter( word, letter ):\n",
    "    \"\"\"Count the number of occurrences of letter in word. Return count.\"\"\"\n",
    "    cnt = 0\n",
    "    for i in word:\n",
    "        if i == letter:\n",
    "            cnt += 1\n",
    "    return cnt"
   ]
  },
  {
   "cell_type": "code",
   "execution_count": 27,
   "metadata": {},
   "outputs": [
    {
     "data": {
      "text/plain": [
       "4"
      ]
     },
     "execution_count": 27,
     "metadata": {},
     "output_type": "execute_result"
    }
   ],
   "source": [
    "s=\"Mississippi\"\n",
    "l='s'\n",
    "count_letter(s,l)"
   ]
  },
  {
   "cell_type": "markdown",
   "metadata": {
    "collapsed": true
   },
   "source": [
    "### The in operator\n",
    "\n",
    "boolean operator taking two strings and returns True if first string appears as substring in the second."
   ]
  },
  {
   "cell_type": "code",
   "execution_count": 28,
   "metadata": {},
   "outputs": [
    {
     "name": "stdout",
     "output_type": "stream",
     "text": [
      "True\n",
      "True\n",
      "False\n"
     ]
    }
   ],
   "source": [
    "# The in operator\n",
    "print('s' in 'Mississippi')       # single chars\n",
    "print('sip' in 'Mississippi')     # substrings\n",
    "print('mis' in 'Mississippi')     # case-sensitive"
   ]
  },
  {
   "cell_type": "code",
   "execution_count": 29,
   "metadata": {
    "collapsed": true
   },
   "outputs": [],
   "source": [
    "def in_both( s1, s2 ):\n",
    "    \"\"\"print the letters that are in both strings.\"\"\"\n",
    "    for letter in s1:\n",
    "        if ( letter in s2 ):\n",
    "            print( letter )"
   ]
  },
  {
   "cell_type": "code",
   "execution_count": 30,
   "metadata": {},
   "outputs": [
    {
     "name": "stdout",
     "output_type": "stream",
     "text": [
      "a\n",
      "e\n",
      "s\n"
     ]
    }
   ],
   "source": [
    "in_both(\"apples\", \"oranges\")"
   ]
  },
  {
   "cell_type": "markdown",
   "metadata": {},
   "source": [
    "### String methods\n",
    "\n",
    "You can invoke a number of methods on a string itself. This will not change the string (remember, they are immutable!), but will return a new (altered) string.\n",
    "\n",
    "    s = \"word\"\n",
    "    s.upper() -> str, returns new string with upper-case letters\n",
    "    s.lower() -> str, returns new string with lower-case letters\n",
    "    s.isupper() -> boolean, checks if string consists of only upper-case letters\n",
    "    s.islower() -> boolean, checks if string contists of only lower-case letters\n",
    "    s.count( substr ) -> int, returns the number of occurrences of substr in s.\n",
    "    ...\n",
    "    \n",
    "* Note: the '.' is used to select a method / function, that is performed on the corresponding string\n",
    "* Note: see the difference between calling len(s) and s.isupper().\n",
    "\n",
    "Each string is an *object* of the type/class *str* (string), which has defined a set of methods/functions\n",
    "for each object. You can call those methods using the '.' syntax.\n",
    "See `help(str)` for the available methods for strings.\n"
   ]
  },
  {
   "cell_type": "code",
   "execution_count": 7,
   "metadata": {},
   "outputs": [
    {
     "name": "stdout",
     "output_type": "stream",
     "text": [
      "APPLES\n"
     ]
    }
   ],
   "source": [
    "# Return an upper-case version of a string\n",
    "s = 'apples'\n",
    "print(s.upper())"
   ]
  },
  {
   "cell_type": "code",
   "execution_count": 10,
   "metadata": {},
   "outputs": [
    {
     "name": "stdout",
     "output_type": "stream",
     "text": [
      "APPLES\n"
     ]
    }
   ],
   "source": [
    "# Note, the original string s has not changed\n",
    "print(s)"
   ]
  },
  {
   "cell_type": "code",
   "execution_count": 9,
   "metadata": {},
   "outputs": [
    {
     "name": "stdout",
     "output_type": "stream",
     "text": [
      "APPLES\n"
     ]
    }
   ],
   "source": [
    "# We could do:\n",
    "s = s.upper()\n",
    "print(s)\n",
    "\n",
    "# But even then the old s did not change. We simply reassigned s to have a new value."
   ]
  },
  {
   "cell_type": "markdown",
   "metadata": {},
   "source": [
    "<div class=\"alert alert-success\">\n",
    "<h2>Exercises</h2>\n",
    "Try Exercises 8.1 - 8.5.\n",
    "</div>"
   ]
  },
  {
   "cell_type": "code",
   "execution_count": 12,
   "metadata": {
    "collapsed": true
   },
   "outputs": [],
   "source": [
    "def any_lowercase1(s):\n",
    "    for c in s:\n",
    "        if c.islower():\n",
    "            return True\n",
    "        else:\n",
    "            return False\n",
    "        \n",
    "# It will return only the condition of the first letter of the word"
   ]
  },
  {
   "cell_type": "code",
   "execution_count": 34,
   "metadata": {},
   "outputs": [
    {
     "name": "stdout",
     "output_type": "stream",
     "text": [
      "True\n"
     ]
    }
   ],
   "source": [
    "s = 'sSs'\n",
    "f1 = any_lowercase1(s)\n",
    "print(f1)"
   ]
  },
  {
   "cell_type": "code",
   "execution_count": 23,
   "metadata": {
    "collapsed": true
   },
   "outputs": [],
   "source": [
    "def any_lowercase2(s):\n",
    "    for c in s:\n",
    "        if 'c'.islower():\n",
    "            return 'True'\n",
    "        else:\n",
    "            return 'False'\n",
    "        \n",
    "# the return value is a string, not really a boolean"
   ]
  },
  {
   "cell_type": "code",
   "execution_count": 33,
   "metadata": {},
   "outputs": [
    {
     "name": "stdout",
     "output_type": "stream",
     "text": [
      "True\n"
     ]
    }
   ],
   "source": [
    "s = 'SSSS'\n",
    "f2 = any_lowercase2(s)\n",
    "print(f2)"
   ]
  },
  {
   "cell_type": "code",
   "execution_count": 27,
   "metadata": {
    "collapsed": true
   },
   "outputs": [],
   "source": [
    "def any_lowercase3(s):\n",
    "    for c in s:\n",
    "        flag = c.islower()\n",
    "    return flag\n",
    "\n",
    "# only return the condition the last letter"
   ]
  },
  {
   "cell_type": "code",
   "execution_count": 30,
   "metadata": {},
   "outputs": [
    {
     "name": "stdout",
     "output_type": "stream",
     "text": [
      "False\n"
     ]
    }
   ],
   "source": [
    "s = 'sS'\n",
    "f3 = any_lowercase3(s)\n",
    "print(f3)"
   ]
  },
  {
   "cell_type": "code",
   "execution_count": 35,
   "metadata": {
    "collapsed": true
   },
   "outputs": [],
   "source": [
    "def any_lowercase4(s):\n",
    "    flag = False\n",
    "    for c in s:\n",
    "        flag = flag or c.islower()\n",
    "    return flag\n",
    "\n",
    "# the correct one"
   ]
  },
  {
   "cell_type": "code",
   "execution_count": 39,
   "metadata": {},
   "outputs": [
    {
     "name": "stdout",
     "output_type": "stream",
     "text": [
      "False\n"
     ]
    }
   ],
   "source": [
    "s = 'SS'\n",
    "f4 = any_lowercase4(s)\n",
    "print(f4)"
   ]
  },
  {
   "cell_type": "code",
   "execution_count": 40,
   "metadata": {
    "collapsed": true
   },
   "outputs": [],
   "source": [
    "def any_lowercase5(s):\n",
    "    for c in s:\n",
    "        if not c.islower():\n",
    "            return False\n",
    "        return True\n",
    "\n",
    "# check the first one only"
   ]
  },
  {
   "cell_type": "code",
   "execution_count": 43,
   "metadata": {},
   "outputs": [
    {
     "name": "stdout",
     "output_type": "stream",
     "text": [
      "False\n"
     ]
    }
   ],
   "source": [
    "s = 'Ss'\n",
    "f5 = any_lowercase5(s)\n",
    "print(f5)"
   ]
  },
  {
   "cell_type": "markdown",
   "metadata": {},
   "source": [
    "## Ch 10: Case Study: Word Play\n",
    "\n",
    "Playing around with strings.\n",
    "\n",
    "Read a file `word.txt` and count/search words."
   ]
  },
  {
   "cell_type": "markdown",
   "metadata": {},
   "source": [
    "### Reading a file\n",
    "\n",
    "You can read the contents of a file with:\n",
    "\n",
    "```python\n",
    "fin = open( 'filename.txt' )\n",
    "\n",
    "for line in fin:\n",
    "    word = line.strip()    # Strip leading and trailing whitespace\n",
    "    print(word)\n",
    "```    \n"
   ]
  },
  {
   "cell_type": "code",
   "execution_count": 2,
   "metadata": {
    "scrolled": false
   },
   "outputs": [],
   "source": [
    "# Read list of words in words.txt from http://thinkpython2.com/code/words.txt\n",
    "\n",
    "fin = open( 'words.txt')\n",
    "count = 0\n",
    "for line in fin:\n",
    "    count += 1\n",
    "    #print(line.strip())\n",
    "    \n",
    "#print('File words.txt contains', count, 'words')\n",
    "    "
   ]
  },
  {
   "cell_type": "markdown",
   "metadata": {},
   "source": [
    "<div class=\"alert alert-success\">\n",
    "<h2>Exercises</h2>\n",
    "Try Exercises 9.1 - 9.6.\n",
    "</div>"
   ]
  },
  {
   "cell_type": "code",
   "execution_count": null,
   "metadata": {
    "collapsed": true
   },
   "outputs": [],
   "source": [
    "# Only print words without an 'e'\n",
    "def has_no_e( word ):\n",
    "    \"\"\"returns true if word does not contain 'e', false otherwise\"\"\"\n",
    "    return not ('e' in word)"
   ]
  },
  {
   "cell_type": "code",
   "execution_count": null,
   "metadata": {
    "collapsed": true,
    "scrolled": false
   },
   "outputs": [],
   "source": [
    "# Read list of words in word.txt from http://thinkpython2.com/code/words.txt\n",
    "\n",
    "fin = open( 'words.txt')\n",
    "count = 0\n",
    "for line in fin:\n",
    "    word = line.strip()\n",
    "    if has_no_e( word ):\n",
    "#        print(word)\n",
    "        count += 1\n",
    "             \n",
    "print('File words.txt contains', count, 'words without e')"
   ]
  },
  {
   "cell_type": "markdown",
   "metadata": {},
   "source": [
    "<div class=\"alert alert-success\">\n",
    "<h2>Exercises</h2>\n",
    "Try Exercises 9.7 - 9.9.\n",
    "</div>"
   ]
  },
  {
   "cell_type": "markdown",
   "metadata": {
    "collapsed": true
   },
   "source": [
    "## Ch 10: Lists\n",
    "\n",
    "Lists are *mutable*, sequences of values.\n",
    "\n",
    "Similar to strings, but list\n",
    "\n",
    "  * are mutable\n",
    "  * have different values as elements, not just characters.\n",
    "  \n",
    "Notation:\n",
    "```\n",
    "[ 0, 1, 'a', 2.5, [127,'x'], 'a string' ]\n",
    "```\n",
    "\n",
    "Accessing elements of a list, uses indexes:\n",
    "```\n",
    " a = [ 'a', 'b', 'c' ]\n",
    " a[0] -> 'a'\n",
    " a[-1] -> 'c'\n",
    "```\n"
   ]
  },
  {
   "cell_type": "code",
   "execution_count": 46,
   "metadata": {},
   "outputs": [
    {
     "name": "stdout",
     "output_type": "stream",
     "text": [
      "<class 'list'>\n"
     ]
    }
   ],
   "source": [
    "# An empty list and their type\n",
    "a = []   # empty list\n",
    "\n",
    "print(type( a ))"
   ]
  },
  {
   "cell_type": "code",
   "execution_count": 2,
   "metadata": {},
   "outputs": [
    {
     "name": "stdout",
     "output_type": "stream",
     "text": [
      "['S', 't', 'r', 'i', 'n', 'g', 's']\n",
      "[0, 1, 2, 3, 4, 5, 6, 7, 8, 9]\n"
     ]
    }
   ],
   "source": [
    "# list() can turn its argument into a list... only if it can\n",
    "\n",
    "a = list( 'Strings' )\n",
    "\n",
    "b = list( range( 10 ) )\n",
    "\n",
    "print(a)\n",
    "print(b)"
   ]
  },
  {
   "cell_type": "code",
   "execution_count": 3,
   "metadata": {},
   "outputs": [
    {
     "name": "stdout",
     "output_type": "stream",
     "text": [
      "List is [10, 20, 30, 40]\n",
      "First element is 10\n",
      "Last element is 40\n"
     ]
    }
   ],
   "source": [
    "# Accessing elements of a list\n",
    "a = [ 10, 20, 30, 40 ]\n",
    "\n",
    "print('List is', a)                # You can print a list\n",
    "print('First element is', a[0] )\n",
    "print('Last element is', a[-1] )"
   ]
  },
  {
   "cell_type": "code",
   "execution_count": 4,
   "metadata": {},
   "outputs": [
    {
     "name": "stdout",
     "output_type": "stream",
     "text": [
      "[10, 20, 30]\n",
      "[90, 20, 30]\n"
     ]
    }
   ],
   "source": [
    "# Lists are mutable\n",
    "a = list( range( 10, 40, 10))\n",
    "print(a)\n",
    "\n",
    "a[0] = 90\n",
    "print(a)"
   ]
  },
  {
   "cell_type": "code",
   "execution_count": 5,
   "metadata": {},
   "outputs": [
    {
     "name": "stdout",
     "output_type": "stream",
     "text": [
      "False\n",
      "True\n"
     ]
    }
   ],
   "source": [
    "# Lists are comparable\n",
    "print( [ 0, 1, 2 ] == [ 4 ] )\n",
    "print( [ 0, 1, 2 ] == [ 0, 1, 2] )"
   ]
  },
  {
   "cell_type": "code",
   "execution_count": 6,
   "metadata": {},
   "outputs": [
    {
     "name": "stdout",
     "output_type": "stream",
     "text": [
      "[0, 1, 2, 'a', 'b']\n",
      "[10, 20, 10, 20, 10, 20]\n"
     ]
    }
   ],
   "source": [
    "# You can add and multiply, just like strings\n",
    "print( [ 0, 1, 2] + ['a', 'b' ] )\n",
    "print( [ 10, 20 ] * 3)"
   ]
  },
  {
   "cell_type": "code",
   "execution_count": 7,
   "metadata": {},
   "outputs": [
    {
     "name": "stdout",
     "output_type": "stream",
     "text": [
      "True\n"
     ]
    }
   ],
   "source": [
    "# The in operator also works:\n",
    "print( 'a' in [ 0, 1, 2, 'a', 'b' ])"
   ]
  },
  {
   "cell_type": "markdown",
   "metadata": {},
   "source": [
    "### List slices\n",
    "\n",
    "Slices in lists are formed similar to slices in strings. Only they can be assigned to."
   ]
  },
  {
   "cell_type": "code",
   "execution_count": 8,
   "metadata": {},
   "outputs": [
    {
     "name": "stdout",
     "output_type": "stream",
     "text": [
      "[20, 30]\n",
      "[40]\n",
      "[10, 20, 30]\n",
      "[10, 20, 30, 40, 50]\n"
     ]
    }
   ],
   "source": [
    "# Slices\n",
    "a = [10, 20, 30, 40, 50]\n",
    "print(a[1:3])\n",
    "print(a[-2:-1])\n",
    "\n",
    "print( a[:3] )\n",
    "print( a[:] )   # copy of the entire list\n"
   ]
  },
  {
   "cell_type": "code",
   "execution_count": 9,
   "metadata": {
    "scrolled": true
   },
   "outputs": [
    {
     "data": {
      "text/plain": [
       "[10, 'a', 'b', 'c', 2.5, 9.3, 40, 50]"
      ]
     },
     "execution_count": 9,
     "metadata": {},
     "output_type": "execute_result"
    }
   ],
   "source": [
    "# Assigning to slices. What you assign, must be iterable, such as a list\n",
    "\n",
    "a = [ 10, 20, 30, 40, 50]\n",
    "a[1:3] = ['a', 'b', 'c', 2.5, 9.3 ]   # Note length of what you assign can be more or less than what you overwrite.\n",
    "a"
   ]
  },
  {
   "cell_type": "code",
   "execution_count": 10,
   "metadata": {
    "scrolled": true
   },
   "outputs": [
    {
     "data": {
      "text/plain": [
       "[10, 40, 50]"
      ]
     },
     "execution_count": 10,
     "metadata": {},
     "output_type": "execute_result"
    }
   ],
   "source": [
    "# You can also delete entries this way...\n",
    "a = [ 10, 20, 30, 40, 50]\n",
    "a[1:3] = []\n",
    "a"
   ]
  },
  {
   "cell_type": "code",
   "execution_count": 14,
   "metadata": {},
   "outputs": [
    {
     "data": {
      "text/plain": [
       "[10, 11, 12, 30, 40, 50]"
      ]
     },
     "execution_count": 14,
     "metadata": {},
     "output_type": "execute_result"
    }
   ],
   "source": [
    "# And insert\n",
    "a = [ 10, 20, 30, 40, 50 ]\n",
    "a[1:1] = [ 11, 12 ]\n",
    "a"
   ]
  },
  {
   "cell_type": "code",
   "execution_count": 15,
   "metadata": {
    "scrolled": true
   },
   "outputs": [
    {
     "data": {
      "text/plain": [
       "[10, 'H', 'e', 'l', 'l', 'o', 40, 50]"
      ]
     },
     "execution_count": 15,
     "metadata": {},
     "output_type": "execute_result"
    }
   ],
   "source": [
    "# Strings are sequences too, so be careful when assigning them in a slice\n",
    "\n",
    "a = [ 10, 20, 30, 40, 50]\n",
    "a[1:3] = 'Hello'\n",
    "a\n"
   ]
  },
  {
   "cell_type": "code",
   "execution_count": 16,
   "metadata": {
    "scrolled": true
   },
   "outputs": [
    {
     "data": {
      "text/plain": [
       "[[100, 200, 300], 'Hello', 40, 50, 60, 70]"
      ]
     },
     "execution_count": 16,
     "metadata": {},
     "output_type": "execute_result"
    }
   ],
   "source": [
    "# To insert a string (or a list itself), put it in a list\n",
    "\n",
    "a = [ 10, 20, 30, 40, 50, 60, 70]\n",
    "a[1:3] = [ 'Hello' ]\n",
    "a[0:1] = [ [ 100, 200, 300 ] ]\n",
    "a\n"
   ]
  },
  {
   "cell_type": "code",
   "execution_count": 17,
   "metadata": {},
   "outputs": [
    {
     "name": "stdout",
     "output_type": "stream",
     "text": [
      "20\n",
      "[20]\n"
     ]
    }
   ],
   "source": [
    "# Note the difference between indexing and slicing\n",
    "\n",
    "a = [10, 20, 30, 40, 50]\n",
    "print( a[1] )      # indexing returns a single element\n",
    "print( a[1:2] )    # slicing returns a sublist (could be size 1)"
   ]
  },
  {
   "cell_type": "code",
   "execution_count": 18,
   "metadata": {},
   "outputs": [
    {
     "name": "stdout",
     "output_type": "stream",
     "text": [
      "[]\n"
     ]
    }
   ],
   "source": [
    "# Slice indexes also check for boundaries and replaces them with sensible values\n",
    "a = [ 1, 2, 3 ]\n",
    "\n",
    "print(a[100:200])   # indexes are too large, but not illegal"
   ]
  },
  {
   "cell_type": "markdown",
   "metadata": {},
   "source": [
    "## Aliasing\n",
    "\n",
    "Variables can refer to the same list\n",
    "\n",
    "You can use http://pythontutor.com to visualise this.\n",
    "\n",
    "For example, [this]( http://pythontutor.com/visualize.html#code=%23%20Lists%20are%20references%0Aa%20%3D%20%5B1,2,3%5D%0Ab%20%3D%20a%0Aa%5B0%5D%20%3D%2020%0A%0A%23%20Strings%20are%20immutable%0As%20%3D%20'hello'%0At%20%3D%20s%0A%0A%0A%23%20Integers%0Ai%20%3D%205%0Aj%20%3D%20i%0Ai%20%3D%207%0A&cumulative=false&curInstr=0&heapPrimitives=false&mode=display&origin=opt-frontend.js&py=3&rawInputLstJSON=%5B%5D&textReferences=false) demonstrates aliases and how it differs from strings and integers."
   ]
  },
  {
   "cell_type": "code",
   "execution_count": 19,
   "metadata": {},
   "outputs": [
    {
     "name": "stdout",
     "output_type": "stream",
     "text": [
      "List b is: [0, 1, 2]\n",
      "List a is [0, 'dog', 2]\n",
      "List b is [0, 'dog', 2]\n"
     ]
    }
   ],
   "source": [
    "# Aliases\n",
    "a = [ 0, 1, 2 ]\n",
    "b = a           # b is now an alias for a, referring to the same list\n",
    "print('List b is:', b)\n",
    "\n",
    "a[1] = 'dog'    # This will also change list b as they refer to the same list!\n",
    "\n",
    "print('List a is', a)\n",
    "print('List b is', b)"
   ]
  },
  {
   "cell_type": "code",
   "execution_count": 20,
   "metadata": {},
   "outputs": [
    {
     "name": "stdout",
     "output_type": "stream",
     "text": [
      "[10, 20, 30, 40]\n",
      "a is: [10, 'a', 30, 40]\n",
      "b is: [10, 20, 30, 40]\n"
     ]
    }
   ],
   "source": [
    "# To make a copy, you can use slicing\n",
    "\n",
    "a = [10, 20, 30, 40]\n",
    "b = a[:]     # this assigns a copy of a to b.\n",
    "\n",
    "print(b)\n",
    "\n",
    "# Now change a, but b remains the same\n",
    "a[1]='a'\n",
    "print('a is:', a)\n",
    "print('b is:', b)"
   ]
  },
  {
   "cell_type": "markdown",
   "metadata": {},
   "source": [
    "A visualsation of this can be found [here](http://pythontutor.com/visualize.html#code=a%20%3D%20%5B%2010,%2020,%2030,%2040,%2050%5D%0Ab%20%3D%20a%5B%3A%5D%0Ac%20%3D%20a%0A%0Aa%5B1%5D%20%3D%20'a'&cumulative=false&curInstr=0&heapPrimitives=false&mode=display&origin=opt-frontend.js&py=3&rawInputLstJSON=%5B%5D&textReferences=false)."
   ]
  },
  {
   "cell_type": "markdown",
   "metadata": {},
   "source": [
    "## Revisiting scoping and lists\n",
    "\n",
    "Remember that you cannot change a variable from outside a scope, inside a nested scope?\n",
    "That is still true, but if the variable refers to a list, you cannot let the variable point\n",
    "to another list (change the variable), but you can change the content of the list!\n"
   ]
  },
  {
   "cell_type": "code",
   "execution_count": 21,
   "metadata": {},
   "outputs": [
    {
     "data": {
      "text/plain": [
       "[1, 100, 3]"
      ]
     },
     "execution_count": 21,
     "metadata": {},
     "output_type": "execute_result"
    }
   ],
   "source": [
    "# Example: changing the content of a list inside a function\n",
    "\n",
    "list1 = [ 1, 2, 3 ]\n",
    "\n",
    "def f():\n",
    "    list1[1] = 100           # You can change the conten of the list\n",
    "    \n",
    "#    list1 = [ 100, 200, 300 ]  # you cannot change the variable itself\n",
    "    \n",
    "f()\n",
    "list1"
   ]
  },
  {
   "cell_type": "markdown",
   "metadata": {
    "collapsed": true
   },
   "source": [
    "## List methods\n",
    "\n",
    "Like strings there are many methods that you can use on lists.\n",
    "Most methods change the list itself and return None. \n",
    "Compared to strings (upper(), lowere()) this is different.\n"
   ]
  },
  {
   "cell_type": "code",
   "execution_count": 22,
   "metadata": {},
   "outputs": [
    {
     "name": "stdout",
     "output_type": "stream",
     "text": [
      "[1, 2, 3, 4]\n",
      "[1, 2, 3, 4, 10, 20, 30]\n",
      "[7, 25, 284, 344, 1262, 2549, 2603, 4762, 5834]\n"
     ]
    }
   ],
   "source": [
    "# Some methods\n",
    "a = [ 1, 2, 3 ]\n",
    "b = [ 10, 20, 30 ]\n",
    "\n",
    "# Appending at the end\n",
    "a.append( 4 )\n",
    "print( a )\n",
    "\n",
    "# Extend with an another list\n",
    "a.extend( b )\n",
    "print( a )\n",
    "\n",
    "# sorting a list\n",
    "c = [ 344,7,5834,4762,25,284,2603,1262,2549]\n",
    "c.sort()\n",
    "print(c)"
   ]
  },
  {
   "cell_type": "code",
   "execution_count": 23,
   "metadata": {},
   "outputs": [
    {
     "name": "stdout",
     "output_type": "stream",
     "text": [
      "Starting with list [0, 1, 2, 3, 4, 5, 6, 7]\n",
      "lenght of this list is 8\n",
      "Removed index 2 which is 3 leaving list [0, 1, 2, 4, 5, 6, 7]\n",
      "Removed last element 7 leaving list [0, 1, 2, 4, 5, 6]\n",
      "Removed element with value 5, leaving list [0, 1, 2, 4, 6]\n",
      "Removed slice [1:3] leaving list [0, 4, 6]\n"
     ]
    }
   ],
   "source": [
    "# Deleting an element\n",
    "\n",
    "a = list( range (8) )   # create a list from 0 .. 7\n",
    "\n",
    "print('Starting with list', a)\n",
    "print('lenght of this list is', len(a))\n",
    "\n",
    "element = a.pop( 3 )    # remove element at index 3\n",
    "print('Removed index 2 which is', element, 'leaving list', a)\n",
    "\n",
    "element = a.pop()       # default return last element\n",
    "print('Removed last element', element, 'leaving list', a)\n",
    "\n",
    "element = a.remove(5)   # remove element by name\n",
    "print('Removed element with value 5, leaving list', a)\n",
    "\n",
    "del a[1:3]              # remove a slice\n",
    "print('Removed slice [1:3] leaving list', a)\n"
   ]
  },
  {
   "cell_type": "markdown",
   "metadata": {},
   "source": [
    "## List traversal\n",
    "\n",
    "You can loop through the values of a list with a for loop:\n",
    "```python\n",
    "for i in list:\n",
    "   do_something_with_i\n",
    "```   "
   ]
  },
  {
   "cell_type": "code",
   "execution_count": 24,
   "metadata": {
    "scrolled": true
   },
   "outputs": [
    {
     "name": "stdout",
     "output_type": "stream",
     "text": [
      "234\n",
      "925\n",
      "36\n",
      "73\n",
      "846\n",
      "3625\n",
      "45\n",
      "34.5\n",
      "75\n",
      "72\n",
      "8\n",
      "943\n"
     ]
    }
   ],
   "source": [
    "a = [ 234,925,36,73,846,3625,45,34.5,75,72,8,943]\n",
    "\n",
    "for i in a:\n",
    "    print(i)"
   ]
  },
  {
   "cell_type": "markdown",
   "metadata": {},
   "source": [
    "<div class=\"alert alert-success\">\n",
    "<h2>Exercises</h2>\n",
    "Try Exercises 10.1 - 10.12.\n",
    "</div>"
   ]
  },
  {
   "cell_type": "code",
   "execution_count": null,
   "metadata": {
    "collapsed": true
   },
   "outputs": [],
   "source": []
  }
 ],
 "metadata": {
  "kernelspec": {
   "display_name": "Python 3",
   "language": "python",
   "name": "python3"
  },
  "language_info": {
   "codemirror_mode": {
    "name": "ipython",
    "version": 3
   },
   "file_extension": ".py",
   "mimetype": "text/x-python",
   "name": "python",
   "nbconvert_exporter": "python",
   "pygments_lexer": "ipython3",
   "version": "3.6.1"
  }
 },
 "nbformat": 4,
 "nbformat_minor": 1
}
