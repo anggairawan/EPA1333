{
 "cells": [
  {
   "cell_type": "markdown",
   "metadata": {},
   "source": [
    "# EPA1333 - Computer Engineering for Scientific Computing\n",
    "## Week 5 - Oct 3, 2017"
   ]
  },
  {
   "cell_type": "markdown",
   "metadata": {},
   "source": [
    "**Python Data Science Handbook**\n",
    "\n",
    "*Jake VanderPlas*\n"
   ]
  },
  {
   "cell_type": "code",
   "execution_count": null,
   "metadata": {
    "collapsed": true
   },
   "outputs": [],
   "source": [
    "from IPython.core.display import Image\n",
    "Image('https://covers.oreillystatic.com/images/0636920034919/lrg.jpg')"
   ]
  },
  {
   "cell_type": "markdown",
   "metadata": {},
   "source": [
    "## NumPy\n",
    "\n",
    "Fundamental package for scientific computing. It provides efficient and fast\n",
    "n-dimensional arrays (ndarray).\n",
    "\n",
    "  * Fast and space-efficient multidimensional array (close to hardware)\n",
    "  * Standard mathematical functions on entire array (scientific computing)\n",
    "  * Basis for other libraries, such as pandas.\n",
    "  * Array-oriented computing\n",
    "  \n",
    "  \n",
    "Example:\n",
    "  * Store results of experiments/simulations at each time-step in an array\n",
    "  * Store results of multiple such experiments/simulations in a 2-d array\n",
    "  * Store pixels of a 3-d image\n",
    "  * ...\n",
    "\n",
    "\n",
    "### Documentation\n",
    "  * http://www.numpy.org\n",
    "  * http://docs.scipy.org\n",
    "  * Google :-)\n"
   ]
  },
  {
   "cell_type": "code",
   "execution_count": null,
   "metadata": {
    "collapsed": true
   },
   "outputs": [],
   "source": [
    "%matplotlib inline\n",
    "import numpy as np"
   ]
  },
  {
   "cell_type": "code",
   "execution_count": null,
   "metadata": {
    "collapsed": true
   },
   "outputs": [],
   "source": [
    "# Comparing efficiency of python lists and numpy arrays\n",
    "# First python lists, time the creation of a list of 1000 squared entries.\n",
    "%timeit [ i**2 for i in range(1000)]"
   ]
  },
  {
   "cell_type": "code",
   "execution_count": null,
   "metadata": {
    "collapsed": true
   },
   "outputs": [],
   "source": [
    "# Now the numpy way... (syntax will follow later)\n",
    "# Speed is a 2 orders of magnitude faster! (100x)\n",
    "%timeit np.arange(1000)**2"
   ]
  },
  {
   "cell_type": "markdown",
   "metadata": {},
   "source": [
    "Numpy arrays have similar syntax to lists, but there are some differences.\n",
    "\n",
    "```python\n",
    "import numpy as np\n",
    "\n",
    "n = np.random.random( (3,4) )   # 2d array of 3x4, with random numbers\n",
    "\n",
    "n[2] -> 2th row\n",
    "n[2,3] -> element at row 2, column 3\n",
    "n[2:4] -> slice, rows 2 and 3, all columns\n",
    "n[2, 1:3] -> slice, row 2, columns 1 and 2\n",
    "n[:, 1] -> slice, column 1 (all rows)\n",
    "```"
   ]
  },
  {
   "cell_type": "markdown",
   "metadata": {},
   "source": [
    "### Differences between ndarray and lists\n",
    "\n",
    "* lists can contain *multiple types* in one list. ndarrays are of *one type only*.\n",
    " * No type checking necessary -> more efficient\n",
    "* Accessing: \n",
    " * list[x][y] vs. array[x,y]\n",
    " * list[:1][:1] does not work, vs. array[:1,:1] does work.\n",
    "* universal functions on arrays work efficiently: np.sin( array )"
   ]
  },
  {
   "cell_type": "markdown",
   "metadata": {},
   "source": [
    "### Creating arrays\n",
    "\n",
    "  * np.array( sequence )\n",
    "  * np.zeroes()\n",
    "  * np.ones()\n",
    "  * np.eye()\n",
    "  * np.arange( start, stop, step)\n",
    "  * np.linspace( start, stop, number) - create number samples between start, stop\n",
    "  * np.random.rand( size=(x,y) )"
   ]
  },
  {
   "cell_type": "code",
   "execution_count": null,
   "metadata": {
    "collapsed": true
   },
   "outputs": [],
   "source": [
    "# Creating an array\n",
    "l = [1 ,2 , 4, 5]\n",
    "\n",
    "data = np.array( l )\n",
    "data"
   ]
  },
  {
   "cell_type": "code",
   "execution_count": null,
   "metadata": {
    "collapsed": true
   },
   "outputs": [],
   "source": [
    "# Creating a 2d-array\n",
    "l = [ [1,2,3,4], [5,6,7,8] ]\n",
    "data = np.array(l)\n",
    "data"
   ]
  },
  {
   "cell_type": "code",
   "execution_count": null,
   "metadata": {
    "collapsed": true
   },
   "outputs": [],
   "source": [
    "# The nr of dimensions of an array\n",
    "data.ndim"
   ]
  },
  {
   "cell_type": "code",
   "execution_count": null,
   "metadata": {
    "collapsed": true
   },
   "outputs": [],
   "source": [
    "# The shape of the array\n",
    "data.shape"
   ]
  },
  {
   "cell_type": "code",
   "execution_count": null,
   "metadata": {
    "collapsed": true
   },
   "outputs": [],
   "source": [
    "# The type of the elements of the array\n",
    "data.dtype"
   ]
  },
  {
   "cell_type": "code",
   "execution_count": null,
   "metadata": {
    "collapsed": true
   },
   "outputs": [],
   "source": [
    "# Other ways to create an array\n",
    "data = np.zeros( 6 )\n",
    "data"
   ]
  },
  {
   "cell_type": "code",
   "execution_count": null,
   "metadata": {
    "collapsed": true
   },
   "outputs": [],
   "source": [
    "data = np.zeros ( ( 4, 6) )\n",
    "data"
   ]
  },
  {
   "cell_type": "code",
   "execution_count": null,
   "metadata": {
    "collapsed": true
   },
   "outputs": [],
   "source": [
    "# similar with 1's\n",
    "data = np.ones( ( 3,4) )\n",
    "data"
   ]
  },
  {
   "cell_type": "code",
   "execution_count": null,
   "metadata": {
    "collapsed": true
   },
   "outputs": [],
   "source": [
    "# Identity matrix\n",
    "data = np.eye( 4 )\n",
    "data"
   ]
  },
  {
   "cell_type": "code",
   "execution_count": null,
   "metadata": {
    "collapsed": true,
    "scrolled": true
   },
   "outputs": [],
   "source": [
    "# The arange, with begin, end, step\n",
    "data = np.arange(10)\n",
    "print(data)\n",
    "\n",
    "data = np.arange(10, 30, 3)\n",
    "print(data)"
   ]
  },
  {
   "cell_type": "code",
   "execution_count": null,
   "metadata": {
    "collapsed": true
   },
   "outputs": [],
   "source": [
    "# The linspace will return evenly spaced numbers over an interval\n",
    "data = np.linspace( 10, 90, 15)\n",
    "data"
   ]
  },
  {
   "cell_type": "code",
   "execution_count": null,
   "metadata": {
    "collapsed": true
   },
   "outputs": [],
   "source": [
    "# Create a matrix with random values\n",
    "\n",
    "data = np.random.randint( 10, 20, size=(3,4) )\n",
    "data"
   ]
  },
  {
   "cell_type": "code",
   "execution_count": null,
   "metadata": {
    "collapsed": true
   },
   "outputs": [],
   "source": [
    "# Reshaping the dimensions of an array\n",
    "data = np.arange( 20 ).reshape( (4, 5) )\n",
    "data"
   ]
  },
  {
   "cell_type": "markdown",
   "metadata": {},
   "source": [
    "## Basic indexing, slicing\n",
    "\n",
    "Accessing arrays is similar to accessing lists."
   ]
  },
  {
   "cell_type": "code",
   "execution_count": null,
   "metadata": {
    "collapsed": true
   },
   "outputs": [],
   "source": [
    "# Create a 3x4 matrix to demonstrate indexing and slicing\n",
    "data = np.arange(12).reshape( (3, 4) )\n",
    "data\n"
   ]
  },
  {
   "cell_type": "code",
   "execution_count": null,
   "metadata": {
    "collapsed": true
   },
   "outputs": [],
   "source": [
    "# Select a row, indexing starts at 0 as usual\n",
    "data[1]"
   ]
  },
  {
   "cell_type": "code",
   "execution_count": null,
   "metadata": {
    "collapsed": true
   },
   "outputs": [],
   "source": [
    "# The list way to select an item\n",
    "data[1][3]"
   ]
  },
  {
   "cell_type": "code",
   "execution_count": null,
   "metadata": {
    "collapsed": true
   },
   "outputs": [],
   "source": [
    "# With arrays we can write this instead: array[x,y]\n",
    "data[ 1,3 ]"
   ]
  },
  {
   "cell_type": "code",
   "execution_count": null,
   "metadata": {
    "collapsed": true
   },
   "outputs": [],
   "source": [
    "# slicing, selecting subsections of array\n",
    "data[0:2]"
   ]
  },
  {
   "cell_type": "code",
   "execution_count": null,
   "metadata": {
    "collapsed": true
   },
   "outputs": [],
   "source": [
    "data[0:2, 1:3]"
   ]
  },
  {
   "cell_type": "code",
   "execution_count": null,
   "metadata": {
    "collapsed": true
   },
   "outputs": [],
   "source": [
    "data[1, 1:3] "
   ]
  },
  {
   "cell_type": "code",
   "execution_count": null,
   "metadata": {
    "collapsed": true
   },
   "outputs": [],
   "source": [
    "# Selecting a column\n",
    "data[:, 2]"
   ]
  },
  {
   "cell_type": "code",
   "execution_count": null,
   "metadata": {
    "collapsed": true
   },
   "outputs": [],
   "source": [
    "# Or as 2 slices, the results are different!\n",
    "data[:, 2:3]"
   ]
  },
  {
   "cell_type": "code",
   "execution_count": null,
   "metadata": {
    "collapsed": true
   },
   "outputs": [],
   "source": [
    "# Let's use a bigger matrix\n",
    "data = np.arange(30).reshape((5,6))\n",
    "data\n"
   ]
  },
  {
   "cell_type": "code",
   "execution_count": null,
   "metadata": {
    "collapsed": true
   },
   "outputs": [],
   "source": [
    "# Slices with begin, end, step\n",
    "data[1:4:2]\n"
   ]
  },
  {
   "cell_type": "code",
   "execution_count": null,
   "metadata": {
    "collapsed": true,
    "scrolled": true
   },
   "outputs": [],
   "source": [
    "data[1:4:2, ::2]\n"
   ]
  },
  {
   "cell_type": "markdown",
   "metadata": {},
   "source": [
    "### Changing values in arrays\n",
    "\n",
    "Like lists, you can change values in arrays with indexes and slices."
   ]
  },
  {
   "cell_type": "code",
   "execution_count": null,
   "metadata": {
    "collapsed": true
   },
   "outputs": [],
   "source": [
    "data"
   ]
  },
  {
   "cell_type": "code",
   "execution_count": null,
   "metadata": {
    "collapsed": true
   },
   "outputs": [],
   "source": [
    "data[0,1] = 100\n",
    "data"
   ]
  },
  {
   "cell_type": "code",
   "execution_count": null,
   "metadata": {
    "collapsed": true
   },
   "outputs": [],
   "source": [
    "data[0:2, -2:] = 200\n",
    "data"
   ]
  },
  {
   "cell_type": "code",
   "execution_count": null,
   "metadata": {
    "collapsed": true
   },
   "outputs": [],
   "source": [
    "# Change a whole row\n",
    "data[-1] = 99\n",
    "data"
   ]
  },
  {
   "cell_type": "code",
   "execution_count": null,
   "metadata": {
    "collapsed": true,
    "scrolled": true
   },
   "outputs": [],
   "source": [
    "# Change a whole column\n",
    "data[:,2] = [-1,-2,-3,-4,-5]\n",
    "data"
   ]
  },
  {
   "cell_type": "markdown",
   "metadata": {},
   "source": [
    "### Exercise 1: Creating arrays\n",
    "\n",
    " 1. Create an array filled with a repeated pattern (e.g. 5 times) of [1,2,3].\n",
    " \n",
    "    *Hint:* Look at the method np.tile().\n",
    "    \n",
    "    Try multiple dimensions too.\n",
    "    \n",
    " 2. Create a 8x8 matrix where the center is 0's and the four borders are 1. \n",
    " 3. Create a checkered 8x8 matrix where the elements alternate 0 and 1. \n",
    "    *Hint:* Use slices and assignment."
   ]
  },
  {
   "cell_type": "code",
   "execution_count": null,
   "metadata": {
    "collapsed": true
   },
   "outputs": [],
   "source": [
    "# solve ex. 1 here\n",
    "# 1\n",
    "# 1.1\n",
    "\n"
   ]
  },
  {
   "cell_type": "code",
   "execution_count": null,
   "metadata": {
    "collapsed": true
   },
   "outputs": [],
   "source": [
    "# 1.2\n",
    "\n"
   ]
  },
  {
   "cell_type": "code",
   "execution_count": null,
   "metadata": {
    "collapsed": true
   },
   "outputs": [],
   "source": [
    "# 1.3"
   ]
  },
  {
   "cell_type": "markdown",
   "metadata": {},
   "source": [
    "### Boolean indexing\n",
    "\n",
    "You can select elements in an array based on booleans.\n",
    "\n",
    "``` python\n",
    "a = array([ 1, 2, 3, 4] )\n",
    "b = array([ True, False, False, True ])\n",
    "a[b] -> array([1, 4])\n",
    "```"
   ]
  },
  {
   "cell_type": "code",
   "execution_count": null,
   "metadata": {
    "collapsed": true
   },
   "outputs": [],
   "source": [
    "a = np.arange(1,5)\n",
    "print(a)\n",
    "b = np.array([ True, False, False, True ])\n",
    "c = a[b]\n",
    "print(c.size)\n",
    "print(c)"
   ]
  },
  {
   "cell_type": "code",
   "execution_count": null,
   "metadata": {
    "collapsed": true
   },
   "outputs": [],
   "source": [
    "# Comparing values in an array\n",
    "# First create a random array to demonstrate this\n",
    "data = np.random.randint( 5, size=(3,4) )\n",
    "data"
   ]
  },
  {
   "cell_type": "code",
   "execution_count": null,
   "metadata": {
    "collapsed": true
   },
   "outputs": [],
   "source": [
    "# Which values are equal to ...\n",
    "data == 2"
   ]
  },
  {
   "cell_type": "code",
   "execution_count": null,
   "metadata": {
    "collapsed": true
   },
   "outputs": [],
   "source": [
    "# Use this boolean array as index into the array\n",
    "data[ data == 2 ]"
   ]
  },
  {
   "cell_type": "code",
   "execution_count": null,
   "metadata": {
    "collapsed": true
   },
   "outputs": [],
   "source": [
    "# Another example, find all values > 3\n",
    "data[ data >= 3 ]"
   ]
  },
  {
   "cell_type": "code",
   "execution_count": null,
   "metadata": {
    "collapsed": true
   },
   "outputs": [],
   "source": [
    "# Selecting entire rows ...\n",
    "a = np.array( [False, True, False] )\n",
    "data[a]"
   ]
  },
  {
   "cell_type": "markdown",
   "metadata": {},
   "source": [
    "### Example: student grades\n",
    "\n",
    "Consider the following 2 arrays:\n",
    "  * 1-d array with student names\n",
    "  * 2-d array with multiple grades on rows. Each row contains the grades\n",
    "  of one student."
   ]
  },
  {
   "cell_type": "code",
   "execution_count": null,
   "metadata": {
    "collapsed": true
   },
   "outputs": [],
   "source": [
    "# Generate some names and grades.\n",
    "student = np.array(['Anne', 'Bob', 'Mary', 'John'])\n",
    "grades = 6 * np.random.random(size=(4, 8)) + 4\n",
    "grades"
   ]
  },
  {
   "cell_type": "code",
   "execution_count": null,
   "metadata": {
    "collapsed": true
   },
   "outputs": [],
   "source": [
    "# Show the grades of Bob\n",
    "bob_grades =  grades[ student == 'Bob' ]\n",
    "bob_grades"
   ]
  },
  {
   "cell_type": "code",
   "execution_count": null,
   "metadata": {
    "collapsed": true
   },
   "outputs": [],
   "source": [
    "# Note, the answer is still a 2d array (1,8) \n",
    "bob_grades.shape"
   ]
  },
  {
   "cell_type": "code",
   "execution_count": null,
   "metadata": {
    "collapsed": true
   },
   "outputs": [],
   "source": [
    "# Enumerate over the entries in the array\n",
    "for (nr, g) in enumerate( bob_grades[0] ):\n",
    "    print( \"Grade %d is %.1f\" % (nr+1, g) )"
   ]
  },
  {
   "cell_type": "code",
   "execution_count": null,
   "metadata": {
    "collapsed": true
   },
   "outputs": [],
   "source": [
    "# Show the grades of Anne and Mary\n",
    "# Use parenthesis! \n",
    "# or = |\n",
    "# and = &\n",
    "grades [ (student == 'Anne') | (student == 'Mary') ]"
   ]
  },
  {
   "cell_type": "code",
   "execution_count": null,
   "metadata": {
    "collapsed": true
   },
   "outputs": [],
   "source": [
    "# Show all the grades that did not pass\n",
    "grades[grades < 5.8]"
   ]
  },
  {
   "cell_type": "code",
   "execution_count": null,
   "metadata": {
    "collapsed": true
   },
   "outputs": [],
   "source": [
    "# Show the names who have received a 9.0 or higher at least once\n",
    "\n",
    "# First, which values are >= 9\n",
    "grades >= 9.0"
   ]
  },
  {
   "cell_type": "code",
   "execution_count": null,
   "metadata": {
    "collapsed": true
   },
   "outputs": [],
   "source": [
    "# Now for each row, which ones have a True at least once...\n",
    "np.any( grades > 9, axis=1 )"
   ]
  },
  {
   "cell_type": "code",
   "execution_count": null,
   "metadata": {
    "collapsed": true,
    "scrolled": true
   },
   "outputs": [],
   "source": [
    "# Now use this as a boolean index into the student names.\n",
    "student[ np.any( grades > 9, axis=1) ]"
   ]
  },
  {
   "cell_type": "code",
   "execution_count": null,
   "metadata": {
    "collapsed": true
   },
   "outputs": [],
   "source": [
    "# Show the min, max, and average grade\n",
    "print(\"Min\", grades.min())\n",
    "print(\"Max\", grades.max())\n",
    "print(\"Mean\", grades.mean())"
   ]
  },
  {
   "cell_type": "code",
   "execution_count": null,
   "metadata": {
    "collapsed": true
   },
   "outputs": [],
   "source": [
    "# Bob's average\n",
    "grades[ student == 'Bob' ].mean()"
   ]
  },
  {
   "cell_type": "code",
   "execution_count": null,
   "metadata": {
    "collapsed": true
   },
   "outputs": [],
   "source": [
    "# Averages per student\n",
    "# mean() can take an argument to take the mean by collapsing a given axis (0=row, 1=column)\n",
    "# This means: axis=0 - calculate mean per column, axis=1 - calculate men per row.\n",
    "# No argument: average of all values.\n",
    "# max and min can take the same argument.\n",
    "grades.mean( axis=1 )\n"
   ]
  },
  {
   "cell_type": "code",
   "execution_count": null,
   "metadata": {
    "collapsed": true
   },
   "outputs": [],
   "source": [
    "for (name, grade) in zip( student, grades.mean( axis=1 )):\n",
    "    print('Average of %s is %.1f' % (name, grade) )"
   ]
  },
  {
   "cell_type": "code",
   "execution_count": null,
   "metadata": {
    "collapsed": true,
    "scrolled": true
   },
   "outputs": [],
   "source": [
    "# Average grade per test (mean per column),\n",
    "# so we can see which test was made the most difficult.\n",
    "grades.mean( axis = 0 )"
   ]
  },
  {
   "cell_type": "code",
   "execution_count": null,
   "metadata": {
    "collapsed": true,
    "scrolled": true
   },
   "outputs": [],
   "source": [
    "# Quick peek: Let's plot the averages\n",
    "import matplotlib.pyplot as plt\n",
    "plt.bar( np.arange( grades.shape[1] ), grades.mean( axis = 0 ) )"
   ]
  },
  {
   "cell_type": "code",
   "execution_count": null,
   "metadata": {
    "collapsed": true
   },
   "outputs": [],
   "source": [
    "# Or plot the averages of each student\n",
    "plt.bar( np.arange( grades.shape[0]), grades.mean( axis = 1), align='center', color='red' )\n",
    "\n",
    "# Nice labels on the x-axis\n",
    "plt.xticks( np.arange( len(student) ), student)\n",
    "\n",
    "# Label the axis\n",
    "plt.xlabel(\"Student\")\n",
    "plt.ylabel(\"Grade\")\n",
    "\n",
    "# Put the actual grade on top of the bars, for clarity\n",
    "for (i, grade) in enumerate( grades.mean(axis=1)):\n",
    "    plt.text( i - 0.13, grade + 0.25, \"%.2f\" % (grade) )\n"
   ]
  },
  {
   "cell_type": "markdown",
   "metadata": {},
   "source": [
    "### Mathematical and Statistical functions\n",
    "\n",
    "Some useful functions:\n",
    "  * min(), max()\n",
    "  * mean()\n",
    "  * std(), var() - standard deviation and variance\n",
    "  \n",
    "  * argmin(), argmax() - index of the minimum/maximum argument\n",
    "  \n",
    "  * sum() - sum of all elements in array or along an axis.\n",
    "  * cumsum() - cumulative sum of elements, starting at 0\n",
    "  * cumprod() - cumulative product of elements, starting at 1\n",
    "  "
   ]
  },
  {
   "cell_type": "code",
   "execution_count": null,
   "metadata": {
    "collapsed": true
   },
   "outputs": [],
   "source": [
    "a = np.arange(8).reshape( (2,4) )\n",
    "a"
   ]
  },
  {
   "cell_type": "code",
   "execution_count": null,
   "metadata": {
    "collapsed": true
   },
   "outputs": [],
   "source": [
    "# Note the use of the axis argument \n",
    "print(\"Max =\", a.max())\n",
    "print(\"Max along axis 0 =\", a.max(axis=0))\n",
    "print(\"Max along axis 1 =\", a.max(axis=1))"
   ]
  },
  {
   "cell_type": "code",
   "execution_count": null,
   "metadata": {
    "collapsed": true
   },
   "outputs": [],
   "source": [
    "a = np.random.randint( 10, size=(2,4) )\n",
    "a"
   ]
  },
  {
   "cell_type": "code",
   "execution_count": null,
   "metadata": {
    "collapsed": true
   },
   "outputs": [],
   "source": [
    "# Find the index of the smallest value\n",
    "print(\"index of smallest value =\", a.argmin())\n",
    "print(\"index of smallest value along axis 0 =\", a.argmin(axis=0))\n",
    "print(\"index of smallest value along axis 1 =\", a.argmin(axis=1))"
   ]
  },
  {
   "cell_type": "code",
   "execution_count": null,
   "metadata": {
    "collapsed": true,
    "scrolled": false
   },
   "outputs": [],
   "source": [
    "# Cumsum demonstration\n",
    "print(\"Cumsum =\", a.cumsum())\n",
    "print(\"Cumsum along axis 0 =\\n\", a.cumsum(axis=0))\n",
    "print(\"Cumsum along axis 1 =\\n\", a.cumsum(axis=1))"
   ]
  },
  {
   "cell_type": "markdown",
   "metadata": {},
   "source": [
    "### Universal functions: Fast element-wise array functions\n",
    "\n",
    "A universal function (*ufunc*) performs an element-wise operation on ndarrays.\n",
    "\n",
    "  * sqrt()\n",
    "  * square()\n",
    "  * exp\n",
    "  * log/log10/log2\n",
    "  * sin/cos/tan/arcsin/arccos/arctan/...\n",
    "  * abs  - absolute values\n",
    "  * ceil/floor - rounding to nearst integer (down/up)\n",
    "  \n",
    "There are also binary universal functions\n",
    "  * add / subtract/ multiply / divide - element-wise for two arrays\n",
    "  * maximum / minimum - element-wise maximum / minimum of two arrays\n",
    "  * greater / greater_equal / less / less_equal / equal / not_equal - \n",
    "      element-wise comparison, yiels ndarray of booleans\n",
    "  * ..."
   ]
  },
  {
   "cell_type": "code",
   "execution_count": null,
   "metadata": {
    "collapsed": true
   },
   "outputs": [],
   "source": [
    "# Example\n",
    "a = np.arange(10)\n",
    "print(a)\n",
    "\n",
    "np.sqrt(a)"
   ]
  },
  {
   "cell_type": "code",
   "execution_count": null,
   "metadata": {
    "collapsed": true
   },
   "outputs": [],
   "source": [
    "np.exp(a)"
   ]
  },
  {
   "cell_type": "code",
   "execution_count": null,
   "metadata": {
    "collapsed": true
   },
   "outputs": [],
   "source": [
    "# Create 2 random arrays, normal distribution\n",
    "a = np.random.randn(4)\n",
    "b = np.random.randn(4)\n",
    "\n",
    "print(a)\n",
    "print(b)"
   ]
  },
  {
   "cell_type": "code",
   "execution_count": null,
   "metadata": {
    "collapsed": true
   },
   "outputs": [],
   "source": [
    "# Pick the maximum of both arrays\n",
    "np.maximum(a, b)"
   ]
  },
  {
   "cell_type": "code",
   "execution_count": null,
   "metadata": {
    "collapsed": true
   },
   "outputs": [],
   "source": [
    "# Compare two arrays (element-wise)\n",
    "np.greater(a,b)"
   ]
  },
  {
   "cell_type": "markdown",
   "metadata": {},
   "source": [
    "## Methods on boolean arrays and conditional logic\n",
    "\n",
    "To check for the existence of boolean values in an array we can use:\n",
    "\n",
    "  * array.any( axis )   - check if any value is True (non-zero) in array\n",
    "  * array.all( axis )   - check if all values are True (non-zero) in array\n",
    "  \n",
    "  * np.any( array )     - equivalent functions\n",
    "  * np.all( arraY )    \n",
    "  \n",
    "The argument axis can be used to determine if the check should be along an axis.\n",
    "  \n",
    "With np.where( cond, array_x, array_y ) we can select values from array_x or array_y\n",
    "based on a condition.\n",
    " "
   ]
  },
  {
   "cell_type": "code",
   "execution_count": null,
   "metadata": {
    "collapsed": true
   },
   "outputs": [],
   "source": [
    "# Example\n",
    "a = np.array( [True, False, False ] )\n",
    "print(\"a.any():\", a.any())\n",
    "print(\"a.all():\", a.all())"
   ]
  },
  {
   "cell_type": "code",
   "execution_count": null,
   "metadata": {
    "collapsed": true
   },
   "outputs": [],
   "source": [
    "# Let's see a 2d matrix:\n",
    "a = np.array( [ [True, False, False] , [ True, True, False]])\n",
    "a\n"
   ]
  },
  {
   "cell_type": "code",
   "execution_count": null,
   "metadata": {
    "collapsed": true
   },
   "outputs": [],
   "source": [
    "# Check along row-axis, which means create a value for each column\n",
    "print(\"a.any(axis=0)\", a.any(axis=0))"
   ]
  },
  {
   "cell_type": "code",
   "execution_count": null,
   "metadata": {
    "collapsed": true
   },
   "outputs": [],
   "source": [
    "# Check along column-axis, which means create a value for each row\n",
    "print(\"a.any(axis=1)\", a.any(axis=1))"
   ]
  },
  {
   "cell_type": "markdown",
   "metadata": {},
   "source": [
    "Example of np.where, see next example"
   ]
  },
  {
   "cell_type": "markdown",
   "metadata": {},
   "source": [
    "### Operations on arrays\n",
    "\n",
    "Simple operations such as + - * / are defined. They all work on each element separately.\n"
   ]
  },
  {
   "cell_type": "code",
   "execution_count": null,
   "metadata": {
    "collapsed": true
   },
   "outputs": [],
   "source": [
    "a = np.arange(1,10).reshape( (3,3) )\n",
    "b = np.arange(11,20).reshape( (3,3) )\n",
    "print(a)\n",
    "print(b)"
   ]
  },
  {
   "cell_type": "code",
   "execution_count": null,
   "metadata": {
    "collapsed": true
   },
   "outputs": [],
   "source": [
    "# Same as np.add(a, b)\n",
    "a + b"
   ]
  },
  {
   "cell_type": "code",
   "execution_count": null,
   "metadata": {
    "collapsed": true
   },
   "outputs": [],
   "source": [
    "# Same as np.subtract(b, a)\n",
    "b - a"
   ]
  },
  {
   "cell_type": "code",
   "execution_count": null,
   "metadata": {
    "collapsed": true
   },
   "outputs": [],
   "source": [
    "# Same as np.multiply(a, b)\n",
    "a * b"
   ]
  },
  {
   "cell_type": "code",
   "execution_count": null,
   "metadata": {
    "collapsed": true,
    "scrolled": true
   },
   "outputs": [],
   "source": [
    "# Same as np.divide(b, a)\n",
    "b / a "
   ]
  },
  {
   "cell_type": "code",
   "execution_count": null,
   "metadata": {
    "collapsed": true
   },
   "outputs": [],
   "source": [
    "# Operators with scalers work similar\n",
    "a + 100"
   ]
  },
  {
   "cell_type": "code",
   "execution_count": null,
   "metadata": {
    "collapsed": true
   },
   "outputs": [],
   "source": [
    "a * 2"
   ]
  },
  {
   "cell_type": "code",
   "execution_count": null,
   "metadata": {
    "collapsed": true,
    "scrolled": true
   },
   "outputs": [],
   "source": [
    "1 / a"
   ]
  },
  {
   "cell_type": "markdown",
   "metadata": {},
   "source": [
    "### Sorting and unique\n",
    "\n",
    "There are 2 ways to sort an array:\n",
    "  * array.sort() - sorts the array in-place\n",
    "  * np.sort( array ) - returns a new sorted array\n",
    "  \n",
    "  * np.unique( array ) - returns a new sorted array with unique elements only.\n",
    "  "
   ]
  },
  {
   "cell_type": "code",
   "execution_count": null,
   "metadata": {
    "collapsed": true,
    "scrolled": true
   },
   "outputs": [],
   "source": [
    "a = np.random.randint( 10, size=(3,4) )\n",
    "a"
   ]
  },
  {
   "cell_type": "code",
   "execution_count": null,
   "metadata": {
    "collapsed": true
   },
   "outputs": [],
   "source": [
    "# With multi-dimensional arrays, think about the axis along which to sort.\n",
    "# axis = None : flatten the array\n",
    "# if axis not specified, sorted along the last axis.\n",
    "np.sort( a, axis=None )"
   ]
  },
  {
   "cell_type": "code",
   "execution_count": null,
   "metadata": {
    "collapsed": true
   },
   "outputs": [],
   "source": [
    "# Sort along row-axis, so sort the values in each \"column\"\n",
    "np.sort( a, axis=0)"
   ]
  },
  {
   "cell_type": "code",
   "execution_count": null,
   "metadata": {
    "collapsed": true
   },
   "outputs": [],
   "source": [
    "# This is how to sort per row.\n",
    "np.sort( a, axis=1 )"
   ]
  },
  {
   "cell_type": "code",
   "execution_count": null,
   "metadata": {
    "collapsed": true
   },
   "outputs": [],
   "source": [
    "# Find all unique elements in array.\n",
    "np.unique( a )"
   ]
  },
  {
   "cell_type": "markdown",
   "metadata": {},
   "source": [
    "### Exercise 2: Student and Grades\n",
    "\n",
    "For the following questions, use the following student name array:\n",
    "\n",
    "```\n",
    "students = np.array(['Anne', 'Bob', 'Mary', 'John', 'Julia', 'Mike', 'Susan', 'Zach'])\n",
    "```\n",
    "\n",
    "  1. Generate a 8x20 matrix with (random) grades, representing the grades for each student (chose reasonable (random) values) for 20 assignments each.\n",
    "  2. Find the students with the highest and with the lowest grade average\n",
    "  3. Print a list of students and their average grades, sorted in descending order of average grades.\n",
    "  \n",
    "     *Hint* Use np.argsort(). To reverse a list you can use array[::-1]\n",
    "  4. Find the average grade for each student, but ignore the failed grades (< 5.8)\n",
    "  \n",
    "     *Hint* Use np.ma.masked_array() to create a grade matrix in which you mask out the not wanted values. Then you can calculate the mean() value for the matrix ignoring masked out values."
   ]
  },
  {
   "cell_type": "code",
   "execution_count": null,
   "metadata": {
    "collapsed": true
   },
   "outputs": [],
   "source": [
    "# 2.1"
   ]
  },
  {
   "cell_type": "code",
   "execution_count": null,
   "metadata": {
    "collapsed": true
   },
   "outputs": [],
   "source": [
    "# 2.2"
   ]
  },
  {
   "cell_type": "code",
   "execution_count": null,
   "metadata": {
    "collapsed": true
   },
   "outputs": [],
   "source": [
    "# 2.3"
   ]
  },
  {
   "cell_type": "code",
   "execution_count": null,
   "metadata": {
    "collapsed": true
   },
   "outputs": [],
   "source": [
    "# 2.4"
   ]
  }
 ],
 "metadata": {
  "kernelspec": {
   "display_name": "Python 3",
   "language": "python",
   "name": "python3"
  },
  "language_info": {
   "codemirror_mode": {
    "name": "ipython",
    "version": 3
   },
   "file_extension": ".py",
   "mimetype": "text/x-python",
   "name": "python",
   "nbconvert_exporter": "python",
   "pygments_lexer": "ipython3",
   "version": "3.6.1"
  },
  "widgets": {
   "state": {
    "1f3c8866be444f01a6c26a33633f942f": {
     "views": [
      {
       "cell_index": 153
      }
     ]
    },
    "55f1c98984fe471b9a84c3f00b3c0125": {
     "views": [
      {
       "cell_index": 136
      }
     ]
    },
    "96ed3306c7124456b3fd14d3f9fb3874": {
     "views": [
      {
       "cell_index": 135
      }
     ]
    },
    "9718facd923342d8a5b29ae73650a637": {
     "views": [
      {
       "cell_index": 137
      }
     ]
    },
    "b0c1e26dc8244d3db380fbb96cfaf59e": {
     "views": [
      {
       "cell_index": 138
      }
     ]
    }
   },
   "version": "1.2.0"
  }
 },
 "nbformat": 4,
 "nbformat_minor": 1
}
