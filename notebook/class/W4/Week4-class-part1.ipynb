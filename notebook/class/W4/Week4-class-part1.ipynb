{
 "cells": [
  {
   "cell_type": "markdown",
   "metadata": {},
   "source": [
    "# EPA1333 - Computer Engineering for Scientific Computing\n",
    "## Week 4 - Sept 26, 2017"
   ]
  },
  {
   "cell_type": "markdown",
   "metadata": {},
   "source": [
    "**Think  Python** -\n",
    "**How to Think Like a Computer Scientist**\n",
    "\n",
    "*Allen B. Downey*\n"
   ]
  },
  {
   "cell_type": "markdown",
   "metadata": {},
   "source": [
    "## Ch 11: Dictionaries\n",
    "\n",
    "A dictionary is a very versatile data structure. It consists of *(key, value)* pairs.\n",
    "\n",
    "```python\n",
    "d = dict()\n",
    "\n",
    "d = { 'k1' : 'v1', 'k2' : 'v2' }\n",
    "\n",
    "d['k3'] = 'v3'\n",
    "```\n",
    "  \n",
    "You can only ask values based on key. There is no 'order', you cannot ask\n",
    "for the first, second, etc. \n",
    "\n",
    "To traverse a dictionary you can get a (sorted) list of keys, a list of values or\n",
    "a list of key, value pairs."
   ]
  },
  {
   "cell_type": "code",
   "execution_count": 1,
   "metadata": {
    "scrolled": true
   },
   "outputs": [
    {
     "name": "stdout",
     "output_type": "stream",
     "text": [
      "<class 'dict'>\n"
     ]
    }
   ],
   "source": [
    "# Example 1: dictionaries are a type\n",
    "\n",
    "d = {}  # empty dictionary\n",
    "\n",
    "print( type(d ) )\n",
    " "
   ]
  },
  {
   "cell_type": "code",
   "execution_count": null,
   "metadata": {
    "collapsed": true
   },
   "outputs": [],
   "source": [
    "# initializing dictionaries\n",
    "\n",
    "a = { 1 : 'one', 2 : 'two' , 3 : 'three' }\n",
    "\n",
    "# values can be anything, including lists and dictionaries\n",
    "b = { 'a' : [1,2,3], 'b' : a }\n",
    "\n",
    "print(a)\n",
    "print(b)"
   ]
  },
  {
   "cell_type": "code",
   "execution_count": null,
   "metadata": {
    "collapsed": true
   },
   "outputs": [],
   "source": [
    "# Accessing elements of a dictionary\n",
    "a = { 1 : 'one', 2 : 'two' , 3 : 'three' }\n",
    "\n",
    "print('Dictionary is', a)                # You can print a dictionary\n",
    "print('Key 1 has value', a[1] )\n",
    "print('Key 3 has value', a[3] )\n",
    "print()\n",
    "\n",
    "print('Dictionary is', b)\n",
    "print('Key a has value', b['a'])"
   ]
  },
  {
   "cell_type": "code",
   "execution_count": null,
   "metadata": {
    "collapsed": true
   },
   "outputs": [],
   "source": [
    "# Dictionaries are mutable\n",
    "print(a)\n",
    "\n",
    "a[3] = 'Something else'\n",
    "print(a)"
   ]
  },
  {
   "cell_type": "code",
   "execution_count": null,
   "metadata": {
    "collapsed": true
   },
   "outputs": [],
   "source": [
    "# Dicts are comparable\n",
    "print( { 1 : 'a', 2 : 'b'} == { 1: 'a', 2: 'b'})  # the same dictionaries\n",
    "\n",
    "print( { 1 : 'a', 2 : 'b'} == { 2: 'b', 1: 'a'})  # order of keys does not matter\n",
    "\n",
    "print( {1:1, 2:2} == {2:2, 1:1, 3:3} )            # size of dictionary does matter\n"
   ]
  },
  {
   "cell_type": "code",
   "execution_count": null,
   "metadata": {
    "collapsed": true
   },
   "outputs": [],
   "source": [
    "# But no + and * operands...\n",
    "{ 'a' : 1 } + { 'b' : 2 }"
   ]
  },
  {
   "cell_type": "code",
   "execution_count": null,
   "metadata": {
    "collapsed": true
   },
   "outputs": [],
   "source": [
    "# Adding values to a dictionary\n",
    "\n",
    "# Just assign a value to it\n",
    "a = { 'a' : 1, 'b' : 20}\n",
    "\n",
    "a['c'] = 300\n",
    "\n",
    "print(a)           # Note the order of keys is not sorted\n"
   ]
  },
  {
   "cell_type": "code",
   "execution_count": null,
   "metadata": {
    "collapsed": true
   },
   "outputs": [],
   "source": [
    "# The in operator is defined for keys\n",
    "print( 'c'  in a )\n",
    "\n",
    "print( 1 in a )"
   ]
  },
  {
   "cell_type": "code",
   "execution_count": null,
   "metadata": {
    "collapsed": true
   },
   "outputs": [],
   "source": [
    "# Traversing a dictionary\n",
    "\n",
    "for key in a:\n",
    "    print(key, a[key] )"
   ]
  },
  {
   "cell_type": "code",
   "execution_count": null,
   "metadata": {
    "collapsed": true
   },
   "outputs": [],
   "source": [
    "# Traversing a dictionary in order\n",
    "\n",
    "for key in sorted(a):\n",
    "    print( key, a[key])"
   ]
  },
  {
   "cell_type": "code",
   "execution_count": null,
   "metadata": {
    "collapsed": true
   },
   "outputs": [],
   "source": [
    "# Traversing the values\n",
    "\n",
    "for value in a.values():\n",
    "    print( value )"
   ]
  },
  {
   "cell_type": "code",
   "execution_count": null,
   "metadata": {
    "collapsed": true
   },
   "outputs": [],
   "source": [
    "# Traversing key, value pairs\n",
    "\n",
    "for item in a.items():\n",
    "    print(item)"
   ]
  },
  {
   "cell_type": "code",
   "execution_count": null,
   "metadata": {
    "collapsed": true
   },
   "outputs": [],
   "source": [
    "# Traversing key, value pairs, using tuple assignment (see later)\n",
    "\n",
    "for key, value in a.items():\n",
    "    print(key, value)"
   ]
  },
  {
   "cell_type": "code",
   "execution_count": null,
   "metadata": {
    "collapsed": true
   },
   "outputs": [],
   "source": [
    "# Deleting values from a dictionary\n",
    "\n",
    "del a['a']\n",
    "a"
   ]
  },
  {
   "cell_type": "markdown",
   "metadata": {},
   "source": [
    "### Using dictionaries: counting / histogram\n",
    "\n",
    "Typical uses for dictionaries is to count occurrences."
   ]
  },
  {
   "cell_type": "code",
   "execution_count": null,
   "metadata": {
    "collapsed": true
   },
   "outputs": [],
   "source": [
    "# Counting letters in a word\n",
    "\n",
    "def letter_histogram( text ):\n",
    "    \"\"\"Create a histogram of the letters in the given text. The result is a dictionary.\"\"\"\n",
    "    \n",
    "    d = {}    # Create an empty dictionary\n",
    "    \n",
    "    for letter in text:\n",
    "        \n",
    "        # Only count alphanumeric (letters/numbers), not punctuation, etc.\n",
    "        if not letter.isalnum(): \n",
    "            continue            # Continue immediately starts the next iteration, \n",
    "                                # skipping the rest of the body.\n",
    "                                # It is similar to 'break', but break immediately \n",
    "                                # jumps out of the loop,\n",
    "                                        \n",
    "        if letter in d:         # Check if the key exists in dictionary already. \n",
    "                                # We can code this more efficiently (see later)\n",
    "            d[letter] += 1  \n",
    "        else:                \n",
    "            d[letter] = 1\n",
    "    \n",
    "    return d"
   ]
  },
  {
   "cell_type": "code",
   "execution_count": null,
   "metadata": {
    "collapsed": true
   },
   "outputs": [],
   "source": [
    "letter_histogram(\"The quick brown fox jumps over the lazy dog.\")"
   ]
  },
  {
   "cell_type": "markdown",
   "metadata": {},
   "source": [
    "Checking if a key is in the dictionary and if not using a default value is a very common action. There is an easy way for that: \n",
    "\n",
    "    d.get(key, default-value) => Returns d[key] if key exists, otherwise default-value"
   ]
  },
  {
   "cell_type": "code",
   "execution_count": null,
   "metadata": {
    "collapsed": true
   },
   "outputs": [],
   "source": [
    "def increment( d, k ):\n",
    "    \"\"\"Increment the value for key k in the dictionary d by 1. Start at 0 if not present yet.\"\"\"\n",
    "    d[k] = d.get(k, 0) + 1\n",
    "    return d\n",
    "    "
   ]
  },
  {
   "cell_type": "code",
   "execution_count": null,
   "metadata": {
    "collapsed": true
   },
   "outputs": [],
   "source": [
    "# Now you can increment any value in a dictionary even if the key does not exist.\n",
    "\n",
    "increment({}, 'k')"
   ]
  },
  {
   "cell_type": "markdown",
   "metadata": {},
   "source": [
    "<div class=\"alert alert-success\">\n",
    "<h3>Exercise 1</h3>\n",
    "Write a Python program to sum all the items in a dictionary.\n",
    "</div>"
   ]
  },
  {
   "cell_type": "code",
   "execution_count": null,
   "metadata": {
    "collapsed": true
   },
   "outputs": [],
   "source": [
    "my_dict = {'data1':10,'data2':-5,'data3':27, 'data4':-13}\n",
    "\n",
    "# your code goes here\n"
   ]
  },
  {
   "cell_type": "markdown",
   "metadata": {},
   "source": [
    "<div class=\"alert alert-success\">\n",
    "<h3>Exercise 2</h3>\n",
    "Having a dictionary with lists as values, sort alphabetically all lists from the dictionary.\n",
    "</div>"
   ]
  },
  {
   "cell_type": "code",
   "execution_count": null,
   "metadata": {
    "collapsed": true
   },
   "outputs": [],
   "source": [
    "num = {'n1': [2, 3, 1], 'n2': [5, 1, 2], 'n3': [3, 2, 4]}\n",
    "\n",
    "# your code goes here\n"
   ]
  },
  {
   "cell_type": "markdown",
   "metadata": {},
   "source": [
    "## Ch 12: Tuples\n",
    "\n",
    "Tuples are unmutable sequence of values, similar to unmutable lists. Values can be of any type.\n",
    "\n",
    "```python\n",
    "  t = ( 1, 2, 3)\n",
    "  \n",
    "  t[2]\n",
    "  t[1:3]\n",
    "  ```"
   ]
  },
  {
   "cell_type": "code",
   "execution_count": null,
   "metadata": {
    "collapsed": true
   },
   "outputs": [],
   "source": [
    "# Initialization of a tuple\n",
    "\n",
    "t = (1, 2, 3)\n",
    "\n",
    "t"
   ]
  },
  {
   "cell_type": "code",
   "execution_count": null,
   "metadata": {
    "collapsed": true
   },
   "outputs": [],
   "source": [
    "# Tuples are a separate type\n",
    "type(t)"
   ]
  },
  {
   "cell_type": "code",
   "execution_count": null,
   "metadata": {
    "collapsed": true
   },
   "outputs": [],
   "source": [
    "# Creating a singleton tuple (1 element) requires special syntax\n",
    "\n",
    "singleton = ( 10, )      # Note the trailing comma\n",
    "\n",
    "print(singleton)\n",
    "\n",
    "print(type(singleton))"
   ]
  },
  {
   "cell_type": "code",
   "execution_count": null,
   "metadata": {
    "collapsed": true
   },
   "outputs": [],
   "source": [
    "# Creating an empty tuple\n",
    "t1 = ()     \n",
    "t2 = tuple()\n",
    "\n",
    "print( t1 == t2)"
   ]
  },
  {
   "cell_type": "code",
   "execution_count": null,
   "metadata": {
    "collapsed": true
   },
   "outputs": [],
   "source": [
    "# Slicing and tuples\n",
    "\n",
    "t = tuple( range(10) )\n",
    "\n",
    "print( 't\\t\\t', t )\n",
    "print( 't[1]\\t\\t', t[1] )\n",
    "print( 't[1:4]\\t\\t', t[1:4] )\n",
    "print( 't[:3]\\t\\t', t[:3])\n",
    "print( 't[7:]\\t\\t', t[7:])\n",
    "print( 't[-1]\\t\\t', t[-1] )\n",
    "print( 't[-3:-1]\\t', t[-3:-1])\n"
   ]
  },
  {
   "cell_type": "code",
   "execution_count": null,
   "metadata": {
    "collapsed": true
   },
   "outputs": [],
   "source": [
    "# But tuple element assignment does not work\n",
    "\n",
    "t[3] = 10"
   ]
  },
  {
   "cell_type": "code",
   "execution_count": null,
   "metadata": {
    "collapsed": true
   },
   "outputs": [],
   "source": [
    "# Tuples can be compared, elementwise. Comparison stops at the first element that is different between the tuples.\n",
    "\n",
    "print((1, 2) < ( 1, 3 ))\n",
    "print((1, 2, 3) < ( 2, 0, 0))\n",
    "print( (1,2) < (2,) )"
   ]
  },
  {
   "cell_type": "code",
   "execution_count": null,
   "metadata": {
    "collapsed": true
   },
   "outputs": [],
   "source": [
    "# sorting and reverse sorting\n",
    "# Works for any sequence (lists, strings)\n",
    "\n",
    "t = ( 132, 2, 4, 3821, 10, 29, 38  )\n",
    "\n",
    "print('Sorted tuple', sorted(t))\n",
    "print('Reverse sorted tuple', sorted(t, reverse=True))\n"
   ]
  },
  {
   "cell_type": "markdown",
   "metadata": {},
   "source": [
    "### Typical uses for tuples\n",
    "\n",
    "* multiple return values of functions\n",
    "* swapping of values\n",
    "* as 'keys' for dictionaries"
   ]
  },
  {
   "cell_type": "code",
   "execution_count": null,
   "metadata": {
    "collapsed": true
   },
   "outputs": [],
   "source": [
    "# Split a name into first and last name\n",
    "\n",
    "def splitName( name ):\n",
    "    nameparts = name.split()\n",
    "    \n",
    "    return (nameparts[0],  nameparts[1] )\n",
    "    "
   ]
  },
  {
   "cell_type": "code",
   "execution_count": null,
   "metadata": {
    "collapsed": true
   },
   "outputs": [],
   "source": [
    "# Use multiple return values\n",
    "\n",
    "first, last = splitName( 'Steve Jobs' )\n",
    "\n",
    "print('Firstname:', first)\n",
    "print('Lastname:', last)"
   ]
  },
  {
   "cell_type": "code",
   "execution_count": null,
   "metadata": {
    "collapsed": true
   },
   "outputs": [],
   "source": [
    "# Swapping variables\n",
    "\n",
    "a = 10\n",
    "b = 'John'\n",
    "\n",
    "print('a is', a)\n",
    "print('b is', b)\n",
    "\n",
    "print('Swapping...\\n')\n",
    "b, a = a, b\n",
    "\n",
    "print('a is', a)\n",
    "print('b is', b)\n"
   ]
  },
  {
   "cell_type": "code",
   "execution_count": null,
   "metadata": {
    "collapsed": true
   },
   "outputs": [],
   "source": [
    "# Keys in dictionaries must be immutable, so no lists, but tuples are ok.\n",
    "\n",
    "# Telephone book: { (first, lastname) : phonenumber }\n",
    "tbook = dict()\n",
    "\n",
    "def add( name, number ):\n",
    "    ( first, last ) = splitName( name )\n",
    "    \n",
    "    tbook[( first, last )] = number"
   ]
  },
  {
   "cell_type": "code",
   "execution_count": null,
   "metadata": {
    "collapsed": true
   },
   "outputs": [],
   "source": [
    "# Put some names in the telephone book\n",
    "add( 'Steve Jobs', '555-123456')\n",
    "add( 'Bill Gates', '555-987654')\n",
    "add( 'Michael Dell', '555-101010')\n",
    "add( 'Bill Hewlett', '555-555555')\n",
    "add( 'Dave Packard', '555-888444')\n",
    "\n",
    "print(tbook)"
   ]
  },
  {
   "cell_type": "markdown",
   "metadata": {},
   "source": [
    "### Set (Ch 19)\n",
    "\n",
    "A set is a mutable collection of values. There is no order and elements can only be in the set once.\n",
    "Indexing and slicing does not work, as there is no order.\n",
    "\n",
    "```python\n",
    "s = set()\n",
    "s = {}\n",
    "\n",
    "s.add(1)\n",
    "s.add(2)\n",
    "\n",
    "for x in s:\n",
    "   print(x)\n",
    "   \n",
    "   \n",
    "s[0] does not work\n",
    "```\n"
   ]
  },
  {
   "cell_type": "code",
   "execution_count": null,
   "metadata": {
    "collapsed": true
   },
   "outputs": [],
   "source": [
    "# Example sets\n",
    "s = set()\n",
    "\n",
    "for i in range(5):\n",
    "    s.add(i)\n",
    "    \n",
    "print('Set is', s, 'size:', len(s))\n",
    "\n",
    "s.add(3)   # does nothing, 3 is already in the set\n",
    "\n",
    "print('Set is', s, 'size:', len(s))\n"
   ]
  },
  {
   "cell_type": "markdown",
   "metadata": {},
   "source": [
    "<div class=\"alert alert-success\">\n",
    "<h3>Exercise 3</h3>\n",
    "Print the number of unique values in a tuple.\n",
    "</div>"
   ]
  },
  {
   "cell_type": "code",
   "execution_count": null,
   "metadata": {
    "collapsed": true
   },
   "outputs": [],
   "source": [
    "#create a tuple\n",
    "tuplex = 2, 4, 5, 6, 2, 3, 4, 4, 7\n",
    "print(tuplex)\n",
    "\n",
    "# print the number of unique values in the set\n"
   ]
  },
  {
   "cell_type": "markdown",
   "metadata": {},
   "source": [
    "### Example\n",
    "\n",
    "Sort a list of words based on their length. Biggest words first.\n",
    "\n",
    "Hint 1: Useful code to 'strip' texts from whitespace and punctuation.\n",
    "\n",
    "```python\n",
    "import string\n",
    "\n",
    "string.whitespace = ' \\t\\n\\r\\x0b\\x0c'\n",
    "string.punctuation = '!\"#$%&\\'()*+,-./:;<=>?@[\\\\]^_`{|}~'\n",
    "\n",
    "\"text\".strip( chars )  # Strip leading and trailing characters listed in 'chars' \n",
    "```\n",
    "\n",
    "Hint 2: Sorting sequences (e.q. lists and tuples)\n",
    "\n",
    "```python\n",
    "sorted( [ 10, 3, 8, 5] => [ 3, 5, 8, 10 ]\n",
    "sorted( [ 10, 3, 8, 5], reverse=True) => [ 10, 8, 5, 3]\n",
    "```"
   ]
  },
  {
   "cell_type": "code",
   "execution_count": null,
   "metadata": {
    "collapsed": true
   },
   "outputs": [],
   "source": [
    "text = \"\"\"Lorem ipsum dolor sit amet, consectetur adipiscing elit.\n",
    "Aenean vel magna scelerisque libero tempor consequat eu \n",
    "sit amet tellus. Donec sit amet ipsum id magna semper eleifend. \n",
    "Nam vehicula augue eget est pretium, quis accumsan est rutrum. \n",
    "Donec elit lorem, pretium ac semper gravida, accumsan sed mauris. \n",
    "Quisque quis enim eget tortor maximus fringilla quis sed libero. \n",
    "Proin ut gravida lectus. Mauris suscipit tempor lacus sed ultrices. \n",
    "Maecenas accumsan pretium posuere. Etiam facilisis ligula diam, \n",
    "ac ultrices ligula posuere id.\"\"\""
   ]
  },
  {
   "cell_type": "code",
   "execution_count": null,
   "metadata": {
    "collapsed": true
   },
   "outputs": [],
   "source": [
    "import string\n",
    "\n",
    "# Split string into words, and use lower-case only\n",
    "words = text.lower().split()"
   ]
  },
  {
   "cell_type": "code",
   "execution_count": null,
   "metadata": {
    "collapsed": true
   },
   "outputs": [],
   "source": [
    "# Let's check what we have...\n",
    "words[:6]"
   ]
  },
  {
   "cell_type": "code",
   "execution_count": null,
   "metadata": {
    "collapsed": true
   },
   "outputs": [],
   "source": [
    "# Create a list of tuples with (length, word) pairs\n",
    "l = []\n",
    "for w in words:    \n",
    "    # Cleanup word, remove punctuation and whitespace\n",
    "    cleaned = w.strip( string.punctuation + string.whitespace )  \n",
    "  \n",
    "    l.append( (len(cleaned), cleaned) )"
   ]
  },
  {
   "cell_type": "code",
   "execution_count": null,
   "metadata": {
    "collapsed": true
   },
   "outputs": [],
   "source": [
    "# Again, let's check what we have...\n",
    "l[:6]"
   ]
  },
  {
   "cell_type": "code",
   "execution_count": null,
   "metadata": {
    "collapsed": true
   },
   "outputs": [],
   "source": [
    "# Finally, sort the list of tuples in reverse order and print it.\n",
    "for (size, w) in sorted( l, reverse=True ):\n",
    "    print(\"%d : %s\" %(size, w) )"
   ]
  },
  {
   "cell_type": "code",
   "execution_count": null,
   "metadata": {
    "collapsed": true
   },
   "outputs": [],
   "source": [
    "# Try to remove the double values\n",
    "# Use a dictionary, or better yet a set!\n",
    "# A set cannot contain double elements and has no order.\n",
    "\n",
    "wordset = set()\n",
    "for w in words:\n",
    "    cleaned = w.strip( string.punctuation + string.whitespace ) # Cleanup word\n",
    "    \n",
    "    # Add tuple (length, word) into a set, which will be unique\n",
    "    wordset.add( (len(cleaned), cleaned) )    \n",
    "    \n",
    "    \n",
    "# Now print it in sorted order\n",
    "for (size, word) in sorted(wordset, reverse=True) :\n",
    "    print(\"%d : %s\" % (size, word) )\n"
   ]
  },
  {
   "cell_type": "markdown",
   "metadata": {},
   "source": [
    "<div class=\"alert alert-success\">\n",
    "<h3>Exercise 4 (based on 12.2)</h3>\n",
    "1. Write a program that reads a word list and prints all the sets of\n",
    "words that are anagrams.<br /> <br /> \n",
    "\n",
    "Here is an example of what the output might look like:<br /> <br /> \n",
    "\n",
    "['deltas', 'desalt', 'lasted', 'salted', 'slated', 'staled']<br /> \n",
    "['retainers', 'ternaries']<br /> \n",
    "['generating', 'greatening']<br />\n",
    "['resmelts', 'smelters', 'termless']<br /> <br /> \n",
    "\n",
    "Hint: you might want to build a dictionary that maps from a collection of letters to a list\n",
    "of words that can be spelled with those letters. The question is, how can you represent the\n",
    "collection of letters in a way that can be used as a key? You might want to check *defaultdict*.<br /> <br /> \n",
    "\n",
    "2. Modify the previous program so that it prints the longest list of anagrams first, followed by\n",
    "the second longest, and so on.\n",
    "</div>"
   ]
  },
  {
   "cell_type": "code",
   "execution_count": null,
   "metadata": {
    "collapsed": true
   },
   "outputs": [],
   "source": [
    "wordslist = ['deltas', 'ternaries', 'greatening', 'retainers', 'desalt', 'lasted',\n",
    "             'resmelts', 'smelters', 'termless', 'salted', 'slated', 'staled', 'generating','an']\n",
    "\n",
    "# write a function that takes a string as input and returns a new string containing its signiture\n",
    "# (signiture = the same letters ordered alphabetically)\n"
   ]
  },
  {
   "cell_type": "code",
   "execution_count": null,
   "metadata": {
    "collapsed": true
   },
   "outputs": [],
   "source": [
    "# write a function that creates a dictionary from the wordslist where values of each key are anagrams\n"
   ]
  },
  {
   "cell_type": "code",
   "execution_count": null,
   "metadata": {
    "collapsed": true
   },
   "outputs": [],
   "source": [
    "# print anagram sets in order\n"
   ]
  },
  {
   "cell_type": "markdown",
   "metadata": {
    "collapsed": true
   },
   "source": [
    "### List comprehensions (Ch 19)\n",
    "\n",
    "There is a nice shortcut for creating lists (and tuples, sets and dictionaries).\n",
    "\n",
    "Typical python style: compact and reads as math (e.g. { x | x >= 2 } )\n",
    "\n",
    "```python\n",
    " l = [ x for x in range(5) ] => [ 0, 1, 2, 3, 4 ]\n",
    " l = [ x*x for x in range(5) ] => [ 0, 1, 4, 9, 16 ]\n",
    " \n",
    " l = [ math.sqrt(x) for x in range(5) if ( x%3 == 0) ] => [ 0.0, 1.73205... ]\n",
    "\n",
    " l = [ ( len(word), word ) for word in text if word.isalnum() ]\n",
    "\n",
    " l = [ ... for ... in ... if ... ]\n",
    "```\n",
    "\n"
   ]
  },
  {
   "cell_type": "code",
   "execution_count": null,
   "metadata": {
    "collapsed": true,
    "scrolled": true
   },
   "outputs": [],
   "source": [
    "# Example without list comprehension\n",
    "l = []\n",
    "for i in range(5):\n",
    "    l.append(i)\n",
    "    \n",
    "print(l)"
   ]
  },
  {
   "cell_type": "code",
   "execution_count": null,
   "metadata": {
    "collapsed": true
   },
   "outputs": [],
   "source": [
    "# Example with list comprehension\n",
    "l = [ i for i in range(5) ]\n",
    "print(l)"
   ]
  },
  {
   "cell_type": "code",
   "execution_count": null,
   "metadata": {
    "collapsed": true,
    "scrolled": false
   },
   "outputs": [],
   "source": [
    "import math\n",
    "[ math.sqrt(x) for x in range(5) if ( x%3 == 0) ]\n"
   ]
  },
  {
   "cell_type": "code",
   "execution_count": null,
   "metadata": {
    "collapsed": true
   },
   "outputs": [],
   "source": [
    "# A more complex example\n",
    "text = \"Hello this is a test.\"\n",
    "[ ( len(word), word.lower() ) for word in text.split() if word.isalnum() ]\n"
   ]
  },
  {
   "cell_type": "code",
   "execution_count": null,
   "metadata": {
    "collapsed": true,
    "scrolled": true
   },
   "outputs": [],
   "source": [
    "# A dictionary example\n",
    "\n",
    "d = { k : v for k, v in enumerate( text.split() )}\n",
    "d"
   ]
  },
  {
   "cell_type": "code",
   "execution_count": null,
   "metadata": {
    "collapsed": true,
    "scrolled": true
   },
   "outputs": [],
   "source": [
    "# A shorter version of our text exercise\n",
    "# using a set and list comprehension notation.\n",
    "\n",
    "# Create a clean set of (unique) words\n",
    "wordset = { w.strip( string.punctuation + string.whitespace ) for w in text.lower().split() }\n",
    "\n",
    "# Create a set of (length, word) tuples of cleanedup words in text.\n",
    "tupleset = { ( len(w), w ) for w in wordset }\n",
    "\n",
    "# Or in a one-liner ...\n",
    "#tupleset = { ( len(w), w ) for w in \n",
    "#              [ x.strip(string.punctuation + string.whitespace) for x in text.lower().split() ]\n",
    "#          }\n",
    "\n",
    "# Now sort and print the tuples.\n",
    "for t in sorted(tupleset, reverse=True):\n",
    "    print(\"%d : %s\" % t)"
   ]
  },
  {
   "cell_type": "markdown",
   "metadata": {},
   "source": [
    "<div class=\"alert alert-success\">\n",
    "<h3>Exercise 5</h3>\n",
    "Convert the following function into a list comprehension.\n",
    "</div>"
   ]
  },
  {
   "cell_type": "code",
   "execution_count": null,
   "metadata": {
    "collapsed": true
   },
   "outputs": [],
   "source": [
    "def times_tables():\n",
    "    lst = []\n",
    "    for i in range(10):\n",
    "        for j in range (10):\n",
    "            lst.append(i*j)\n",
    "    return lst\n",
    "\n",
    "# your code here\n"
   ]
  },
  {
   "cell_type": "markdown",
   "metadata": {
    "collapsed": true
   },
   "source": [
    "### Zip, enumerate, tuples, lists, and dictionaries (Ch 12)\n",
    "\n",
    "Some useful functions and idioms to create and traverse lists/dictionaries.\n"
   ]
  },
  {
   "cell_type": "code",
   "execution_count": null,
   "metadata": {
    "collapsed": true
   },
   "outputs": [],
   "source": [
    "# zip is a function that merges multiple sequences into tuples\n",
    "\n",
    "a = tuple( range(10) )\n",
    "b = list( 'abcdefghi' ) \n",
    "\n",
    "print('a is', a)\n",
    "print('b is', b)\n",
    "\n",
    "list( zip( a, b) )"
   ]
  },
  {
   "cell_type": "code",
   "execution_count": null,
   "metadata": {
    "collapsed": true
   },
   "outputs": [],
   "source": [
    "# Let's pretend we want to make a telephone book, given 2 lists: names and numbers.\n",
    "\n",
    "names = ['Bill Gates', 'Bill Hewlett', 'Dave Packard', 'Michael Dell', 'Steve Jobs']\n",
    "phonenrs = ['555-987654', '555-555555', '555-888444', '555-101010', '555-123456']\n",
    "\n",
    "# Create a list of (key, value) pairs\n",
    "pairs = list(zip(names, phonenrs))\n",
    "print(pairs)"
   ]
  },
  {
   "cell_type": "code",
   "execution_count": null,
   "metadata": {
    "collapsed": true
   },
   "outputs": [],
   "source": [
    "# Now create a dictionary from these (key, value) pairs.\n",
    "phonebook = dict( pairs )\n",
    "\n",
    "print(phonebook)"
   ]
  },
  {
   "cell_type": "code",
   "execution_count": null,
   "metadata": {
    "collapsed": true
   },
   "outputs": [],
   "source": [
    "# Or more efficiently without the intermediate step (building the list)\n",
    "\n",
    "phonebook = dict( zip(names, phonenrs) )\n",
    "print(phonebook)"
   ]
  },
  {
   "cell_type": "code",
   "execution_count": null,
   "metadata": {
    "collapsed": true
   },
   "outputs": [],
   "source": [
    "# zip can also be used to \"unzip\" a list of tuples into lists of the separate elements.\n",
    "\n",
    "a = ( 1, 2, 3 )\n",
    "b = tuple('abc')\n",
    "c = ('John', 'Mary', 'Bob')"
   ]
  },
  {
   "cell_type": "code",
   "execution_count": null,
   "metadata": {
    "collapsed": true
   },
   "outputs": [],
   "source": [
    "l = list( zip( a, b, c ) )\n",
    "\n",
    "print(l)"
   ]
  },
  {
   "cell_type": "code",
   "execution_count": null,
   "metadata": {
    "collapsed": true
   },
   "outputs": [],
   "source": [
    "# The '*' indicates that a sequence (list) should be used separately (unpack) in a function call\n",
    "# Only available in the parameter list when calling a function\n",
    "\n",
    "a = [1, 2, 3]\n",
    "\n",
    "print( a )     # a is used as it is: a list\n",
    "print( *a )    # a is used as its separate entities: equivalent to print( a[0], a[1], a[2])\n",
    "print( a[0], a[1], a[2] )"
   ]
  },
  {
   "cell_type": "code",
   "execution_count": null,
   "metadata": {
    "collapsed": true,
    "scrolled": true
   },
   "outputs": [],
   "source": [
    "# Now try to implement the reverse of the zip.   \n",
    "\n",
    "x, y, z = zip( *l )    # The '*' forces the list to be 'unpacked'  \n",
    "\n",
    "print(x)\n",
    "print(y)\n",
    "print(z)"
   ]
  },
  {
   "cell_type": "code",
   "execution_count": null,
   "metadata": {
    "collapsed": true
   },
   "outputs": [],
   "source": [
    "# The use of enumerate in a for loop\n",
    "# If you want to traverse a list but also want to keep track of the index in the list\n",
    "\n",
    "for i in range(len( names ) ):\n",
    "    print('Name %d is %s' % ( i, names[i] ))\n"
   ]
  },
  {
   "cell_type": "code",
   "execution_count": null,
   "metadata": {
    "collapsed": true
   },
   "outputs": [],
   "source": [
    "# More elegant using enumerate which returns a tuple (index, value)\n",
    "for i, name in enumerate( names ):\n",
    "    print('Name %d is %s' % ( i, name ))\n"
   ]
  },
  {
   "cell_type": "markdown",
   "metadata": {},
   "source": [
    "### Random numbers"
   ]
  },
  {
   "cell_type": "code",
   "execution_count": null,
   "metadata": {
    "collapsed": true
   },
   "outputs": [],
   "source": [
    "# Random numbers\n",
    "# random.random returns a float between [0, 1]\n",
    "import random\n",
    "\n",
    "for i in range(5):\n",
    "    print(random.random())"
   ]
  },
  {
   "cell_type": "code",
   "execution_count": null,
   "metadata": {
    "collapsed": true
   },
   "outputs": [],
   "source": [
    "# random.randint( min, max) returns an integer between [ min, max ]\n",
    "for i in range(5):\n",
    "    print(random.randint( 10, 20 ))"
   ]
  },
  {
   "cell_type": "code",
   "execution_count": null,
   "metadata": {
    "collapsed": true
   },
   "outputs": [],
   "source": [
    "# random.choice( list ) picks a random element from a sequence\n",
    "\n",
    "l = ['John', 'Matthew', 'Liz', 'Sarah', 'Bob', 'Alison']\n",
    "for i in range(3):\n",
    "    print( random.choice(l) )\n"
   ]
  },
  {
   "cell_type": "code",
   "execution_count": null,
   "metadata": {
    "collapsed": true,
    "scrolled": true
   },
   "outputs": [],
   "source": [
    "# the seed value determines the 'pseudorandom' numbers.\n",
    "# Useful if you want 'deterministic' behavior (e.g. for debugging)\n",
    "\n",
    "# Set the random seed. Normally not set to get \"random\" behavior each time.\n",
    "random.seed(101)          # without argument: use 'currentTime' as seed\n",
    "\n",
    "# If seed is the same, this will lead to the same numbers.\n",
    "for i in range(5):\n",
    "    print(random.random())"
   ]
  },
  {
   "cell_type": "markdown",
   "metadata": {},
   "source": [
    "<div class=\"alert alert-success\">\n",
    "<h3>Exercises 6</h3>\n",
    "Try Exercise 13.8: Markov Analysis.\n",
    "</div>"
   ]
  },
  {
   "cell_type": "markdown",
   "metadata": {},
   "source": [
    "### Ch 15-17: Classes (not discussed)\n",
    "\n",
    "Python supports object-oriented programming. You can create your own classes\n",
    "to represent data-objects and define your own methods on them. Keeping the interface\n",
    "to your objects clear (*separation of concerns*).\n",
    "\n",
    "Unfortunately, there is no time for us to discuss them in this course. Luckily, you will probably not need them for relatively easy analysis tasks. However, for more complex analyses,\n",
    "defining your own classes may be useful. For now, know they exist and you can read up on them\n",
    "at a later time."
   ]
  }
 ],
 "metadata": {
  "kernelspec": {
   "display_name": "Python 3",
   "language": "python",
   "name": "python3"
  },
  "language_info": {
   "codemirror_mode": {
    "name": "ipython",
    "version": 3
   },
   "file_extension": ".py",
   "mimetype": "text/x-python",
   "name": "python",
   "nbconvert_exporter": "python",
   "pygments_lexer": "ipython3",
   "version": "3.6.1"
  }
 },
 "nbformat": 4,
 "nbformat_minor": 1
}
