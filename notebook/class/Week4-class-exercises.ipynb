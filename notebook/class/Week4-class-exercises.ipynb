{
 "cells": [
  {
   "cell_type": "markdown",
   "metadata": {},
   "source": [
    "# EPA1333 - Computer Engineering for Scientific Computing\n",
    "## Week 4 - exercises"
   ]
  },
  {
   "cell_type": "markdown",
   "metadata": {},
   "source": [
    "<div class=\"alert alert-success\">\n",
    "<h3>Exercise 1</h3>\n",
    "Write a Python program to sum all the items in a dictionary.\n",
    "</div>"
   ]
  },
  {
   "cell_type": "code",
   "execution_count": 1,
   "metadata": {},
   "outputs": [
    {
     "name": "stdout",
     "output_type": "stream",
     "text": [
      "19\n"
     ]
    }
   ],
   "source": [
    "my_dict = {'data1':10,'data2':-5,'data3':27, 'data4':-13}\n",
    "\n",
    "# your code goes here\n",
    "\n",
    "s = sum(my_dict.values())\n",
    "print(s)\n"
   ]
  },
  {
   "cell_type": "markdown",
   "metadata": {},
   "source": [
    "<div class=\"alert alert-success\">\n",
    "<h3>Exercise 2</h3>\n",
    "Having a dictionary with lists as values, sort alphabetically all lists from the dictionary.\n",
    "</div>"
   ]
  },
  {
   "cell_type": "code",
   "execution_count": 2,
   "metadata": {},
   "outputs": [
    {
     "data": {
      "text/plain": [
       "{'n1': [1, 2, 3], 'n2': [1, 2, 5], 'n3': [2, 3, 4]}"
      ]
     },
     "execution_count": 2,
     "metadata": {},
     "output_type": "execute_result"
    }
   ],
   "source": [
    "num = {'n1': [2, 3, 1], 'n2': [5, 1, 2], 'n3': [3, 2, 4]}\n",
    "\n",
    "# your code goes here\n",
    "\n",
    "for k in num:\n",
    "    num[k] = sorted(num[k])\n",
    "\n",
    "num"
   ]
  },
  {
   "cell_type": "markdown",
   "metadata": {},
   "source": [
    "<div class=\"alert alert-success\">\n",
    "<h3>Exercise 3</h3>\n",
    "Print the number of unique values in a tuple.\n",
    "</div>"
   ]
  },
  {
   "cell_type": "code",
   "execution_count": 3,
   "metadata": {},
   "outputs": [
    {
     "name": "stdout",
     "output_type": "stream",
     "text": [
      "(2, 4, 5, 6, 2, 3, 4, 4, 7)\n",
      "6\n"
     ]
    }
   ],
   "source": [
    "#create a tuple\n",
    "tuplex = 2, 4, 5, 6, 2, 3, 4, 4, 7\n",
    "print(tuplex)\n",
    "\n",
    "# convert to set and print the number of unique values in the set\n",
    "unique_vals = set(tuplex)\n",
    "print(len(unique_vals))"
   ]
  },
  {
   "cell_type": "markdown",
   "metadata": {},
   "source": [
    "<div class=\"alert alert-success\">\n",
    "<h3>Exercise 4 (based on 12.2)</h3>\n",
    "1. Write a program that reads a word list and prints all the sets of\n",
    "words that are anagrams.<br /> <br /> \n",
    "\n",
    "Here is an example of what the output might look like:<br /> <br /> \n",
    "\n",
    "['deltas', 'desalt', 'lasted', 'salted', 'slated', 'staled']<br /> \n",
    "['retainers', 'ternaries']<br /> \n",
    "['generating', 'greatening']<br />\n",
    "['resmelts', 'smelters', 'termless']<br /> <br /> \n",
    "\n",
    "Hint: you might want to build a dictionary that maps from a collection of letters to a list\n",
    "of words that can be spelled with those letters. The question is, how can you represent the\n",
    "collection of letters in a way that can be used as a key? You might want to check *defaultdict*.<br /> <br /> \n",
    "\n",
    "2. Modify the previous program so that it prints the longest list of anagrams first, followed by\n",
    "the second longest, and so on.\n",
    "</div>"
   ]
  },
  {
   "cell_type": "code",
   "execution_count": 4,
   "metadata": {},
   "outputs": [
    {
     "data": {
      "text/plain": [
       "'adggst'"
      ]
     },
     "execution_count": 4,
     "metadata": {},
     "output_type": "execute_result"
    }
   ],
   "source": [
    "wordslist = ['deltas', 'ternaries', 'greatening', 'retainers', 'desalt', 'lasted',\n",
    "             'resmelts', 'smelters', 'termless', 'salted', 'slated', 'staled', 'generating']\n",
    "\n",
    "# write a function that takes a string as input and returns a new string containing its signiture\n",
    "# (signiture = the same letters ordered alphabetically)\n",
    "\n",
    "def signiture(s):\n",
    "    return ''.join(sorted(s))\n",
    "    # create a string back from the sorted list\n",
    "\n",
    "signiture('dgsgta')"
   ]
  },
  {
   "cell_type": "code",
   "execution_count": 5,
   "metadata": {},
   "outputs": [
    {
     "name": "stdout",
     "output_type": "stream",
     "text": [
      "defaultdict(<class 'list'>, {'adelst': ['deltas', 'desalt', 'lasted', 'salted', 'slated', 'staled'], 'aeeinrrst': ['ternaries', 'retainers'], 'aeegginnrt': ['greatening', 'generating'], 'eelmrsst': ['resmelts', 'smelters', 'termless']})\n"
     ]
    }
   ],
   "source": [
    "# write a function that creates a dictionary from the wordslist where values of each key are anagrams\n",
    "from collections import defaultdict\n",
    "\n",
    "def create_dictionary_of_anagrams(wordslist):\n",
    "    # create an emty dictionary whose values are lists by defauls\n",
    "    d = defaultdict(list)\n",
    "    \n",
    "    # append words in the words list to the dictionary entry that has the word signiture as key\n",
    "    for w in wordslist:\n",
    "        s = signiture(w)\n",
    "        d[s].append(w)\n",
    "    return d\n",
    "    \n",
    "dd = create_dictionary_of_anagrams(wordslist)\n",
    "print(dd)\n"
   ]
  },
  {
   "cell_type": "code",
   "execution_count": 6,
   "metadata": {},
   "outputs": [
    {
     "name": "stdout",
     "output_type": "stream",
     "text": [
      "(6, ['deltas', 'desalt', 'lasted', 'salted', 'slated', 'staled'])\n",
      "(3, ['resmelts', 'smelters', 'termless'])\n",
      "(2, ['ternaries', 'retainers'])\n",
      "(2, ['greatening', 'generating'])\n"
     ]
    }
   ],
   "source": [
    "def print_anagram_sets_in_order(d):\n",
    "    \"\"\"Prints the anagram sets in d in decreasing order of size.\n",
    "\n",
    "    d: map from words to list of their anagrams\n",
    "    \"\"\"\n",
    "    # make a list of (length, word pairs)\n",
    "    t = []\n",
    "    for v in d.values():\n",
    "        t.append((len(v), v))\n",
    "\n",
    "    # sort in ascending order of length\n",
    "    t.sort(reverse=True)\n",
    "\n",
    "    # print the sorted list\n",
    "    for x in t:\n",
    "        print(x)\n",
    "        \n",
    "print_anagram_sets_in_order(dd)"
   ]
  },
  {
   "cell_type": "markdown",
   "metadata": {},
   "source": [
    "<div class=\"alert alert-success\">\n",
    "<h3>Exercise 5</h3>\n",
    "Convert the following function into a list comprehension.\n",
    "</div>"
   ]
  },
  {
   "cell_type": "code",
   "execution_count": 7,
   "metadata": {},
   "outputs": [
    {
     "name": "stdout",
     "output_type": "stream",
     "text": [
      "True\n"
     ]
    }
   ],
   "source": [
    "def times_tables():\n",
    "    lst = []\n",
    "    for i in range(10):\n",
    "        for j in range (10):\n",
    "            lst.append(i*j)\n",
    "    return lst\n",
    "\n",
    "# your code here\n",
    "\n",
    "vals = [j*i for i in range(10) for j in range(10)]\n",
    "\n",
    "#check if the output of the list comprexension is the same as the result of the funcion\n",
    "print(vals == times_tables())"
   ]
  },
  {
   "cell_type": "markdown",
   "metadata": {},
   "source": [
    "<div class=\"alert alert-success\">\n",
    "<h3>Exercises 6</h3>\n",
    "Try Exercise 13.8: Markov Analysis. Check solution offererd by the book.\n",
    "</div>"
   ]
  },
  {
   "cell_type": "markdown",
   "metadata": {},
   "source": [
    "<div class=\"alert alert-success\">\n",
    "<h3>Exercise 1</h3>\n",
    "Write a Python program that counts the number of lines in a file.\n",
    "</div>"
   ]
  },
  {
   "cell_type": "code",
   "execution_count": 9,
   "metadata": {},
   "outputs": [
    {
     "name": "stdout",
     "output_type": "stream",
     "text": [
      "Number of lines in the file:  3976\n"
     ]
    }
   ],
   "source": [
    "def count_lines(fname):\n",
    "    with open(fname) as f:\n",
    "            for i, l in enumerate(f):\n",
    "                    continue\n",
    "    return i + 1\n",
    "\n",
    "#change path to a file on your disk\n",
    "print(\"Number of lines in the file: \",count_lines(\"books\\\\Dickens-A-Christmas-Carol.txt\"))"
   ]
  },
  {
   "cell_type": "markdown",
   "metadata": {},
   "source": [
    "<div class=\"alert alert-success\">\n",
    "<h3>Exercise 2</h3>\n",
    "Write a Python program that takes a directory as input and \"walks\" through it, printing the file names and calling itself recurively for the inner directories. You might want to check os.path.isfile(). Use \\\\\\ instead of \\ in the path string.\n",
    "</div>"
   ]
  },
  {
   "cell_type": "code",
   "execution_count": 10,
   "metadata": {},
   "outputs": [
    {
     "name": "stdout",
     "output_type": "stream",
     "text": [
      ".\\.ipynb_checkpoints\\Untitled-checkpoint.ipynb\n",
      ".\\.ipynb_checkpoints\\Week4-Assignment-13.8-Markov-Analysis-checkpoint.ipynb\n",
      ".\\.ipynb_checkpoints\\Week4-checkpoint.ipynb\n",
      ".\\.ipynb_checkpoints\\Week4-class-1-checkpoint.ipynb\n",
      ".\\.ipynb_checkpoints\\Week4-class-1-s-checkpoint.ipynb\n",
      ".\\.ipynb_checkpoints\\Week4-class-2-checkpoint.ipynb\n",
      ".\\.ipynb_checkpoints\\Week4-class-checkpoint.ipynb\n",
      ".\\.ipynb_checkpoints\\Week4-class-exercises-checkpoint.ipynb\n",
      ".\\.ipynb_checkpoints\\Week4-class-part1-checkpoint.ipynb\n",
      ".\\.ipynb_checkpoints\\Week4-class-part1-s-checkpoint.ipynb\n",
      ".\\.ipynb_checkpoints\\Week4-class-part2-checkpoint.ipynb\n",
      ".\\.ipynb_checkpoints\\Week4-class-part2-s-checkpoint.ipynb\n",
      ".\\books\\Dickens-A-Christmas-Carol.txt\n",
      ".\\phonebook.txt\n",
      ".\\STORAGE.TXT\n",
      ".\\Untitled.ipynb\n",
      ".\\Week4-Assignment-13.8-Markov-Analysis.ipynb\n",
      ".\\Week4-Assignments.pdf\n",
      ".\\Week4-class-exercises.ipynb\n",
      ".\\Week4-class-part1-s.ipynb\n",
      ".\\Week4-class-part1.ipynb\n",
      ".\\Week4-class-part2-s.ipynb\n",
      ".\\Week4-class-part2.ipynb\n",
      ".\\Week4.ipynb\n"
     ]
    }
   ],
   "source": [
    "# solution 1 - use os.listdir() to walk through the content of the directory\n",
    "import os\n",
    "\n",
    "def walk(dirname):\n",
    "    for name in os.listdir(dirname):\n",
    "\n",
    "        #make an absolute path to the files / directories within\n",
    "        path = os.path.join(dirname, name)\n",
    "   \n",
    "        # check if the given path is a file and if so print it\n",
    "        if os.path.isfile(path):\n",
    "            print(path)\n",
    "        else:\n",
    "            # if it is not a file then it is a directory, so call the walk function recursively for this directory\n",
    "            walk(path)\n",
    "            \n",
    "# use \\\\ in  your path for testing            \n",
    "walk('.')"
   ]
  },
  {
   "cell_type": "code",
   "execution_count": 11,
   "metadata": {},
   "outputs": [
    {
     "name": "stdout",
     "output_type": "stream",
     "text": [
      ".\\phonebook.txt\n",
      ".\\STORAGE.TXT\n",
      ".\\Untitled.ipynb\n",
      ".\\Week4-Assignment-13.8-Markov-Analysis.ipynb\n",
      ".\\Week4-Assignments.pdf\n",
      ".\\Week4-class-exercises.ipynb\n",
      ".\\Week4-class-part1-s.ipynb\n",
      ".\\Week4-class-part1.ipynb\n",
      ".\\Week4-class-part2-s.ipynb\n",
      ".\\Week4-class-part2.ipynb\n",
      ".\\Week4.ipynb\n",
      ".\\.ipynb_checkpoints\\Untitled-checkpoint.ipynb\n",
      ".\\.ipynb_checkpoints\\Week4-Assignment-13.8-Markov-Analysis-checkpoint.ipynb\n",
      ".\\.ipynb_checkpoints\\Week4-checkpoint.ipynb\n",
      ".\\.ipynb_checkpoints\\Week4-class-1-checkpoint.ipynb\n",
      ".\\.ipynb_checkpoints\\Week4-class-1-s-checkpoint.ipynb\n",
      ".\\.ipynb_checkpoints\\Week4-class-2-checkpoint.ipynb\n",
      ".\\.ipynb_checkpoints\\Week4-class-checkpoint.ipynb\n",
      ".\\.ipynb_checkpoints\\Week4-class-exercises-checkpoint.ipynb\n",
      ".\\.ipynb_checkpoints\\Week4-class-part1-checkpoint.ipynb\n",
      ".\\.ipynb_checkpoints\\Week4-class-part1-s-checkpoint.ipynb\n",
      ".\\.ipynb_checkpoints\\Week4-class-part2-checkpoint.ipynb\n",
      ".\\.ipynb_checkpoints\\Week4-class-part2-s-checkpoint.ipynb\n",
      ".\\books\\Dickens-A-Christmas-Carol.txt\n"
     ]
    }
   ],
   "source": [
    "import os\n",
    "# Python offers a built in function that walks through a directory: os.walk()\n",
    "\n",
    "def walk2(dirname):\n",
    "    for root, dirs, files in os.walk(dirname):\n",
    "        for filename in files:\n",
    "            print(os.path.join(root, filename))\n",
    "            \n",
    "walk2('.')"
   ]
  },
  {
   "cell_type": "markdown",
   "metadata": {},
   "source": [
    "<div class=\"alert alert-success\">\n",
    "<h3>Exercise 3</h3>\n",
    "Write a Python program that writes a dictionary to a file. Check correctness by loading the dictionary from the file and comparing it to the initial one.\n",
    "</div>"
   ]
  },
  {
   "cell_type": "code",
   "execution_count": 12,
   "metadata": {},
   "outputs": [
    {
     "data": {
      "text/plain": [
       "True"
      ]
     },
     "execution_count": 12,
     "metadata": {},
     "output_type": "execute_result"
    }
   ],
   "source": [
    "# use the following dictionary as input\n",
    "\n",
    "d = {'Bill Gates': '555-987654',\n",
    " 'Bill Hewlett': '555-555555',\n",
    " 'Dave Packard': '555-888444',\n",
    " 'Michael Dell': '555-101010',\n",
    " 'Steve Jobs': '555-123456'}\n",
    "\n",
    "import pickle\n",
    "\n",
    "f = open('dict.TXT', 'wb')\n",
    "\n",
    "pickle.dump( d, open( \"phonebook.txt\", \"wb\" ) )\n",
    "f.close()\n",
    "\n",
    "d_reloaded = pickle.load( open( \"phonebook.txt\", \"rb\" ) )\n",
    "f.close()\n",
    "\n",
    "d ==  d_reloaded"
   ]
  },
  {
   "cell_type": "markdown",
   "metadata": {},
   "source": [
    "<div class=\"alert alert-success\">\n",
    "<h3>Exercise 4</h3>\n",
    "Print a table that contain numbers from 1 to 10 on the first column, their squares on the second column, their cubes on the third column and their square root on the fourth. Make sure they are veritically aligned.\n",
    "</div>"
   ]
  },
  {
   "cell_type": "code",
   "execution_count": 13,
   "metadata": {},
   "outputs": [
    {
     "name": "stdout",
     "output_type": "stream",
     "text": [
      " 1   1    1  1.00\n",
      " 2   4    8  1.41\n",
      " 3   9   27  1.73\n",
      " 4  16   64  2.00\n",
      " 5  25  125  2.24\n",
      " 6  36  216  2.45\n",
      " 7  49  343  2.65\n",
      " 8  64  512  2.83\n",
      " 9  81  729  3.00\n",
      "10 100 1000  3.16\n"
     ]
    }
   ],
   "source": [
    "import math\n",
    "for x in range(1,11):\n",
    "    print ('%2d %3d %4d %5.2f' % (x, x*x, x*x*x, math.sqrt(x)))"
   ]
  },
  {
   "cell_type": "code",
   "execution_count": null,
   "metadata": {
    "collapsed": true
   },
   "outputs": [],
   "source": []
  }
 ],
 "metadata": {
  "kernelspec": {
   "display_name": "Python 3",
   "language": "python",
   "name": "python3"
  },
  "language_info": {
   "codemirror_mode": {
    "name": "ipython",
    "version": 3
   },
   "file_extension": ".py",
   "mimetype": "text/x-python",
   "name": "python",
   "nbconvert_exporter": "python",
   "pygments_lexer": "ipython3",
   "version": "3.6.1"
  }
 },
 "nbformat": 4,
 "nbformat_minor": 1
}
