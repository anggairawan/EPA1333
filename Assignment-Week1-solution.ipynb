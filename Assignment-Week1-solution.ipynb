{
 "cells": [
  {
   "cell_type": "markdown",
   "metadata": {},
   "source": [
    "## Solutions Assignment Week 1\n",
    "\n",
    "In this first week we are looking at two things: *functions* (Chapter 3 of 'Think Python') and *conditional statements* (Chapter 5 of 'Think Python')."
   ]
  },
  {
   "cell_type": "markdown",
   "metadata": {},
   "source": [
    "**Assignment 1.1**\n",
    "\n",
    "Write a function **max3** that takes three integers as input and returns the largest number. Make sure that you test the program and check what happens if (some) inputs are the same. Can your program deal with all integers as input? "
   ]
  },
  {
   "cell_type": "code",
   "execution_count": 7,
   "metadata": {},
   "outputs": [
    {
     "name": "stdout",
     "output_type": "stream",
     "text": [
      "2\n",
      "3\n"
     ]
    }
   ],
   "source": [
    "# the function max3\n",
    "def max3(i1,i2,i3):\n",
    "    if i1 > i2 and i1 > i3:\n",
    "        return i1\n",
    "    elif i2 > i3:\n",
    "        return i2\n",
    "    else:\n",
    "        return i3\n",
    "    \n",
    "# test the function    \n",
    "print(max3(1,2,2))\n",
    "\n",
    "print(max3(1,3,3))"
   ]
  },
  {
   "cell_type": "markdown",
   "metadata": {},
   "source": [
    "**Assignment 1.2**\n",
    "\n",
    "Write another function **max3two** that again takes three integers as input and return the largest number. However, if there are two largest numbers, then you need to return this largest number twice and if all three numbers are the same (and thus all the largest number) you need to return the same number three times.<BR>\n",
    "For example:<BR>\n",
    "**max3two(1,2,2) = (2,2)**<BR>\n",
    "**max3two(1,1,1) = (1,1,1)**<BR>\n",
    "**max3two(1,2,3) = 3**<BR>\n",
    "\n",
    "Hint: Use **max3** when writing the function **max3two**"
   ]
  },
  {
   "cell_type": "code",
   "execution_count": 63,
   "metadata": {},
   "outputs": [
    {
     "data": {
      "text/plain": [
       "4"
      ]
     },
     "execution_count": 63,
     "metadata": {},
     "output_type": "execute_result"
    }
   ],
   "source": [
    "# This one looks more complicated, you can draw the control flow to see what happens exactly\n",
    "def max3two(i1,i2,i3):\n",
    "    if (i1 == i2) and (i1 == i3):\n",
    "        return (i1,i2,i3)\n",
    "    elif (i1 != i2) and (i1 != i3) and i2 != i3:\n",
    "        return max3(i1,i2,i3)\n",
    "    elif (i1 == i2 and i3 != i2):\n",
    "        if i1 > i3:\n",
    "            return (i1,i2)\n",
    "        else: return (i3)\n",
    "    elif (i1 == i3 and i2 != i1):\n",
    "        if i1 > i2:\n",
    "            return (i1,i3)\n",
    "        else: return (i2)\n",
    "    elif(i2 == i3 and i1 != i2):\n",
    "        if i2 > i1:\n",
    "            return (i2,i3)\n",
    "        else:\n",
    "            return i1\n",
    "\n",
    "# Don't forget to test        \n",
    "max3two(2,2,4)\n",
    "    "
   ]
  },
  {
   "cell_type": "markdown",
   "metadata": {},
   "source": [
    "**Assignment 1.3**\n",
    "\n",
    "Use the function **max3** to write a function **max4** that takes four integers as input and returns the largest input parameter. "
   ]
  },
  {
   "cell_type": "code",
   "execution_count": 58,
   "metadata": {},
   "outputs": [
    {
     "data": {
      "text/plain": [
       "4"
      ]
     },
     "execution_count": 58,
     "metadata": {},
     "output_type": "execute_result"
    }
   ],
   "source": [
    "# If you use max3 correctly, this is relatively easy.\n",
    "def max4(i1,i2,i3,i4):\n",
    "    if max3(i1,i2,i3) > i4:\n",
    "        return max3(i1,i2,i3)\n",
    "    else:\n",
    "        return i4\n",
    "    \n",
    "max4(4,2,3,2)"
   ]
  }
 ],
 "metadata": {
  "kernelspec": {
   "display_name": "Python 3",
   "language": "python",
   "name": "python3"
  },
  "language_info": {
   "codemirror_mode": {
    "name": "ipython",
    "version": 3
   },
   "file_extension": ".py",
   "mimetype": "text/x-python",
   "name": "python",
   "nbconvert_exporter": "python",
   "pygments_lexer": "ipython3",
   "version": "3.6.1"
  }
 },
 "nbformat": 4,
 "nbformat_minor": 2
}
