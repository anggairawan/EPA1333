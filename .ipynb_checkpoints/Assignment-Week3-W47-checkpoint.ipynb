{
 "cells": [
  {
   "cell_type": "markdown",
   "metadata": {},
   "source": [
    "## Assignment Week 3\n",
    "\n",
    "This week we are looking at exercises with lists, have a look at Chapter 10 of the book for more information on lists."
   ]
  },
  {
   "cell_type": "markdown",
   "metadata": {},
   "source": [
    "**Assignment 3.1**\n",
    "\n",
    "Write a function **removeConsecutiveElements** that takes a list as input and returns a list where all consecutive elements are reduced to a single element, so **removeConsecutiveElements([1, 2, 2, 2, 3])** returns the list **[1, 2, 3]**.    "
   ]
  },
  {
   "cell_type": "code",
   "execution_count": 2,
   "metadata": {},
   "outputs": [
    {
     "name": "stdout",
     "output_type": "stream",
     "text": [
      "[1, 'asd']\n",
      "[1, 'asd']\n"
     ]
    }
   ],
   "source": [
    "# Your code goes here\n",
    "def removeConsecutiveElements(l):\n",
    "    \"\"\"\n",
    "    remove the duplicate of the element on the list\n",
    "    input: list\n",
    "    output: list\n",
    "    \"\"\"\n",
    "    removed_list = []\n",
    "    \n",
    "    for el in l:\n",
    "        if el not in removed_list:\n",
    "            removed_list.append(el)\n",
    "    \n",
    "    return removed_list\n",
    "\n",
    "# or we could use the set to make it more efficient\n",
    "def removeConsecutiveElementsSet(l):\n",
    "    \"\"\"\n",
    "    remove the duplicate of the element on the list\n",
    "    input: list\n",
    "    output: list\n",
    "    \"\"\"\n",
    "    \n",
    "    set_of_list = set(l)\n",
    "    removed_list = list(set_of_list)\n",
    "    return removed_list\n",
    "\n",
    "\n",
    "lin = [1,1,'asd']\n",
    "rem_list = removeConsecutiveElements(lin)\n",
    "print(rem_list)\n",
    "rem_list_set = removeConsecutiveElementsSet(lin)\n",
    "print(rem_list_set)"
   ]
  },
  {
   "cell_type": "markdown",
   "metadata": {},
   "source": [
    "**Assignment 3.2**\n",
    "\n",
    "Write a function **front_x** that takes a list of strings as input and returns a list with the strings in sorted order, except group all the strings that begin with 'x' first, so **front_x(['mix', 'xyz', 'apple', 'xanadu', 'aardvark'])** returns **['xanadu', 'xyz', 'aardvark', 'apple', 'mix']**.                                                                                                                                                    "
   ]
  },
  {
   "cell_type": "code",
   "execution_count": 5,
   "metadata": {},
   "outputs": [
    {
     "name": "stdout",
     "output_type": "stream",
     "text": [
      "['xanadu', 'xyz', 'aardvark', 'apple', 'mix']\n"
     ]
    }
   ],
   "source": [
    "# Your code goes here\n",
    "def front_x(list_of_str):\n",
    "    \"\"\"\n",
    "    sort the element of the list, except if the string is started with character 'x'\n",
    "    \"\"\"\n",
    "    \n",
    "    x_str = []\n",
    "    non_x_str = []\n",
    "    \n",
    "    for string in list_of_str:\n",
    "        if string[0] == 'x':\n",
    "            x_str.append(string)\n",
    "        else:\n",
    "            non_x_str.append(string)\n",
    "            \n",
    "    x_str.sort()\n",
    "    non_x_str.sort()\n",
    "    \n",
    "    x_str.extend(non_x_str)\n",
    "    return x_str        \n",
    " \n",
    "ls = ['mix', 'xyz', 'apple', 'xanadu', 'aardvark']    \n",
    "print(front_x(ls))   "
   ]
  },
  {
   "cell_type": "markdown",
   "metadata": {},
   "source": [
    "**Assignment 3.3**\n",
    "\n",
    "Write a function **zipper** that takes two lists as input, and return a list with the elements of both lists interchanged (like a zipper). For example, **zipper(['a1','a2','a3','a4'],['b1','b2',' '])** should return **['a1', 'b1', 'a2', 'b2', 'a3', ' ', 'a3']**. \n",
    "\n",
    "Make sure in your solution that the function accepts lists of different lenghts as input and that either of the input lists can be the empty list."
   ]
  },
  {
   "cell_type": "code",
   "execution_count": 13,
   "metadata": {},
   "outputs": [
    {
     "name": "stdout",
     "output_type": "stream",
     "text": [
      "['a1', 'b1', 'a2', 'b2', 'a3', ' ', 'a4']\n"
     ]
    }
   ],
   "source": [
    "# Your code goes here\n",
    "def zipper(l1,l2):\n",
    "    \"\"\"\n",
    "    create a new list lout with its element are alternating element of l1 and l2\n",
    "    \n",
    "    l1 : list\n",
    "    l2 : list\n",
    "    \"\"\"\n",
    "    lout = []\n",
    "    \n",
    "    if not l1 and not l2:\n",
    "        return lout\n",
    "    elif not l1:\n",
    "        return l2\n",
    "    elif not l2:\n",
    "        return l1\n",
    "        \n",
    "    for i in range(min(len(l1),len(l2))):\n",
    "        lout.append(l1[i])\n",
    "        lout.append(l2[i])\n",
    "    \n",
    "    i += 1\n",
    "    \n",
    "    if len(l1) < len(l2):\n",
    "        lout.extend(l2[i:])\n",
    "    elif len(l1) > len(l2):\n",
    "        lout.extend(l1[i:])\n",
    "        \n",
    "    return lout\n",
    "    \n",
    "l1 = ['a1','a2','a3','a4']\n",
    "l2 = ['b1','b2',' ']\n",
    "print(zipper(l1,l2))"
   ]
  },
  {
   "cell_type": "code",
   "execution_count": 14,
   "metadata": {},
   "outputs": [
    {
     "name": "stdout",
     "output_type": "stream",
     "text": [
      "['b1', 'b2', ' ']\n"
     ]
    }
   ],
   "source": [
    "l1 = []\n",
    "l2 = ['b1','b2',' ']\n",
    "print(zipper(l1,l2))"
   ]
  },
  {
   "cell_type": "code",
   "execution_count": 15,
   "metadata": {},
   "outputs": [
    {
     "name": "stdout",
     "output_type": "stream",
     "text": [
      "['a1', 'a2', 'a3', 'a4']\n"
     ]
    }
   ],
   "source": [
    "l1 = ['a1','a2','a3','a4']\n",
    "l2 = []\n",
    "print(zipper(l1,l2))"
   ]
  },
  {
   "cell_type": "code",
   "execution_count": 16,
   "metadata": {},
   "outputs": [
    {
     "name": "stdout",
     "output_type": "stream",
     "text": [
      "[]\n"
     ]
    }
   ],
   "source": [
    "l1 = []\n",
    "l2 = []\n",
    "print(zipper(l1,l2))"
   ]
  }
 ],
 "metadata": {
  "kernelspec": {
   "display_name": "Python 3",
   "language": "python",
   "name": "python3"
  },
  "language_info": {
   "codemirror_mode": {
    "name": "ipython",
    "version": 3
   },
   "file_extension": ".py",
   "mimetype": "text/x-python",
   "name": "python",
   "nbconvert_exporter": "python",
   "pygments_lexer": "ipython3",
   "version": "3.6.1"
  }
 },
 "nbformat": 4,
 "nbformat_minor": 2
}
